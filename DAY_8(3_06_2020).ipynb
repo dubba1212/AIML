{
  "nbformat": 4,
  "nbformat_minor": 0,
  "metadata": {
    "colab": {
      "name": "DAY 8(3-06-2020).ipynb",
      "provenance": [],
      "authorship_tag": "ABX9TyM6Cpl8Epzk6X9VKMaaRqSD",
      "include_colab_link": true
    },
    "kernelspec": {
      "name": "python3",
      "display_name": "Python 3"
    }
  },
  "cells": [
    {
      "cell_type": "markdown",
      "metadata": {
        "id": "view-in-github",
        "colab_type": "text"
      },
      "source": [
        "<a href=\"https://colab.research.google.com/github/dubba1212/AIML/blob/master/DAY_8(3_06_2020).ipynb\" target=\"_parent\"><img src=\"https://colab.research.google.com/assets/colab-badge.svg\" alt=\"Open In Colab\"/></a>"
      ]
    },
    {
      "cell_type": "markdown",
      "metadata": {
        "id": "dGz_u1bgb18p",
        "colab_type": "text"
      },
      "source": [
        "###Modules:\n",
        "1. pre-defined modules\n",
        "2. User-defined modules"
      ]
    },
    {
      "cell_type": "code",
      "metadata": {
        "id": "P3wjcxJKMO2m",
        "colab_type": "code",
        "outputId": "1042946d-ec94-442d-f41e-956a5df47b2f",
        "colab": {
          "base_uri": "https://localhost:8080/",
          "height": 35
        }
      },
      "source": [
        "import string\n",
        "string.digits"
      ],
      "execution_count": 0,
      "outputs": [
        {
          "output_type": "execute_result",
          "data": {
            "text/plain": [
              "'0123456789'"
            ]
          },
          "metadata": {
            "tags": []
          },
          "execution_count": 34
        }
      ]
    },
    {
      "cell_type": "code",
      "metadata": {
        "id": "KcaC66d0cE52",
        "colab_type": "code",
        "outputId": "63b311ea-b851-416c-c69a-1f2d9abeeb69",
        "colab": {
          "base_uri": "https://localhost:8080/",
          "height": 35
        }
      },
      "source": [
        "import string as s\n",
        "s.digits"
      ],
      "execution_count": 0,
      "outputs": [
        {
          "output_type": "execute_result",
          "data": {
            "text/plain": [
              "'0123456789'"
            ]
          },
          "metadata": {
            "tags": []
          },
          "execution_count": 35
        }
      ]
    },
    {
      "cell_type": "code",
      "metadata": {
        "id": "jBxDSzzMcQOy",
        "colab_type": "code",
        "outputId": "008043da-624c-406f-bd08-921f87f5e97e",
        "colab": {
          "base_uri": "https://localhost:8080/",
          "height": 54
        }
      },
      "source": [
        "from string import digits,punctuation\n",
        "print(digits)\n",
        "print(punctuation)"
      ],
      "execution_count": 0,
      "outputs": [
        {
          "output_type": "stream",
          "text": [
            "0123456789\n",
            "!\"#$%&'()*+,-./:;<=>?@[\\]^_`{|}~\n"
          ],
          "name": "stdout"
        }
      ]
    },
    {
      "cell_type": "code",
      "metadata": {
        "id": "jgx7GWpdcnof",
        "colab_type": "code",
        "outputId": "09c5ae3e-9d2d-4520-c7a8-330b3fd85052",
        "colab": {
          "base_uri": "https://localhost:8080/",
          "height": 54
        }
      },
      "source": [
        "from string import *\n",
        "print(digits)\n",
        "print(punctuation)"
      ],
      "execution_count": 0,
      "outputs": [
        {
          "output_type": "stream",
          "text": [
            "0123456789\n",
            "!\"#$%&'()*+,-./:;<=>?@[\\]^_`{|}~\n"
          ],
          "name": "stdout"
        }
      ]
    },
    {
      "cell_type": "code",
      "metadata": {
        "id": "n557GqlMenGC",
        "colab_type": "code",
        "outputId": "bdd60e14-8683-406e-980a-d0c78133b550",
        "colab": {
          "base_uri": "https://localhost:8080/",
          "height": 35
        }
      },
      "source": [
        "list1=[1,2,3,4,5]\n",
        "sum1=0\n",
        "for i in list1:\n",
        "  sum1=sum1+i\n",
        "print(sum1)  "
      ],
      "execution_count": 0,
      "outputs": [
        {
          "output_type": "stream",
          "text": [
            "15\n"
          ],
          "name": "stdout"
        }
      ]
    },
    {
      "cell_type": "markdown",
      "metadata": {
        "id": "7ZRSI0AbhOGN",
        "colab_type": "text"
      },
      "source": [
        "###user-defined"
      ]
    },
    {
      "cell_type": "markdown",
      "metadata": {
        "id": "B9fk2EUJjby8",
        "colab_type": "text"
      },
      "source": [
        "### create file\n",
        "1. def add(x+y)\n",
        " \n",
        "  return X+Y\n",
        "2. def wish(name):\n",
        " \n",
        " print(\"good afternoon\",name)\n",
        "\n",
        " 3. result=\"True\""
      ]
    },
    {
      "cell_type": "code",
      "metadata": {
        "id": "p8vSelYIe21Z",
        "colab_type": "code",
        "colab": {}
      },
      "source": [
        "\n",
        "#import operation as o\n",
        "#o.wish(\"dubba\")\n",
        "#o.result"
      ],
      "execution_count": 0,
      "outputs": []
    },
    {
      "cell_type": "markdown",
      "metadata": {
        "id": "RuJ2HNImjn_g",
        "colab_type": "text"
      },
      "source": [
        "###Built-in function\n",
        "1. math\n",
        "2. statistics "
      ]
    },
    {
      "cell_type": "code",
      "metadata": {
        "id": "zHnYF8CzkBoi",
        "colab_type": "code",
        "colab": {}
      },
      "source": [
        "import math"
      ],
      "execution_count": 0,
      "outputs": []
    },
    {
      "cell_type": "code",
      "metadata": {
        "id": "EnreRqEVj2eY",
        "colab_type": "code",
        "outputId": "24feb6c5-f344-478a-c0ea-578336c34c36",
        "colab": {
          "base_uri": "https://localhost:8080/",
          "height": 35
        }
      },
      "source": [
        "math.factorial(5)"
      ],
      "execution_count": 0,
      "outputs": [
        {
          "output_type": "execute_result",
          "data": {
            "text/plain": [
              "120"
            ]
          },
          "metadata": {
            "tags": []
          },
          "execution_count": 41
        }
      ]
    },
    {
      "cell_type": "code",
      "metadata": {
        "id": "SYcFsNo-j_oo",
        "colab_type": "code",
        "outputId": "8f5f9ce9-2ab1-411a-9e8b-b08c52f8919a",
        "colab": {
          "base_uri": "https://localhost:8080/",
          "height": 35
        }
      },
      "source": [
        "#using math module find out area of circle\n",
        "def area(r):\n",
        "  a=math.pi*r*r\n",
        "  print(a)\n",
        "area(7)"
      ],
      "execution_count": 0,
      "outputs": [
        {
          "output_type": "stream",
          "text": [
            "153.93804002589985\n"
          ],
          "name": "stdout"
        }
      ]
    },
    {
      "cell_type": "code",
      "metadata": {
        "id": "f6MA15zZkWko",
        "colab_type": "code",
        "outputId": "8caf558b-1c67-49a1-bf25-de14e8500a3d",
        "colab": {
          "base_uri": "https://localhost:8080/",
          "height": 35
        }
      },
      "source": [
        "import statistics as s\n",
        "list1=list(range(0,21))\n",
        "list1\n",
        "print(list1)"
      ],
      "execution_count": 0,
      "outputs": [
        {
          "output_type": "stream",
          "text": [
            "[0, 1, 2, 3, 4, 5, 6, 7, 8, 9, 10, 11, 12, 13, 14, 15, 16, 17, 18, 19, 20]\n"
          ],
          "name": "stdout"
        }
      ]
    },
    {
      "cell_type": "code",
      "metadata": {
        "id": "eOcf3fdylcHm",
        "colab_type": "code",
        "outputId": "a22c5116-a89f-4444-c6d0-9f10a99afe54",
        "colab": {
          "base_uri": "https://localhost:8080/",
          "height": 35
        }
      },
      "source": [
        "print(s.mean(list1))"
      ],
      "execution_count": 0,
      "outputs": [
        {
          "output_type": "stream",
          "text": [
            "10\n"
          ],
          "name": "stdout"
        }
      ]
    },
    {
      "cell_type": "code",
      "metadata": {
        "id": "7umqu4dWlfAn",
        "colab_type": "code",
        "outputId": "56230d6c-393a-4cb1-b268-bc7c13428353",
        "colab": {
          "base_uri": "https://localhost:8080/",
          "height": 35
        }
      },
      "source": [
        "print(s.median(list1))"
      ],
      "execution_count": 0,
      "outputs": [
        {
          "output_type": "stream",
          "text": [
            "10\n"
          ],
          "name": "stdout"
        }
      ]
    },
    {
      "cell_type": "code",
      "metadata": {
        "id": "ycuCaZwwnRy5",
        "colab_type": "code",
        "outputId": "31eac111-fae6-4498-af5b-504147adc597",
        "colab": {
          "base_uri": "https://localhost:8080/",
          "height": 35
        }
      },
      "source": [
        "list2=[1,1,33,1,4,2,1,2]\n",
        "print(s.mode(list2))"
      ],
      "execution_count": 0,
      "outputs": [
        {
          "output_type": "stream",
          "text": [
            "1\n"
          ],
          "name": "stdout"
        }
      ]
    },
    {
      "cell_type": "code",
      "metadata": {
        "id": "8BHEVZOTnl2B",
        "colab_type": "code",
        "outputId": "d8cb0bad-f128-4bee-f455-a5fe751950ea",
        "colab": {
          "base_uri": "https://localhost:8080/",
          "height": 35
        }
      },
      "source": [
        "s.stdev(list2)"
      ],
      "execution_count": 0,
      "outputs": [
        {
          "output_type": "execute_result",
          "data": {
            "text/plain": [
              "11.10903750491978"
            ]
          },
          "metadata": {
            "tags": []
          },
          "execution_count": 53
        }
      ]
    },
    {
      "cell_type": "code",
      "metadata": {
        "id": "rsTYdSpZoOuL",
        "colab_type": "code",
        "outputId": "5ebd442e-d6d2-4a1c-d889-7879cc81b77b",
        "colab": {
          "base_uri": "https://localhost:8080/",
          "height": 35
        }
      },
      "source": [
        "s.variance(list2)"
      ],
      "execution_count": 0,
      "outputs": [
        {
          "output_type": "execute_result",
          "data": {
            "text/plain": [
              "123.41071428571429"
            ]
          },
          "metadata": {
            "tags": []
          },
          "execution_count": 54
        }
      ]
    },
    {
      "cell_type": "markdown",
      "metadata": {
        "id": "v8--CeTCo3dw",
        "colab_type": "text"
      },
      "source": [
        "###random:\n",
        "1. randint()-->randint(start,stop)\n",
        "2. random()-->0-1\n",
        "3. choice()-->give random value\n",
        "4. randrange()-->stop value is excluded,last value is not there\n",
        "5. choices()-->gives multiple values"
      ]
    },
    {
      "cell_type": "code",
      "metadata": {
        "id": "XVa_wtrYoUTC",
        "colab_type": "code",
        "outputId": "f830676b-074b-4aca-e3dc-50bbc91d0b1b",
        "colab": {
          "base_uri": "https://localhost:8080/",
          "height": 72
        }
      },
      "source": [
        "import random\n",
        "print(random.randint(1,10))\n",
        "print(random.randrange(1,10))\n",
        "print(random.random())"
      ],
      "execution_count": 0,
      "outputs": [
        {
          "output_type": "stream",
          "text": [
            "4\n",
            "4\n",
            "0.08279903145849221\n"
          ],
          "name": "stdout"
        }
      ]
    },
    {
      "cell_type": "code",
      "metadata": {
        "id": "zTf4IMgepUxO",
        "colab_type": "code",
        "outputId": "deab624c-e8cc-44de-d2b6-41859635d212",
        "colab": {
          "base_uri": "https://localhost:8080/",
          "height": 54
        }
      },
      "source": [
        "list1=[1,2,3,4,5,11,2,13]\n",
        "print(random.choice(list1))\n",
        "print(random.choices(list1,k=3))"
      ],
      "execution_count": 0,
      "outputs": [
        {
          "output_type": "stream",
          "text": [
            "2\n",
            "[2, 4, 13]\n"
          ],
          "name": "stdout"
        }
      ]
    },
    {
      "cell_type": "markdown",
      "metadata": {
        "id": "wDCtrg2Dq3Go",
        "colab_type": "text"
      },
      "source": [
        "###os modules\n",
        "1. rename()-->rename a file\n",
        "2. mkdir()--> make a directory\n",
        "3. remove()-->remove a file\n",
        "4. getcwd()-->get current working directory\n",
        "5. listdir()--> it give u list of thing available in the directory\n",
        "6. chdir()-->changing a directory"
      ]
    },
    {
      "cell_type": "code",
      "metadata": {
        "id": "EvwMeyRep2E_",
        "colab_type": "code",
        "colab": {}
      },
      "source": [
        "import os \n",
        "os.mkdir(\"sample\")\n"
      ],
      "execution_count": 0,
      "outputs": []
    },
    {
      "cell_type": "code",
      "metadata": {
        "id": "OmFlcn6Qr6_q",
        "colab_type": "code",
        "outputId": "98f67843-d717-4f9c-b17c-56a977544e96",
        "colab": {
          "base_uri": "https://localhost:8080/",
          "height": 35
        }
      },
      "source": [
        "os.getcwd()"
      ],
      "execution_count": 0,
      "outputs": [
        {
          "output_type": "execute_result",
          "data": {
            "text/plain": [
              "'/content'"
            ]
          },
          "metadata": {
            "tags": []
          },
          "execution_count": 67
        }
      ]
    },
    {
      "cell_type": "code",
      "metadata": {
        "id": "LQW4DCmvsBLH",
        "colab_type": "code",
        "outputId": "70f2602a-512a-42ab-e2dd-ed803003d87a",
        "colab": {
          "base_uri": "https://localhost:8080/",
          "height": 35
        }
      },
      "source": [
        "os.listdir()"
      ],
      "execution_count": 0,
      "outputs": [
        {
          "output_type": "execute_result",
          "data": {
            "text/plain": [
              "['.config', 'sample', 'sample_data']"
            ]
          },
          "metadata": {
            "tags": []
          },
          "execution_count": 68
        }
      ]
    },
    {
      "cell_type": "code",
      "metadata": {
        "id": "EBhDR7Q6sFKN",
        "colab_type": "code",
        "colab": {}
      },
      "source": [
        "os.mkdir(\"123\")"
      ],
      "execution_count": 0,
      "outputs": []
    },
    {
      "cell_type": "code",
      "metadata": {
        "id": "by_0Br4ws0Mw",
        "colab_type": "code",
        "colab": {}
      },
      "source": [
        "os.rmdir(\"123\")"
      ],
      "execution_count": 0,
      "outputs": []
    },
    {
      "cell_type": "markdown",
      "metadata": {
        "id": "j0mh4q--uIrv",
        "colab_type": "text"
      },
      "source": [
        "###numpy packages:\n",
        "1. operations related numerics\n",
        "2. computational"
      ]
    },
    {
      "cell_type": "code",
      "metadata": {
        "id": "PEqHFqGDs5im",
        "colab_type": "code",
        "outputId": "3f54c62d-98de-40a7-eb67-4748a11a5c60",
        "colab": {
          "base_uri": "https://localhost:8080/",
          "height": 54
        }
      },
      "source": [
        "import numpy as np\n",
        "list1=[1,2,3,4,5]\n",
        "array= np.array(list1)\n",
        "print(array)\n",
        "type(array)"
      ],
      "execution_count": 0,
      "outputs": [
        {
          "output_type": "stream",
          "text": [
            "[1 2 3 4 5]\n"
          ],
          "name": "stdout"
        },
        {
          "output_type": "execute_result",
          "data": {
            "text/plain": [
              "numpy.ndarray"
            ]
          },
          "metadata": {
            "tags": []
          },
          "execution_count": 75
        }
      ]
    },
    {
      "cell_type": "code",
      "metadata": {
        "id": "ht5Hbh_2up9G",
        "colab_type": "code",
        "outputId": "262c9f2d-23f5-4dda-c2a3-f8fa394fdf69",
        "colab": {
          "base_uri": "https://localhost:8080/",
          "height": 35
        }
      },
      "source": [
        "list2=list(range(1,11))\n",
        "list2"
      ],
      "execution_count": 0,
      "outputs": [
        {
          "output_type": "execute_result",
          "data": {
            "text/plain": [
              "[1, 2, 3, 4, 5, 6, 7, 8, 9, 10]"
            ]
          },
          "metadata": {
            "tags": []
          },
          "execution_count": 77
        }
      ]
    },
    {
      "cell_type": "code",
      "metadata": {
        "id": "ofVfx4OfvBPo",
        "colab_type": "code",
        "outputId": "e5b63001-95ed-4f63-c630-94158477d23a",
        "colab": {
          "base_uri": "https://localhost:8080/",
          "height": 35
        }
      },
      "source": [
        "arr1=np.arange(1,11)\n",
        "arr1"
      ],
      "execution_count": 0,
      "outputs": [
        {
          "output_type": "execute_result",
          "data": {
            "text/plain": [
              "array([ 1,  2,  3,  4,  5,  6,  7,  8,  9, 10])"
            ]
          },
          "metadata": {
            "tags": []
          },
          "execution_count": 78
        }
      ]
    },
    {
      "cell_type": "markdown",
      "metadata": {
        "id": "2B8NcnF1vc2t",
        "colab_type": "text"
      },
      "source": [
        "###Differences Between python list and Numpy Array\n",
        "1. less memory\n",
        "2. fast\n",
        "3. convenient"
      ]
    },
    {
      "cell_type": "code",
      "metadata": {
        "id": "pjzEYgwDvIa0",
        "colab_type": "code",
        "outputId": "926e3884-f9b5-4e73-eba5-53cb5b8216cf",
        "colab": {
          "base_uri": "https://localhost:8080/",
          "height": 54
        }
      },
      "source": [
        "import sys\n",
        "size=1000\n",
        "list1=list(range(size))\n",
        "print(sys.getsizeof(list1[0])*size)\n",
        "arr1 = np.arange(1000)\n",
        "print(arr1.itemsize*arr1.size)"
      ],
      "execution_count": 0,
      "outputs": [
        {
          "output_type": "stream",
          "text": [
            "24000\n",
            "8000\n"
          ],
          "name": "stdout"
        }
      ]
    },
    {
      "cell_type": "code",
      "metadata": {
        "id": "rz8rDW7UzTyO",
        "colab_type": "code",
        "outputId": "d4ec10b7-1d7e-46da-fbc1-a15663c169ee",
        "colab": {
          "base_uri": "https://localhost:8080/",
          "height": 54
        }
      },
      "source": [
        "import time\n",
        "size=2000\n",
        "list1=list(range(size))\n",
        "list2=list(range(size))\n",
        "start=time.time()\n",
        "result= [x+y for x,y in zip(list1,list2)]\n",
        "print(\"Time is:-\",time.time()-start)\n",
        "\n",
        "arr=np.arange(size)\n",
        "arr1=np.arange(size)\n",
        "start=time.time()\n",
        "result=arr+arr1\n",
        "print(\"Time is:-\",time.time()-start)"
      ],
      "execution_count": 0,
      "outputs": [
        {
          "output_type": "stream",
          "text": [
            "Time is:- 0.0010938644409179688\n",
            "Time is:- 0.0001361370086669922\n"
          ],
          "name": "stdout"
        }
      ]
    },
    {
      "cell_type": "code",
      "metadata": {
        "id": "uf0v5Aaj0hxT",
        "colab_type": "code",
        "colab": {
          "base_uri": "https://localhost:8080/",
          "height": 35
        },
        "outputId": "d0cd4e9b-d26b-4105-cbb1-a4aeb0adcead"
      },
      "source": [
        "l1=[1,2,3,4,5]\n",
        "l2=[10,11,12,13,14]\n",
        "result =[x+y for x,y in zip(l1,l2)]\n",
        "result"
      ],
      "execution_count": 89,
      "outputs": [
        {
          "output_type": "execute_result",
          "data": {
            "text/plain": [
              "[11, 13, 15, 17, 19]"
            ]
          },
          "metadata": {
            "tags": []
          },
          "execution_count": 89
        }
      ]
    },
    {
      "cell_type": "code",
      "metadata": {
        "id": "MW-zX4Gj0iOw",
        "colab_type": "code",
        "colab": {
          "base_uri": "https://localhost:8080/",
          "height": 35
        },
        "outputId": "17613a2d-387c-4fb0-bd9b-75c9df9c28f5"
      },
      "source": [
        "a1=np.array(l1)\n",
        "a2=np.array(l2)\n",
        "a1+a2"
      ],
      "execution_count": 90,
      "outputs": [
        {
          "output_type": "execute_result",
          "data": {
            "text/plain": [
              "array([11, 13, 15, 17, 19])"
            ]
          },
          "metadata": {
            "tags": []
          },
          "execution_count": 90
        }
      ]
    },
    {
      "cell_type": "code",
      "metadata": {
        "id": "gHrquZgJ303U",
        "colab_type": "code",
        "colab": {}
      },
      "source": [
        ""
      ],
      "execution_count": 0,
      "outputs": []
    }
  ]
}