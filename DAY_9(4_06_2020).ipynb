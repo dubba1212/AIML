{
  "nbformat": 4,
  "nbformat_minor": 0,
  "metadata": {
    "colab": {
      "name": "DAY 9(4-06-2020).ipynb",
      "provenance": [],
      "authorship_tag": "ABX9TyPCFIWC5v/Qh6Ody3J4pj11",
      "include_colab_link": true
    },
    "kernelspec": {
      "name": "python3",
      "display_name": "Python 3"
    }
  },
  "cells": [
    {
      "cell_type": "markdown",
      "metadata": {
        "id": "view-in-github",
        "colab_type": "text"
      },
      "source": [
        "<a href=\"https://colab.research.google.com/github/dubba1212/AIML/blob/master/DAY_9(4_06_2020).ipynb\" target=\"_parent\"><img src=\"https://colab.research.google.com/assets/colab-badge.svg\" alt=\"Open In Colab\"/></a>"
      ]
    },
    {
      "cell_type": "markdown",
      "metadata": {
        "id": "Xjnvgiehj3B9",
        "colab_type": "text"
      },
      "source": [
        "###Numpy package:\n",
        "1. Numerical data\n",
        "2. computations on numerics\n"
      ]
    },
    {
      "cell_type": "code",
      "metadata": {
        "id": "abTq19O7ZB3p",
        "colab_type": "code",
        "colab": {}
      },
      "source": [
        "import numpy as np"
      ],
      "execution_count": 0,
      "outputs": []
    },
    {
      "cell_type": "markdown",
      "metadata": {
        "id": "kHcSWkTGkg_r",
        "colab_type": "text"
      },
      "source": [
        "###Difference Between numpy array and list:\n",
        "1. less memory\n",
        "2. fast\n",
        "3. convenient"
      ]
    },
    {
      "cell_type": "code",
      "metadata": {
        "id": "Bu0XhridkYo7",
        "colab_type": "code",
        "colab": {
          "base_uri": "https://localhost:8080/",
          "height": 35
        },
        "outputId": "cf6f5793-7d22-4a6d-b43c-abc1bdfec93c"
      },
      "source": [
        "#1-dimensional array\n",
        "a = np.array([1,2,3,4,5])\n",
        "print(a.ndim)"
      ],
      "execution_count": 3,
      "outputs": [
        {
          "output_type": "stream",
          "text": [
            "1\n"
          ],
          "name": "stdout"
        }
      ]
    },
    {
      "cell_type": "code",
      "metadata": {
        "id": "OfsNbCQslRFp",
        "colab_type": "code",
        "colab": {
          "base_uri": "https://localhost:8080/",
          "height": 72
        },
        "outputId": "3f17080a-d602-4b3e-de1f-7069ab652f9c"
      },
      "source": [
        "#2-dimensional array\n",
        "a1 = np.array([[1,2,3,],[4,5,6],[7,8,9]])\n",
        "a1"
      ],
      "execution_count": 4,
      "outputs": [
        {
          "output_type": "execute_result",
          "data": {
            "text/plain": [
              "array([[1, 2, 3],\n",
              "       [4, 5, 6],\n",
              "       [7, 8, 9]])"
            ]
          },
          "metadata": {
            "tags": []
          },
          "execution_count": 4
        }
      ]
    },
    {
      "cell_type": "code",
      "metadata": {
        "id": "ey1dsWsAlxt_",
        "colab_type": "code",
        "colab": {
          "base_uri": "https://localhost:8080/",
          "height": 35
        },
        "outputId": "0759ac7e-22c8-4935-f9ec-e4be10ec7d95"
      },
      "source": [
        "a1.shape"
      ],
      "execution_count": 5,
      "outputs": [
        {
          "output_type": "execute_result",
          "data": {
            "text/plain": [
              "(3, 3)"
            ]
          },
          "metadata": {
            "tags": []
          },
          "execution_count": 5
        }
      ]
    },
    {
      "cell_type": "code",
      "metadata": {
        "id": "CNAEWV3hl01e",
        "colab_type": "code",
        "colab": {
          "base_uri": "https://localhost:8080/",
          "height": 54
        },
        "outputId": "d593eaeb-4677-4da0-e2df-c206f8d7d22f"
      },
      "source": [
        "a2 = np.array([[1,2,3,],[4,5,6],[7,8,9],[10,11,12]])\n",
        "print(a2.shape[0])#rows\n",
        "print(a2.shape[1])#columns"
      ],
      "execution_count": 7,
      "outputs": [
        {
          "output_type": "stream",
          "text": [
            "4\n",
            "3\n"
          ],
          "name": "stdout"
        }
      ]
    },
    {
      "cell_type": "code",
      "metadata": {
        "id": "0t6Y4PhRmOBp",
        "colab_type": "code",
        "colab": {}
      },
      "source": [
        "#getting elements from a user\n",
        "a3 = np.array([],dtype=\"int32\")"
      ],
      "execution_count": 0,
      "outputs": []
    },
    {
      "cell_type": "code",
      "metadata": {
        "id": "mjCQyaWnmnQ9",
        "colab_type": "code",
        "colab": {
          "base_uri": "https://localhost:8080/",
          "height": 54
        },
        "outputId": "7a9084d6-8324-40f5-955e-cb16b1a72079"
      },
      "source": [
        "#single element\n",
        "a3 = np.append(a3,int(input()))\n",
        "a3"
      ],
      "execution_count": 10,
      "outputs": [
        {
          "output_type": "stream",
          "text": [
            "12\n"
          ],
          "name": "stdout"
        },
        {
          "output_type": "execute_result",
          "data": {
            "text/plain": [
              "array([12])"
            ]
          },
          "metadata": {
            "tags": []
          },
          "execution_count": 10
        }
      ]
    },
    {
      "cell_type": "code",
      "metadata": {
        "id": "3ZEP7FB3mnBP",
        "colab_type": "code",
        "colab": {
          "base_uri": "https://localhost:8080/",
          "height": 35
        },
        "outputId": "8c2d0f92-7797-42e9-c207-9a5563e01546"
      },
      "source": [
        "a3 = np.append(a3,[13,14,15,16])\n",
        "a3"
      ],
      "execution_count": 12,
      "outputs": [
        {
          "output_type": "execute_result",
          "data": {
            "text/plain": [
              "array([12, 13, 14, 15, 16])"
            ]
          },
          "metadata": {
            "tags": []
          },
          "execution_count": 12
        }
      ]
    },
    {
      "cell_type": "markdown",
      "metadata": {
        "id": "M86eBtPcoppV",
        "colab_type": "text"
      },
      "source": [
        "###slicing:\n"
      ]
    },
    {
      "cell_type": "code",
      "metadata": {
        "id": "sFuZs5HFnxZk",
        "colab_type": "code",
        "colab": {
          "base_uri": "https://localhost:8080/",
          "height": 35
        },
        "outputId": "3bf699f1-9a10-4aa7-ff16-93c28318c40d"
      },
      "source": [
        "print(a3[2])"
      ],
      "execution_count": 13,
      "outputs": [
        {
          "output_type": "stream",
          "text": [
            "14\n"
          ],
          "name": "stdout"
        }
      ]
    },
    {
      "cell_type": "code",
      "metadata": {
        "id": "BMklxxJpotdm",
        "colab_type": "code",
        "colab": {
          "base_uri": "https://localhost:8080/",
          "height": 35
        },
        "outputId": "89836843-f2e6-453a-a19a-969a11850573"
      },
      "source": [
        "print(a2[1,2])"
      ],
      "execution_count": 16,
      "outputs": [
        {
          "output_type": "stream",
          "text": [
            "6\n"
          ],
          "name": "stdout"
        }
      ]
    },
    {
      "cell_type": "code",
      "metadata": {
        "id": "zr1EyWbyoy4l",
        "colab_type": "code",
        "colab": {
          "base_uri": "https://localhost:8080/",
          "height": 54
        },
        "outputId": "660efd4b-2e96-458f-8245-7d5898871c27"
      },
      "source": [
        "print(a2[2:,:])"
      ],
      "execution_count": 19,
      "outputs": [
        {
          "output_type": "stream",
          "text": [
            "[[ 7  8  9]\n",
            " [10 11 12]]\n"
          ],
          "name": "stdout"
        }
      ]
    },
    {
      "cell_type": "code",
      "metadata": {
        "id": "GMDGXgZypWY5",
        "colab_type": "code",
        "colab": {
          "base_uri": "https://localhost:8080/",
          "height": 54
        },
        "outputId": "fa29c28b-dbd6-416b-e504-739e54a6c3e8"
      },
      "source": [
        "print(a2[2:,0:2])"
      ],
      "execution_count": 20,
      "outputs": [
        {
          "output_type": "stream",
          "text": [
            "[[ 7  8]\n",
            " [10 11]]\n"
          ],
          "name": "stdout"
        }
      ]
    },
    {
      "cell_type": "code",
      "metadata": {
        "id": "Zm1TyBuLphUL",
        "colab_type": "code",
        "colab": {
          "base_uri": "https://localhost:8080/",
          "height": 90
        },
        "outputId": "98b63065-e687-48cf-8a16-15eba9b924d2"
      },
      "source": [
        "a2"
      ],
      "execution_count": 21,
      "outputs": [
        {
          "output_type": "execute_result",
          "data": {
            "text/plain": [
              "array([[ 1,  2,  3],\n",
              "       [ 4,  5,  6],\n",
              "       [ 7,  8,  9],\n",
              "       [10, 11, 12]])"
            ]
          },
          "metadata": {
            "tags": []
          },
          "execution_count": 21
        }
      ]
    },
    {
      "cell_type": "code",
      "metadata": {
        "id": "XMqT-R9npj6h",
        "colab_type": "code",
        "colab": {
          "base_uri": "https://localhost:8080/",
          "height": 90
        },
        "outputId": "da29fa37-5744-4bf2-c9a0-8a4ac7f23a66"
      },
      "source": [
        "print(a2[0:,0:2])"
      ],
      "execution_count": 22,
      "outputs": [
        {
          "output_type": "stream",
          "text": [
            "[[ 1  2]\n",
            " [ 4  5]\n",
            " [ 7  8]\n",
            " [10 11]]\n"
          ],
          "name": "stdout"
        }
      ]
    },
    {
      "cell_type": "code",
      "metadata": {
        "id": "NuqceakUp4q3",
        "colab_type": "code",
        "colab": {
          "base_uri": "https://localhost:8080/",
          "height": 54
        },
        "outputId": "ac164f82-1eba-46a3-fe21-320eb5fe9fa1"
      },
      "source": [
        "print(a2[0::2,:])"
      ],
      "execution_count": 23,
      "outputs": [
        {
          "output_type": "stream",
          "text": [
            "[[1 2 3]\n",
            " [7 8 9]]\n"
          ],
          "name": "stdout"
        }
      ]
    },
    {
      "cell_type": "markdown",
      "metadata": {
        "id": "xfqkGH4Yr54_",
        "colab_type": "text"
      },
      "source": [
        "###iterate through array:"
      ]
    },
    {
      "cell_type": "code",
      "metadata": {
        "id": "ke5R1yKUry6i",
        "colab_type": "code",
        "colab": {
          "base_uri": "https://localhost:8080/",
          "height": 90
        },
        "outputId": "28c86193-36b1-4718-eb35-a2e7792a64c3"
      },
      "source": [
        "for row in a2:\n",
        "  print(row)"
      ],
      "execution_count": 24,
      "outputs": [
        {
          "output_type": "stream",
          "text": [
            "[1 2 3]\n",
            "[4 5 6]\n",
            "[7 8 9]\n",
            "[10 11 12]\n"
          ],
          "name": "stdout"
        }
      ]
    },
    {
      "cell_type": "code",
      "metadata": {
        "id": "5fgVyVK0sN25",
        "colab_type": "code",
        "colab": {
          "base_uri": "https://localhost:8080/",
          "height": 35
        },
        "outputId": "d5fd195e-4a19-43ce-aea5-7eefd8669582"
      },
      "source": [
        "for ele in a2.flat:\n",
        "  print(ele,end=\" \")"
      ],
      "execution_count": 26,
      "outputs": [
        {
          "output_type": "stream",
          "text": [
            "1 2 3 4 5 6 7 8 9 10 11 12 "
          ],
          "name": "stdout"
        }
      ]
    },
    {
      "cell_type": "code",
      "metadata": {
        "id": "tVgYjFsRtDzD",
        "colab_type": "code",
        "colab": {
          "base_uri": "https://localhost:8080/",
          "height": 35
        },
        "outputId": "69cfa992-1ef4-475f-e95d-21b38141646b"
      },
      "source": [
        "np.array(a2.flat)"
      ],
      "execution_count": 27,
      "outputs": [
        {
          "output_type": "execute_result",
          "data": {
            "text/plain": [
              "array([ 1,  2,  3,  4,  5,  6,  7,  8,  9, 10, 11, 12])"
            ]
          },
          "metadata": {
            "tags": []
          },
          "execution_count": 27
        }
      ]
    },
    {
      "cell_type": "markdown",
      "metadata": {
        "id": "w09rvDwGtbt8",
        "colab_type": "text"
      },
      "source": [
        "###indexing with boolean array"
      ]
    },
    {
      "cell_type": "code",
      "metadata": {
        "id": "M92ZSBOZtMfp",
        "colab_type": "code",
        "colab": {
          "base_uri": "https://localhost:8080/",
          "height": 109
        },
        "outputId": "0108c522-ca06-40cd-fa97-54e218dcfa3e"
      },
      "source": [
        "a4 = np.arange(1,21).reshape(5,4)\n",
        "a4"
      ],
      "execution_count": 30,
      "outputs": [
        {
          "output_type": "execute_result",
          "data": {
            "text/plain": [
              "array([[ 1,  2,  3,  4],\n",
              "       [ 5,  6,  7,  8],\n",
              "       [ 9, 10, 11, 12],\n",
              "       [13, 14, 15, 16],\n",
              "       [17, 18, 19, 20]])"
            ]
          },
          "metadata": {
            "tags": []
          },
          "execution_count": 30
        }
      ]
    },
    {
      "cell_type": "code",
      "metadata": {
        "id": "cJiQ8-GatpFo",
        "colab_type": "code",
        "colab": {
          "base_uri": "https://localhost:8080/",
          "height": 109
        },
        "outputId": "08675bb8-493b-4506-bf33-72c1210e69e9"
      },
      "source": [
        "result = (a4 % 2 ==0)\n",
        "result"
      ],
      "execution_count": 33,
      "outputs": [
        {
          "output_type": "execute_result",
          "data": {
            "text/plain": [
              "array([[False,  True, False,  True],\n",
              "       [False,  True, False,  True],\n",
              "       [False,  True, False,  True],\n",
              "       [False,  True, False,  True],\n",
              "       [False,  True, False,  True]])"
            ]
          },
          "metadata": {
            "tags": []
          },
          "execution_count": 33
        }
      ]
    },
    {
      "cell_type": "code",
      "metadata": {
        "id": "zHg9WyQkuSyT",
        "colab_type": "code",
        "colab": {
          "base_uri": "https://localhost:8080/",
          "height": 35
        },
        "outputId": "95b27909-fa15-4c04-9f3d-7e048f25ea13"
      },
      "source": [
        "a4[result]"
      ],
      "execution_count": 35,
      "outputs": [
        {
          "output_type": "execute_result",
          "data": {
            "text/plain": [
              "array([ 2,  4,  6,  8, 10, 12, 14, 16, 18, 20])"
            ]
          },
          "metadata": {
            "tags": []
          },
          "execution_count": 35
        }
      ]
    },
    {
      "cell_type": "code",
      "metadata": {
        "id": "nhqtrwr6uxRg",
        "colab_type": "code",
        "colab": {}
      },
      "source": [
        "a5 = np.arange(1,10).reshape(3,3)\n",
        "a6 = np.arange(11,20).reshape(3,3)\n"
      ],
      "execution_count": 0,
      "outputs": []
    },
    {
      "cell_type": "code",
      "metadata": {
        "id": "agau0IZCvvel",
        "colab_type": "code",
        "colab": {
          "base_uri": "https://localhost:8080/",
          "height": 72
        },
        "outputId": "8faddbcc-49ff-487d-f268-da7afd71ccca"
      },
      "source": [
        "a5"
      ],
      "execution_count": 39,
      "outputs": [
        {
          "output_type": "execute_result",
          "data": {
            "text/plain": [
              "array([[1, 2, 3],\n",
              "       [4, 5, 6],\n",
              "       [7, 8, 9]])"
            ]
          },
          "metadata": {
            "tags": []
          },
          "execution_count": 39
        }
      ]
    },
    {
      "cell_type": "code",
      "metadata": {
        "id": "s_J-1jyZv96B",
        "colab_type": "code",
        "colab": {
          "base_uri": "https://localhost:8080/",
          "height": 72
        },
        "outputId": "b1a59c0a-9475-453b-c4d4-e886bfcdc0a7"
      },
      "source": [
        "a6"
      ],
      "execution_count": 40,
      "outputs": [
        {
          "output_type": "execute_result",
          "data": {
            "text/plain": [
              "array([[11, 12, 13],\n",
              "       [14, 15, 16],\n",
              "       [17, 18, 19]])"
            ]
          },
          "metadata": {
            "tags": []
          },
          "execution_count": 40
        }
      ]
    },
    {
      "cell_type": "code",
      "metadata": {
        "id": "vVoLCRgOv_cK",
        "colab_type": "code",
        "colab": {
          "base_uri": "https://localhost:8080/",
          "height": 127
        },
        "outputId": "6d69cfd7-566d-48ec-a856-8590d92790ae"
      },
      "source": [
        "print(np.vstack((a5,a6)))#vertical stacking"
      ],
      "execution_count": 42,
      "outputs": [
        {
          "output_type": "stream",
          "text": [
            "[[ 1  2  3]\n",
            " [ 4  5  6]\n",
            " [ 7  8  9]\n",
            " [11 12 13]\n",
            " [14 15 16]\n",
            " [17 18 19]]\n"
          ],
          "name": "stdout"
        }
      ]
    },
    {
      "cell_type": "code",
      "metadata": {
        "id": "0JdgKcnUwKdn",
        "colab_type": "code",
        "colab": {
          "base_uri": "https://localhost:8080/",
          "height": 72
        },
        "outputId": "2a4e9760-1452-4762-9a79-efee9085ddde"
      },
      "source": [
        "print(np.hstack((a5,a6)))#horizontal stacking"
      ],
      "execution_count": 43,
      "outputs": [
        {
          "output_type": "stream",
          "text": [
            "[[ 1  2  3 11 12 13]\n",
            " [ 4  5  6 14 15 16]\n",
            " [ 7  8  9 17 18 19]]\n"
          ],
          "name": "stdout"
        }
      ]
    },
    {
      "cell_type": "markdown",
      "metadata": {
        "id": "BNzfjFSUwtxC",
        "colab_type": "text"
      },
      "source": [
        "###Attributes:\n",
        "1. size\n",
        "2. itemsize\n",
        "3. dtype-->change data type\n",
        "4. ndim-->which type of your array is\n",
        "5. shape"
      ]
    },
    {
      "cell_type": "code",
      "metadata": {
        "id": "VtwqJJ16wK6M",
        "colab_type": "code",
        "colab": {
          "base_uri": "https://localhost:8080/",
          "height": 54
        },
        "outputId": "a7f1463e-fe30-42ad-f801-d82ed400fe87"
      },
      "source": [
        "arr = np.arange(1,11).reshape(2,5)\n",
        "arr"
      ],
      "execution_count": 44,
      "outputs": [
        {
          "output_type": "execute_result",
          "data": {
            "text/plain": [
              "array([[ 1,  2,  3,  4,  5],\n",
              "       [ 6,  7,  8,  9, 10]])"
            ]
          },
          "metadata": {
            "tags": []
          },
          "execution_count": 44
        }
      ]
    },
    {
      "cell_type": "code",
      "metadata": {
        "id": "9jJ-qrjLxNj6",
        "colab_type": "code",
        "colab": {
          "base_uri": "https://localhost:8080/",
          "height": 109
        },
        "outputId": "6be30b12-73ea-474a-8193-c89193ba89ac"
      },
      "source": [
        "print(arr.size)\n",
        "print(arr.itemsize)\n",
        "print(arr.dtype)\n",
        "print(arr.ndim)\n",
        "print(arr.shape)"
      ],
      "execution_count": 45,
      "outputs": [
        {
          "output_type": "stream",
          "text": [
            "10\n",
            "8\n",
            "int64\n",
            "2\n",
            "(2, 5)\n"
          ],
          "name": "stdout"
        }
      ]
    },
    {
      "cell_type": "markdown",
      "metadata": {
        "id": "BeZGTfhOxux5",
        "colab_type": "text"
      },
      "source": [
        "###Functions:\n",
        "1. zeros()\n",
        "2. ones()\n",
        "3. full()\n",
        "4. eye()\n",
        "5. linspace()\n",
        "6. arange()\n",
        "7. reshape()\n",
        "8. ravel()"
      ]
    },
    {
      "cell_type": "code",
      "metadata": {
        "id": "K9zYuYn9xgYw",
        "colab_type": "code",
        "colab": {
          "base_uri": "https://localhost:8080/",
          "height": 54
        },
        "outputId": "07181615-cbe5-4350-acad-0723d48fb01f"
      },
      "source": [
        "z= np.zeros((2,3) , dtype =\"int32\")\n",
        "print(z)"
      ],
      "execution_count": 54,
      "outputs": [
        {
          "output_type": "stream",
          "text": [
            "[[0 0 0]\n",
            " [0 0 0]]\n"
          ],
          "name": "stdout"
        }
      ]
    },
    {
      "cell_type": "code",
      "metadata": {
        "id": "W8iK3Ae5xk0Z",
        "colab_type": "code",
        "colab": {
          "base_uri": "https://localhost:8080/",
          "height": 72
        },
        "outputId": "96f425ee-13c1-43a9-cea7-b14d3e20a86a"
      },
      "source": [
        "o = np.ones((3,3), dtype=\"int32\")\n",
        "print(o)"
      ],
      "execution_count": 53,
      "outputs": [
        {
          "output_type": "stream",
          "text": [
            "[[1 1 1]\n",
            " [1 1 1]\n",
            " [1 1 1]]\n"
          ],
          "name": "stdout"
        }
      ]
    },
    {
      "cell_type": "code",
      "metadata": {
        "id": "NN2N7CKixlSQ",
        "colab_type": "code",
        "colab": {
          "base_uri": "https://localhost:8080/",
          "height": 54
        },
        "outputId": "efca9a3d-c417-463f-aa40-d1e4cd86727a"
      },
      "source": [
        "f = np.full((2,2),\"dubba\")\n",
        "print(f)"
      ],
      "execution_count": 52,
      "outputs": [
        {
          "output_type": "stream",
          "text": [
            "[['dubba' 'dubba']\n",
            " ['dubba' 'dubba']]\n"
          ],
          "name": "stdout"
        }
      ]
    },
    {
      "cell_type": "code",
      "metadata": {
        "id": "xXIDICQ5xlw1",
        "colab_type": "code",
        "colab": {
          "base_uri": "https://localhost:8080/",
          "height": 72
        },
        "outputId": "34a4a1e9-e6e6-429b-d56e-7261c43088f7"
      },
      "source": [
        "#eye()\n",
        "e = np.eye(3,dtype=\"int32\")\n",
        "print(e)"
      ],
      "execution_count": 60,
      "outputs": [
        {
          "output_type": "stream",
          "text": [
            "[[1 0 0]\n",
            " [0 1 0]\n",
            " [0 0 1]]\n"
          ],
          "name": "stdout"
        }
      ]
    },
    {
      "cell_type": "code",
      "metadata": {
        "id": "-_T3IJY8zOIs",
        "colab_type": "code",
        "colab": {
          "base_uri": "https://localhost:8080/",
          "height": 35
        },
        "outputId": "5adc5d1e-637e-4368-bbfd-2d6ccfeb4317"
      },
      "source": [
        "#liinspace()-->linear spacing elements\n",
        "l=np.linspace(1,10,5)\n",
        "l"
      ],
      "execution_count": 62,
      "outputs": [
        {
          "output_type": "execute_result",
          "data": {
            "text/plain": [
              "array([ 1.  ,  3.25,  5.5 ,  7.75, 10.  ])"
            ]
          },
          "metadata": {
            "tags": []
          },
          "execution_count": 62
        }
      ]
    },
    {
      "cell_type": "code",
      "metadata": {
        "id": "qjr4Wksb0EcT",
        "colab_type": "code",
        "colab": {
          "base_uri": "https://localhost:8080/",
          "height": 35
        },
        "outputId": "20cb2e2a-7fb1-45b5-b926-7cc130afaa5a"
      },
      "source": [
        "a= np.arange(1,13,2)\n",
        "a"
      ],
      "execution_count": 65,
      "outputs": [
        {
          "output_type": "execute_result",
          "data": {
            "text/plain": [
              "array([ 1,  3,  5,  7,  9, 11])"
            ]
          },
          "metadata": {
            "tags": []
          },
          "execution_count": 65
        }
      ]
    },
    {
      "cell_type": "code",
      "metadata": {
        "id": "SY-N1aYB1N7r",
        "colab_type": "code",
        "colab": {
          "base_uri": "https://localhost:8080/",
          "height": 54
        },
        "outputId": "b905a81a-87a6-42ff-a307-4a80e6eaf294"
      },
      "source": [
        "#ravel()-->flatten your array elements\n",
        "print(np.array(a.flat))\n",
        "print(a.ravel())"
      ],
      "execution_count": 66,
      "outputs": [
        {
          "output_type": "stream",
          "text": [
            "[ 1  3  5  7  9 11]\n",
            "[ 1  3  5  7  9 11]\n"
          ],
          "name": "stdout"
        }
      ]
    },
    {
      "cell_type": "markdown",
      "metadata": {
        "id": "OBWgSQlU2CT-",
        "colab_type": "text"
      },
      "source": [
        "###Function:\n",
        "1. min()\n",
        "2. max()\n",
        "3. sum()\n",
        "4. sqrt()\n",
        "5. mean()\n",
        "6. median()\n",
        "7. std()\n"
      ]
    },
    {
      "cell_type": "code",
      "metadata": {
        "id": "ILhai2jZ2e_k",
        "colab_type": "code",
        "colab": {
          "base_uri": "https://localhost:8080/",
          "height": 54
        },
        "outputId": "f490d865-e6ea-4315-df5c-071a6d1ad83d"
      },
      "source": [
        "s=a.reshape(2,3)\n",
        "s"
      ],
      "execution_count": 74,
      "outputs": [
        {
          "output_type": "execute_result",
          "data": {
            "text/plain": [
              "array([[ 1,  3,  5],\n",
              "       [ 7,  9, 11]])"
            ]
          },
          "metadata": {
            "tags": []
          },
          "execution_count": 74
        }
      ]
    },
    {
      "cell_type": "code",
      "metadata": {
        "id": "A5RM1tfN10Pc",
        "colab_type": "code",
        "colab": {
          "base_uri": "https://localhost:8080/",
          "height": 54
        },
        "outputId": "6403c73b-83a7-403c-81bc-4b7165daac3a"
      },
      "source": [
        "print(a.min())\n",
        "print(a.max())"
      ],
      "execution_count": 67,
      "outputs": [
        {
          "output_type": "stream",
          "text": [
            "1\n",
            "11\n"
          ],
          "name": "stdout"
        }
      ]
    },
    {
      "cell_type": "code",
      "metadata": {
        "id": "p7v0ZY9r2VGo",
        "colab_type": "code",
        "colab": {
          "base_uri": "https://localhost:8080/",
          "height": 72
        },
        "outputId": "93d5cd6b-aecd-4d50-89df-b4ddc6deb13a"
      },
      "source": [
        "print(s.sum())#sum of all elements\n",
        "print(s.sum(axis=1))#sum of row elements\n",
        "print(s.sum(axis=0))#sum of column elements"
      ],
      "execution_count": 72,
      "outputs": [
        {
          "output_type": "stream",
          "text": [
            "10\n",
            "[2 2 2 2 2]\n",
            "[0 5 0 5]\n"
          ],
          "name": "stdout"
        }
      ]
    },
    {
      "cell_type": "code",
      "metadata": {
        "id": "WKKoc0Mr2cIB",
        "colab_type": "code",
        "colab": {
          "base_uri": "https://localhost:8080/",
          "height": 54
        },
        "outputId": "9a8f8866-550e-4262-9aa3-1626e224851f"
      },
      "source": [
        "np.sqrt(s)"
      ],
      "execution_count": 75,
      "outputs": [
        {
          "output_type": "execute_result",
          "data": {
            "text/plain": [
              "array([[1.        , 1.73205081, 2.23606798],\n",
              "       [2.64575131, 3.        , 3.31662479]])"
            ]
          },
          "metadata": {
            "tags": []
          },
          "execution_count": 75
        }
      ]
    },
    {
      "cell_type": "code",
      "metadata": {
        "id": "tpfn8gej3V3e",
        "colab_type": "code",
        "colab": {
          "base_uri": "https://localhost:8080/",
          "height": 35
        },
        "outputId": "c5624127-394b-4e1a-a7c4-435b832148e0"
      },
      "source": [
        "np.mean(s)"
      ],
      "execution_count": 76,
      "outputs": [
        {
          "output_type": "execute_result",
          "data": {
            "text/plain": [
              "6.0"
            ]
          },
          "metadata": {
            "tags": []
          },
          "execution_count": 76
        }
      ]
    },
    {
      "cell_type": "code",
      "metadata": {
        "id": "k6P5-T9k3fBS",
        "colab_type": "code",
        "colab": {
          "base_uri": "https://localhost:8080/",
          "height": 35
        },
        "outputId": "54a7f110-09bd-4b9a-c939-2d11f0dc6d7d"
      },
      "source": [
        "np.median(s)"
      ],
      "execution_count": 77,
      "outputs": [
        {
          "output_type": "execute_result",
          "data": {
            "text/plain": [
              "6.0"
            ]
          },
          "metadata": {
            "tags": []
          },
          "execution_count": 77
        }
      ]
    },
    {
      "cell_type": "code",
      "metadata": {
        "id": "isFjNlHc3hJ6",
        "colab_type": "code",
        "colab": {
          "base_uri": "https://localhost:8080/",
          "height": 35
        },
        "outputId": "7f05f899-845e-4888-fd79-3c13778c1f55"
      },
      "source": [
        "np.std(s)"
      ],
      "execution_count": 78,
      "outputs": [
        {
          "output_type": "execute_result",
          "data": {
            "text/plain": [
              "3.415650255319866"
            ]
          },
          "metadata": {
            "tags": []
          },
          "execution_count": 78
        }
      ]
    },
    {
      "cell_type": "markdown",
      "metadata": {
        "id": "uTB-hLKw4JUo",
        "colab_type": "text"
      },
      "source": [
        "###mathematical operations:+,-,*,/,%"
      ]
    },
    {
      "cell_type": "code",
      "metadata": {
        "id": "XyLbUDg03jUn",
        "colab_type": "code",
        "colab": {
          "base_uri": "https://localhost:8080/",
          "height": 72
        },
        "outputId": "95288ac5-d465-4773-f7d4-8c2eaa3f736f"
      },
      "source": [
        "arr=np.arange(1,10).reshape(3,3)\n",
        "arr1=np.arange(11,20).reshape(3,3)\n",
        "print(arr,end=\" \")"
      ],
      "execution_count": 95,
      "outputs": [
        {
          "output_type": "stream",
          "text": [
            "[[1 2 3]\n",
            " [4 5 6]\n",
            " [7 8 9]] "
          ],
          "name": "stdout"
        }
      ]
    },
    {
      "cell_type": "code",
      "metadata": {
        "id": "RdjNCoMS5mFG",
        "colab_type": "code",
        "colab": {
          "base_uri": "https://localhost:8080/",
          "height": 72
        },
        "outputId": "4b775bee-a6f6-46ab-8714-6a520ce8cfbd"
      },
      "source": [
        "arr1"
      ],
      "execution_count": 96,
      "outputs": [
        {
          "output_type": "execute_result",
          "data": {
            "text/plain": [
              "array([[11, 12, 13],\n",
              "       [14, 15, 16],\n",
              "       [17, 18, 19]])"
            ]
          },
          "metadata": {
            "tags": []
          },
          "execution_count": 96
        }
      ]
    },
    {
      "cell_type": "code",
      "metadata": {
        "id": "NpkcNRaS4yx7",
        "colab_type": "code",
        "colab": {
          "base_uri": "https://localhost:8080/",
          "height": 72
        },
        "outputId": "e8bd8324-6f3b-40fd-a579-5d553e75687d"
      },
      "source": [
        "print(arr+arr1)"
      ],
      "execution_count": 84,
      "outputs": [
        {
          "output_type": "stream",
          "text": [
            "[[12 14 16]\n",
            " [18 20 22]\n",
            " [24 26 28]]\n"
          ],
          "name": "stdout"
        }
      ]
    },
    {
      "cell_type": "code",
      "metadata": {
        "id": "RAX40ohB400K",
        "colab_type": "code",
        "colab": {
          "base_uri": "https://localhost:8080/",
          "height": 72
        },
        "outputId": "d3e1b24e-ad7d-4c6f-b59e-57382fd2e4e0"
      },
      "source": [
        "print(arr-arr1)"
      ],
      "execution_count": 85,
      "outputs": [
        {
          "output_type": "stream",
          "text": [
            "[[-10 -10 -10]\n",
            " [-10 -10 -10]\n",
            " [-10 -10 -10]]\n"
          ],
          "name": "stdout"
        }
      ]
    },
    {
      "cell_type": "code",
      "metadata": {
        "id": "GR5Hhv5V44P4",
        "colab_type": "code",
        "colab": {
          "base_uri": "https://localhost:8080/",
          "height": 72
        },
        "outputId": "106932fa-1057-422e-a8bf-81e5a4fbf28c"
      },
      "source": [
        "print(arr*arr1)"
      ],
      "execution_count": 86,
      "outputs": [
        {
          "output_type": "stream",
          "text": [
            "[[ 11  24  39]\n",
            " [ 56  75  96]\n",
            " [119 144 171]]\n"
          ],
          "name": "stdout"
        }
      ]
    },
    {
      "cell_type": "code",
      "metadata": {
        "id": "Z3L7DjTG48EI",
        "colab_type": "code",
        "colab": {
          "base_uri": "https://localhost:8080/",
          "height": 72
        },
        "outputId": "27f736d1-6958-4311-a7c2-a741eb94ddf5"
      },
      "source": [
        "print(arr/arr1)"
      ],
      "execution_count": 87,
      "outputs": [
        {
          "output_type": "stream",
          "text": [
            "[[0.09090909 0.16666667 0.23076923]\n",
            " [0.28571429 0.33333333 0.375     ]\n",
            " [0.41176471 0.44444444 0.47368421]]\n"
          ],
          "name": "stdout"
        }
      ]
    },
    {
      "cell_type": "code",
      "metadata": {
        "id": "T8tJlMK74__r",
        "colab_type": "code",
        "colab": {
          "base_uri": "https://localhost:8080/",
          "height": 72
        },
        "outputId": "62e5517b-372a-4c8c-8290-362af4d9c1c8"
      },
      "source": [
        "print(arr%arr1)"
      ],
      "execution_count": 88,
      "outputs": [
        {
          "output_type": "stream",
          "text": [
            "[[1 2 3]\n",
            " [4 5 6]\n",
            " [7 8 9]]\n"
          ],
          "name": "stdout"
        }
      ]
    },
    {
      "cell_type": "markdown",
      "metadata": {
        "id": "Rhd00M8P5oO-",
        "colab_type": "text"
      },
      "source": [
        "###dot()-->matrix multiplication\n",
        "###arr1 = mXn\n",
        "###arr2 = nX1\n"
      ]
    },
    {
      "cell_type": "code",
      "metadata": {
        "id": "rT17Gdr-5Dl1",
        "colab_type": "code",
        "colab": {
          "base_uri": "https://localhost:8080/",
          "height": 72
        },
        "outputId": "b09be595-f9da-4734-96e0-5fb2cebb1c20"
      },
      "source": [
        "s1 = np.arange(1,10).reshape(3,3)\n",
        "s2 = np.arange(11,20).reshape(3,3)\n",
        "s1.dot(s2)"
      ],
      "execution_count": 97,
      "outputs": [
        {
          "output_type": "execute_result",
          "data": {
            "text/plain": [
              "array([[ 90,  96, 102],\n",
              "       [216, 231, 246],\n",
              "       [342, 366, 390]])"
            ]
          },
          "metadata": {
            "tags": []
          },
          "execution_count": 97
        }
      ]
    },
    {
      "cell_type": "code",
      "metadata": {
        "id": "b9YkG2Ci6Ne9",
        "colab_type": "code",
        "colab": {
          "base_uri": "https://localhost:8080/",
          "height": 72
        },
        "outputId": "f2c2f831-1196-43b1-bb34-b617f6f2b9b3"
      },
      "source": [
        "s1\n"
      ],
      "execution_count": 98,
      "outputs": [
        {
          "output_type": "execute_result",
          "data": {
            "text/plain": [
              "array([[1, 2, 3],\n",
              "       [4, 5, 6],\n",
              "       [7, 8, 9]])"
            ]
          },
          "metadata": {
            "tags": []
          },
          "execution_count": 98
        }
      ]
    },
    {
      "cell_type": "code",
      "metadata": {
        "id": "bx-KlGKq6iXK",
        "colab_type": "code",
        "colab": {
          "base_uri": "https://localhost:8080/",
          "height": 72
        },
        "outputId": "f1fe266b-dc78-420d-d135-95faeaff924b"
      },
      "source": [
        "#Transpose of an array\n",
        "s1.T"
      ],
      "execution_count": 100,
      "outputs": [
        {
          "output_type": "execute_result",
          "data": {
            "text/plain": [
              "array([[1, 4, 7],\n",
              "       [2, 5, 8],\n",
              "       [3, 6, 9]])"
            ]
          },
          "metadata": {
            "tags": []
          },
          "execution_count": 100
        }
      ]
    },
    {
      "cell_type": "markdown",
      "metadata": {
        "id": "E2A7EtbY7PIQ",
        "colab_type": "text"
      },
      "source": [
        "###Apply user defind function to a array"
      ]
    },
    {
      "cell_type": "code",
      "metadata": {
        "id": "ikHlhxnN6nrN",
        "colab_type": "code",
        "colab": {
          "base_uri": "https://localhost:8080/",
          "height": 35
        },
        "outputId": "6442b1e3-2f56-4f45-9e10-6d8cb22cbcb0"
      },
      "source": [
        "list1 = list(range(1,20))\n",
        "list1"
      ],
      "execution_count": 101,
      "outputs": [
        {
          "output_type": "execute_result",
          "data": {
            "text/plain": [
              "[1, 2, 3, 4, 5, 6, 7, 8, 9, 10, 11, 12, 13, 14, 15, 16, 17, 18, 19]"
            ]
          },
          "metadata": {
            "tags": []
          },
          "execution_count": 101
        }
      ]
    },
    {
      "cell_type": "code",
      "metadata": {
        "id": "ia9Sk7-P9Ao0",
        "colab_type": "code",
        "colab": {
          "base_uri": "https://localhost:8080/",
          "height": 54
        },
        "outputId": "a09d104e-46e9-4bd0-c676-da54afa3a4d8"
      },
      "source": [
        "a=np.array(list1)\n",
        "a"
      ],
      "execution_count": 106,
      "outputs": [
        {
          "output_type": "execute_result",
          "data": {
            "text/plain": [
              "array([ 1,  2,  3,  4,  5,  6,  7,  8,  9, 10, 11, 12, 13, 14, 15, 16, 17,\n",
              "       18, 19])"
            ]
          },
          "metadata": {
            "tags": []
          },
          "execution_count": 106
        }
      ]
    },
    {
      "cell_type": "code",
      "metadata": {
        "id": "GPoVNWI87aNh",
        "colab_type": "code",
        "colab": {}
      },
      "source": [
        "#1/(1+)-->x/(x+1)\n",
        "result = [x/(x+1) for x in list1]\n",
        "result"
      ],
      "execution_count": 0,
      "outputs": []
    },
    {
      "cell_type": "code",
      "metadata": {
        "id": "gCGR2aXe8A56",
        "colab_type": "code",
        "colab": {
          "base_uri": "https://localhost:8080/",
          "height": 90
        },
        "outputId": "4199496f-1ce7-42ba-ff75-2716a6faf201"
      },
      "source": [
        "f = np.vectorize(lambda x:x/(x+1))\n",
        "f(a)"
      ],
      "execution_count": 108,
      "outputs": [
        {
          "output_type": "execute_result",
          "data": {
            "text/plain": [
              "array([0.5       , 0.66666667, 0.75      , 0.8       , 0.83333333,\n",
              "       0.85714286, 0.875     , 0.88888889, 0.9       , 0.90909091,\n",
              "       0.91666667, 0.92307692, 0.92857143, 0.93333333, 0.9375    ,\n",
              "       0.94117647, 0.94444444, 0.94736842, 0.95      ])"
            ]
          },
          "metadata": {
            "tags": []
          },
          "execution_count": 108
        }
      ]
    },
    {
      "cell_type": "code",
      "metadata": {
        "id": "O9rOF46f8sGj",
        "colab_type": "code",
        "colab": {}
      },
      "source": [
        ""
      ],
      "execution_count": 0,
      "outputs": []
    }
  ]
}