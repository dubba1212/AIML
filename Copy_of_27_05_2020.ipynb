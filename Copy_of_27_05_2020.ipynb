{
  "nbformat": 4,
  "nbformat_minor": 0,
  "metadata": {
    "colab": {
      "name": "Copy of 27-05-2020",
      "provenance": [],
      "authorship_tag": "ABX9TyOgVrA82KQ30mz4RAXD97/b",
      "include_colab_link": true
    },
    "kernelspec": {
      "name": "python3",
      "display_name": "Python 3"
    }
  },
  "cells": [
    {
      "cell_type": "markdown",
      "metadata": {
        "id": "view-in-github",
        "colab_type": "text"
      },
      "source": [
        "<a href=\"https://colab.research.google.com/github/dubba1212/AIML/blob/master/Copy_of_27_05_2020.ipynb\" target=\"_parent\"><img src=\"https://colab.research.google.com/assets/colab-badge.svg\" alt=\"Open In Colab\"/></a>"
      ]
    },
    {
      "cell_type": "markdown",
      "metadata": {
        "id": "ErkKhaD2Tn63",
        "colab_type": "text"
      },
      "source": [
        "Headings:\n",
        "#python programming\n",
        "##python programming\n",
        "###python programming\n",
        "####python programming\n",
        "#####python programming\n",
        "######python programming\n"
      ]
    },
    {
      "cell_type": "code",
      "metadata": {
        "id": "qWpV5ZAOTsJE",
        "colab_type": "code",
        "outputId": "ca4cab04-3d22-402e-bd4c-107b8f6c2a02",
        "colab": {
          "base_uri": "https://localhost:8080/",
          "height": 35
        }
      },
      "source": [
        "print(\"hello!!\")"
      ],
      "execution_count": 0,
      "outputs": [
        {
          "output_type": "stream",
          "text": [
            "hello!!\n"
          ],
          "name": "stdout"
        }
      ]
    },
    {
      "cell_type": "markdown",
      "metadata": {
        "id": "wVe0Zb1rVWaC",
        "colab_type": "text"
      },
      "source": [
        "###List of programming Languages:(Ordered list)\n",
        "1.python\n",
        "\n",
        "2.java\n",
        "\n",
        "3.c\n",
        "\n",
        "4.c++\n",
        "\n",
        "5.NET\n",
        "\n",
        "\n"
      ]
    },
    {
      "cell_type": "markdown",
      "metadata": {
        "id": "LsxvqjmRV4UB",
        "colab_type": "text"
      },
      "source": [
        "###List of programming Languages:(unOrdered list)\n",
        "- python\n",
        "\n",
        "    -  core python\n",
        " \n",
        "    - Adv python\n",
        "\n",
        "- java\n",
        "\n",
        "- c\n",
        "\n",
        "- c++\n",
        "\n",
        "- NET\n",
        "\n",
        "\n"
      ]
    },
    {
      "cell_type": "markdown",
      "metadata": {
        "id": "v0wiLYVCW7J2",
        "colab_type": "text"
      },
      "source": [
        "- **Python Programming**\n",
        "\n",
        "- *Python programming*"
      ]
    },
    {
      "cell_type": "markdown",
      "metadata": {
        "id": "d6LAc-IwX9dK",
        "colab_type": "text"
      },
      "source": [
        "[click here for Documantation](https://drive.google.com/open?id=1aYdIRK8uRSetntH8gqfEgUKsxZCnKAijWnsJUKqCeZQ)"
      ]
    },
    {
      "cell_type": "markdown",
      "metadata": {
        "id": "tLpAjQKiZu7N",
        "colab_type": "text"
      },
      "source": [
        "![click for image](https://www.indiacarnews.com/wp-content/uploads/2018/02/2018-Rolls-Royce-Phantom-India-3-1.jpg)"
      ]
    },
    {
      "cell_type": "markdown",
      "metadata": {
        "id": "8JXa3LzbbZQX",
        "colab_type": "text"
      },
      "source": [
        "<img src=\"https://www.indiacarnews.com/wp-content/uploads/2018/02/2018-Rolls-Royce-Phantom-India-3-1.jpg\" width=300 height=200 >"
      ]
    },
    {
      "cell_type": "markdown",
      "metadata": {
        "id": "5lJXKU32c9Cl",
        "colab_type": "text"
      },
      "source": [
        "Python:-\n",
        "1. Different paradigms\n",
        "2. interpreted  PL\n",
        "3. open source \n",
        "4. Object oriented PL\n",
        "5. Dynamic PL"
      ]
    },
    {
      "cell_type": "markdown",
      "metadata": {
        "id": "2b3ZKbPVeutG",
        "colab_type": "text"
      },
      "source": [
        "###Numeric Data Types:\n",
        "1. int \n",
        "2. float\n",
        "3. complex"
      ]
    },
    {
      "cell_type": "code",
      "metadata": {
        "id": "Bky8ozRMb0RX",
        "colab_type": "code",
        "colab": {}
      },
      "source": [
        "\n"
      ],
      "execution_count": 0,
      "outputs": []
    },
    {
      "cell_type": "code",
      "metadata": {
        "id": "0dcXiOSpcsqJ",
        "colab_type": "code",
        "colab": {}
      },
      "source": [
        ""
      ],
      "execution_count": 0,
      "outputs": []
    },
    {
      "cell_type": "code",
      "metadata": {
        "id": "xKGgXU8uctBv",
        "colab_type": "code",
        "colab": {}
      },
      "source": [
        ""
      ],
      "execution_count": 0,
      "outputs": []
    }
  ]
}