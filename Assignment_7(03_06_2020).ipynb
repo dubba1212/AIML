{
  "nbformat": 4,
  "nbformat_minor": 0,
  "metadata": {
    "colab": {
      "name": "Assignment 7(03-06-2020)",
      "provenance": [],
      "authorship_tag": "ABX9TyNr2ASfo5k2bSzxTQTIZ7XD",
      "include_colab_link": true
    },
    "kernelspec": {
      "name": "python3",
      "display_name": "Python 3"
    }
  },
  "cells": [
    {
      "cell_type": "markdown",
      "metadata": {
        "id": "view-in-github",
        "colab_type": "text"
      },
      "source": [
        "<a href=\"https://colab.research.google.com/github/dubba1212/AIML/blob/master/Assignment_7(03_06_2020).ipynb\" target=\"_parent\"><img src=\"https://colab.research.google.com/assets/colab-badge.svg\" alt=\"Open In Colab\"/></a>"
      ]
    },
    {
      "cell_type": "markdown",
      "metadata": {
        "id": "YWDGE2VxkQ4p",
        "colab_type": "text"
      },
      "source": [
        "**1**[Reverse] Copy the contents of a text file into another, printing the reversed version of each input line\n"
      ]
    },
    {
      "cell_type": "code",
      "metadata": {
        "id": "_Lphm7JPh_T2",
        "colab_type": "code",
        "colab": {}
      },
      "source": [
        "import os\n",
        "f=open(\"sample.txt\",\"w\")\n",
        "s='''Rolls-Royce Motor Cars Limited is a British luxury automobile maker.\n",
        " A wholly owned subsidiary of German group BMW, it was established in 1998 after\n",
        "BMW was licensed the rights to the Rolls-Royce brand name and logo from Rolls-Royce\n",
        " plc and acquired the rights to the Spirit of Ecstasy and Rolls-Royce grill shape\n",
        "trademarks from Volkswagen AG. Rolls-Royce Motor Cars Limited operates from purpose-built\n",
        " administrative and production facilities opened in 2003 across from the historic Goodwood\n",
        "Circuit in Goodwood, West Sussex, England, United Kingdom. Rolls-Royce Motors Cars\n",
        " Limited is the exclusive manufacturer of Rolls-Royce branded motor cars since 2003. '''\n",
        "f.write(s)\n",
        "f.close()"
      ],
      "execution_count": 0,
      "outputs": []
    },
    {
      "cell_type": "code",
      "metadata": {
        "id": "5_4K0IzFmJlV",
        "colab_type": "code",
        "colab": {}
      },
      "source": [
        "f=open(\"sample1.txt\",\"w\")\n",
        "line=s.split(\"\\n\")\n",
        "for i in range(len(line)):\n",
        "  line1=line[i].split()\n",
        "  for j in range(len(line1)-1,-1,-1):\n",
        "    f.write(line1[j])\n",
        "    f.write(\" \")\n",
        "  f.write(\"\\n\")\n",
        "f.close()"
      ],
      "execution_count": 0,
      "outputs": []
    },
    {
      "cell_type": "code",
      "metadata": {
        "id": "O8x-t5CMnByM",
        "colab_type": "code",
        "outputId": "42ac9851-d49e-4cf2-ef01-f74b029cdcaf",
        "colab": {
          "base_uri": "https://localhost:8080/",
          "height": 182
        }
      },
      "source": [
        "f=open(\"sample1.txt\",\"r\")\n",
        "data=f.read()\n",
        "print(data)"
      ],
      "execution_count": 0,
      "outputs": [
        {
          "output_type": "stream",
          "text": [
            "maker. automobile luxury British a is Limited Cars Motor Rolls-Royce \n",
            "after 1998 in established was it BMW, group German of subsidiary owned wholly A \n",
            "Rolls-Royce from logo and name brand Rolls-Royce the to rights the licensed was BMW \n",
            "shape grill Rolls-Royce and Ecstasy of Spirit the to rights the acquired and plc \n",
            "purpose-built from operates Limited Cars Motor Rolls-Royce AG. Volkswagen from trademarks \n",
            "Goodwood historic the from across 2003 in opened facilities production and administrative \n",
            "Cars Motors Rolls-Royce Kingdom. United England, Sussex, West Goodwood, in Circuit \n",
            "2003. since cars motor branded Rolls-Royce of manufacturer exclusive the is Limited \n",
            "\n"
          ],
          "name": "stdout"
        }
      ]
    },
    {
      "cell_type": "markdown",
      "metadata": {
        "id": "2GjlTLxzkRZj",
        "colab_type": "text"
      },
      "source": [
        "**2**[Number Lines] Print the contents of a file line by line putting a line number for each line.\n"
      ]
    },
    {
      "cell_type": "code",
      "metadata": {
        "id": "tVbKcdoQkSGA",
        "colab_type": "code",
        "outputId": "112edc08-5088-4a7e-ea2b-50f0b06185c9",
        "colab": {
          "base_uri": "https://localhost:8080/",
          "height": 164
        }
      },
      "source": [
        "f=open(\"sample.txt\",\"r\")\n",
        "line=f.read()\n",
        "line=line.split(\"\\n\")\n",
        "for i in range(len(line)):\n",
        "  print(i+1,end=\" \")\n",
        "  print(line[i])"
      ],
      "execution_count": 0,
      "outputs": [
        {
          "output_type": "stream",
          "text": [
            "1 Rolls-Royce Motor Cars Limited is a British luxury automobile maker.\n",
            "2  A wholly owned subsidiary of German group BMW, it was established in 1998 after\n",
            "3 BMW was licensed the rights to the Rolls-Royce brand name and logo from Rolls-Royce\n",
            "4  plc and acquired the rights to the Spirit of Ecstasy and Rolls-Royce grill shape\n",
            "5 trademarks from Volkswagen AG. Rolls-Royce Motor Cars Limited operates from purpose-built\n",
            "6  administrative and production facilities opened in 2003 across from the historic Goodwood\n",
            "7 Circuit in Goodwood, West Sussex, England, United Kingdom. Rolls-Royce Motors Cars\n",
            "8  Limited is the exclusive manufacturer of Rolls-Royce branded motor cars since 2003. \n"
          ],
          "name": "stdout"
        }
      ]
    },
    {
      "cell_type": "markdown",
      "metadata": {
        "id": "o0kkEvsykS_j",
        "colab_type": "text"
      },
      "source": [
        "**3**\n",
        "[deDuplicate] Avoiding Duplicates\n",
        "In many situations, lists should not contain duplicate elements. For example, a pack of cards should not contain the same card twice. Define a function\n",
        "duplicates (list): bool\n",
        "which returns True if its argument contains duplicate elements.\n",
        "        duplicates [1,2,3,4,5]\n",
        "            False\n",
        "        duplicates [1,2,3,2]\n",
        "            True\n"
      ]
    },
    {
      "cell_type": "code",
      "metadata": {
        "id": "n8UO_I9AkTl4",
        "colab_type": "code",
        "outputId": "34acf42e-813c-40ef-f04a-b5590b0fffb0",
        "colab": {
          "base_uri": "https://localhost:8080/",
          "height": 54
        }
      },
      "source": [
        "def dup(list1):\n",
        "  for i in range(len(list1)-1):\n",
        "    if(list1[i] in list1[i+1:]):\n",
        "      return True\n",
        "    else:\n",
        "      return False\n",
        "def removedup(list1):\n",
        "  ditem=[]\n",
        "  uitem={}\n",
        "  for i in list1:\n",
        "    if i not in uitem:\n",
        "      uitem[i]=1\n",
        "    else:\n",
        "      if uitem==1:\n",
        "        ditem.append(i)\n",
        "      uitem[i]+=1\n",
        "  print(list(uitem))\n",
        "list1=[1,2,3,4,5,1,2,7]\n",
        "print(dup(list1))\n",
        "removedup(list1)\n"
      ],
      "execution_count": 0,
      "outputs": [
        {
          "output_type": "stream",
          "text": [
            "True\n",
            "[1, 2, 3, 4, 5, 7]\n"
          ],
          "name": "stdout"
        }
      ]
    },
    {
      "cell_type": "markdown",
      "metadata": {
        "id": "pzoA52iGkUKd",
        "colab_type": "text"
      },
      "source": [
        "**4**\n",
        "\n",
        "[fractions.py] Develop a package for fractions. Develop a module that performs operations on fractions. It should have methods to create fractions, perform operations on two fractions, simplify a fraction, and print a fraction. You should use that package and illustrate those operations.\n",
        "\n"
      ]
    },
    {
      "cell_type": "code",
      "metadata": {
        "id": "dLhtWpcxTO1t",
        "colab_type": "code",
        "outputId": "5b34b7b3-2bf5-4047-bc06-9b8ca8cc6ab9",
        "colab": {
          "base_uri": "https://localhost:8080/",
          "height": 35
        }
      },
      "source": [
        "from fractions import Fraction as fr\n",
        "print(fr(10,11))"
      ],
      "execution_count": 0,
      "outputs": [
        {
          "output_type": "stream",
          "text": [
            "10/11\n"
          ],
          "name": "stdout"
        }
      ]
    },
    {
      "cell_type": "code",
      "metadata": {
        "id": "7MoNILoz2riw",
        "colab_type": "code",
        "outputId": "1b74775c-36d7-4845-b73f-0739b0d4a046",
        "colab": {
          "base_uri": "https://localhost:8080/",
          "height": 35
        }
      },
      "source": [
        "print(\"ADD:-\"+str(fr('5/4')+fr('9/8')))"
      ],
      "execution_count": 0,
      "outputs": [
        {
          "output_type": "stream",
          "text": [
            "ADD:-19/8\n"
          ],
          "name": "stdout"
        }
      ]
    },
    {
      "cell_type": "markdown",
      "metadata": {
        "id": "LXIJcd26rUwY",
        "colab_type": "text"
      },
      "source": [
        "**5**\n",
        "[Permutations] \n",
        "A permutation of a list is another list with the same elements, but in a possibly different order. For example, [1,2,1] is a permutation of [2,1,1], but not of [1,2,2]. Write a function\n",
        "            isPermutation (list1, list2): bool\n",
        "that returns True if its arguments are permutations of each other.\n",
        "\n"
      ]
    },
    {
      "cell_type": "code",
      "metadata": {
        "id": "5rGP90t1rVQS",
        "colab_type": "code",
        "outputId": "7f8cd036-ea60-4b1a-bee6-2d52557d81d9",
        "colab": {
          "base_uri": "https://localhost:8080/",
          "height": 35
        }
      },
      "source": [
        "def isp(list1,list2):\n",
        "  if len(list1)!=len(list2):\n",
        "    return False\n",
        "  list1.sort()\n",
        "  list2.sort()\n",
        "  if list1==list2:\n",
        "    return True\n",
        "  else:\n",
        "    return False\n",
        "\n",
        "list1=[1,2,1]\n",
        "list2=[2,1,1]\n",
        "print(isp(list1,list2))"
      ],
      "execution_count": 0,
      "outputs": [
        {
          "output_type": "stream",
          "text": [
            "True\n"
          ],
          "name": "stdout"
        }
      ]
    },
    {
      "cell_type": "code",
      "metadata": {
        "id": "gMKGxSKKNgfK",
        "colab_type": "code",
        "colab": {}
      },
      "source": [
        ""
      ],
      "execution_count": 0,
      "outputs": []
    }
  ]
}