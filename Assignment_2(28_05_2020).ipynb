{
  "nbformat": 4,
  "nbformat_minor": 0,
  "metadata": {
    "colab": {
      "name": "Assignment-2(28-05-2020).ipynb",
      "provenance": [],
      "authorship_tag": "ABX9TyP1VCo2NHxbx5pW9zftJ1VU",
      "include_colab_link": true
    },
    "kernelspec": {
      "name": "python3",
      "display_name": "Python 3"
    }
  },
  "cells": [
    {
      "cell_type": "markdown",
      "metadata": {
        "id": "view-in-github",
        "colab_type": "text"
      },
      "source": [
        "<a href=\"https://colab.research.google.com/github/dubba1212/AIML/blob/master/Assignment_2(28_05_2020).ipynb\" target=\"_parent\"><img src=\"https://colab.research.google.com/assets/colab-badge.svg\" alt=\"Open In Colab\"/></a>"
      ]
    },
    {
      "cell_type": "markdown",
      "metadata": {
        "id": "NlZ7t6S8KfPJ",
        "colab_type": "text"
      },
      "source": [
        "**1**"
      ]
    },
    {
      "cell_type": "code",
      "metadata": {
        "id": "paAZi7nEDnJc",
        "colab_type": "code",
        "outputId": "9cf269c3-4415-4f62-9519-36e041fb7ccc",
        "colab": {
          "base_uri": "https://localhost:8080/",
          "height": 92
        }
      },
      "source": [
        "#no of vowels,consonants,and special characters\n",
        "n = input(\"enter the string \")\n",
        "vcount=0\n",
        "count=0\n",
        "scount=0\n",
        "for i in range(0,len(n)):\n",
        "  ch = n[i]\n",
        "  if ((ch>=\"a\" and ch<=\"z\") or (ch>=\"A\" and ch<=\"Z\")):\n",
        "    if (ch==\"a\" or ch==\"e\" or ch==\"i\" or ch==\"o\" or ch==\"u\" or ch==\"A\" or ch==\"E\" or ch==\"I\" or ch==\"O\" or ch==\"U\"):\n",
        "      vcount+=1\n",
        "    else:\n",
        "      count+=1\n",
        "  else:\n",
        "    scount+=1\n",
        "print(\"vowels:\",vcount)\n",
        "print(\"consonants:\",count)\n",
        "print(\"special characters:\",scount)\n"
      ],
      "execution_count": 0,
      "outputs": [
        {
          "output_type": "stream",
          "text": [
            "enter the string dubba srikanth @#!\n",
            "vowels: 4\n",
            "consonants: 9\n",
            "special characters: 5\n"
          ],
          "name": "stdout"
        }
      ]
    },
    {
      "cell_type": "markdown",
      "metadata": {
        "id": "yk1t8xBYKhvV",
        "colab_type": "text"
      },
      "source": [
        "**10**"
      ]
    },
    {
      "cell_type": "code",
      "metadata": {
        "id": "HLBBB0bbGSRX",
        "colab_type": "code",
        "outputId": "ee3ec15e-732c-4be1-f473-0147e35ee70d",
        "colab": {
          "base_uri": "https://localhost:8080/",
          "height": 92
        }
      },
      "source": [
        "#median of three numbers\n",
        "n=int(input(\"entre the number\"))\n",
        "n1=int(input(\"entre the number\"))\n",
        "n2=int(input(\"entre the number\"))\n",
        "if (n>n1 and n<n2):\n",
        "  print(\"median=\",n)\n",
        "elif (n1>n and n1<n2):\n",
        "  print(\"median=\",n1)\n",
        "else:\n",
        "  print(\"median=\",n2)\n"
      ],
      "execution_count": 0,
      "outputs": [
        {
          "output_type": "stream",
          "text": [
            "entre the number5\n",
            "entre the number1\n",
            "entre the number9\n",
            "median= 5\n"
          ],
          "name": "stdout"
        }
      ]
    },
    {
      "cell_type": "markdown",
      "metadata": {
        "id": "-O7eFJFj45_I",
        "colab_type": "text"
      },
      "source": [
        "**7**"
      ]
    },
    {
      "cell_type": "code",
      "metadata": {
        "id": "skh7EDrwOY9p",
        "colab_type": "code",
        "outputId": "5bad87ba-5ddd-43c9-e814-8042fa5957d6",
        "colab": {
          "base_uri": "https://localhost:8080/",
          "height": 54
        }
      },
      "source": [
        "#sum of digith in a given string\n",
        "n = input(\"enter the string\")\n",
        "sum=0\n",
        "for i in n:\n",
        "  if (i.isdigit()) == True:\n",
        "    a=int(i)\n",
        "    sum=sum+a\n",
        "print(sum)"
      ],
      "execution_count": 0,
      "outputs": [
        {
          "output_type": "stream",
          "text": [
            "enter the stringasd123ghj8947\n",
            "34\n"
          ],
          "name": "stdout"
        }
      ]
    },
    {
      "cell_type": "markdown",
      "metadata": {
        "id": "31lqO7-IjsXp",
        "colab_type": "text"
      },
      "source": [
        "**2**"
      ]
    },
    {
      "cell_type": "code",
      "metadata": {
        "id": "wUsPY-PZibFy",
        "colab_type": "code",
        "outputId": "967166ff-929c-4f83-d26b-942e8ae9c9de",
        "colab": {
          "base_uri": "https://localhost:8080/",
          "height": 54
        }
      },
      "source": [
        "#count number of a\n",
        "n = input(\"enter the string  \")\n",
        "n.count(\"aa\")\n"
      ],
      "execution_count": 0,
      "outputs": [
        {
          "output_type": "stream",
          "text": [
            "enter the string  abbaaccbbaaa\n"
          ],
          "name": "stdout"
        },
        {
          "output_type": "execute_result",
          "data": {
            "text/plain": [
              "2"
            ]
          },
          "metadata": {
            "tags": []
          },
          "execution_count": 27
        }
      ]
    },
    {
      "cell_type": "markdown",
      "metadata": {
        "id": "O47FsJR_lDls",
        "colab_type": "text"
      },
      "source": [
        "**9**"
      ]
    },
    {
      "cell_type": "code",
      "metadata": {
        "id": "2KnTzbOOkrDM",
        "colab_type": "code",
        "outputId": "4cc5fac7-d6ab-4048-e6a8-81f782151603",
        "colab": {
          "base_uri": "https://localhost:8080/",
          "height": 954
        }
      },
      "source": [
        "for i in range(50):\n",
        "\n",
        "  if (i%15 == 0):\n",
        "    print(\"Fizzbuzz\")\n",
        "    continue\n",
        "\n",
        "  elif (i%3 == 0):\n",
        "    print(\"Fizz\")\n",
        "    continue\n",
        "\n",
        "  elif (i%5 == 0):\n",
        "    print(\"buzz\")\n",
        "    continue\n",
        "\n",
        "  print(i)\n",
        "\n",
        "  \n",
        "  "
      ],
      "execution_count": 0,
      "outputs": [
        {
          "output_type": "stream",
          "text": [
            "Fizzbuzz\n",
            "1\n",
            "2\n",
            "Fizz\n",
            "4\n",
            "buzz\n",
            "Fizz\n",
            "7\n",
            "8\n",
            "Fizz\n",
            "buzz\n",
            "11\n",
            "Fizz\n",
            "13\n",
            "14\n",
            "Fizzbuzz\n",
            "16\n",
            "17\n",
            "Fizz\n",
            "19\n",
            "buzz\n",
            "Fizz\n",
            "22\n",
            "23\n",
            "Fizz\n",
            "buzz\n",
            "26\n",
            "Fizz\n",
            "28\n",
            "29\n",
            "Fizzbuzz\n",
            "31\n",
            "32\n",
            "Fizz\n",
            "34\n",
            "buzz\n",
            "Fizz\n",
            "37\n",
            "38\n",
            "Fizz\n",
            "buzz\n",
            "41\n",
            "Fizz\n",
            "43\n",
            "44\n",
            "Fizzbuzz\n",
            "46\n",
            "47\n",
            "Fizz\n",
            "49\n"
          ],
          "name": "stdout"
        }
      ]
    },
    {
      "cell_type": "markdown",
      "metadata": {
        "id": "-CCx3ope-PBi",
        "colab_type": "text"
      },
      "source": [
        "**3**"
      ]
    },
    {
      "cell_type": "code",
      "metadata": {
        "id": "vVJVLz42pJJv",
        "colab_type": "code",
        "colab": {
          "base_uri": "https://localhost:8080/",
          "height": 54
        },
        "outputId": "085747a4-8555-49b0-8ad1-2c38e06fa026"
      },
      "source": [
        "s = input(\"enter the parenthesis\")\n",
        "lc=0\n",
        "rc=0\n",
        "for i in s:\n",
        "  if (lc>=rc):\n",
        "    if (i== \"(\"):\n",
        "      lc+=1\n",
        "    elif (i == \")\"):\n",
        "      rc+=1\n",
        "  else:\n",
        "    break\n",
        "if (lc == rc):\n",
        "  print(lc)\n",
        "else:\n",
        "  print(\"not opened or not closed properly\")"
      ],
      "execution_count": 4,
      "outputs": [
        {
          "output_type": "stream",
          "text": [
            "enter the parenthesis(((())))()()()\n",
            "7\n"
          ],
          "name": "stdout"
        }
      ]
    },
    {
      "cell_type": "markdown",
      "metadata": {
        "id": "gNQzGYY--iA4",
        "colab_type": "text"
      },
      "source": [
        "**4**"
      ]
    },
    {
      "cell_type": "code",
      "metadata": {
        "id": "oK-1JBx35WZv",
        "colab_type": "code",
        "colab": {
          "base_uri": "https://localhost:8080/",
          "height": 73
        },
        "outputId": "c62afa7e-8321-4ccb-b480-df071a0759ea"
      },
      "source": [
        "a=int(input(\"enter the lower limit value\"))\n",
        "b=int(input(\"enter the upper limit value\"))\n",
        "c=0\n",
        "for i in range(a,b+1,1):\n",
        "    if(str(i)==str(i)[::-1]):\n",
        "        c+=1\n",
        "print(c)"
      ],
      "execution_count": 5,
      "outputs": [
        {
          "output_type": "stream",
          "text": [
            "enter the lower limit value1\n",
            "enter the upper limit value10\n",
            "9\n"
          ],
          "name": "stdout"
        }
      ]
    },
    {
      "cell_type": "code",
      "metadata": {
        "id": "SpqFKrOCDZMS",
        "colab_type": "code",
        "colab": {}
      },
      "source": [
        ""
      ],
      "execution_count": 0,
      "outputs": []
    },
    {
      "cell_type": "markdown",
      "metadata": {
        "id": "ztcRW4iJHSs3",
        "colab_type": "text"
      },
      "source": [
        "**5**"
      ]
    },
    {
      "cell_type": "code",
      "metadata": {
        "id": "6JrIdtnUGISo",
        "colab_type": "code",
        "colab": {
          "base_uri": "https://localhost:8080/",
          "height": 54
        },
        "outputId": "c0883514-fadd-49e7-d68c-a1c5b6d3354f"
      },
      "source": [
        "n=int(input(\"enter the number\"))\n",
        "while(1):\n",
        "    if(str(n)==str(n)[::-1]):\n",
        "        print(n)\n",
        "        break\n",
        "    else:\n",
        "        n=n+int(str(n)[::-1])"
      ],
      "execution_count": 11,
      "outputs": [
        {
          "output_type": "stream",
          "text": [
            "enter the number123\n",
            "444\n"
          ],
          "name": "stdout"
        }
      ]
    },
    {
      "cell_type": "markdown",
      "metadata": {
        "id": "ComQionxHoNi",
        "colab_type": "text"
      },
      "source": [
        "**6**"
      ]
    },
    {
      "cell_type": "code",
      "metadata": {
        "id": "Ayoa8uATHj2w",
        "colab_type": "code",
        "colab": {
          "base_uri": "https://localhost:8080/",
          "height": 54
        },
        "outputId": "e3f62c8c-9fdb-4b80-ebe2-c3e98c22a59b"
      },
      "source": [
        "s=input(\"enter the string\")\n",
        "for i in s:\n",
        "    if(i=='a' or i=='e' or i=='i' or i=='o' or i=='u'):\n",
        "        s1=i\n",
        "        s2=chr(ord(s1)+1)\n",
        "        print(s2,end=\" \")\n",
        "    elif(i>'a' and i<'e'):\n",
        "        print(\"e\",end=\" \")\n",
        "    elif(i>'e' and i<'i'):\n",
        "        print(\"i\",end=\" \")\n",
        "    elif(i>'i' and i<'o'):\n",
        "        print(\"o\",end=\" \")\n",
        "    elif(i>'o' and i<'u'):\n",
        "        print(\"u\",end=\" \")\n",
        "    else:\n",
        "        print(\"a\",end=\" \")"
      ],
      "execution_count": 12,
      "outputs": [
        {
          "output_type": "stream",
          "text": [
            "enter the stringorange\n",
            "p u b o i f "
          ],
          "name": "stdout"
        }
      ]
    },
    {
      "cell_type": "markdown",
      "metadata": {
        "id": "k_DdqAgEIiUv",
        "colab_type": "text"
      },
      "source": [
        "**8**"
      ]
    },
    {
      "cell_type": "code",
      "metadata": {
        "id": "9stVFkfhId5n",
        "colab_type": "code",
        "colab": {
          "base_uri": "https://localhost:8080/",
          "height": 54
        },
        "outputId": "f2879b40-4865-4b86-bac6-6f3d29f2cee3"
      },
      "source": [
        "grade = float(input(\"enter the score to generate grade: \"))\n",
        "if(grade>=0.9 and grade<=1.0):\n",
        "  print(\"A\")\n",
        "elif(grade>=0.8 and grade<=0.89):\n",
        "  print(\"B\")\n",
        "elif(grade>=0.7 and grade<=0.79):\n",
        "  print(\"C\")\n",
        "elif(grade>=0.6 and grade<=0.69):\n",
        "  print(\"D\")\n",
        "elif(grade>=0.0 and grade<=0.59):\n",
        "  print(\"F\")\n",
        "else:\n",
        "  print(\"not valid score \")\n",
        "\n",
        "  "
      ],
      "execution_count": 15,
      "outputs": [
        {
          "output_type": "stream",
          "text": [
            "enter the score to generate grade: 0.8\n",
            "B\n"
          ],
          "name": "stdout"
        }
      ]
    },
    {
      "cell_type": "code",
      "metadata": {
        "id": "OITwU-IgKK8i",
        "colab_type": "code",
        "colab": {}
      },
      "source": [
        ""
      ],
      "execution_count": 0,
      "outputs": []
    }
  ]
}