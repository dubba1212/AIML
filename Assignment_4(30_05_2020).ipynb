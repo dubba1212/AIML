{
  "nbformat": 4,
  "nbformat_minor": 0,
  "metadata": {
    "colab": {
      "name": "Assignment 4(30-05-2020).ipynb",
      "provenance": [],
      "authorship_tag": "ABX9TyP7RBfIyJq+gnBWAf01jWeR",
      "include_colab_link": true
    },
    "kernelspec": {
      "name": "python3",
      "display_name": "Python 3"
    },
    "accelerator": "GPU"
  },
  "cells": [
    {
      "cell_type": "markdown",
      "metadata": {
        "id": "view-in-github",
        "colab_type": "text"
      },
      "source": [
        "<a href=\"https://colab.research.google.com/github/dubba1212/AIML/blob/master/Assignment_4(30_05_2020).ipynb\" target=\"_parent\"><img src=\"https://colab.research.google.com/assets/colab-badge.svg\" alt=\"Open In Colab\"/></a>"
      ]
    },
    {
      "cell_type": "markdown",
      "metadata": {
        "id": "BmzowZKw5EUB",
        "colab_type": "text"
      },
      "source": [
        "**1**\n",
        "Count the no.of words,no.of letters,no.of lines available in your file\n"
      ]
    },
    {
      "cell_type": "code",
      "metadata": {
        "id": "ugJ5T1meeCMh",
        "colab_type": "code",
        "colab": {}
      },
      "source": [
        "f = open(\"ass1.txt\",\"w\")\n",
        "s='''hi \n",
        "friends how r u\n",
        "bye'''\n",
        "f.write(s)\n",
        "f.close()"
      ],
      "execution_count": 0,
      "outputs": []
    },
    {
      "cell_type": "code",
      "metadata": {
        "id": "OGg6Q9GNNMFe",
        "colab_type": "code",
        "outputId": "8fe6bac7-1f1a-45ef-b823-964be98b3600",
        "colab": {
          "base_uri": "https://localhost:8080/",
          "height": 73
        }
      },
      "source": [
        "import os\n",
        "f = open(\"ass1.txt\",\"r\")\n",
        "data = f.read()\n",
        "print(data)\n",
        "f.close()"
      ],
      "execution_count": 0,
      "outputs": [
        {
          "output_type": "stream",
          "text": [
            "hi \n",
            "friends how r u\n",
            "bye\n"
          ],
          "name": "stdout"
        }
      ]
    },
    {
      "cell_type": "code",
      "metadata": {
        "id": "Vi56gF25NenR",
        "colab_type": "code",
        "outputId": "8aad908a-fffa-4eac-9a78-6993bb50eb16",
        "colab": {
          "base_uri": "https://localhost:8080/",
          "height": 73
        }
      },
      "source": [
        "f = open(\"ass1.txt\",\"r\")\n",
        "data = f.read()\n",
        "wc=0\n",
        "lc=0\n",
        "li=0\n",
        "data1 = data.split(\"\\n\")\n",
        "data2 =data.split()\n",
        "for i in data1:\n",
        "  li+=1\n",
        "for i in data2:\n",
        "  wc+=1\n",
        "for i in data:\n",
        "  lc+=1\n",
        "print(li)\n",
        "print(wc)\n",
        "print(lc)\n",
        "\n"
      ],
      "execution_count": 0,
      "outputs": [
        {
          "output_type": "stream",
          "text": [
            "3\n",
            "6\n",
            "23\n"
          ],
          "name": "stdout"
        }
      ]
    },
    {
      "cell_type": "markdown",
      "metadata": {
        "id": "9Yzy5ktR5-Fm",
        "colab_type": "text"
      },
      "source": [
        "**2**\n",
        "Copy the content of one file to another\n"
      ]
    },
    {
      "cell_type": "code",
      "metadata": {
        "id": "dVoMPB-T5hH4",
        "colab_type": "code",
        "outputId": "31beb733-a6db-4fd8-d4bc-78e35adb775c",
        "colab": {
          "base_uri": "https://localhost:8080/",
          "height": 73
        }
      },
      "source": [
        "f = open(\"ass1.txt\",\"r\")\n",
        "d = f.read()\n",
        "f.close()\n",
        "f = open(\"ass2.txt\",\"w\")\n",
        "f.write(d)\n",
        "f.close()\n",
        "f = open(\"ass2.txt\",\"r\")\n",
        "d2 = f.read()\n",
        "print(d2)\n",
        "f.close()"
      ],
      "execution_count": 0,
      "outputs": [
        {
          "output_type": "stream",
          "text": [
            "hi \n",
            "friends how r u\n",
            "bye\n"
          ],
          "name": "stdout"
        }
      ]
    },
    {
      "cell_type": "markdown",
      "metadata": {
        "id": "A5Sin1Fg5_2E",
        "colab_type": "text"
      },
      "source": [
        "**3**\n",
        "Display the words starting with letter 'p'"
      ]
    },
    {
      "cell_type": "code",
      "metadata": {
        "id": "u1BrnStn6Am5",
        "colab_type": "code",
        "outputId": "3db1949c-cf8b-4c79-f706-93fecc7a8d5b",
        "colab": {
          "base_uri": "https://localhost:8080/",
          "height": 73
        }
      },
      "source": [
        "s = input(\"enter the string:\")\n",
        "s = s.split()\n",
        "for i in s:\n",
        "  if(i[0]=='p' or i[0]=='P'):\n",
        "    print(i)"
      ],
      "execution_count": 0,
      "outputs": [
        {
          "output_type": "stream",
          "text": [
            "enter the string:power rangers planet saver\n",
            "power\n",
            "planet\n"
          ],
          "name": "stdout"
        }
      ]
    },
    {
      "cell_type": "markdown",
      "metadata": {
        "id": "a5x3408v6B8k",
        "colab_type": "text"
      },
      "source": [
        "**4**\n",
        "Rename and remove files\n"
      ]
    },
    {
      "cell_type": "code",
      "metadata": {
        "id": "XpkAl44OUax-",
        "colab_type": "code",
        "colab": {}
      },
      "source": [
        "f = open(\"a1.txt\",\"w\")\n",
        "f.write(\"hi\")\n",
        "f.close()"
      ],
      "execution_count": 0,
      "outputs": []
    },
    {
      "cell_type": "code",
      "metadata": {
        "id": "DxsdSe9E6CmF",
        "colab_type": "code",
        "colab": {}
      },
      "source": [
        "import os \n",
        "os.rename(\"exam.txt\",\"exam1.txt\")\n",
        "os.remove(\"a1.txt\")"
      ],
      "execution_count": 0,
      "outputs": []
    },
    {
      "cell_type": "code",
      "metadata": {
        "id": "AN6QdiLlUm3H",
        "colab_type": "code",
        "colab": {}
      },
      "source": [
        ""
      ],
      "execution_count": 0,
      "outputs": []
    },
    {
      "cell_type": "markdown",
      "metadata": {
        "id": "9Vr-Ibst6DMM",
        "colab_type": "text"
      },
      "source": [
        "**5**\n",
        "1. Create a folder \n",
        "2. Goto that folder and create 5 no.of files\n",
        "3. All the file names should be unique\n",
        "4. Add some content into the file and the content in all the files should be unique\n",
        "5. File size should be 512bits\n",
        "\n"
      ]
    },
    {
      "cell_type": "code",
      "metadata": {
        "id": "uXDw0v_z6Ds6",
        "colab_type": "code",
        "colab": {}
      },
      "source": [
        "import os\n",
        "os.mkdir(\"assignment\")"
      ],
      "execution_count": 0,
      "outputs": []
    },
    {
      "cell_type": "code",
      "metadata": {
        "id": "M7PcG203hxSl",
        "colab_type": "code",
        "colab": {}
      },
      "source": [
        "items=[\"one\",\"two\",\"three\",\"four\",\"five\"]\n",
        "for i in [\"one\",\"two\",\"three\",\"four\",\"five\"]:\n",
        "  f=open(i+\"-file.txt\",\"w\")"
      ],
      "execution_count": 0,
      "outputs": []
    },
    {
      "cell_type": "code",
      "metadata": {
        "id": "zmb9G2P7h3Eb",
        "colab_type": "code",
        "colab": {}
      },
      "source": [
        "import string\n",
        "import random\n",
        "f=open(\"one-file.txt\",\"w\")\n",
        "lower_upper_alphabet = string.ascii_letters\n",
        "for i in range(512):\n",
        "  random_letter = random.choice(lower_upper_alphabet)\n",
        "  f.write(random_letter)\n",
        "f.close()"
      ],
      "execution_count": 0,
      "outputs": []
    },
    {
      "cell_type": "code",
      "metadata": {
        "id": "T7BpbiSpkFLQ",
        "colab_type": "code",
        "colab": {}
      },
      "source": [
        "for i in [\"two\",\"three\",\"four\",\"five\"]:\n",
        "  f=open(i+\"-file.txt\",\"w\")\n",
        "  lower_upper_alphabet = string.ascii_letters\n",
        "  for i in range(512):\n",
        "    random_letter = random.choice(lower_upper_alphabet)\n",
        "    f.write(random_letter)\n",
        "\n"
      ],
      "execution_count": 0,
      "outputs": []
    },
    {
      "cell_type": "code",
      "metadata": {
        "id": "ZM8DbTiOkcg-",
        "colab_type": "code",
        "colab": {}
      },
      "source": [
        ""
      ],
      "execution_count": 0,
      "outputs": []
    }
  ]
}