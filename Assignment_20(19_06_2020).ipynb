{
  "nbformat": 4,
  "nbformat_minor": 0,
  "metadata": {
    "colab": {
      "name": "Assignment 20(19-06-2020).ipynb",
      "provenance": [],
      "authorship_tag": "ABX9TyMi8wpt3EeN/lv1RSp94qXa",
      "include_colab_link": true
    },
    "kernelspec": {
      "name": "python3",
      "display_name": "Python 3"
    }
  },
  "cells": [
    {
      "cell_type": "markdown",
      "metadata": {
        "id": "view-in-github",
        "colab_type": "text"
      },
      "source": [
        "<a href=\"https://colab.research.google.com/github/dubba1212/AIML/blob/master/Assignment_20(19_06_2020).ipynb\" target=\"_parent\"><img src=\"https://colab.research.google.com/assets/colab-badge.svg\" alt=\"Open In Colab\"/></a>"
      ]
    },
    {
      "cell_type": "markdown",
      "metadata": {
        "id": "wZGuHfn8OHgO",
        "colab_type": "text"
      },
      "source": [
        "###Raw data link:-\n",
        "https://raw.githubusercontent.com/Mounika-Kajjam/Datasets/master/company_sales_data.csv"
      ]
    },
    {
      "cell_type": "markdown",
      "metadata": {
        "id": "weuOWm67N3dW",
        "colab_type": "text"
      },
      "source": [
        "###Documentation file link:-\n",
        "https://docs.google.com/document/d/1EVxms95ukAt8_coNLpyAkXgDkBnHbMkkC2tDWtGodD4/edit?usp=sharing"
      ]
    },
    {
      "cell_type": "code",
      "metadata": {
        "id": "WDgAGPAD0P0j",
        "colab_type": "code",
        "colab": {
          "base_uri": "https://localhost:8080/",
          "height": 74
        },
        "outputId": "2d448c52-8027-4656-8d27-55d49e43936e"
      },
      "source": [
        "import pandas as pd\n",
        "import numpy as np\n",
        "import matplotlib.pyplot as plt\n",
        "import seaborn as sns"
      ],
      "execution_count": null,
      "outputs": [
        {
          "output_type": "stream",
          "text": [
            "/usr/local/lib/python3.6/dist-packages/statsmodels/tools/_testing.py:19: FutureWarning: pandas.util.testing is deprecated. Use the functions in the public API at pandas.testing instead.\n",
            "  import pandas.util.testing as tm\n"
          ],
          "name": "stderr"
        }
      ]
    },
    {
      "cell_type": "code",
      "metadata": {
        "id": "6LdwW2Kb1Q5Q",
        "colab_type": "code",
        "colab": {
          "base_uri": "https://localhost:8080/",
          "height": 426
        },
        "outputId": "6e12a4aa-c735-4bae-a105-7141b3bbcc60"
      },
      "source": [
        "df = pd.read_csv(\"https://raw.githubusercontent.com/Mounika-Kajjam/Datasets/master/company_sales_data.csv\")\n",
        "df"
      ],
      "execution_count": null,
      "outputs": [
        {
          "output_type": "execute_result",
          "data": {
            "text/html": [
              "<div>\n",
              "<style scoped>\n",
              "    .dataframe tbody tr th:only-of-type {\n",
              "        vertical-align: middle;\n",
              "    }\n",
              "\n",
              "    .dataframe tbody tr th {\n",
              "        vertical-align: top;\n",
              "    }\n",
              "\n",
              "    .dataframe thead th {\n",
              "        text-align: right;\n",
              "    }\n",
              "</style>\n",
              "<table border=\"1\" class=\"dataframe\">\n",
              "  <thead>\n",
              "    <tr style=\"text-align: right;\">\n",
              "      <th></th>\n",
              "      <th>month_number</th>\n",
              "      <th>facecream</th>\n",
              "      <th>facewash</th>\n",
              "      <th>toothpaste</th>\n",
              "      <th>bathingsoap</th>\n",
              "      <th>shampoo</th>\n",
              "      <th>moisturizer</th>\n",
              "      <th>total_units</th>\n",
              "      <th>total_profit</th>\n",
              "    </tr>\n",
              "  </thead>\n",
              "  <tbody>\n",
              "    <tr>\n",
              "      <th>0</th>\n",
              "      <td>1</td>\n",
              "      <td>2500</td>\n",
              "      <td>1500</td>\n",
              "      <td>5200</td>\n",
              "      <td>9200</td>\n",
              "      <td>1200</td>\n",
              "      <td>1500</td>\n",
              "      <td>21100</td>\n",
              "      <td>211000</td>\n",
              "    </tr>\n",
              "    <tr>\n",
              "      <th>1</th>\n",
              "      <td>2</td>\n",
              "      <td>2630</td>\n",
              "      <td>1200</td>\n",
              "      <td>5100</td>\n",
              "      <td>6100</td>\n",
              "      <td>2100</td>\n",
              "      <td>1200</td>\n",
              "      <td>18330</td>\n",
              "      <td>183300</td>\n",
              "    </tr>\n",
              "    <tr>\n",
              "      <th>2</th>\n",
              "      <td>3</td>\n",
              "      <td>2140</td>\n",
              "      <td>1340</td>\n",
              "      <td>4550</td>\n",
              "      <td>9550</td>\n",
              "      <td>3550</td>\n",
              "      <td>1340</td>\n",
              "      <td>22470</td>\n",
              "      <td>224700</td>\n",
              "    </tr>\n",
              "    <tr>\n",
              "      <th>3</th>\n",
              "      <td>4</td>\n",
              "      <td>3400</td>\n",
              "      <td>1130</td>\n",
              "      <td>5870</td>\n",
              "      <td>8870</td>\n",
              "      <td>1870</td>\n",
              "      <td>1130</td>\n",
              "      <td>22270</td>\n",
              "      <td>222700</td>\n",
              "    </tr>\n",
              "    <tr>\n",
              "      <th>4</th>\n",
              "      <td>5</td>\n",
              "      <td>3600</td>\n",
              "      <td>1740</td>\n",
              "      <td>4560</td>\n",
              "      <td>7760</td>\n",
              "      <td>1560</td>\n",
              "      <td>1740</td>\n",
              "      <td>20960</td>\n",
              "      <td>209600</td>\n",
              "    </tr>\n",
              "    <tr>\n",
              "      <th>5</th>\n",
              "      <td>6</td>\n",
              "      <td>2760</td>\n",
              "      <td>1555</td>\n",
              "      <td>4890</td>\n",
              "      <td>7490</td>\n",
              "      <td>1890</td>\n",
              "      <td>1555</td>\n",
              "      <td>20140</td>\n",
              "      <td>201400</td>\n",
              "    </tr>\n",
              "    <tr>\n",
              "      <th>6</th>\n",
              "      <td>7</td>\n",
              "      <td>2980</td>\n",
              "      <td>1120</td>\n",
              "      <td>4780</td>\n",
              "      <td>8980</td>\n",
              "      <td>1780</td>\n",
              "      <td>1120</td>\n",
              "      <td>29550</td>\n",
              "      <td>295500</td>\n",
              "    </tr>\n",
              "    <tr>\n",
              "      <th>7</th>\n",
              "      <td>8</td>\n",
              "      <td>3700</td>\n",
              "      <td>1400</td>\n",
              "      <td>5860</td>\n",
              "      <td>9960</td>\n",
              "      <td>2860</td>\n",
              "      <td>1400</td>\n",
              "      <td>36140</td>\n",
              "      <td>361400</td>\n",
              "    </tr>\n",
              "    <tr>\n",
              "      <th>8</th>\n",
              "      <td>9</td>\n",
              "      <td>3540</td>\n",
              "      <td>1780</td>\n",
              "      <td>6100</td>\n",
              "      <td>8100</td>\n",
              "      <td>2100</td>\n",
              "      <td>1780</td>\n",
              "      <td>23400</td>\n",
              "      <td>234000</td>\n",
              "    </tr>\n",
              "    <tr>\n",
              "      <th>9</th>\n",
              "      <td>10</td>\n",
              "      <td>1990</td>\n",
              "      <td>1890</td>\n",
              "      <td>8300</td>\n",
              "      <td>10300</td>\n",
              "      <td>2300</td>\n",
              "      <td>1890</td>\n",
              "      <td>26670</td>\n",
              "      <td>266700</td>\n",
              "    </tr>\n",
              "    <tr>\n",
              "      <th>10</th>\n",
              "      <td>11</td>\n",
              "      <td>2340</td>\n",
              "      <td>2100</td>\n",
              "      <td>7300</td>\n",
              "      <td>13300</td>\n",
              "      <td>2400</td>\n",
              "      <td>2100</td>\n",
              "      <td>41280</td>\n",
              "      <td>412800</td>\n",
              "    </tr>\n",
              "    <tr>\n",
              "      <th>11</th>\n",
              "      <td>12</td>\n",
              "      <td>2900</td>\n",
              "      <td>1760</td>\n",
              "      <td>7400</td>\n",
              "      <td>14400</td>\n",
              "      <td>1800</td>\n",
              "      <td>1760</td>\n",
              "      <td>30020</td>\n",
              "      <td>300200</td>\n",
              "    </tr>\n",
              "  </tbody>\n",
              "</table>\n",
              "</div>"
            ],
            "text/plain": [
              "    month_number  facecream  facewash  ...  moisturizer  total_units  total_profit\n",
              "0              1       2500      1500  ...         1500        21100        211000\n",
              "1              2       2630      1200  ...         1200        18330        183300\n",
              "2              3       2140      1340  ...         1340        22470        224700\n",
              "3              4       3400      1130  ...         1130        22270        222700\n",
              "4              5       3600      1740  ...         1740        20960        209600\n",
              "5              6       2760      1555  ...         1555        20140        201400\n",
              "6              7       2980      1120  ...         1120        29550        295500\n",
              "7              8       3700      1400  ...         1400        36140        361400\n",
              "8              9       3540      1780  ...         1780        23400        234000\n",
              "9             10       1990      1890  ...         1890        26670        266700\n",
              "10            11       2340      2100  ...         2100        41280        412800\n",
              "11            12       2900      1760  ...         1760        30020        300200\n",
              "\n",
              "[12 rows x 9 columns]"
            ]
          },
          "metadata": {
            "tags": []
          },
          "execution_count": 2
        }
      ]
    },
    {
      "cell_type": "markdown",
      "metadata": {
        "id": "Lo8uMpVzKVj2",
        "colab_type": "text"
      },
      "source": [
        "###1.Get the basic description from the data"
      ]
    },
    {
      "cell_type": "code",
      "metadata": {
        "id": "MK1yHZXM1dJw",
        "colab_type": "code",
        "colab": {
          "base_uri": "https://localhost:8080/",
          "height": 300
        },
        "outputId": "eb3ccaec-f68f-4596-99a9-e08cdcca3f98"
      },
      "source": [
        "df.describe()"
      ],
      "execution_count": null,
      "outputs": [
        {
          "output_type": "execute_result",
          "data": {
            "text/html": [
              "<div>\n",
              "<style scoped>\n",
              "    .dataframe tbody tr th:only-of-type {\n",
              "        vertical-align: middle;\n",
              "    }\n",
              "\n",
              "    .dataframe tbody tr th {\n",
              "        vertical-align: top;\n",
              "    }\n",
              "\n",
              "    .dataframe thead th {\n",
              "        text-align: right;\n",
              "    }\n",
              "</style>\n",
              "<table border=\"1\" class=\"dataframe\">\n",
              "  <thead>\n",
              "    <tr style=\"text-align: right;\">\n",
              "      <th></th>\n",
              "      <th>month_number</th>\n",
              "      <th>facecream</th>\n",
              "      <th>facewash</th>\n",
              "      <th>toothpaste</th>\n",
              "      <th>bathingsoap</th>\n",
              "      <th>shampoo</th>\n",
              "      <th>moisturizer</th>\n",
              "      <th>total_units</th>\n",
              "      <th>total_profit</th>\n",
              "    </tr>\n",
              "  </thead>\n",
              "  <tbody>\n",
              "    <tr>\n",
              "      <th>count</th>\n",
              "      <td>12.000000</td>\n",
              "      <td>12.000000</td>\n",
              "      <td>12.000000</td>\n",
              "      <td>12.000000</td>\n",
              "      <td>12.000000</td>\n",
              "      <td>12.000000</td>\n",
              "      <td>12.000000</td>\n",
              "      <td>12.00000</td>\n",
              "      <td>12.000000</td>\n",
              "    </tr>\n",
              "    <tr>\n",
              "      <th>mean</th>\n",
              "      <td>6.500000</td>\n",
              "      <td>2873.333333</td>\n",
              "      <td>1542.916667</td>\n",
              "      <td>5825.833333</td>\n",
              "      <td>9500.833333</td>\n",
              "      <td>2117.500000</td>\n",
              "      <td>1542.916667</td>\n",
              "      <td>26027.50000</td>\n",
              "      <td>260275.000000</td>\n",
              "    </tr>\n",
              "    <tr>\n",
              "      <th>std</th>\n",
              "      <td>3.605551</td>\n",
              "      <td>584.595172</td>\n",
              "      <td>316.733745</td>\n",
              "      <td>1242.032486</td>\n",
              "      <td>2348.095779</td>\n",
              "      <td>617.724931</td>\n",
              "      <td>316.733745</td>\n",
              "      <td>7014.36594</td>\n",
              "      <td>70143.659404</td>\n",
              "    </tr>\n",
              "    <tr>\n",
              "      <th>min</th>\n",
              "      <td>1.000000</td>\n",
              "      <td>1990.000000</td>\n",
              "      <td>1120.000000</td>\n",
              "      <td>4550.000000</td>\n",
              "      <td>6100.000000</td>\n",
              "      <td>1200.000000</td>\n",
              "      <td>1120.000000</td>\n",
              "      <td>18330.00000</td>\n",
              "      <td>183300.000000</td>\n",
              "    </tr>\n",
              "    <tr>\n",
              "      <th>25%</th>\n",
              "      <td>3.750000</td>\n",
              "      <td>2460.000000</td>\n",
              "      <td>1305.000000</td>\n",
              "      <td>4862.500000</td>\n",
              "      <td>8015.000000</td>\n",
              "      <td>1795.000000</td>\n",
              "      <td>1305.000000</td>\n",
              "      <td>21065.00000</td>\n",
              "      <td>210650.000000</td>\n",
              "    </tr>\n",
              "    <tr>\n",
              "      <th>50%</th>\n",
              "      <td>6.500000</td>\n",
              "      <td>2830.000000</td>\n",
              "      <td>1527.500000</td>\n",
              "      <td>5530.000000</td>\n",
              "      <td>9090.000000</td>\n",
              "      <td>1995.000000</td>\n",
              "      <td>1527.500000</td>\n",
              "      <td>22935.00000</td>\n",
              "      <td>229350.000000</td>\n",
              "    </tr>\n",
              "    <tr>\n",
              "      <th>75%</th>\n",
              "      <td>9.250000</td>\n",
              "      <td>3435.000000</td>\n",
              "      <td>1765.000000</td>\n",
              "      <td>6400.000000</td>\n",
              "      <td>10045.000000</td>\n",
              "      <td>2325.000000</td>\n",
              "      <td>1765.000000</td>\n",
              "      <td>29667.50000</td>\n",
              "      <td>296675.000000</td>\n",
              "    </tr>\n",
              "    <tr>\n",
              "      <th>max</th>\n",
              "      <td>12.000000</td>\n",
              "      <td>3700.000000</td>\n",
              "      <td>2100.000000</td>\n",
              "      <td>8300.000000</td>\n",
              "      <td>14400.000000</td>\n",
              "      <td>3550.000000</td>\n",
              "      <td>2100.000000</td>\n",
              "      <td>41280.00000</td>\n",
              "      <td>412800.000000</td>\n",
              "    </tr>\n",
              "  </tbody>\n",
              "</table>\n",
              "</div>"
            ],
            "text/plain": [
              "       month_number    facecream  ...  total_units   total_profit\n",
              "count     12.000000    12.000000  ...     12.00000      12.000000\n",
              "mean       6.500000  2873.333333  ...  26027.50000  260275.000000\n",
              "std        3.605551   584.595172  ...   7014.36594   70143.659404\n",
              "min        1.000000  1990.000000  ...  18330.00000  183300.000000\n",
              "25%        3.750000  2460.000000  ...  21065.00000  210650.000000\n",
              "50%        6.500000  2830.000000  ...  22935.00000  229350.000000\n",
              "75%        9.250000  3435.000000  ...  29667.50000  296675.000000\n",
              "max       12.000000  3700.000000  ...  41280.00000  412800.000000\n",
              "\n",
              "[8 rows x 9 columns]"
            ]
          },
          "metadata": {
            "tags": []
          },
          "execution_count": 3
        }
      ]
    },
    {
      "cell_type": "code",
      "metadata": {
        "id": "H57Y2x3ZPQSe",
        "colab_type": "code",
        "colab": {
          "base_uri": "https://localhost:8080/",
          "height": 313
        },
        "outputId": "c1a48ba6-884c-4fbe-a320-b6e1108174fa"
      },
      "source": [
        "df.info()"
      ],
      "execution_count": 80,
      "outputs": [
        {
          "output_type": "stream",
          "text": [
            "<class 'pandas.core.frame.DataFrame'>\n",
            "RangeIndex: 12 entries, 0 to 11\n",
            "Data columns (total 9 columns):\n",
            " #   Column        Non-Null Count  Dtype\n",
            "---  ------        --------------  -----\n",
            " 0   month_number  12 non-null     int64\n",
            " 1   facecream     12 non-null     int64\n",
            " 2   facewash      12 non-null     int64\n",
            " 3   toothpaste    12 non-null     int64\n",
            " 4   bathingsoap   12 non-null     int64\n",
            " 5   shampoo       12 non-null     int64\n",
            " 6   moisturizer   12 non-null     int64\n",
            " 7   total_units   12 non-null     int64\n",
            " 8   total_profit  12 non-null     int64\n",
            "dtypes: int64(9)\n",
            "memory usage: 992.0 bytes\n"
          ],
          "name": "stdout"
        }
      ]
    },
    {
      "cell_type": "markdown",
      "metadata": {
        "id": "rzwoT2EyKYpl",
        "colab_type": "text"
      },
      "source": [
        "###2.Get total profit of all months and show line plot with the following style properties. Generated line plot must include following style properties: –\n",
        "- Line Style dotted and Line-color should be red\n",
        "- Show legend at the lower right location.\n",
        "- X label name = month number\n",
        "- Y label name = sold units number\n",
        "- Add a circle marker.\n",
        "- Line marker color as read\n",
        "- Line width should be 3\n"
      ]
    },
    {
      "cell_type": "code",
      "metadata": {
        "id": "7vz5HaVcDSbo",
        "colab_type": "code",
        "colab": {
          "base_uri": "https://localhost:8080/",
          "height": 279
        },
        "outputId": "a9a08884-40db-4193-c111-ace6694a3f15"
      },
      "source": [
        "plt.xlabel(\" month number\")\n",
        "plt.ylabel(\"sold units number\")\n",
        "plt.plot(df['total_profit'])\n",
        "plt.show()"
      ],
      "execution_count": null,
      "outputs": [
        {
          "output_type": "display_data",
          "data": {
            "image/png": "[encoded data removed]",
            "text/plain": [
              "<Figure size 432x288 with 1 Axes>"
            ]
          },
          "metadata": {
            "tags": [],
            "needs_background": "light"
          }
        }
      ]
    },
    {
      "cell_type": "code",
      "metadata": {
        "id": "WiP-XBR01_nL",
        "colab_type": "code",
        "colab": {
          "base_uri": "https://localhost:8080/",
          "height": 313
        },
        "outputId": "8073030c-0ace-4ab2-8bb2-c06589e002b0"
      },
      "source": [
        "plt.xlabel(\" month number\")\n",
        "plt.ylabel(\"sold units number\")\n",
        "plt.plot(df['total_profit'],color=\"red\",linewidth=3,linestyle=\"-.\",marker='o')\n",
        "plt.legend(loc='lower right')\n",
        "plt.title('Company Sales data of last year')\n",
        "plt.show()"
      ],
      "execution_count": null,
      "outputs": [
        {
          "output_type": "stream",
          "text": [
            "No handles with labels found to put in legend.\n"
          ],
          "name": "stderr"
        },
        {
          "output_type": "display_data",
          "data": {
            "image/png": "[encoded data removed]",
            "text/plain": [
              "<Figure size 432x288 with 1 Axes>"
            ]
          },
          "metadata": {
            "tags": [],
            "needs_background": "light"
          }
        }
      ]
    },
    {
      "cell_type": "markdown",
      "metadata": {
        "id": "5bQ-dzPeKk-7",
        "colab_type": "text"
      },
      "source": [
        "###3.Read all product sales data and show it using a multi line plot\n"
      ]
    },
    {
      "cell_type": "code",
      "metadata": {
        "id": "rr4TgvGl4IUK",
        "colab_type": "code",
        "colab": {
          "base_uri": "https://localhost:8080/",
          "height": 279
        },
        "outputId": "3fe0df29-70c8-455b-c61a-1f77a6514699"
      },
      "source": [
        "plt.plot(df ['month_number'].tolist(),df['facecream'],label='facecream',marker='o',linewidth=3)\n",
        "plt.plot(df ['month_number'].tolist(),df['facewash'],label='facewash',linewidth=3,marker='o')\n",
        "plt.plot(df ['month_number'].tolist(),df['toothpaste'],label='toothpaste',linewidth=3,marker='o')\n",
        "plt.plot(df ['month_number'].tolist(),df['bathingsoap'],label='bathingsoap',linewidth=3,marker='o')\n",
        "plt.plot(df ['month_number'].tolist(),df['shampoo'],label='shampoo',linewidth=3,marker='o')\n",
        "plt.plot(df ['month_number'].tolist(),df['moisturizer'],label='moisturizer',linewidth=3,marker='o')\n",
        "#plt.plot(df['total_units'],label='total_units',linewidth=3)\n",
        "#plt.plot(df['total_profit'],label='total_profit',linewidth=3)\n",
        "plt.xlabel(\"month number\")\n",
        "plt.ylabel(\"sold units number\")\n",
        "plt.legend(loc='upper left')\n",
        "plt.grid()\n",
        "plt.show()"
      ],
      "execution_count": null,
      "outputs": [
        {
          "output_type": "display_data",
          "data": {
            "image/png": "[encoded data removed]",
            "text/plain": [
              "<Figure size 432x288 with 1 Axes>"
            ]
          },
          "metadata": {
            "tags": [],
            "needs_background": "light"
          }
        }
      ]
    },
    {
      "cell_type": "markdown",
      "metadata": {
        "id": "GcOUvLxTKpQH",
        "colab_type": "text"
      },
      "source": [
        "###4.Read toothpaste sales data of each month and show it using a scatter plot\n"
      ]
    },
    {
      "cell_type": "code",
      "metadata": {
        "id": "HbXF0D9m5yV-",
        "colab_type": "code",
        "colab": {
          "base_uri": "https://localhost:8080/",
          "height": 297
        },
        "outputId": "999c2294-ba40-4742-dbab-faefef4a07bb"
      },
      "source": [
        "plt.xlabel(\"month number\")\n",
        "plt.ylabel(\"sold units number\")\n",
        "plt.scatter(df['month_number'],df['toothpaste'],color=\"red\")\n",
        "plt.legend(loc='upper left')\n",
        "plt.grid()\n",
        "plt.show()"
      ],
      "execution_count": null,
      "outputs": [
        {
          "output_type": "stream",
          "text": [
            "No handles with labels found to put in legend.\n"
          ],
          "name": "stderr"
        },
        {
          "output_type": "display_data",
          "data": {
            "image/png": "[encoded data removed]",
            "text/plain": [
              "<Figure size 432x288 with 1 Axes>"
            ]
          },
          "metadata": {
            "tags": [],
            "needs_background": "light"
          }
        }
      ]
    },
    {
      "cell_type": "markdown",
      "metadata": {
        "id": "jxIEKUglKrJa",
        "colab_type": "text"
      },
      "source": [
        "###5.Read face cream and face wash product sales data and show it using the bar chart\n"
      ]
    },
    {
      "cell_type": "code",
      "metadata": {
        "id": "aqqAkb_G9sZQ",
        "colab_type": "code",
        "colab": {
          "base_uri": "https://localhost:8080/",
          "height": 279
        },
        "outputId": "59f5bd85-4b99-4f0f-f69c-a4f501554088"
      },
      "source": [
        "plt.xlabel(\"facecream\")\n",
        "plt.ylabel(\"facewash\")\n",
        "plt.bar([a-0.25 for a in df['month_number']],df['facecream'],\n",
        "        width= 0.25, label = 'Face Cream sales data', align='edge')\n",
        "plt.bar([a+0.25 for a in df['month_number']],df['facewash'], \n",
        "        width= -0.25, label = 'Face Wash sales data', align='edge')\n",
        "plt.legend(loc='upper left')\n",
        "plt.show()"
      ],
      "execution_count": null,
      "outputs": [
        {
          "output_type": "display_data",
          "data": {
            "image/png": "[encoded data removed]",
            "text/plain": [
              "<Figure size 432x288 with 1 Axes>"
            ]
          },
          "metadata": {
            "tags": [],
            "needs_background": "light"
          }
        }
      ]
    },
    {
      "cell_type": "markdown",
      "metadata": {
        "id": "0YzOH1vxKvxn",
        "colab_type": "text"
      },
      "source": [
        "###6.Read Bathing soap, face wash of all months and display it using the Subplot\n"
      ]
    },
    {
      "cell_type": "code",
      "metadata": {
        "id": "hB8SXDHZ_KsI",
        "colab_type": "code",
        "colab": {
          "base_uri": "https://localhost:8080/",
          "height": 295
        },
        "outputId": "76151ad8-8a42-4da3-f543-f96678e45700"
      },
      "source": [
        "fig,a = plt.subplots(2, sharex=True)\n",
        "a[0].plot(df['month_number'],df['bathingsoap'],color='red',linewidth=3)\n",
        "a[0].set_title('bathingsoap')\n",
        "a[1].plot(df['month_number'],df['facewash'],color='green',linewidth=3)\n",
        "a[1].set_title('facewash')\n",
        "plt.xlabel(\"month number\")\n",
        "plt.ylabel(\"sold units number\")\n",
        "plt.show()"
      ],
      "execution_count": 74,
      "outputs": [
        {
          "output_type": "display_data",
          "data": {
            "image/png": "[encoded data removed]",
            "text/plain": [
              "<Figure size 432x288 with 2 Axes>"
            ]
          },
          "metadata": {
            "tags": [],
            "needs_background": "light"
          }
        }
      ]
    },
    {
      "cell_type": "markdown",
      "metadata": {
        "id": "_O08didJKzgl",
        "colab_type": "text"
      },
      "source": [
        "###7.Read the total profit of each month and show it using the histogram to see most common profit ranges \n"
      ]
    },
    {
      "cell_type": "code",
      "metadata": {
        "id": "aoMxFCmnBr8S",
        "colab_type": "code",
        "colab": {
          "base_uri": "https://localhost:8080/",
          "height": 295
        },
        "outputId": "2916cb87-6e49-49e3-b9a2-60774c8af912"
      },
      "source": [
        "labels = ['low', 'average', 'Good', 'Best']\n",
        "profit_range = [150000, 175000, 200000, 225000, 250000, 300000, 350000]\n",
        "plt.hist(df ['total_profit'].tolist(), profit_range, label = 'Profit data',color='red')\n",
        "plt.xlabel('profit range in dollar')\n",
        "plt.ylabel('Actual Profit in dollar')\n",
        "plt.legend(loc='upper left')\n",
        "plt.title('Profit data')\n",
        "plt.show()"
      ],
      "execution_count": 79,
      "outputs": [
        {
          "output_type": "display_data",
          "data": {
            "image/png": "[encoded data removed]",
            "text/plain": [
              "<Figure size 432x288 with 1 Axes>"
            ]
          },
          "metadata": {
            "tags": [],
            "needs_background": "light"
          }
        }
      ]
    },
    {
      "cell_type": "code",
      "metadata": {
        "id": "taMeIgDrLRw7",
        "colab_type": "code",
        "colab": {}
      },
      "source": [
        ""
      ],
      "execution_count": null,
      "outputs": []
    }
  ]
}