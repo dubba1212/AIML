{
  "nbformat": 4,
  "nbformat_minor": 0,
  "metadata": {
    "colab": {
      "name": "DAY 31(30-06-2020) & DAY 32(1-07-2020).ipynb",
      "provenance": [],
      "authorship_tag": "ABX9TyPW5idXsGGPMKRO/rRQa18x",
      "include_colab_link": true
    },
    "kernelspec": {
      "name": "python3",
      "display_name": "Python 3"
    }
  },
  "cells": [
    {
      "cell_type": "markdown",
      "metadata": {
        "id": "view-in-github",
        "colab_type": "text"
      },
      "source": [
        "<a href=\"https://colab.research.google.com/github/dubba1212/AIML/blob/master/DAY_31(30_06_2020)_%26_DAY_32(1_07_2020).ipynb\" target=\"_parent\"><img src=\"https://colab.research.google.com/assets/colab-badge.svg\" alt=\"Open In Colab\"/></a>"
      ]
    },
    {
      "cell_type": "markdown",
      "metadata": {
        "id": "Lju5wBTMZHwU",
        "colab_type": "text"
      },
      "source": [
        "**Problem Statement**\n",
        "\n",
        "The problem that we are going to solve here is that given a set of features that describe a tumour whether it is Malignant or Benign, our machine learning model must predict whether the tumour is Malignant or Benign. To train our machine learning model with tumour data, we will be using [SCLCData](https://raw.githubusercontent.com/Mounika-Kajjam/Datasets/master/wbcd.csv)\n"
      ]
    },
    {
      "cell_type": "code",
      "metadata": {
        "id": "ft1bwpfwZQY1",
        "colab_type": "code",
        "colab": {
          "base_uri": "https://localhost:8080/",
          "height": 74
        },
        "outputId": "8aeff034-b839-44c9-bb0d-02bf405d17fc"
      },
      "source": [
        "import pandas as pd\n",
        "import numpy as np \n",
        "import seaborn as sns\n",
        "import matplotlib.pyplot as plt"
      ],
      "execution_count": 1,
      "outputs": [
        {
          "output_type": "stream",
          "text": [
            "/usr/local/lib/python3.6/dist-packages/statsmodels/tools/_testing.py:19: FutureWarning: pandas.util.testing is deprecated. Use the functions in the public API at pandas.testing instead.\n",
            "  import pandas.util.testing as tm\n"
          ],
          "name": "stderr"
        }
      ]
    },
    {
      "cell_type": "code",
      "metadata": {
        "id": "LqtzLUqqUPLH",
        "colab_type": "code",
        "colab": {
          "base_uri": "https://localhost:8080/",
          "height": 226
        },
        "outputId": "5f5e7515-b0ee-4b0d-d22c-84ab36a5ee2b"
      },
      "source": [
        "data = pd.read_csv(\"https://raw.githubusercontent.com/Mounika-Kajjam/Datasets/master/wbcd.csv\")\n",
        "data.head()"
      ],
      "execution_count": 2,
      "outputs": [
        {
          "output_type": "execute_result",
          "data": {
            "text/html": [
              "<div>\n",
              "<style scoped>\n",
              "    .dataframe tbody tr th:only-of-type {\n",
              "        vertical-align: middle;\n",
              "    }\n",
              "\n",
              "    .dataframe tbody tr th {\n",
              "        vertical-align: top;\n",
              "    }\n",
              "\n",
              "    .dataframe thead th {\n",
              "        text-align: right;\n",
              "    }\n",
              "</style>\n",
              "<table border=\"1\" class=\"dataframe\">\n",
              "  <thead>\n",
              "    <tr style=\"text-align: right;\">\n",
              "      <th></th>\n",
              "      <th>id</th>\n",
              "      <th>diagnosis</th>\n",
              "      <th>radius_mean</th>\n",
              "      <th>texture_mean</th>\n",
              "      <th>perimeter_mean</th>\n",
              "      <th>area_mean</th>\n",
              "      <th>smoothness_mean</th>\n",
              "      <th>compactness_mean</th>\n",
              "      <th>concavity_mean</th>\n",
              "      <th>points_mean</th>\n",
              "      <th>symmetry_mean</th>\n",
              "      <th>dimension_mean</th>\n",
              "      <th>radius_se</th>\n",
              "      <th>texture_se</th>\n",
              "      <th>perimeter_se</th>\n",
              "      <th>area_se</th>\n",
              "      <th>smoothness_se</th>\n",
              "      <th>compactness_se</th>\n",
              "      <th>concavity_se</th>\n",
              "      <th>points_se</th>\n",
              "      <th>symmetry_se</th>\n",
              "      <th>dimension_se</th>\n",
              "      <th>radius_worst</th>\n",
              "      <th>texture_worst</th>\n",
              "      <th>perimeter_worst</th>\n",
              "      <th>area_worst</th>\n",
              "      <th>smoothness_worst</th>\n",
              "      <th>compactness_worst</th>\n",
              "      <th>concavity_worst</th>\n",
              "      <th>points_worst</th>\n",
              "      <th>symmetry_worst</th>\n",
              "      <th>dimension_worst</th>\n",
              "    </tr>\n",
              "  </thead>\n",
              "  <tbody>\n",
              "    <tr>\n",
              "      <th>0</th>\n",
              "      <td>87139402</td>\n",
              "      <td>B</td>\n",
              "      <td>12.32</td>\n",
              "      <td>12.39</td>\n",
              "      <td>78.85</td>\n",
              "      <td>464.1</td>\n",
              "      <td>0.10280</td>\n",
              "      <td>0.06981</td>\n",
              "      <td>0.03987</td>\n",
              "      <td>0.03700</td>\n",
              "      <td>0.1959</td>\n",
              "      <td>0.05955</td>\n",
              "      <td>0.2360</td>\n",
              "      <td>0.6656</td>\n",
              "      <td>1.670</td>\n",
              "      <td>17.43</td>\n",
              "      <td>0.008045</td>\n",
              "      <td>0.011800</td>\n",
              "      <td>0.01683</td>\n",
              "      <td>0.012410</td>\n",
              "      <td>0.01924</td>\n",
              "      <td>0.002248</td>\n",
              "      <td>13.50</td>\n",
              "      <td>15.64</td>\n",
              "      <td>86.97</td>\n",
              "      <td>549.1</td>\n",
              "      <td>0.1385</td>\n",
              "      <td>0.1266</td>\n",
              "      <td>0.12420</td>\n",
              "      <td>0.09391</td>\n",
              "      <td>0.2827</td>\n",
              "      <td>0.06771</td>\n",
              "    </tr>\n",
              "    <tr>\n",
              "      <th>1</th>\n",
              "      <td>8910251</td>\n",
              "      <td>B</td>\n",
              "      <td>10.60</td>\n",
              "      <td>18.95</td>\n",
              "      <td>69.28</td>\n",
              "      <td>346.4</td>\n",
              "      <td>0.09688</td>\n",
              "      <td>0.11470</td>\n",
              "      <td>0.06387</td>\n",
              "      <td>0.02642</td>\n",
              "      <td>0.1922</td>\n",
              "      <td>0.06491</td>\n",
              "      <td>0.4505</td>\n",
              "      <td>1.1970</td>\n",
              "      <td>3.430</td>\n",
              "      <td>27.10</td>\n",
              "      <td>0.007470</td>\n",
              "      <td>0.035810</td>\n",
              "      <td>0.03354</td>\n",
              "      <td>0.013650</td>\n",
              "      <td>0.03504</td>\n",
              "      <td>0.003318</td>\n",
              "      <td>11.88</td>\n",
              "      <td>22.94</td>\n",
              "      <td>78.28</td>\n",
              "      <td>424.8</td>\n",
              "      <td>0.1213</td>\n",
              "      <td>0.2515</td>\n",
              "      <td>0.19160</td>\n",
              "      <td>0.07926</td>\n",
              "      <td>0.2940</td>\n",
              "      <td>0.07587</td>\n",
              "    </tr>\n",
              "    <tr>\n",
              "      <th>2</th>\n",
              "      <td>905520</td>\n",
              "      <td>B</td>\n",
              "      <td>11.04</td>\n",
              "      <td>16.83</td>\n",
              "      <td>70.92</td>\n",
              "      <td>373.2</td>\n",
              "      <td>0.10770</td>\n",
              "      <td>0.07804</td>\n",
              "      <td>0.03046</td>\n",
              "      <td>0.02480</td>\n",
              "      <td>0.1714</td>\n",
              "      <td>0.06340</td>\n",
              "      <td>0.1967</td>\n",
              "      <td>1.3870</td>\n",
              "      <td>1.342</td>\n",
              "      <td>13.54</td>\n",
              "      <td>0.005158</td>\n",
              "      <td>0.009355</td>\n",
              "      <td>0.01056</td>\n",
              "      <td>0.007483</td>\n",
              "      <td>0.01718</td>\n",
              "      <td>0.002198</td>\n",
              "      <td>12.41</td>\n",
              "      <td>26.44</td>\n",
              "      <td>79.93</td>\n",
              "      <td>471.4</td>\n",
              "      <td>0.1369</td>\n",
              "      <td>0.1482</td>\n",
              "      <td>0.10670</td>\n",
              "      <td>0.07431</td>\n",
              "      <td>0.2998</td>\n",
              "      <td>0.07881</td>\n",
              "    </tr>\n",
              "    <tr>\n",
              "      <th>3</th>\n",
              "      <td>868871</td>\n",
              "      <td>B</td>\n",
              "      <td>11.28</td>\n",
              "      <td>13.39</td>\n",
              "      <td>73.00</td>\n",
              "      <td>384.8</td>\n",
              "      <td>0.11640</td>\n",
              "      <td>0.11360</td>\n",
              "      <td>0.04635</td>\n",
              "      <td>0.04796</td>\n",
              "      <td>0.1771</td>\n",
              "      <td>0.06072</td>\n",
              "      <td>0.3384</td>\n",
              "      <td>1.3430</td>\n",
              "      <td>1.851</td>\n",
              "      <td>26.33</td>\n",
              "      <td>0.011270</td>\n",
              "      <td>0.034980</td>\n",
              "      <td>0.02187</td>\n",
              "      <td>0.019650</td>\n",
              "      <td>0.01580</td>\n",
              "      <td>0.003442</td>\n",
              "      <td>11.92</td>\n",
              "      <td>15.77</td>\n",
              "      <td>76.53</td>\n",
              "      <td>434.0</td>\n",
              "      <td>0.1367</td>\n",
              "      <td>0.1822</td>\n",
              "      <td>0.08669</td>\n",
              "      <td>0.08611</td>\n",
              "      <td>0.2102</td>\n",
              "      <td>0.06784</td>\n",
              "    </tr>\n",
              "    <tr>\n",
              "      <th>4</th>\n",
              "      <td>9012568</td>\n",
              "      <td>B</td>\n",
              "      <td>15.19</td>\n",
              "      <td>13.21</td>\n",
              "      <td>97.65</td>\n",
              "      <td>711.8</td>\n",
              "      <td>0.07963</td>\n",
              "      <td>0.06934</td>\n",
              "      <td>0.03393</td>\n",
              "      <td>0.02657</td>\n",
              "      <td>0.1721</td>\n",
              "      <td>0.05544</td>\n",
              "      <td>0.1783</td>\n",
              "      <td>0.4125</td>\n",
              "      <td>1.338</td>\n",
              "      <td>17.72</td>\n",
              "      <td>0.005012</td>\n",
              "      <td>0.014850</td>\n",
              "      <td>0.01551</td>\n",
              "      <td>0.009155</td>\n",
              "      <td>0.01647</td>\n",
              "      <td>0.001767</td>\n",
              "      <td>16.20</td>\n",
              "      <td>15.73</td>\n",
              "      <td>104.50</td>\n",
              "      <td>819.1</td>\n",
              "      <td>0.1126</td>\n",
              "      <td>0.1737</td>\n",
              "      <td>0.13620</td>\n",
              "      <td>0.08178</td>\n",
              "      <td>0.2487</td>\n",
              "      <td>0.06766</td>\n",
              "    </tr>\n",
              "  </tbody>\n",
              "</table>\n",
              "</div>"
            ],
            "text/plain": [
              "         id diagnosis  ...  symmetry_worst  dimension_worst\n",
              "0  87139402         B  ...          0.2827          0.06771\n",
              "1   8910251         B  ...          0.2940          0.07587\n",
              "2    905520         B  ...          0.2998          0.07881\n",
              "3    868871         B  ...          0.2102          0.06784\n",
              "4   9012568         B  ...          0.2487          0.06766\n",
              "\n",
              "[5 rows x 32 columns]"
            ]
          },
          "metadata": {
            "tags": []
          },
          "execution_count": 2
        }
      ]
    },
    {
      "cell_type": "code",
      "metadata": {
        "id": "2huPbXtxZh1f",
        "colab_type": "code",
        "colab": {
          "base_uri": "https://localhost:8080/",
          "height": 35
        },
        "outputId": "60db6b78-1e1e-4fb3-c642-e90bc589519f"
      },
      "source": [
        "data.shape"
      ],
      "execution_count": 3,
      "outputs": [
        {
          "output_type": "execute_result",
          "data": {
            "text/plain": [
              "(569, 32)"
            ]
          },
          "metadata": {
            "tags": []
          },
          "execution_count": 3
        }
      ]
    },
    {
      "cell_type": "code",
      "metadata": {
        "id": "2EDzZtTNZkI3",
        "colab_type": "code",
        "colab": {
          "base_uri": "https://localhost:8080/",
          "height": 239
        },
        "outputId": "0ad7fd5c-4c9f-4ceb-efd0-beadc85b6e77"
      },
      "source": [
        "data.diagnosis.value_counts"
      ],
      "execution_count": 4,
      "outputs": [
        {
          "output_type": "execute_result",
          "data": {
            "text/plain": [
              "<bound method IndexOpsMixin.value_counts of 0      B\n",
              "1      B\n",
              "2      B\n",
              "3      B\n",
              "4      B\n",
              "      ..\n",
              "564    B\n",
              "565    B\n",
              "566    M\n",
              "567    B\n",
              "568    M\n",
              "Name: diagnosis, Length: 569, dtype: object>"
            ]
          },
          "metadata": {
            "tags": []
          },
          "execution_count": 4
        }
      ]
    },
    {
      "cell_type": "code",
      "metadata": {
        "id": "wXGkmHSfZvbV",
        "colab_type": "code",
        "colab": {
          "base_uri": "https://localhost:8080/",
          "height": 627
        },
        "outputId": "13d76afc-fb45-4ec7-b462-1d8ef3217a53"
      },
      "source": [
        "data.isnull().sum()"
      ],
      "execution_count": 5,
      "outputs": [
        {
          "output_type": "execute_result",
          "data": {
            "text/plain": [
              "id                   0\n",
              "diagnosis            0\n",
              "radius_mean          0\n",
              "texture_mean         0\n",
              "perimeter_mean       0\n",
              "area_mean            0\n",
              "smoothness_mean      0\n",
              "compactness_mean     0\n",
              "concavity_mean       0\n",
              "points_mean          0\n",
              "symmetry_mean        0\n",
              "dimension_mean       0\n",
              "radius_se            0\n",
              "texture_se           0\n",
              "perimeter_se         0\n",
              "area_se              0\n",
              "smoothness_se        0\n",
              "compactness_se       0\n",
              "concavity_se         0\n",
              "points_se            0\n",
              "symmetry_se          0\n",
              "dimension_se         0\n",
              "radius_worst         0\n",
              "texture_worst        0\n",
              "perimeter_worst      0\n",
              "area_worst           0\n",
              "smoothness_worst     0\n",
              "compactness_worst    0\n",
              "concavity_worst      0\n",
              "points_worst         0\n",
              "symmetry_worst       0\n",
              "dimension_worst      0\n",
              "dtype: int64"
            ]
          },
          "metadata": {
            "tags": []
          },
          "execution_count": 5
        }
      ]
    },
    {
      "cell_type": "code",
      "metadata": {
        "id": "v0yYBVSUZuTx",
        "colab_type": "code",
        "colab": {
          "base_uri": "https://localhost:8080/",
          "height": 226
        },
        "outputId": "718fb7a7-1d1a-4a8f-ad2a-58fa051ffa43"
      },
      "source": [
        "#preparing input and output\n",
        "#Drop id and diagnosis\n",
        "X = data.drop(['id','diagnosis'],axis=1)\n",
        "X.head()"
      ],
      "execution_count": 6,
      "outputs": [
        {
          "output_type": "execute_result",
          "data": {
            "text/html": [
              "<div>\n",
              "<style scoped>\n",
              "    .dataframe tbody tr th:only-of-type {\n",
              "        vertical-align: middle;\n",
              "    }\n",
              "\n",
              "    .dataframe tbody tr th {\n",
              "        vertical-align: top;\n",
              "    }\n",
              "\n",
              "    .dataframe thead th {\n",
              "        text-align: right;\n",
              "    }\n",
              "</style>\n",
              "<table border=\"1\" class=\"dataframe\">\n",
              "  <thead>\n",
              "    <tr style=\"text-align: right;\">\n",
              "      <th></th>\n",
              "      <th>radius_mean</th>\n",
              "      <th>texture_mean</th>\n",
              "      <th>perimeter_mean</th>\n",
              "      <th>area_mean</th>\n",
              "      <th>smoothness_mean</th>\n",
              "      <th>compactness_mean</th>\n",
              "      <th>concavity_mean</th>\n",
              "      <th>points_mean</th>\n",
              "      <th>symmetry_mean</th>\n",
              "      <th>dimension_mean</th>\n",
              "      <th>radius_se</th>\n",
              "      <th>texture_se</th>\n",
              "      <th>perimeter_se</th>\n",
              "      <th>area_se</th>\n",
              "      <th>smoothness_se</th>\n",
              "      <th>compactness_se</th>\n",
              "      <th>concavity_se</th>\n",
              "      <th>points_se</th>\n",
              "      <th>symmetry_se</th>\n",
              "      <th>dimension_se</th>\n",
              "      <th>radius_worst</th>\n",
              "      <th>texture_worst</th>\n",
              "      <th>perimeter_worst</th>\n",
              "      <th>area_worst</th>\n",
              "      <th>smoothness_worst</th>\n",
              "      <th>compactness_worst</th>\n",
              "      <th>concavity_worst</th>\n",
              "      <th>points_worst</th>\n",
              "      <th>symmetry_worst</th>\n",
              "      <th>dimension_worst</th>\n",
              "    </tr>\n",
              "  </thead>\n",
              "  <tbody>\n",
              "    <tr>\n",
              "      <th>0</th>\n",
              "      <td>12.32</td>\n",
              "      <td>12.39</td>\n",
              "      <td>78.85</td>\n",
              "      <td>464.1</td>\n",
              "      <td>0.10280</td>\n",
              "      <td>0.06981</td>\n",
              "      <td>0.03987</td>\n",
              "      <td>0.03700</td>\n",
              "      <td>0.1959</td>\n",
              "      <td>0.05955</td>\n",
              "      <td>0.2360</td>\n",
              "      <td>0.6656</td>\n",
              "      <td>1.670</td>\n",
              "      <td>17.43</td>\n",
              "      <td>0.008045</td>\n",
              "      <td>0.011800</td>\n",
              "      <td>0.01683</td>\n",
              "      <td>0.012410</td>\n",
              "      <td>0.01924</td>\n",
              "      <td>0.002248</td>\n",
              "      <td>13.50</td>\n",
              "      <td>15.64</td>\n",
              "      <td>86.97</td>\n",
              "      <td>549.1</td>\n",
              "      <td>0.1385</td>\n",
              "      <td>0.1266</td>\n",
              "      <td>0.12420</td>\n",
              "      <td>0.09391</td>\n",
              "      <td>0.2827</td>\n",
              "      <td>0.06771</td>\n",
              "    </tr>\n",
              "    <tr>\n",
              "      <th>1</th>\n",
              "      <td>10.60</td>\n",
              "      <td>18.95</td>\n",
              "      <td>69.28</td>\n",
              "      <td>346.4</td>\n",
              "      <td>0.09688</td>\n",
              "      <td>0.11470</td>\n",
              "      <td>0.06387</td>\n",
              "      <td>0.02642</td>\n",
              "      <td>0.1922</td>\n",
              "      <td>0.06491</td>\n",
              "      <td>0.4505</td>\n",
              "      <td>1.1970</td>\n",
              "      <td>3.430</td>\n",
              "      <td>27.10</td>\n",
              "      <td>0.007470</td>\n",
              "      <td>0.035810</td>\n",
              "      <td>0.03354</td>\n",
              "      <td>0.013650</td>\n",
              "      <td>0.03504</td>\n",
              "      <td>0.003318</td>\n",
              "      <td>11.88</td>\n",
              "      <td>22.94</td>\n",
              "      <td>78.28</td>\n",
              "      <td>424.8</td>\n",
              "      <td>0.1213</td>\n",
              "      <td>0.2515</td>\n",
              "      <td>0.19160</td>\n",
              "      <td>0.07926</td>\n",
              "      <td>0.2940</td>\n",
              "      <td>0.07587</td>\n",
              "    </tr>\n",
              "    <tr>\n",
              "      <th>2</th>\n",
              "      <td>11.04</td>\n",
              "      <td>16.83</td>\n",
              "      <td>70.92</td>\n",
              "      <td>373.2</td>\n",
              "      <td>0.10770</td>\n",
              "      <td>0.07804</td>\n",
              "      <td>0.03046</td>\n",
              "      <td>0.02480</td>\n",
              "      <td>0.1714</td>\n",
              "      <td>0.06340</td>\n",
              "      <td>0.1967</td>\n",
              "      <td>1.3870</td>\n",
              "      <td>1.342</td>\n",
              "      <td>13.54</td>\n",
              "      <td>0.005158</td>\n",
              "      <td>0.009355</td>\n",
              "      <td>0.01056</td>\n",
              "      <td>0.007483</td>\n",
              "      <td>0.01718</td>\n",
              "      <td>0.002198</td>\n",
              "      <td>12.41</td>\n",
              "      <td>26.44</td>\n",
              "      <td>79.93</td>\n",
              "      <td>471.4</td>\n",
              "      <td>0.1369</td>\n",
              "      <td>0.1482</td>\n",
              "      <td>0.10670</td>\n",
              "      <td>0.07431</td>\n",
              "      <td>0.2998</td>\n",
              "      <td>0.07881</td>\n",
              "    </tr>\n",
              "    <tr>\n",
              "      <th>3</th>\n",
              "      <td>11.28</td>\n",
              "      <td>13.39</td>\n",
              "      <td>73.00</td>\n",
              "      <td>384.8</td>\n",
              "      <td>0.11640</td>\n",
              "      <td>0.11360</td>\n",
              "      <td>0.04635</td>\n",
              "      <td>0.04796</td>\n",
              "      <td>0.1771</td>\n",
              "      <td>0.06072</td>\n",
              "      <td>0.3384</td>\n",
              "      <td>1.3430</td>\n",
              "      <td>1.851</td>\n",
              "      <td>26.33</td>\n",
              "      <td>0.011270</td>\n",
              "      <td>0.034980</td>\n",
              "      <td>0.02187</td>\n",
              "      <td>0.019650</td>\n",
              "      <td>0.01580</td>\n",
              "      <td>0.003442</td>\n",
              "      <td>11.92</td>\n",
              "      <td>15.77</td>\n",
              "      <td>76.53</td>\n",
              "      <td>434.0</td>\n",
              "      <td>0.1367</td>\n",
              "      <td>0.1822</td>\n",
              "      <td>0.08669</td>\n",
              "      <td>0.08611</td>\n",
              "      <td>0.2102</td>\n",
              "      <td>0.06784</td>\n",
              "    </tr>\n",
              "    <tr>\n",
              "      <th>4</th>\n",
              "      <td>15.19</td>\n",
              "      <td>13.21</td>\n",
              "      <td>97.65</td>\n",
              "      <td>711.8</td>\n",
              "      <td>0.07963</td>\n",
              "      <td>0.06934</td>\n",
              "      <td>0.03393</td>\n",
              "      <td>0.02657</td>\n",
              "      <td>0.1721</td>\n",
              "      <td>0.05544</td>\n",
              "      <td>0.1783</td>\n",
              "      <td>0.4125</td>\n",
              "      <td>1.338</td>\n",
              "      <td>17.72</td>\n",
              "      <td>0.005012</td>\n",
              "      <td>0.014850</td>\n",
              "      <td>0.01551</td>\n",
              "      <td>0.009155</td>\n",
              "      <td>0.01647</td>\n",
              "      <td>0.001767</td>\n",
              "      <td>16.20</td>\n",
              "      <td>15.73</td>\n",
              "      <td>104.50</td>\n",
              "      <td>819.1</td>\n",
              "      <td>0.1126</td>\n",
              "      <td>0.1737</td>\n",
              "      <td>0.13620</td>\n",
              "      <td>0.08178</td>\n",
              "      <td>0.2487</td>\n",
              "      <td>0.06766</td>\n",
              "    </tr>\n",
              "  </tbody>\n",
              "</table>\n",
              "</div>"
            ],
            "text/plain": [
              "   radius_mean  texture_mean  ...  symmetry_worst  dimension_worst\n",
              "0        12.32         12.39  ...          0.2827          0.06771\n",
              "1        10.60         18.95  ...          0.2940          0.07587\n",
              "2        11.04         16.83  ...          0.2998          0.07881\n",
              "3        11.28         13.39  ...          0.2102          0.06784\n",
              "4        15.19         13.21  ...          0.2487          0.06766\n",
              "\n",
              "[5 rows x 30 columns]"
            ]
          },
          "metadata": {
            "tags": []
          },
          "execution_count": 6
        }
      ]
    },
    {
      "cell_type": "code",
      "metadata": {
        "id": "fS2pHOHNZ9bK",
        "colab_type": "code",
        "colab": {
          "base_uri": "https://localhost:8080/",
          "height": 128
        },
        "outputId": "bbe37028-7b52-45b4-f94e-efd2511735cf"
      },
      "source": [
        "y = data.diagnosis\n",
        "y.head()"
      ],
      "execution_count": 7,
      "outputs": [
        {
          "output_type": "execute_result",
          "data": {
            "text/plain": [
              "0    B\n",
              "1    B\n",
              "2    B\n",
              "3    B\n",
              "4    B\n",
              "Name: diagnosis, dtype: object"
            ]
          },
          "metadata": {
            "tags": []
          },
          "execution_count": 7
        }
      ]
    },
    {
      "cell_type": "code",
      "metadata": {
        "id": "cdlc3qiOaf9e",
        "colab_type": "code",
        "colab": {}
      },
      "source": [
        "#preparing training and testing data\n",
        "#storing 70% of the data(569 rows) into training and remaining 30% of the data\n",
        "from sklearn.model_selection import train_test_split\n",
        "X_train,X_test,y_train,y_test = train_test_split(X,y,test_size=0.30,random_state=2)"
      ],
      "execution_count": 8,
      "outputs": []
    },
    {
      "cell_type": "code",
      "metadata": {
        "id": "VcFtv6f3bAc-",
        "colab_type": "code",
        "colab": {
          "base_uri": "https://localhost:8080/",
          "height": 91
        },
        "outputId": "5422d34b-6378-4ffc-e0d9-2c79960c1ad5"
      },
      "source": [
        "print(X_train.shape)\n",
        "print(X_test.shape)\n",
        "print(y_train.shape)\n",
        "print(y_test.shape)"
      ],
      "execution_count": 9,
      "outputs": [
        {
          "output_type": "stream",
          "text": [
            "(398, 30)\n",
            "(171, 30)\n",
            "(398,)\n",
            "(171,)\n"
          ],
          "name": "stdout"
        }
      ]
    },
    {
      "cell_type": "code",
      "metadata": {
        "id": "rnlnbXUBbq2q",
        "colab_type": "code",
        "colab": {
          "base_uri": "https://localhost:8080/",
          "height": 257
        },
        "outputId": "d7201a82-1b7c-4a5a-bb1b-aaa4ed1e6c51"
      },
      "source": [
        "from sklearn.preprocessing import StandardScaler\n",
        "scaler = StandardScaler()\n",
        "scaled_X_train = scaler.fit_transform(X_train)\n",
        "scaled_X_train"
      ],
      "execution_count": 10,
      "outputs": [
        {
          "output_type": "execute_result",
          "data": {
            "text/plain": [
              "array([[ 0.0654828 , -1.35518629,  0.03134589, ..., -0.04689041,\n",
              "         0.3683001 , -1.22806684],\n",
              "       [-0.77639967, -0.1225787 , -0.77192193, ..., -0.39868555,\n",
              "         0.3648074 , -0.83648993],\n",
              "       [-0.84936282, -1.05782571, -0.87563499, ..., -1.03880764,\n",
              "        -1.65746674, -0.54459715],\n",
              "       ...,\n",
              "       [-0.88303812, -0.35998755, -0.85204535, ..., -0.1993652 ,\n",
              "        -0.98162901, -0.01313199],\n",
              "       [ 1.07854805,  0.213151  ,  0.91351698, ...,  0.10120204,\n",
              "         3.54665843, -1.20658794],\n",
              "       [-0.26846391, -0.90674734, -0.26149099, ..., -0.22037015,\n",
              "         1.74267813,  0.1823811 ]])"
            ]
          },
          "metadata": {
            "tags": []
          },
          "execution_count": 10
        }
      ]
    },
    {
      "cell_type": "code",
      "metadata": {
        "id": "pkh7UCXkd_ao",
        "colab_type": "code",
        "colab": {
          "base_uri": "https://localhost:8080/",
          "height": 444
        },
        "outputId": "ba10586b-b2bd-4b95-fcc2-d80165df2e2a"
      },
      "source": [
        "from sklearn.preprocessing import StandardScaler\n",
        "scaler = StandardScaler()\n",
        "#scaling for training data\n",
        "scaled_X_train = pd.DataFrame(scaler.fit_transform(X_train),columns = X_train.columns)\n",
        "scaled_X_train\n",
        "#scaling for test data\n",
        "scaled_X_test = pd.DataFrame(scaler.transform(X_test),columns = X_test.columns)\n",
        "scaled_X_test"
      ],
      "execution_count": 11,
      "outputs": [
        {
          "output_type": "execute_result",
          "data": {
            "text/html": [
              "<div>\n",
              "<style scoped>\n",
              "    .dataframe tbody tr th:only-of-type {\n",
              "        vertical-align: middle;\n",
              "    }\n",
              "\n",
              "    .dataframe tbody tr th {\n",
              "        vertical-align: top;\n",
              "    }\n",
              "\n",
              "    .dataframe thead th {\n",
              "        text-align: right;\n",
              "    }\n",
              "</style>\n",
              "<table border=\"1\" class=\"dataframe\">\n",
              "  <thead>\n",
              "    <tr style=\"text-align: right;\">\n",
              "      <th></th>\n",
              "      <th>radius_mean</th>\n",
              "      <th>texture_mean</th>\n",
              "      <th>perimeter_mean</th>\n",
              "      <th>area_mean</th>\n",
              "      <th>smoothness_mean</th>\n",
              "      <th>compactness_mean</th>\n",
              "      <th>concavity_mean</th>\n",
              "      <th>points_mean</th>\n",
              "      <th>symmetry_mean</th>\n",
              "      <th>dimension_mean</th>\n",
              "      <th>radius_se</th>\n",
              "      <th>texture_se</th>\n",
              "      <th>perimeter_se</th>\n",
              "      <th>area_se</th>\n",
              "      <th>smoothness_se</th>\n",
              "      <th>compactness_se</th>\n",
              "      <th>concavity_se</th>\n",
              "      <th>points_se</th>\n",
              "      <th>symmetry_se</th>\n",
              "      <th>dimension_se</th>\n",
              "      <th>radius_worst</th>\n",
              "      <th>texture_worst</th>\n",
              "      <th>perimeter_worst</th>\n",
              "      <th>area_worst</th>\n",
              "      <th>smoothness_worst</th>\n",
              "      <th>compactness_worst</th>\n",
              "      <th>concavity_worst</th>\n",
              "      <th>points_worst</th>\n",
              "      <th>symmetry_worst</th>\n",
              "      <th>dimension_worst</th>\n",
              "    </tr>\n",
              "  </thead>\n",
              "  <tbody>\n",
              "    <tr>\n",
              "      <th>0</th>\n",
              "      <td>-0.767981</td>\n",
              "      <td>-0.055433</td>\n",
              "      <td>-0.795918</td>\n",
              "      <td>-0.721932</td>\n",
              "      <td>-0.589333</td>\n",
              "      <td>-0.996232</td>\n",
              "      <td>-0.780212</td>\n",
              "      <td>-0.661564</td>\n",
              "      <td>0.810759</td>\n",
              "      <td>-0.417646</td>\n",
              "      <td>-0.506112</td>\n",
              "      <td>1.326436</td>\n",
              "      <td>-0.456962</td>\n",
              "      <td>-0.512777</td>\n",
              "      <td>-0.182989</td>\n",
              "      <td>-0.619340</td>\n",
              "      <td>-0.587780</td>\n",
              "      <td>-0.282323</td>\n",
              "      <td>1.757066</td>\n",
              "      <td>-0.308920</td>\n",
              "      <td>-0.785433</td>\n",
              "      <td>0.137175</td>\n",
              "      <td>-0.806874</td>\n",
              "      <td>-0.716765</td>\n",
              "      <td>-0.854530</td>\n",
              "      <td>-0.972772</td>\n",
              "      <td>-0.923478</td>\n",
              "      <td>-0.752143</td>\n",
              "      <td>0.726302</td>\n",
              "      <td>-0.720284</td>\n",
              "    </tr>\n",
              "    <tr>\n",
              "      <th>1</th>\n",
              "      <td>-0.116925</td>\n",
              "      <td>-0.731688</td>\n",
              "      <td>-0.158591</td>\n",
              "      <td>-0.209416</td>\n",
              "      <td>-0.875377</td>\n",
              "      <td>-0.728226</td>\n",
              "      <td>-0.760262</td>\n",
              "      <td>-0.697520</td>\n",
              "      <td>0.281483</td>\n",
              "      <td>-0.839423</td>\n",
              "      <td>-0.870373</td>\n",
              "      <td>-1.247140</td>\n",
              "      <td>-0.769424</td>\n",
              "      <td>-0.594347</td>\n",
              "      <td>-0.950774</td>\n",
              "      <td>-0.510646</td>\n",
              "      <td>-0.658236</td>\n",
              "      <td>-0.858784</td>\n",
              "      <td>-0.128316</td>\n",
              "      <td>-0.571882</td>\n",
              "      <td>-0.273344</td>\n",
              "      <td>-0.865993</td>\n",
              "      <td>-0.216452</td>\n",
              "      <td>-0.348722</td>\n",
              "      <td>-0.911689</td>\n",
              "      <td>-0.222689</td>\n",
              "      <td>-0.624656</td>\n",
              "      <td>-0.633669</td>\n",
              "      <td>0.824098</td>\n",
              "      <td>-0.330910</td>\n",
              "    </tr>\n",
              "    <tr>\n",
              "      <th>2</th>\n",
              "      <td>1.100998</td>\n",
              "      <td>-0.544639</td>\n",
              "      <td>1.047734</td>\n",
              "      <td>0.940735</td>\n",
              "      <td>-0.426476</td>\n",
              "      <td>0.438365</td>\n",
              "      <td>0.300001</td>\n",
              "      <td>0.371772</td>\n",
              "      <td>-0.289084</td>\n",
              "      <td>-0.675726</td>\n",
              "      <td>-0.379712</td>\n",
              "      <td>-1.099818</td>\n",
              "      <td>-0.474679</td>\n",
              "      <td>-0.085524</td>\n",
              "      <td>-0.988365</td>\n",
              "      <td>-0.525931</td>\n",
              "      <td>-0.043535</td>\n",
              "      <td>-0.309789</td>\n",
              "      <td>-0.957731</td>\n",
              "      <td>-0.481194</td>\n",
              "      <td>0.870599</td>\n",
              "      <td>-0.559798</td>\n",
              "      <td>0.797992</td>\n",
              "      <td>0.733636</td>\n",
              "      <td>-0.216988</td>\n",
              "      <td>0.157285</td>\n",
              "      <td>0.858626</td>\n",
              "      <td>0.630104</td>\n",
              "      <td>-0.015897</td>\n",
              "      <td>-0.042321</td>\n",
              "    </tr>\n",
              "    <tr>\n",
              "      <th>3</th>\n",
              "      <td>-0.922326</td>\n",
              "      <td>1.220340</td>\n",
              "      <td>-0.929322</td>\n",
              "      <td>-0.818221</td>\n",
              "      <td>-0.951934</td>\n",
              "      <td>-0.683493</td>\n",
              "      <td>-0.888348</td>\n",
              "      <td>-1.005166</td>\n",
              "      <td>0.671871</td>\n",
              "      <td>0.132434</td>\n",
              "      <td>0.466785</td>\n",
              "      <td>1.228222</td>\n",
              "      <td>0.407409</td>\n",
              "      <td>-0.150266</td>\n",
              "      <td>0.390854</td>\n",
              "      <td>-0.350436</td>\n",
              "      <td>-0.621477</td>\n",
              "      <td>-0.925923</td>\n",
              "      <td>0.541103</td>\n",
              "      <td>-0.291762</td>\n",
              "      <td>-0.647087</td>\n",
              "      <td>1.035458</td>\n",
              "      <td>-0.669891</td>\n",
              "      <td>-0.636120</td>\n",
              "      <td>-0.476402</td>\n",
              "      <td>-0.531335</td>\n",
              "      <td>-0.990740</td>\n",
              "      <td>-1.196269</td>\n",
              "      <td>0.363061</td>\n",
              "      <td>-0.372215</td>\n",
              "    </tr>\n",
              "    <tr>\n",
              "      <th>4</th>\n",
              "      <td>0.570612</td>\n",
              "      <td>-1.021855</td>\n",
              "      <td>0.510866</td>\n",
              "      <td>0.408905</td>\n",
              "      <td>-0.045084</td>\n",
              "      <td>-0.310914</td>\n",
              "      <td>-0.386171</td>\n",
              "      <td>-0.065263</td>\n",
              "      <td>-0.232778</td>\n",
              "      <td>-0.535625</td>\n",
              "      <td>-0.609147</td>\n",
              "      <td>-1.018089</td>\n",
              "      <td>-0.577759</td>\n",
              "      <td>-0.411339</td>\n",
              "      <td>-1.041258</td>\n",
              "      <td>-0.703691</td>\n",
              "      <td>-0.432914</td>\n",
              "      <td>-0.471372</td>\n",
              "      <td>-0.695339</td>\n",
              "      <td>-0.766566</td>\n",
              "      <td>0.319276</td>\n",
              "      <td>-0.972569</td>\n",
              "      <td>0.280965</td>\n",
              "      <td>0.134281</td>\n",
              "      <td>-0.467608</td>\n",
              "      <td>-0.472006</td>\n",
              "      <td>-0.138962</td>\n",
              "      <td>0.016578</td>\n",
              "      <td>-0.127664</td>\n",
              "      <td>-0.710370</td>\n",
              "    </tr>\n",
              "    <tr>\n",
              "      <th>...</th>\n",
              "      <td>...</td>\n",
              "      <td>...</td>\n",
              "      <td>...</td>\n",
              "      <td>...</td>\n",
              "      <td>...</td>\n",
              "      <td>...</td>\n",
              "      <td>...</td>\n",
              "      <td>...</td>\n",
              "      <td>...</td>\n",
              "      <td>...</td>\n",
              "      <td>...</td>\n",
              "      <td>...</td>\n",
              "      <td>...</td>\n",
              "      <td>...</td>\n",
              "      <td>...</td>\n",
              "      <td>...</td>\n",
              "      <td>...</td>\n",
              "      <td>...</td>\n",
              "      <td>...</td>\n",
              "      <td>...</td>\n",
              "      <td>...</td>\n",
              "      <td>...</td>\n",
              "      <td>...</td>\n",
              "      <td>...</td>\n",
              "      <td>...</td>\n",
              "      <td>...</td>\n",
              "      <td>...</td>\n",
              "      <td>...</td>\n",
              "      <td>...</td>\n",
              "      <td>...</td>\n",
              "    </tr>\n",
              "    <tr>\n",
              "      <th>166</th>\n",
              "      <td>-0.860588</td>\n",
              "      <td>-0.549435</td>\n",
              "      <td>-0.846758</td>\n",
              "      <td>-0.785752</td>\n",
              "      <td>0.842278</td>\n",
              "      <td>-0.447664</td>\n",
              "      <td>-0.697999</td>\n",
              "      <td>-0.583830</td>\n",
              "      <td>-0.311607</td>\n",
              "      <td>0.150131</td>\n",
              "      <td>-0.770020</td>\n",
              "      <td>0.296936</td>\n",
              "      <td>-0.785530</td>\n",
              "      <td>-0.605099</td>\n",
              "      <td>-0.642063</td>\n",
              "      <td>-0.879469</td>\n",
              "      <td>-0.696698</td>\n",
              "      <td>-0.674394</td>\n",
              "      <td>-0.416308</td>\n",
              "      <td>-0.564529</td>\n",
              "      <td>-0.775109</td>\n",
              "      <td>0.187925</td>\n",
              "      <td>-0.787857</td>\n",
              "      <td>-0.695690</td>\n",
              "      <td>0.249076</td>\n",
              "      <td>-0.631995</td>\n",
              "      <td>-0.765225</td>\n",
              "      <td>-0.566574</td>\n",
              "      <td>0.256534</td>\n",
              "      <td>-0.231776</td>\n",
              "    </tr>\n",
              "    <tr>\n",
              "      <th>167</th>\n",
              "      <td>-0.086056</td>\n",
              "      <td>-0.798834</td>\n",
              "      <td>-0.053251</td>\n",
              "      <td>-0.195421</td>\n",
              "      <td>0.355099</td>\n",
              "      <td>0.532539</td>\n",
              "      <td>-0.095310</td>\n",
              "      <td>0.071722</td>\n",
              "      <td>-0.506801</td>\n",
              "      <td>0.483424</td>\n",
              "      <td>-0.455935</td>\n",
              "      <td>-1.047378</td>\n",
              "      <td>-0.455351</td>\n",
              "      <td>-0.375813</td>\n",
              "      <td>-0.788767</td>\n",
              "      <td>-0.240044</td>\n",
              "      <td>-0.457420</td>\n",
              "      <td>-0.397647</td>\n",
              "      <td>-1.053728</td>\n",
              "      <td>-0.238190</td>\n",
              "      <td>0.083880</td>\n",
              "      <td>-0.756033</td>\n",
              "      <td>0.114565</td>\n",
              "      <td>-0.101734</td>\n",
              "      <td>0.433744</td>\n",
              "      <td>0.741246</td>\n",
              "      <td>0.097336</td>\n",
              "      <td>0.400409</td>\n",
              "      <td>-0.457724</td>\n",
              "      <td>1.100466</td>\n",
              "    </tr>\n",
              "    <tr>\n",
              "      <th>168</th>\n",
              "      <td>-0.647311</td>\n",
              "      <td>-0.446318</td>\n",
              "      <td>-0.670242</td>\n",
              "      <td>-0.621444</td>\n",
              "      <td>-0.329040</td>\n",
              "      <td>-0.756086</td>\n",
              "      <td>-0.722523</td>\n",
              "      <td>-0.797030</td>\n",
              "      <td>0.187639</td>\n",
              "      <td>-0.323262</td>\n",
              "      <td>-0.206582</td>\n",
              "      <td>-0.136261</td>\n",
              "      <td>-0.311468</td>\n",
              "      <td>-0.335845</td>\n",
              "      <td>-0.540601</td>\n",
              "      <td>-0.297221</td>\n",
              "      <td>-0.348503</td>\n",
              "      <td>-1.009284</td>\n",
              "      <td>-0.724778</td>\n",
              "      <td>-0.258848</td>\n",
              "      <td>-0.560362</td>\n",
              "      <td>-0.141953</td>\n",
              "      <td>-0.607491</td>\n",
              "      <td>-0.537882</td>\n",
              "      <td>-0.300528</td>\n",
              "      <td>-0.469339</td>\n",
              "      <td>-0.572761</td>\n",
              "      <td>-0.880137</td>\n",
              "      <td>-0.125917</td>\n",
              "      <td>-0.099598</td>\n",
              "    </tr>\n",
              "    <tr>\n",
              "      <th>169</th>\n",
              "      <td>2.144933</td>\n",
              "      <td>0.448162</td>\n",
              "      <td>2.259753</td>\n",
              "      <td>2.343085</td>\n",
              "      <td>-0.110505</td>\n",
              "      <td>1.868645</td>\n",
              "      <td>1.704113</td>\n",
              "      <td>1.543105</td>\n",
              "      <td>-0.285331</td>\n",
              "      <td>-0.065182</td>\n",
              "      <td>2.946522</td>\n",
              "      <td>0.235551</td>\n",
              "      <td>3.254462</td>\n",
              "      <td>2.743272</td>\n",
              "      <td>-0.466085</td>\n",
              "      <td>1.398854</td>\n",
              "      <td>1.098053</td>\n",
              "      <td>0.630957</td>\n",
              "      <td>-0.152636</td>\n",
              "      <td>0.281433</td>\n",
              "      <td>2.483269</td>\n",
              "      <td>0.482278</td>\n",
              "      <td>2.658104</td>\n",
              "      <td>2.635688</td>\n",
              "      <td>-0.177417</td>\n",
              "      <td>1.529859</td>\n",
              "      <td>1.622939</td>\n",
              "      <td>1.092515</td>\n",
              "      <td>-0.031614</td>\n",
              "      <td>0.306298</td>\n",
              "    </tr>\n",
              "    <tr>\n",
              "      <th>170</th>\n",
              "      <td>-0.577154</td>\n",
              "      <td>0.863028</td>\n",
              "      <td>-0.528298</td>\n",
              "      <td>-0.576939</td>\n",
              "      <td>-1.826769</td>\n",
              "      <td>0.126410</td>\n",
              "      <td>-0.075742</td>\n",
              "      <td>-0.457733</td>\n",
              "      <td>-2.229763</td>\n",
              "      <td>0.620575</td>\n",
              "      <td>-1.066102</td>\n",
              "      <td>0.379366</td>\n",
              "      <td>-0.551452</td>\n",
              "      <td>-0.698379</td>\n",
              "      <td>-0.680652</td>\n",
              "      <td>1.172408</td>\n",
              "      <td>0.409152</td>\n",
              "      <td>0.801213</td>\n",
              "      <td>0.546223</td>\n",
              "      <td>1.242245</td>\n",
              "      <td>-0.742071</td>\n",
              "      <td>0.571937</td>\n",
              "      <td>-0.567080</td>\n",
              "      <td>-0.666079</td>\n",
              "      <td>-1.901416</td>\n",
              "      <td>0.522594</td>\n",
              "      <td>0.164345</td>\n",
              "      <td>-0.039335</td>\n",
              "      <td>-1.152771</td>\n",
              "      <td>0.576712</td>\n",
              "    </tr>\n",
              "  </tbody>\n",
              "</table>\n",
              "<p>171 rows × 30 columns</p>\n",
              "</div>"
            ],
            "text/plain": [
              "     radius_mean  texture_mean  ...  symmetry_worst  dimension_worst\n",
              "0      -0.767981     -0.055433  ...        0.726302        -0.720284\n",
              "1      -0.116925     -0.731688  ...        0.824098        -0.330910\n",
              "2       1.100998     -0.544639  ...       -0.015897        -0.042321\n",
              "3      -0.922326      1.220340  ...        0.363061        -0.372215\n",
              "4       0.570612     -1.021855  ...       -0.127664        -0.710370\n",
              "..           ...           ...  ...             ...              ...\n",
              "166    -0.860588     -0.549435  ...        0.256534        -0.231776\n",
              "167    -0.086056     -0.798834  ...       -0.457724         1.100466\n",
              "168    -0.647311     -0.446318  ...       -0.125917        -0.099598\n",
              "169     2.144933      0.448162  ...       -0.031614         0.306298\n",
              "170    -0.577154      0.863028  ...       -1.152771         0.576712\n",
              "\n",
              "[171 rows x 30 columns]"
            ]
          },
          "metadata": {
            "tags": []
          },
          "execution_count": 11
        }
      ]
    },
    {
      "cell_type": "code",
      "metadata": {
        "id": "IIzBAcNsgKyo",
        "colab_type": "code",
        "colab": {
          "base_uri": "https://localhost:8080/",
          "height": 72
        },
        "outputId": "6e7c5f5a-05ea-48cb-b7fa-774be21ad04c"
      },
      "source": [
        "#Model Building:\n",
        "from sklearn.neighbors import KNeighborsClassifier\n",
        "knn = KNeighborsClassifier(n_neighbors=6,metric='euclidean')\n",
        "\n",
        "#Appling the knn object on the dataset\n",
        "#syntax: objectName.fit(Input,Output)\n",
        "knn.fit(scaled_X_train,y_train)"
      ],
      "execution_count": 12,
      "outputs": [
        {
          "output_type": "execute_result",
          "data": {
            "text/plain": [
              "KNeighborsClassifier(algorithm='auto', leaf_size=30, metric='euclidean',\n",
              "                     metric_params=None, n_jobs=None, n_neighbors=6, p=2,\n",
              "                     weights='uniform')"
            ]
          },
          "metadata": {
            "tags": []
          },
          "execution_count": 12
        }
      ]
    },
    {
      "cell_type": "code",
      "metadata": {
        "id": "gUjX31lTm5hF",
        "colab_type": "code",
        "colab": {
          "base_uri": "https://localhost:8080/",
          "height": 590
        },
        "outputId": "fc9fbf75-42f8-46aa-a64c-bafa2831a73c"
      },
      "source": [
        "#predictions of data\n",
        "#predict function-->gives the predicted values\n",
        "#syntax:-objectname.predict(input)\n",
        "y_train_pred = knn.predict(scaled_X_train)\n",
        "y_train_pred"
      ],
      "execution_count": 13,
      "outputs": [
        {
          "output_type": "execute_result",
          "data": {
            "text/plain": [
              "array(['B', 'B', 'B', 'M', 'B', 'M', 'B', 'M', 'B', 'B', 'B', 'M', 'B',\n",
              "       'M', 'B', 'M', 'M', 'B', 'M', 'B', 'B', 'B', 'B', 'B', 'B', 'B',\n",
              "       'B', 'M', 'B', 'B', 'B', 'B', 'B', 'B', 'B', 'B', 'B', 'M', 'B',\n",
              "       'M', 'M', 'B', 'M', 'B', 'B', 'B', 'B', 'M', 'B', 'B', 'M', 'M',\n",
              "       'M', 'M', 'M', 'B', 'B', 'B', 'M', 'M', 'B', 'M', 'B', 'B', 'B',\n",
              "       'M', 'M', 'B', 'B', 'B', 'B', 'B', 'M', 'B', 'M', 'M', 'B', 'B',\n",
              "       'M', 'B', 'B', 'M', 'M', 'B', 'B', 'B', 'M', 'M', 'B', 'B', 'M',\n",
              "       'B', 'M', 'B', 'B', 'B', 'B', 'B', 'M', 'B', 'M', 'M', 'M', 'B',\n",
              "       'B', 'B', 'B', 'B', 'B', 'M', 'B', 'M', 'B', 'M', 'B', 'B', 'B',\n",
              "       'B', 'B', 'B', 'B', 'M', 'B', 'B', 'B', 'M', 'M', 'M', 'B', 'B',\n",
              "       'M', 'M', 'M', 'M', 'M', 'B', 'B', 'B', 'B', 'B', 'B', 'M', 'B',\n",
              "       'B', 'M', 'M', 'B', 'B', 'B', 'B', 'B', 'M', 'M', 'B', 'B', 'M',\n",
              "       'B', 'M', 'B', 'B', 'B', 'B', 'M', 'M', 'B', 'B', 'B', 'M', 'M',\n",
              "       'B', 'B', 'B', 'B', 'B', 'B', 'B', 'M', 'B', 'B', 'B', 'M', 'B',\n",
              "       'M', 'B', 'B', 'B', 'B', 'B', 'B', 'B', 'B', 'B', 'B', 'M', 'B',\n",
              "       'M', 'B', 'B', 'B', 'M', 'B', 'B', 'M', 'B', 'M', 'B', 'B', 'B',\n",
              "       'B', 'B', 'B', 'B', 'M', 'B', 'B', 'B', 'B', 'B', 'B', 'B', 'B',\n",
              "       'B', 'M', 'M', 'B', 'B', 'M', 'B', 'B', 'B', 'B', 'B', 'B', 'M',\n",
              "       'M', 'M', 'B', 'B', 'M', 'B', 'B', 'B', 'B', 'B', 'B', 'M', 'B',\n",
              "       'B', 'M', 'M', 'B', 'B', 'B', 'B', 'B', 'M', 'M', 'B', 'B', 'M',\n",
              "       'M', 'B', 'B', 'M', 'B', 'B', 'M', 'B', 'B', 'B', 'M', 'M', 'B',\n",
              "       'M', 'B', 'B', 'M', 'B', 'B', 'B', 'B', 'B', 'M', 'B', 'B', 'M',\n",
              "       'B', 'M', 'B', 'M', 'B', 'B', 'B', 'B', 'M', 'M', 'B', 'B', 'B',\n",
              "       'M', 'B', 'M', 'B', 'M', 'B', 'M', 'M', 'B', 'B', 'B', 'B', 'M',\n",
              "       'B', 'B', 'M', 'M', 'B', 'B', 'M', 'B', 'M', 'B', 'B', 'B', 'B',\n",
              "       'B', 'B', 'B', 'B', 'B', 'M', 'B', 'M', 'B', 'M', 'M', 'B', 'M',\n",
              "       'B', 'B', 'B', 'B', 'B', 'M', 'B', 'M', 'B', 'M', 'M', 'B', 'B',\n",
              "       'B', 'B', 'M', 'B', 'B', 'B', 'B', 'M', 'B', 'M', 'B', 'B', 'B',\n",
              "       'B', 'M', 'B', 'B', 'B', 'M', 'M', 'M', 'B', 'B', 'M', 'M', 'B',\n",
              "       'B', 'B', 'B', 'B', 'B', 'B', 'M', 'B', 'B', 'M', 'M', 'M', 'B',\n",
              "       'M', 'B', 'B', 'M', 'M', 'B', 'M', 'B'], dtype=object)"
            ]
          },
          "metadata": {
            "tags": []
          },
          "execution_count": 13
        }
      ]
    },
    {
      "cell_type": "code",
      "metadata": {
        "id": "FtSF5V9In3Ke",
        "colab_type": "code",
        "colab": {
          "base_uri": "https://localhost:8080/",
          "height": 368
        },
        "outputId": "79c21279-5454-47de-a043-e000ff84d146"
      },
      "source": [
        "from sklearn.metrics import accuracy_score\n",
        "#checking for optimum k-value\n",
        "#Build the models with multiple k values\n",
        "scores=[]\n",
        "for k in range(1,20):\n",
        "  knn_model = KNeighborsClassifier(n_neighbors=k)\n",
        "  knn_model.fit(scaled_X_train,y_train)\n",
        "  pred_test = knn_model.predict(scaled_X_test)\n",
        "  scores.append(accuracy_score(y_test,pred_test))\n",
        "scores"
      ],
      "execution_count": 14,
      "outputs": [
        {
          "output_type": "execute_result",
          "data": {
            "text/plain": [
              "[0.9181286549707602,\n",
              " 0.9473684210526315,\n",
              " 0.9590643274853801,\n",
              " 0.9415204678362573,\n",
              " 0.9590643274853801,\n",
              " 0.9590643274853801,\n",
              " 0.9649122807017544,\n",
              " 0.9532163742690059,\n",
              " 0.9590643274853801,\n",
              " 0.9532163742690059,\n",
              " 0.9532163742690059,\n",
              " 0.9415204678362573,\n",
              " 0.9473684210526315,\n",
              " 0.935672514619883,\n",
              " 0.9473684210526315,\n",
              " 0.9415204678362573,\n",
              " 0.9415204678362573,\n",
              " 0.9415204678362573,\n",
              " 0.9473684210526315]"
            ]
          },
          "metadata": {
            "tags": []
          },
          "execution_count": 14
        }
      ]
    },
    {
      "cell_type": "code",
      "metadata": {
        "id": "zvrNl9IXibk2",
        "colab_type": "code",
        "colab": {
          "base_uri": "https://localhost:8080/",
          "height": 183
        },
        "outputId": "00c13e05-2b83-4757-e8e6-34d29da82e7d"
      },
      "source": [
        "#check the accuracy , classification report\n",
        "from sklearn.metrics import classification_report\n",
        "print(classification_report(y_train,y_train_pred))"
      ],
      "execution_count": 15,
      "outputs": [
        {
          "output_type": "stream",
          "text": [
            "              precision    recall  f1-score   support\n",
            "\n",
            "           B       0.97      1.00      0.98       257\n",
            "           M       1.00      0.94      0.97       141\n",
            "\n",
            "    accuracy                           0.98       398\n",
            "   macro avg       0.98      0.97      0.97       398\n",
            "weighted avg       0.98      0.98      0.98       398\n",
            "\n"
          ],
          "name": "stdout"
        }
      ]
    },
    {
      "cell_type": "code",
      "metadata": {
        "id": "4is-Omf0o9ly",
        "colab_type": "code",
        "colab": {
          "base_uri": "https://localhost:8080/",
          "height": 283
        },
        "outputId": "712608ee-f863-4f09-8d18-3e95275cb643"
      },
      "source": [
        "#plot of k values and scores\n",
        "plt.plot(range(1,20),scores,marker='o',markerfacecolor='r',linestyle='--')"
      ],
      "execution_count": 16,
      "outputs": [
        {
          "output_type": "execute_result",
          "data": {
            "text/plain": [
              "[<matplotlib.lines.Line2D at 0x7fb23bec64a8>]"
            ]
          },
          "metadata": {
            "tags": []
          },
          "execution_count": 16
        },
        {
          "output_type": "display_data",
          "data": {
            "image/png": "[encoded data removed]",
            "text/plain": [
              "<Figure size 432x288 with 1 Axes>"
            ]
          },
          "metadata": {
            "tags": [],
            "needs_background": "light"
          }
        }
      ]
    },
    {
      "cell_type": "code",
      "metadata": {
        "id": "wFQ5lhyQqIm4",
        "colab_type": "code",
        "colab": {
          "base_uri": "https://localhost:8080/",
          "height": 72
        },
        "outputId": "7ccf179f-8cbc-4b63-cdb2-702973a3ab63"
      },
      "source": [
        "#optimum k values is 7\n",
        "final_model = KNeighborsClassifier(n_neighbors=7,metric='euclidean')\n",
        "final_model.fit(scaled_X_train,y_train)"
      ],
      "execution_count": 17,
      "outputs": [
        {
          "output_type": "execute_result",
          "data": {
            "text/plain": [
              "KNeighborsClassifier(algorithm='auto', leaf_size=30, metric='euclidean',\n",
              "                     metric_params=None, n_jobs=None, n_neighbors=7, p=2,\n",
              "                     weights='uniform')"
            ]
          },
          "metadata": {
            "tags": []
          },
          "execution_count": 17
        }
      ]
    },
    {
      "cell_type": "code",
      "metadata": {
        "id": "SyYJo1Tqz3CJ",
        "colab_type": "code",
        "colab": {
          "base_uri": "https://localhost:8080/",
          "height": 590
        },
        "outputId": "44e5afb9-8a61-4edb-f584-b2700a2a3cec"
      },
      "source": [
        "#prediction on training data\n",
        "final_train_pred = final_model.predict(scaled_X_train)\n",
        "final_train_pred"
      ],
      "execution_count": 18,
      "outputs": [
        {
          "output_type": "execute_result",
          "data": {
            "text/plain": [
              "array(['B', 'B', 'B', 'M', 'B', 'M', 'B', 'M', 'B', 'B', 'B', 'M', 'B',\n",
              "       'M', 'B', 'M', 'M', 'B', 'M', 'B', 'B', 'B', 'B', 'B', 'B', 'B',\n",
              "       'B', 'M', 'B', 'B', 'B', 'B', 'B', 'B', 'B', 'B', 'B', 'M', 'B',\n",
              "       'M', 'M', 'B', 'M', 'B', 'B', 'B', 'B', 'M', 'B', 'B', 'M', 'M',\n",
              "       'M', 'M', 'M', 'B', 'B', 'B', 'M', 'M', 'B', 'M', 'B', 'B', 'M',\n",
              "       'M', 'M', 'B', 'B', 'B', 'B', 'B', 'M', 'B', 'M', 'M', 'B', 'B',\n",
              "       'M', 'B', 'B', 'M', 'M', 'B', 'B', 'B', 'M', 'M', 'B', 'B', 'M',\n",
              "       'B', 'M', 'B', 'B', 'B', 'B', 'B', 'M', 'B', 'M', 'M', 'M', 'B',\n",
              "       'B', 'B', 'B', 'B', 'B', 'M', 'B', 'M', 'B', 'M', 'B', 'B', 'B',\n",
              "       'B', 'B', 'B', 'B', 'M', 'B', 'B', 'B', 'M', 'M', 'M', 'B', 'B',\n",
              "       'M', 'M', 'M', 'M', 'M', 'B', 'B', 'B', 'B', 'B', 'B', 'M', 'B',\n",
              "       'B', 'M', 'M', 'B', 'B', 'B', 'B', 'B', 'M', 'M', 'B', 'B', 'M',\n",
              "       'B', 'M', 'B', 'B', 'B', 'B', 'M', 'M', 'B', 'B', 'B', 'M', 'M',\n",
              "       'B', 'B', 'B', 'B', 'B', 'B', 'B', 'M', 'B', 'B', 'B', 'M', 'B',\n",
              "       'M', 'B', 'B', 'B', 'B', 'B', 'B', 'B', 'B', 'B', 'B', 'M', 'B',\n",
              "       'M', 'B', 'B', 'B', 'M', 'B', 'B', 'M', 'B', 'M', 'B', 'B', 'B',\n",
              "       'B', 'B', 'B', 'B', 'M', 'B', 'B', 'B', 'B', 'B', 'B', 'B', 'B',\n",
              "       'B', 'M', 'M', 'B', 'B', 'M', 'B', 'B', 'B', 'B', 'B', 'B', 'M',\n",
              "       'M', 'M', 'B', 'B', 'M', 'B', 'B', 'B', 'B', 'B', 'B', 'M', 'B',\n",
              "       'B', 'M', 'M', 'B', 'B', 'B', 'B', 'B', 'M', 'M', 'B', 'B', 'M',\n",
              "       'M', 'B', 'B', 'M', 'B', 'B', 'M', 'B', 'B', 'B', 'M', 'M', 'B',\n",
              "       'M', 'B', 'B', 'M', 'B', 'B', 'B', 'B', 'B', 'M', 'M', 'B', 'M',\n",
              "       'B', 'M', 'B', 'M', 'B', 'B', 'B', 'B', 'M', 'M', 'B', 'B', 'B',\n",
              "       'M', 'B', 'M', 'B', 'M', 'B', 'M', 'M', 'B', 'B', 'B', 'B', 'M',\n",
              "       'B', 'B', 'M', 'M', 'B', 'B', 'M', 'B', 'M', 'B', 'B', 'B', 'B',\n",
              "       'B', 'B', 'B', 'B', 'B', 'M', 'B', 'M', 'B', 'M', 'M', 'B', 'M',\n",
              "       'B', 'B', 'B', 'B', 'B', 'M', 'B', 'M', 'B', 'M', 'M', 'B', 'B',\n",
              "       'B', 'B', 'M', 'B', 'B', 'B', 'B', 'M', 'B', 'M', 'B', 'B', 'B',\n",
              "       'B', 'M', 'B', 'B', 'B', 'M', 'M', 'M', 'B', 'B', 'M', 'M', 'B',\n",
              "       'B', 'B', 'B', 'B', 'B', 'B', 'M', 'B', 'B', 'M', 'M', 'M', 'B',\n",
              "       'M', 'B', 'B', 'M', 'M', 'B', 'M', 'B'], dtype=object)"
            ]
          },
          "metadata": {
            "tags": []
          },
          "execution_count": 18
        }
      ]
    },
    {
      "cell_type": "code",
      "metadata": {
        "id": "aL53dSuS0DcM",
        "colab_type": "code",
        "colab": {
          "base_uri": "https://localhost:8080/",
          "height": 283
        },
        "outputId": "7cda68d6-08f8-4ee8-da49-be11917ae2cb"
      },
      "source": [
        "from sklearn.metrics import confusion_matrix\n",
        "sns.heatmap(confusion_matrix(y_train,final_train_pred),annot=True,fmt='d',annot_kws={'va':'top','ha':'right'})"
      ],
      "execution_count": 21,
      "outputs": [
        {
          "output_type": "execute_result",
          "data": {
            "text/plain": [
              "<matplotlib.axes._subplots.AxesSubplot at 0x7fb236221be0>"
            ]
          },
          "metadata": {
            "tags": []
          },
          "execution_count": 21
        },
        {
          "output_type": "display_data",
          "data": {
            "image/png": "[encoded data removed]",
            "text/plain": [
              "<Figure size 432x288 with 2 Axes>"
            ]
          },
          "metadata": {
            "tags": [],
            "needs_background": "light"
          }
        }
      ]
    },
    {
      "cell_type": "code",
      "metadata": {
        "id": "O-EMF8Hw0b-u",
        "colab_type": "code",
        "colab": {
          "base_uri": "https://localhost:8080/",
          "height": 183
        },
        "outputId": "e18dddea-e171-40c6-ddec-46079ce0499a"
      },
      "source": [
        "#classification report\n",
        "#precision--> ppv-->out of the positive values,how many truley positive\n",
        "print(classification_report(y_train,final_train_pred))"
      ],
      "execution_count": 22,
      "outputs": [
        {
          "output_type": "stream",
          "text": [
            "              precision    recall  f1-score   support\n",
            "\n",
            "           B       0.97      1.00      0.99       257\n",
            "           M       1.00      0.95      0.97       141\n",
            "\n",
            "    accuracy                           0.98       398\n",
            "   macro avg       0.99      0.98      0.98       398\n",
            "weighted avg       0.98      0.98      0.98       398\n",
            "\n"
          ],
          "name": "stdout"
        }
      ]
    },
    {
      "cell_type": "markdown",
      "metadata": {
        "id": "a0aCD7It1X_D",
        "colab_type": "text"
      },
      "source": [
        "#DAY 32(1-07-2020)"
      ]
    },
    {
      "cell_type": "code",
      "metadata": {
        "id": "a5qq_Kwg03xp",
        "colab_type": "code",
        "colab": {
          "base_uri": "https://localhost:8080/",
          "height": 424
        },
        "outputId": "528664d6-0368-413a-b5e5-b635fbaf25bd"
      },
      "source": [
        "#predict the prob of a tumour beingn or malignant\n",
        "#predict-->give you the predicted value(B or M)\n",
        "#predict_proba-->gives you the probablity associated with B and probability\n",
        "#syntax: objectname.predict_proba(input values)\n",
        "y_test_prob = final_model.predict_proba(scaled_X_test)\n",
        "y_test_prob =pd.DataFrame(y_test_prob)\n",
        "y_test_prob"
      ],
      "execution_count": 23,
      "outputs": [
        {
          "output_type": "execute_result",
          "data": {
            "text/html": [
              "<div>\n",
              "<style scoped>\n",
              "    .dataframe tbody tr th:only-of-type {\n",
              "        vertical-align: middle;\n",
              "    }\n",
              "\n",
              "    .dataframe tbody tr th {\n",
              "        vertical-align: top;\n",
              "    }\n",
              "\n",
              "    .dataframe thead th {\n",
              "        text-align: right;\n",
              "    }\n",
              "</style>\n",
              "<table border=\"1\" class=\"dataframe\">\n",
              "  <thead>\n",
              "    <tr style=\"text-align: right;\">\n",
              "      <th></th>\n",
              "      <th>0</th>\n",
              "      <th>1</th>\n",
              "    </tr>\n",
              "  </thead>\n",
              "  <tbody>\n",
              "    <tr>\n",
              "      <th>0</th>\n",
              "      <td>1.000000</td>\n",
              "      <td>0.000000</td>\n",
              "    </tr>\n",
              "    <tr>\n",
              "      <th>1</th>\n",
              "      <td>1.000000</td>\n",
              "      <td>0.000000</td>\n",
              "    </tr>\n",
              "    <tr>\n",
              "      <th>2</th>\n",
              "      <td>0.142857</td>\n",
              "      <td>0.857143</td>\n",
              "    </tr>\n",
              "    <tr>\n",
              "      <th>3</th>\n",
              "      <td>1.000000</td>\n",
              "      <td>0.000000</td>\n",
              "    </tr>\n",
              "    <tr>\n",
              "      <th>4</th>\n",
              "      <td>1.000000</td>\n",
              "      <td>0.000000</td>\n",
              "    </tr>\n",
              "    <tr>\n",
              "      <th>...</th>\n",
              "      <td>...</td>\n",
              "      <td>...</td>\n",
              "    </tr>\n",
              "    <tr>\n",
              "      <th>166</th>\n",
              "      <td>1.000000</td>\n",
              "      <td>0.000000</td>\n",
              "    </tr>\n",
              "    <tr>\n",
              "      <th>167</th>\n",
              "      <td>0.857143</td>\n",
              "      <td>0.142857</td>\n",
              "    </tr>\n",
              "    <tr>\n",
              "      <th>168</th>\n",
              "      <td>1.000000</td>\n",
              "      <td>0.000000</td>\n",
              "    </tr>\n",
              "    <tr>\n",
              "      <th>169</th>\n",
              "      <td>0.000000</td>\n",
              "      <td>1.000000</td>\n",
              "    </tr>\n",
              "    <tr>\n",
              "      <th>170</th>\n",
              "      <td>1.000000</td>\n",
              "      <td>0.000000</td>\n",
              "    </tr>\n",
              "  </tbody>\n",
              "</table>\n",
              "<p>171 rows × 2 columns</p>\n",
              "</div>"
            ],
            "text/plain": [
              "            0         1\n",
              "0    1.000000  0.000000\n",
              "1    1.000000  0.000000\n",
              "2    0.142857  0.857143\n",
              "3    1.000000  0.000000\n",
              "4    1.000000  0.000000\n",
              "..        ...       ...\n",
              "166  1.000000  0.000000\n",
              "167  0.857143  0.142857\n",
              "168  1.000000  0.000000\n",
              "169  0.000000  1.000000\n",
              "170  1.000000  0.000000\n",
              "\n",
              "[171 rows x 2 columns]"
            ]
          },
          "metadata": {
            "tags": []
          },
          "execution_count": 23
        }
      ]
    },
    {
      "cell_type": "code",
      "metadata": {
        "id": "Hj8rE-PR2L5V",
        "colab_type": "code",
        "colab": {}
      },
      "source": [
        "#Roc curve\n",
        "## TPR , FPR ,Threshold\n",
        "from sklearn.metrics import roc_auc_score,roc_curve\n",
        "m_prob  = final_model.predict_proba(scaled_X_test)[:,1]\n",
        "tpr,fpr,threshold = roc_curve(y_test , m_prob ,pos_label='M')"
      ],
      "execution_count": 24,
      "outputs": []
    },
    {
      "cell_type": "code",
      "metadata": {
        "id": "4FQCa7352rP5",
        "colab_type": "code",
        "colab": {
          "base_uri": "https://localhost:8080/",
          "height": 283
        },
        "outputId": "3151d9f2-18fe-479c-f9fa-acd4e96474e5"
      },
      "source": [
        "plt.plot(tpr,fpr)"
      ],
      "execution_count": 25,
      "outputs": [
        {
          "output_type": "execute_result",
          "data": {
            "text/plain": [
              "[<matplotlib.lines.Line2D at 0x7fb23597d2b0>]"
            ]
          },
          "metadata": {
            "tags": []
          },
          "execution_count": 25
        },
        {
          "output_type": "display_data",
          "data": {
            "image/png": "[encoded data removed]",
            "text/plain": [
              "<Figure size 432x288 with 1 Axes>"
            ]
          },
          "metadata": {
            "tags": [],
            "needs_background": "light"
          }
        }
      ]
    },
    {
      "cell_type": "code",
      "metadata": {
        "id": "c7CrVQFa2u3U",
        "colab_type": "code",
        "colab": {
          "base_uri": "https://localhost:8080/",
          "height": 35
        },
        "outputId": "d235f49d-5841-4250-9237-b9144f81aeee"
      },
      "source": [
        "#kFold\n",
        "#5 folds-->in each and every fold-->create a part of test data and nremaining\n",
        "from sklearn.model_selection import KFold\n",
        "kfold = KFold(n_splits=5)\n",
        "kfold.get_n_splits(X,y)"
      ],
      "execution_count": 26,
      "outputs": [
        {
          "output_type": "execute_result",
          "data": {
            "text/plain": [
              "5"
            ]
          },
          "metadata": {
            "tags": []
          },
          "execution_count": 26
        }
      ]
    },
    {
      "cell_type": "code",
      "metadata": {
        "id": "j96wMTUr3Ip_",
        "colab_type": "code",
        "colab": {}
      },
      "source": [
        "#Randomly shuffling the records"
      ],
      "execution_count": 28,
      "outputs": []
    },
    {
      "cell_type": "code",
      "metadata": {
        "id": "Nx1yKAmu3b7b",
        "colab_type": "code",
        "colab": {
          "base_uri": "https://localhost:8080/",
          "height": 35
        },
        "outputId": "7e141c10-23db-4882-8c49-f15e2bde6be5"
      },
      "source": [
        "from sklearn.neighbors import KNeighborsClassifier\n",
        "model_knn  = KNeighborsClassifier(n_neighbors=7,metric='euclidean')\n",
        "# model will built for 5 timea-->for loop\n",
        "# some set of indices will be in test data and the remaining\n",
        "# be in training data\n",
        "# in each and every fold it is splitting training dat and testing data\n",
        "#KFold will return the indices of the records which are splitted to access the \n",
        "#records in the indices we are using iloc\n",
        "score=[]\n",
        "for train_index,test_index in kfold.split(X,y):\n",
        "  X_train,X_test = X.iloc[train_index],X.iloc[test_index]\n",
        "  y_train,y_test = y.iloc[train_index], y.iloc[test_index]\n",
        "\n",
        "  #pass the X_train ,y_train into knn algorithm\n",
        "  model_knn.fit(X_train,y_train)\n",
        "\n",
        "  #predict the model on  test data(X_test,y_test)\n",
        "  y_pred_test = model_knn.predict(X_test)\n",
        "\n",
        "  #accuracy score of predicted values(y_pred_test) and A.V(y_test)\n",
        "  accuracy = accuracy_score(y_test,y_pred_test)\n",
        "  score.append(accuracy)\n",
        "print(score)\n"
      ],
      "execution_count": 30,
      "outputs": [
        {
          "output_type": "stream",
          "text": [
            "[0.9122807017543859, 0.9035087719298246, 0.956140350877193, 0.9473684210526315, 0.9469026548672567]\n"
          ],
          "name": "stdout"
        }
      ]
    },
    {
      "cell_type": "code",
      "metadata": {
        "id": "Z_Ih8DAC6Pt3",
        "colab_type": "code",
        "colab": {}
      },
      "source": [
        ""
      ],
      "execution_count": null,
      "outputs": []
    }
  ]
}