{
  "nbformat": 4,
  "nbformat_minor": 0,
  "metadata": {
    "colab": {
      "name": "DAY 17(13-06-2020).ipynb",
      "provenance": [],
      "collapsed_sections": [],
      "authorship_tag": "ABX9TyMhH5iLEpaF5/aokHCTL9rM",
      "include_colab_link": true
    },
    "kernelspec": {
      "name": "python3",
      "display_name": "Python 3"
    }
  },
  "cells": [
    {
      "cell_type": "markdown",
      "metadata": {
        "id": "view-in-github",
        "colab_type": "text"
      },
      "source": [
        "<a href=\"https://colab.research.google.com/github/dubba1212/AIML/blob/master/DAY_17(13_06_2020).ipynb\" target=\"_parent\"><img src=\"https://colab.research.google.com/assets/colab-badge.svg\" alt=\"Open In Colab\"/></a>"
      ]
    },
    {
      "cell_type": "code",
      "metadata": {
        "id": "a2Xn0X_CClXD",
        "colab_type": "code",
        "colab": {}
      },
      "source": [
        "import pandas as pd\n",
        "import numpy as np"
      ],
      "execution_count": 0,
      "outputs": []
    },
    {
      "cell_type": "code",
      "metadata": {
        "id": "XXu7STIiCUUe",
        "colab_type": "code",
        "outputId": "24a0b20a-a87c-4c84-b54f-47fc6e823780",
        "colab": {
          "base_uri": "https://localhost:8080/",
          "height": 72
        }
      },
      "source": [
        "user_id=[1,1,2,3,3,4,4,4,5,5,]\n",
        "user=list(set(user_id))\n",
        "ancestry=[\"england\",\"ireland\",\"france\",\"germany\",\"poland\",\"england\",\"france\",\"germany\",\"france\",\"germany\"]\n",
        "r={}\n",
        "for i in range(0,len(user_id)):\n",
        "  if(user_id[i] not in r.keys()):\n",
        "    r[user_id[i]]=[]\n",
        "    r[user_id[i]].append(ancestry[i])\n",
        "  else:\n",
        "    r[user_id[i]].append(ancestry[i])\n",
        "required=['france','germany']\n",
        "print(r)\n",
        "for i in range(0,len(user)):\n",
        "  if(set(required).issubset(set(r[user[i]]))):\n",
        "    print(user[i])"
      ],
      "execution_count": 0,
      "outputs": [
        {
          "output_type": "stream",
          "text": [
            "{1: ['england', 'ireland'], 2: ['france'], 3: ['germany', 'poland'], 4: ['england', 'france', 'germany'], 5: ['france', 'germany']}\n",
            "4\n",
            "5\n"
          ],
          "name": "stdout"
        }
      ]
    },
    {
      "cell_type": "code",
      "metadata": {
        "id": "vilkVjAFVpg9",
        "colab_type": "code",
        "outputId": "e2c75bbd-ba69-48b9-93c4-32e7ad9f8a33",
        "colab": {
          "base_uri": "https://localhost:8080/",
          "height": 109
        }
      },
      "source": [
        "user_id=[1,1,2,3,3,4,4,4,5,5,]\n",
        "user=list(set(user_id))\n",
        "ancestry=[\"england\",\"ireland\",\"france\",\"germany\",\"poland\",\"england\",\"france\",\"germany\",\"france\",\"germany\"]\n",
        "dict1={}\n",
        "for i in user:\n",
        "  dict1[i]=[ancestry[j] for j in range(len(user_id)) if i==user_id[j]]\n",
        "dict1"
      ],
      "execution_count": 0,
      "outputs": [
        {
          "output_type": "execute_result",
          "data": {
            "text/plain": [
              "{1: ['england', 'ireland'],\n",
              " 2: ['france'],\n",
              " 3: ['germany', 'poland'],\n",
              " 4: ['england', 'france', 'germany'],\n",
              " 5: ['france', 'germany']}"
            ]
          },
          "metadata": {
            "tags": []
          },
          "execution_count": 8
        }
      ]
    },
    {
      "cell_type": "code",
      "metadata": {
        "id": "uJf_X0GfY7NH",
        "colab_type": "code",
        "colab": {
          "base_uri": "https://localhost:8080/",
          "height": 35
        },
        "outputId": "6e45c7a9-e526-4b5f-a7f5-9a32420c8a49"
      },
      "source": [
        "required =['france','gremany']\n",
        "for i in dict1.values():\n",
        "  flag=0\n",
        "  for j in required:\n",
        "    if j in i:\n",
        "      flag+=1\n",
        "  if flag==len(required):\n",
        "    for key,val in dict1.items():\n",
        "      if i==value:\n",
        "        print(key)\n",
        "print(dict1.values())"
      ],
      "execution_count": 13,
      "outputs": [
        {
          "output_type": "stream",
          "text": [
            "dict_values([['england', 'ireland'], ['france'], ['germany', 'poland'], ['england', 'france', 'germany'], ['france', 'germany']])\n"
          ],
          "name": "stdout"
        }
      ]
    },
    {
      "cell_type": "code",
      "metadata": {
        "id": "zfVSgnLtarHC",
        "colab_type": "code",
        "colab": {}
      },
      "source": [
        "required =['france','gremany']\n",
        "for i in dict1.values():\n",
        "  flag=0\n",
        "  for j in required:\n",
        "    if j in i:\n",
        "      flag+=1\n",
        "  if flag==len(required):\n",
        "    for key,val in dict1.items():\n",
        "      if i==value:\n",
        "        print(key)"
      ],
      "execution_count": 0,
      "outputs": []
    },
    {
      "cell_type": "code",
      "metadata": {
        "id": "7IJ1jOP-bmoV",
        "colab_type": "code",
        "colab": {}
      },
      "source": [
        ""
      ],
      "execution_count": 0,
      "outputs": []
    }
  ]
}