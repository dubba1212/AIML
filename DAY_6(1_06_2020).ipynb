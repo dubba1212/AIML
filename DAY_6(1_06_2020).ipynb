{
  "nbformat": 4,
  "nbformat_minor": 0,
  "metadata": {
    "colab": {
      "name": "DAY 6(1-06-2020).ipynb",
      "provenance": [],
      "authorship_tag": "ABX9TyMJ00nYH7Y23wrIdzpVziD8",
      "include_colab_link": true
    },
    "kernelspec": {
      "name": "python3",
      "display_name": "Python 3"
    }
  },
  "cells": [
    {
      "cell_type": "markdown",
      "metadata": {
        "id": "view-in-github",
        "colab_type": "text"
      },
      "source": [
        "<a href=\"https://colab.research.google.com/github/dubba1212/AIML/blob/master/DAY_6(1_06_2020).ipynb\" target=\"_parent\"><img src=\"https://colab.research.google.com/assets/colab-badge.svg\" alt=\"Open In Colab\"/></a>"
      ]
    },
    {
      "cell_type": "markdown",
      "metadata": {
        "id": "sA2K_E8T729v",
        "colab_type": "text"
      },
      "source": [
        "###file handling\n",
        "1. create\n",
        "2. write\n",
        "3. reading\n",
        "4. appending\n",
        "5. renaming\n",
        "6. removing"
      ]
    },
    {
      "cell_type": "code",
      "metadata": {
        "id": "q5FzUTz8_t4w",
        "colab_type": "code",
        "colab": {}
      },
      "source": [
        "#write mode\n",
        "f = open(\"sample.txt\",\"w\")\n",
        "f.write(\"dubba srikanth\")\n",
        "f.close()"
      ],
      "execution_count": 0,
      "outputs": []
    },
    {
      "cell_type": "code",
      "metadata": {
        "id": "afvEBqoTA0bo",
        "colab_type": "code",
        "colab": {}
      },
      "source": [
        "#write mode\n",
        "f = open(\"sample1.txt\",\"w\")\n",
        "f.write(\"dubba12\")\n",
        "f.close()"
      ],
      "execution_count": 0,
      "outputs": []
    },
    {
      "cell_type": "code",
      "metadata": {
        "id": "r6h3J_1wA7Qs",
        "colab_type": "code",
        "colab": {
          "base_uri": "https://localhost:8080/",
          "height": 36
        },
        "outputId": "5621898e-87db-428d-8d32-127d8cd8fa8c"
      },
      "source": [
        "#read mode\n",
        "f = open(\"sample1.txt\",\"r\")\n",
        "data = f.read()\n",
        "print(data)\n",
        "f.close()"
      ],
      "execution_count": 13,
      "outputs": [
        {
          "output_type": "stream",
          "text": [
            "dubba12\n"
          ],
          "name": "stdout"
        }
      ]
    },
    {
      "cell_type": "code",
      "metadata": {
        "id": "OhcjC4Xg_0OM",
        "colab_type": "code",
        "colab": {
          "base_uri": "https://localhost:8080/",
          "height": 36
        },
        "outputId": "a377119f-20e8-460b-80c5-b1a04e5c3902"
      },
      "source": [
        "#read mode\n",
        "f = open(\"sample.txt\",\"r\")\n",
        "data = f.read()\n",
        "print(data)\n",
        "f.close()"
      ],
      "execution_count": 8,
      "outputs": [
        {
          "output_type": "stream",
          "text": [
            "dubba srikanth\n"
          ],
          "name": "stdout"
        }
      ]
    },
    {
      "cell_type": "code",
      "metadata": {
        "id": "5e6mi1uo7qtK",
        "colab_type": "code",
        "colab": {}
      },
      "source": [
        "import os\n",
        "os.rename(\"sample.txt\",\"demo.txt\")"
      ],
      "execution_count": 0,
      "outputs": []
    },
    {
      "cell_type": "code",
      "metadata": {
        "id": "p794gQqr83Fk",
        "colab_type": "code",
        "colab": {}
      },
      "source": [
        "os.remove(\"demo.txt\")"
      ],
      "execution_count": 0,
      "outputs": []
    },
    {
      "cell_type": "code",
      "metadata": {
        "id": "g2OJhG_0AuJn",
        "colab_type": "code",
        "colab": {
          "base_uri": "https://localhost:8080/",
          "height": 36
        },
        "outputId": "b8c5c9be-f9cb-46d2-e2bb-315438786743"
      },
      "source": [
        "\n",
        "f = open(\"sample1.txt\",\"r\")\n",
        "data = f.read()\n",
        "print(data)\n",
        "f.close()"
      ],
      "execution_count": 14,
      "outputs": [
        {
          "output_type": "stream",
          "text": [
            "dubba12\n"
          ],
          "name": "stdout"
        }
      ]
    },
    {
      "cell_type": "code",
      "metadata": {
        "id": "wMTpt1Qw-aMF",
        "colab_type": "code",
        "colab": {
          "base_uri": "https://localhost:8080/",
          "height": 250
        },
        "outputId": "8ee93a14-0202-41dd-b5a1-4421c6a61c7f"
      },
      "source": [
        "#assignment question 5\n",
        "import os \n",
        "os.mkdir(\"dubba\")\n",
        "for i in range(2):\n",
        "  file_name=\" \"\n",
        "  f = open(\"file name\",\"a\")\n",
        "  for i in range(512):#adding content\n",
        "    f.write(\"character\")"
      ],
      "execution_count": 19,
      "outputs": [
        {
          "output_type": "error",
          "ename": "FileExistsError",
          "evalue": "ignored",
          "traceback": [
            "\u001b[0;31m---------------------------------------------------------------------------\u001b[0m",
            "\u001b[0;31mFileExistsError\u001b[0m                           Traceback (most recent call last)",
            "\u001b[0;32m<ipython-input-19-1e1f1ef13ea2>\u001b[0m in \u001b[0;36m<module>\u001b[0;34m()\u001b[0m\n\u001b[1;32m      1\u001b[0m \u001b[0;32mimport\u001b[0m \u001b[0mos\u001b[0m\u001b[0;34m\u001b[0m\u001b[0;34m\u001b[0m\u001b[0m\n\u001b[0;32m----> 2\u001b[0;31m \u001b[0mos\u001b[0m\u001b[0;34m.\u001b[0m\u001b[0mmkdir\u001b[0m\u001b[0;34m(\u001b[0m\u001b[0;34m\"dubba\"\u001b[0m\u001b[0;34m)\u001b[0m\u001b[0;34m\u001b[0m\u001b[0;34m\u001b[0m\u001b[0m\n\u001b[0m\u001b[1;32m      3\u001b[0m \u001b[0;32mfor\u001b[0m \u001b[0mi\u001b[0m \u001b[0;32min\u001b[0m \u001b[0mrange\u001b[0m\u001b[0;34m(\u001b[0m\u001b[0;36m2\u001b[0m\u001b[0;34m)\u001b[0m\u001b[0;34m:\u001b[0m\u001b[0;34m\u001b[0m\u001b[0;34m\u001b[0m\u001b[0m\n\u001b[1;32m      4\u001b[0m   \u001b[0mfile_name\u001b[0m\u001b[0;34m=\u001b[0m\u001b[0;34m\" \"\u001b[0m\u001b[0;34m\u001b[0m\u001b[0;34m\u001b[0m\u001b[0m\n\u001b[1;32m      5\u001b[0m   \u001b[0mf\u001b[0m \u001b[0;34m=\u001b[0m \u001b[0mopen\u001b[0m\u001b[0;34m(\u001b[0m\u001b[0;34m\"file name\"\u001b[0m\u001b[0;34m,\u001b[0m\u001b[0;34m\"a\"\u001b[0m\u001b[0;34m)\u001b[0m\u001b[0;34m\u001b[0m\u001b[0;34m\u001b[0m\u001b[0m\n",
            "\u001b[0;31mFileExistsError\u001b[0m: [Errno 17] File exists: 'dubba'"
          ]
        }
      ]
    },
    {
      "cell_type": "markdown",
      "metadata": {
        "id": "AXUZCzFKBD_-",
        "colab_type": "text"
      },
      "source": [
        "###Tuple:\n",
        "1. immutable(changes are not allowed)\n",
        "2. using() elements are seperated by ,\n",
        "3. indexed,ordered"
      ]
    },
    {
      "cell_type": "code",
      "metadata": {
        "id": "ShHJaA9MBYP4",
        "colab_type": "code",
        "colab": {
          "base_uri": "https://localhost:8080/",
          "height": 36
        },
        "outputId": "baecb3c3-ea8c-4f7a-9f71-84bcf5575565"
      },
      "source": [
        "#Tuple\n",
        "tup1 =(12,3,22.5,\"asd\",True)\n",
        "print(type(tup1))"
      ],
      "execution_count": 15,
      "outputs": [
        {
          "output_type": "stream",
          "text": [
            "<class 'tuple'>\n"
          ],
          "name": "stdout"
        }
      ]
    },
    {
      "cell_type": "code",
      "metadata": {
        "id": "CEq8EyoEB1y3",
        "colab_type": "code",
        "colab": {
          "base_uri": "https://localhost:8080/",
          "height": 54
        },
        "outputId": "dd9b1f66-4915-410d-875d-b86894d699a9"
      },
      "source": [
        "print(tup1[2])\n",
        "print(tup1[-1])\n"
      ],
      "execution_count": 16,
      "outputs": [
        {
          "output_type": "stream",
          "text": [
            "22.5\n",
            "True\n"
          ],
          "name": "stdout"
        }
      ]
    },
    {
      "cell_type": "code",
      "metadata": {
        "id": "FNrm-b-2CIWs",
        "colab_type": "code",
        "colab": {
          "base_uri": "https://localhost:8080/",
          "height": 36
        },
        "outputId": "79cd0f35-c5a9-47b6-bfc0-f085e43ef3b1"
      },
      "source": [
        "l = list(tup1)#convert tuple to list-->we cannot change values in tuple directly\n",
        "l[2]=100\n",
        "tup1 = tuple(l)#convert list to tuple\n",
        "tup1"
      ],
      "execution_count": 17,
      "outputs": [
        {
          "output_type": "execute_result",
          "data": {
            "text/plain": [
              "(12, 3, 100, 'asd', True)"
            ]
          },
          "metadata": {
            "tags": []
          },
          "execution_count": 17
        }
      ]
    },
    {
      "cell_type": "markdown",
      "metadata": {
        "id": "x80IFYLVDVDo",
        "colab_type": "text"
      },
      "source": [
        "###Built-in method:\n",
        "1. count()\n",
        "2. index()"
      ]
    },
    {
      "cell_type": "code",
      "metadata": {
        "id": "86oUGz5aCprj",
        "colab_type": "code",
        "colab": {
          "base_uri": "https://localhost:8080/",
          "height": 54
        },
        "outputId": "6d1d3733-7164-4905-8617-556449fc53ab"
      },
      "source": [
        "print(tup1.count(12))\n",
        "print(tup1.index(12))"
      ],
      "execution_count": 20,
      "outputs": [
        {
          "output_type": "stream",
          "text": [
            "1\n",
            "0\n"
          ],
          "name": "stdout"
        }
      ]
    },
    {
      "cell_type": "code",
      "metadata": {
        "id": "QOC-e2x3D0ZL",
        "colab_type": "code",
        "colab": {
          "base_uri": "https://localhost:8080/",
          "height": 36
        },
        "outputId": "b1d71ebe-60a6-4863-cb58-45d3628f2262"
      },
      "source": [
        "#unpacking\n",
        "tup2 = (12,24,35,11)\n",
        "a,b,c,d = tup2\n",
        "print(c)"
      ],
      "execution_count": 21,
      "outputs": [
        {
          "output_type": "stream",
          "text": [
            "35\n"
          ],
          "name": "stdout"
        }
      ]
    },
    {
      "cell_type": "code",
      "metadata": {
        "id": "FNpmHwAwEb1E",
        "colab_type": "code",
        "colab": {
          "base_uri": "https://localhost:8080/",
          "height": 54
        },
        "outputId": "dab4f42f-1388-427b-93ab-ab2318ef3924"
      },
      "source": [
        "#packing\n",
        "x = 11,12,13\n",
        "print(type(x))\n",
        "print(x)"
      ],
      "execution_count": 22,
      "outputs": [
        {
          "output_type": "stream",
          "text": [
            "<class 'tuple'>\n",
            "(11, 12, 13)\n"
          ],
          "name": "stdout"
        }
      ]
    },
    {
      "cell_type": "code",
      "metadata": {
        "id": "rO6sH3-IFBZI",
        "colab_type": "code",
        "colab": {
          "base_uri": "https://localhost:8080/",
          "height": 54
        },
        "outputId": "802618ee-732f-44c2-ed4f-3e2ebf6a3db3"
      },
      "source": [
        "#Tuole with single element\n",
        "z = (10,)\n",
        "print(type(z))\n",
        "print(z)"
      ],
      "execution_count": 23,
      "outputs": [
        {
          "output_type": "stream",
          "text": [
            "<class 'tuple'>\n",
            "(10,)\n"
          ],
          "name": "stdout"
        }
      ]
    },
    {
      "cell_type": "code",
      "metadata": {
        "id": "LI8v9DSZFrT1",
        "colab_type": "code",
        "colab": {
          "base_uri": "https://localhost:8080/",
          "height": 36
        },
        "outputId": "28c0e5ca-f781-4059-a0d9-0ee5bc2c5c53"
      },
      "source": [
        "#Iterating through Tuple\n",
        "for ele in x:\n",
        "  print(ele,end=\" \")"
      ],
      "execution_count": 27,
      "outputs": [
        {
          "output_type": "stream",
          "text": [
            "11 12 13 "
          ],
          "name": "stdout"
        }
      ]
    },
    {
      "cell_type": "markdown",
      "metadata": {
        "id": "6noyXDAYGNvG",
        "colab_type": "text"
      },
      "source": [
        "###set:\n",
        "1. { } using to create\n",
        "2. Does not allow duplicate\n",
        "3. not ordered\n",
        "4. unindexed\n",
        "5. mutable"
      ]
    },
    {
      "cell_type": "code",
      "metadata": {
        "id": "PwY9KY6EF5om",
        "colab_type": "code",
        "colab": {
          "base_uri": "https://localhost:8080/",
          "height": 36
        },
        "outputId": "70f3a175-f47c-48f6-d031-98834beb3bb5"
      },
      "source": [
        "s1 = {1,25,2,3,66,12,2,1}\n",
        "print(s1)"
      ],
      "execution_count": 31,
      "outputs": [
        {
          "output_type": "stream",
          "text": [
            "{1, 2, 3, 66, 12, 25}\n"
          ],
          "name": "stdout"
        }
      ]
    },
    {
      "cell_type": "code",
      "metadata": {
        "id": "3TYydO12G0li",
        "colab_type": "code",
        "colab": {
          "base_uri": "https://localhost:8080/",
          "height": 36
        },
        "outputId": "d286376f-85ea-4171-8146-4f0932dedd10"
      },
      "source": [
        "for ele in s1:\n",
        "  print(ele,end=\" \")"
      ],
      "execution_count": 33,
      "outputs": [
        {
          "output_type": "stream",
          "text": [
            "1 2 3 66 12 25 "
          ],
          "name": "stdout"
        }
      ]
    },
    {
      "cell_type": "markdown",
      "metadata": {
        "id": "Js5fNVOeIPtB",
        "colab_type": "text"
      },
      "source": [
        "###Built-in functions:\n",
        "1. len()\n",
        "2. min()\n",
        "3. max()\n",
        "4. set()"
      ]
    },
    {
      "cell_type": "code",
      "metadata": {
        "id": "okY_Ku9RHtd5",
        "colab_type": "code",
        "colab": {
          "base_uri": "https://localhost:8080/",
          "height": 92
        },
        "outputId": "aa566f58-7a5e-4b6e-a959-8c4d699ed6bd"
      },
      "source": [
        "s={11,12,14,78,22,98}\n",
        "print(s)\n",
        "print(len(s))\n",
        "print(min(s))\n",
        "print(max(s))"
      ],
      "execution_count": 36,
      "outputs": [
        {
          "output_type": "stream",
          "text": [
            "{98, 11, 12, 78, 14, 22}\n",
            "6\n",
            "11\n",
            "98\n"
          ],
          "name": "stdout"
        }
      ]
    },
    {
      "cell_type": "code",
      "metadata": {
        "id": "TEgvqfQoIxbg",
        "colab_type": "code",
        "colab": {
          "base_uri": "https://localhost:8080/",
          "height": 36
        },
        "outputId": "62802efa-5e9f-4415-a5cd-76a2f79fd13e"
      },
      "source": [
        "#removing duplicate from list\n",
        "l1 = [1,2,3,4,1,2,11,12]\n",
        "l1 = set(l1)\n",
        "print(l1)"
      ],
      "execution_count": 38,
      "outputs": [
        {
          "output_type": "stream",
          "text": [
            "{1, 2, 3, 4, 11, 12}\n"
          ],
          "name": "stdout"
        }
      ]
    },
    {
      "cell_type": "markdown",
      "metadata": {
        "id": "hSApNqUhJY8S",
        "colab_type": "text"
      },
      "source": [
        "###Built-in methods:\n",
        "1. add()\n",
        "###removing element\n",
        "1. pop()\n",
        "2. discard()\n",
        "3. remove()\n",
        "4. clear()"
      ]
    },
    {
      "cell_type": "code",
      "metadata": {
        "id": "vSku0qAoJKEU",
        "colab_type": "code",
        "colab": {
          "base_uri": "https://localhost:8080/",
          "height": 36
        },
        "outputId": "9292e20e-635e-47ce-e005-b9b4052ed44b"
      },
      "source": [
        "s2 = set()\n",
        "print(type(s2))"
      ],
      "execution_count": 39,
      "outputs": [
        {
          "output_type": "stream",
          "text": [
            "<class 'set'>\n"
          ],
          "name": "stdout"
        }
      ]
    },
    {
      "cell_type": "code",
      "metadata": {
        "id": "5BMt6eyXKWaL",
        "colab_type": "code",
        "colab": {
          "base_uri": "https://localhost:8080/",
          "height": 36
        },
        "outputId": "14225fb2-77f4-493d-b22e-bf5e5b5b6055"
      },
      "source": [
        "#adding elements\n",
        "s2.add(11)\n",
        "s2.add(12)\n",
        "s2.add(13)\n",
        "print(s2)"
      ],
      "execution_count": 40,
      "outputs": [
        {
          "output_type": "stream",
          "text": [
            "{11, 12, 13}\n"
          ],
          "name": "stdout"
        }
      ]
    },
    {
      "cell_type": "code",
      "metadata": {
        "id": "qwM_o6_dKf9f",
        "colab_type": "code",
        "colab": {
          "base_uri": "https://localhost:8080/",
          "height": 36
        },
        "outputId": "25d43fd6-ab04-4e03-bee8-1f0d66fe19d3"
      },
      "source": [
        "#pop\n",
        "s2.pop()\n"
      ],
      "execution_count": 49,
      "outputs": [
        {
          "output_type": "execute_result",
          "data": {
            "text/plain": [
              "7"
            ]
          },
          "metadata": {
            "tags": []
          },
          "execution_count": 49
        }
      ]
    },
    {
      "cell_type": "code",
      "metadata": {
        "id": "r9ii40XkLRNZ",
        "colab_type": "code",
        "colab": {
          "base_uri": "https://localhost:8080/",
          "height": 36
        },
        "outputId": "26d7173b-b112-41dd-ecad-34a2ca1c46d0"
      },
      "source": [
        "s2.add(9)\n",
        "s2.add(8)\n",
        "s2.add(7)\n",
        "s2"
      ],
      "execution_count": 46,
      "outputs": [
        {
          "output_type": "execute_result",
          "data": {
            "text/plain": [
              "{7, 8, 9}"
            ]
          },
          "metadata": {
            "tags": []
          },
          "execution_count": 46
        }
      ]
    },
    {
      "cell_type": "code",
      "metadata": {
        "id": "L5F6S4LgLoA7",
        "colab_type": "code",
        "colab": {
          "base_uri": "https://localhost:8080/",
          "height": 36
        },
        "outputId": "cf0b5796-eb71-4271-b742-870c9e1c21a1"
      },
      "source": [
        "s2.remove(8)\n",
        "print(s2)"
      ],
      "execution_count": 47,
      "outputs": [
        {
          "output_type": "stream",
          "text": [
            "{7, 9}\n"
          ],
          "name": "stdout"
        }
      ]
    },
    {
      "cell_type": "code",
      "metadata": {
        "id": "y4NwX5WSLvXw",
        "colab_type": "code",
        "colab": {}
      },
      "source": [
        "s2.discard(12)"
      ],
      "execution_count": 0,
      "outputs": []
    },
    {
      "cell_type": "code",
      "metadata": {
        "id": "XrOdAawQL4nv",
        "colab_type": "code",
        "colab": {
          "base_uri": "https://localhost:8080/",
          "height": 36
        },
        "outputId": "4b993593-dd1f-4f03-d329-be044fee23f6"
      },
      "source": [
        "s2.add(6)\n",
        "s2.add(5)\n",
        "s2"
      ],
      "execution_count": 50,
      "outputs": [
        {
          "output_type": "execute_result",
          "data": {
            "text/plain": [
              "{5, 6, 9}"
            ]
          },
          "metadata": {
            "tags": []
          },
          "execution_count": 50
        }
      ]
    },
    {
      "cell_type": "code",
      "metadata": {
        "id": "K9l9G7ijMEpJ",
        "colab_type": "code",
        "colab": {
          "base_uri": "https://localhost:8080/",
          "height": 36
        },
        "outputId": "6831038c-7cda-4821-cc69-a5536a2294a0"
      },
      "source": [
        "s2.clear()\n",
        "s2"
      ],
      "execution_count": 51,
      "outputs": [
        {
          "output_type": "execute_result",
          "data": {
            "text/plain": [
              "set()"
            ]
          },
          "metadata": {
            "tags": []
          },
          "execution_count": 51
        }
      ]
    },
    {
      "cell_type": "code",
      "metadata": {
        "id": "b_Ec64N5MTW_",
        "colab_type": "code",
        "colab": {
          "base_uri": "https://localhost:8080/",
          "height": 92
        },
        "outputId": "52324ca0-0777-4844-b6d8-c6de945cdebe"
      },
      "source": [
        "#union,difference,intersection\n",
        "A = {1,2,3,4,5}\n",
        "B = {3,4,5,6,7}\n",
        "#union A U B -->{1,2,3,4,5,6,7}\n",
        "print(A.union(B))\n",
        "#difference a-b=1,2\n",
        "#b-a=6,7\n",
        "print(A.difference(B))\n",
        "print(B.difference(A))\n",
        "#intersection A and B -->{3,4,5}\n",
        "print(A.intersection(B))"
      ],
      "execution_count": 55,
      "outputs": [
        {
          "output_type": "stream",
          "text": [
            "{1, 2, 3, 4, 5, 6, 7}\n",
            "{1, 2}\n",
            "{6, 7}\n",
            "{3, 4, 5}\n"
          ],
          "name": "stdout"
        }
      ]
    },
    {
      "cell_type": "code",
      "metadata": {
        "id": "x3GJbK-mO2_K",
        "colab_type": "code",
        "colab": {
          "base_uri": "https://localhost:8080/",
          "height": 92
        },
        "outputId": "22d9e9a1-cf38-44b7-fd6b-1d49a6352df3"
      },
      "source": [
        "#subset,super set,disjoint\n",
        "#symmetric difference\n",
        "c = {1,2,3,4,5,6,7,8,9,10}\n",
        "#subset\n",
        "print(A.issubset(c))\n",
        "print(A.issubset(B))\n",
        "print(c.issuperset(A))\n",
        "print(c.issuperset(B))"
      ],
      "execution_count": 59,
      "outputs": [
        {
          "output_type": "stream",
          "text": [
            "True\n",
            "False\n",
            "True\n",
            "True\n"
          ],
          "name": "stdout"
        }
      ]
    },
    {
      "cell_type": "code",
      "metadata": {
        "id": "8gXMmrLsPulu",
        "colab_type": "code",
        "colab": {
          "base_uri": "https://localhost:8080/",
          "height": 54
        },
        "outputId": "799c4b82-4ed6-4587-aa5f-2f99e3c68108"
      },
      "source": [
        "#disjoint\n",
        "x = {1,2}\n",
        "z = {23,34,45}\n",
        "print(A.isdisjoint(B))\n",
        "print(x.isdisjoint(z))"
      ],
      "execution_count": 60,
      "outputs": [
        {
          "output_type": "stream",
          "text": [
            "False\n",
            "True\n"
          ],
          "name": "stdout"
        }
      ]
    },
    {
      "cell_type": "code",
      "metadata": {
        "id": "Sypf6-1HRQWo",
        "colab_type": "code",
        "colab": {
          "base_uri": "https://localhost:8080/",
          "height": 36
        },
        "outputId": "63d9b82f-041c-4caf-a4f0-e5d610736363"
      },
      "source": [
        "#symmetric difference (A-B U B-A),common elements are removed\n",
        "print(A.symmetric_difference(B))"
      ],
      "execution_count": 61,
      "outputs": [
        {
          "output_type": "stream",
          "text": [
            "{1, 2, 6, 7}\n"
          ],
          "name": "stdout"
        }
      ]
    },
    {
      "cell_type": "code",
      "metadata": {
        "id": "9dbyJeqHR8OC",
        "colab_type": "code",
        "colab": {
          "base_uri": "https://localhost:8080/",
          "height": 54
        },
        "outputId": "6ff79689-169b-4814-d1d9-495beeef30b3"
      },
      "source": [
        "A.update(B)#A = A union B\n",
        "print(A)\n",
        "print(B)"
      ],
      "execution_count": 62,
      "outputs": [
        {
          "output_type": "stream",
          "text": [
            "{1, 2, 3, 4, 5, 6, 7}\n",
            "{3, 4, 5, 6, 7}\n"
          ],
          "name": "stdout"
        }
      ]
    },
    {
      "cell_type": "code",
      "metadata": {
        "id": "qD4g0XF3TO90",
        "colab_type": "code",
        "colab": {
          "base_uri": "https://localhost:8080/",
          "height": 54
        },
        "outputId": "1202778b-211e-4dfa-954e-9c409ccc9ce6"
      },
      "source": [
        "A.intersection_update(B)\n",
        "print(A)\n",
        "print(B)"
      ],
      "execution_count": 63,
      "outputs": [
        {
          "output_type": "stream",
          "text": [
            "{3, 4, 5, 6, 7}\n",
            "{3, 4, 5, 6, 7}\n"
          ],
          "name": "stdout"
        }
      ]
    },
    {
      "cell_type": "code",
      "metadata": {
        "id": "uc00fxEyTWM-",
        "colab_type": "code",
        "colab": {
          "base_uri": "https://localhost:8080/",
          "height": 54
        },
        "outputId": "5aa62188-a61c-4bad-a8d7-37a462d8626b"
      },
      "source": [
        "A.difference_update(B)\n",
        "print(A)\n",
        "print(B)"
      ],
      "execution_count": 64,
      "outputs": [
        {
          "output_type": "stream",
          "text": [
            "set()\n",
            "{3, 4, 5, 6, 7}\n"
          ],
          "name": "stdout"
        }
      ]
    },
    {
      "cell_type": "code",
      "metadata": {
        "id": "ujvFMBIQTcrE",
        "colab_type": "code",
        "colab": {
          "base_uri": "https://localhost:8080/",
          "height": 54
        },
        "outputId": "fb12c141-31f8-466f-8ae9-01e59cf5c78e"
      },
      "source": [
        "A ={1,2,3}\n",
        "B ={2,3,4}\n",
        "print(A.difference(B))\n",
        "print(B.difference(A))\n"
      ],
      "execution_count": 69,
      "outputs": [
        {
          "output_type": "stream",
          "text": [
            "{1}\n",
            "{4}\n"
          ],
          "name": "stdout"
        }
      ]
    },
    {
      "cell_type": "markdown",
      "metadata": {
        "id": "1TobYiz4VssQ",
        "colab_type": "text"
      },
      "source": [
        "###Dictionary:\n",
        "\n",
        "dictionary name ={key1:value,key2:key2,....}\n",
        "\n",
        "Rules for key:\n",
        "1. Keys should be unique\n",
        "2. Keys should be immutable(example-numeric,string,tuple)"
      ]
    },
    {
      "cell_type": "code",
      "metadata": {
        "id": "Dbki6_qwW-sZ",
        "colab_type": "code",
        "colab": {
          "base_uri": "https://localhost:8080/",
          "height": 36
        },
        "outputId": "14acf782-86e8-41c7-95d5-da9b4c88146d"
      },
      "source": [
        "#creating a dictionary\n",
        "d1 = {\"name\":\"dubba\",\"rollno\":221710315052,\"address\":\"home\",\"rollno\":123}\n",
        "print(d1)"
      ],
      "execution_count": 67,
      "outputs": [
        {
          "output_type": "stream",
          "text": [
            "{'name': 'dubba', 'rollno': 123, 'address': 'home'}\n"
          ],
          "name": "stdout"
        }
      ]
    },
    {
      "cell_type": "code",
      "metadata": {
        "id": "57h5vkAtX0ob",
        "colab_type": "code",
        "colab": {
          "base_uri": "https://localhost:8080/",
          "height": 36
        },
        "outputId": "87e4a71b-e9b2-40fc-cc4b-744d7643d780"
      },
      "source": [
        "#extracting an element\n",
        "print(d1[\"rollno\"])"
      ],
      "execution_count": 68,
      "outputs": [
        {
          "output_type": "stream",
          "text": [
            "123\n"
          ],
          "name": "stdout"
        }
      ]
    },
    {
      "cell_type": "code",
      "metadata": {
        "id": "DN5L_g2GYP4J",
        "colab_type": "code",
        "colab": {
          "base_uri": "https://localhost:8080/",
          "height": 36
        },
        "outputId": "5037fc82-2970-4d14-ac26-4df2863bedc3"
      },
      "source": [
        "#removing or deleting an entry\n",
        "del d1[\"address\"]\n",
        "print(d1)"
      ],
      "execution_count": 70,
      "outputs": [
        {
          "output_type": "stream",
          "text": [
            "{'name': 'dubba', 'rollno': 123}\n"
          ],
          "name": "stdout"
        }
      ]
    },
    {
      "cell_type": "code",
      "metadata": {
        "id": "GZEv4dTrZiq6",
        "colab_type": "code",
        "colab": {
          "base_uri": "https://localhost:8080/",
          "height": 36
        },
        "outputId": "187803da-a05f-47fb-d2b4-e5e2167d4f8b"
      },
      "source": [
        "#adding an entry\n",
        "d1[\"course\"]=\"python\"\n",
        "print(d1)"
      ],
      "execution_count": 71,
      "outputs": [
        {
          "output_type": "stream",
          "text": [
            "{'name': 'dubba', 'rollno': 123, 'course': 'python'}\n"
          ],
          "name": "stdout"
        }
      ]
    },
    {
      "cell_type": "markdown",
      "metadata": {
        "id": "kDk-qYm1aglS",
        "colab_type": "text"
      },
      "source": [
        "###Built-in methods:\n",
        "1. clear()\n",
        "2. copy()\n",
        "3. keys()\n",
        "4. items()\n",
        "5. get()\n",
        "6. pop()\n",
        "7. popitem()"
      ]
    },
    {
      "cell_type": "code",
      "metadata": {
        "id": "KzBTaVYCZKYq",
        "colab_type": "code",
        "colab": {}
      },
      "source": [
        "# use this for help--->help(\"dict\")"
      ],
      "execution_count": 0,
      "outputs": []
    },
    {
      "cell_type": "code",
      "metadata": {
        "id": "A-vinydcazP-",
        "colab_type": "code",
        "colab": {
          "base_uri": "https://localhost:8080/",
          "height": 73
        },
        "outputId": "6d224437-f5a5-4d24-b71d-648d76bc4015"
      },
      "source": [
        "print(d1.keys())\n",
        "print(d1.values())\n",
        "print(d1.items())"
      ],
      "execution_count": 74,
      "outputs": [
        {
          "output_type": "stream",
          "text": [
            "dict_keys(['name', 'rollno', 'course'])\n",
            "dict_values(['dubba', 123, 'python'])\n",
            "dict_items([('name', 'dubba'), ('rollno', 123), ('course', 'python')])\n"
          ],
          "name": "stdout"
        }
      ]
    },
    {
      "cell_type": "code",
      "metadata": {
        "id": "xL4EdVmrbL5q",
        "colab_type": "code",
        "colab": {
          "base_uri": "https://localhost:8080/",
          "height": 54
        },
        "outputId": "ef597e23-9aec-4ea6-dfb0-b74ba4193fc0"
      },
      "source": [
        "#extracting element\n",
        "print(d1[\"name\"])\n",
        "print(d1.get(\"name\"))#using methods"
      ],
      "execution_count": 76,
      "outputs": [
        {
          "output_type": "stream",
          "text": [
            "dubba\n",
            "dubba\n"
          ],
          "name": "stdout"
        }
      ]
    },
    {
      "cell_type": "code",
      "metadata": {
        "id": "lATdMHhebsgY",
        "colab_type": "code",
        "colab": {
          "base_uri": "https://localhost:8080/",
          "height": 36
        },
        "outputId": "f7ceeea8-4657-4102-d7d2-f6d7a47c1364"
      },
      "source": [
        "#adding an entry\n",
        "d1[\"address\"]=\"home\"\n",
        "d1"
      ],
      "execution_count": 77,
      "outputs": [
        {
          "output_type": "execute_result",
          "data": {
            "text/plain": [
              "{'address': 'home', 'course': 'python', 'name': 'dubba', 'rollno': 123}"
            ]
          },
          "metadata": {
            "tags": []
          },
          "execution_count": 77
        }
      ]
    },
    {
      "cell_type": "code",
      "metadata": {
        "id": "mlwt4sNyb2Es",
        "colab_type": "code",
        "colab": {
          "base_uri": "https://localhost:8080/",
          "height": 36
        },
        "outputId": "6de1a584-983a-4058-f64f-feeee711d1d2"
      },
      "source": [
        "d = {1:2,2:3,3:4}\n",
        "d1.update(d)\n",
        "print(d1)"
      ],
      "execution_count": 78,
      "outputs": [
        {
          "output_type": "stream",
          "text": [
            "{'name': 'dubba', 'rollno': 123, 'course': 'python', 'address': 'home', 1: 2, 2: 3, 3: 4}\n"
          ],
          "name": "stdout"
        }
      ]
    },
    {
      "cell_type": "code",
      "metadata": {
        "id": "X8k-NFwtcDm0",
        "colab_type": "code",
        "colab": {
          "base_uri": "https://localhost:8080/",
          "height": 36
        },
        "outputId": "a57558a2-0a94-443b-df00-0767455d4f2a"
      },
      "source": [
        "#removing pop()-->it take key to remove it from dictionary\n",
        "#popitems()-->removes last element\n",
        "d1.pop(1)\n",
        "print(d1)"
      ],
      "execution_count": 80,
      "outputs": [
        {
          "output_type": "stream",
          "text": [
            "{'name': 'dubba', 'rollno': 123, 'course': 'python', 'address': 'home', 2: 3, 3: 4}\n"
          ],
          "name": "stdout"
        }
      ]
    },
    {
      "cell_type": "code",
      "metadata": {
        "id": "Ocnq7n-DcLCM",
        "colab_type": "code",
        "colab": {
          "base_uri": "https://localhost:8080/",
          "height": 36
        },
        "outputId": "e498ddfb-a0f2-4abd-adf5-fe4578a598e1"
      },
      "source": [
        "d1.popitem()\n",
        "print(d1)"
      ],
      "execution_count": 84,
      "outputs": [
        {
          "output_type": "stream",
          "text": [
            "{'name': 'dubba', 'rollno': 123, 'course': 'python', 'address': 'home'}\n"
          ],
          "name": "stdout"
        }
      ]
    },
    {
      "cell_type": "code",
      "metadata": {
        "id": "i7lTDzvjccds",
        "colab_type": "code",
        "colab": {}
      },
      "source": [
        ""
      ],
      "execution_count": 0,
      "outputs": []
    }
  ]
}