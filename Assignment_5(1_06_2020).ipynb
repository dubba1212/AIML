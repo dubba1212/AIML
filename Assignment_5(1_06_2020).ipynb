{
  "nbformat": 4,
  "nbformat_minor": 0,
  "metadata": {
    "colab": {
      "name": "Assignment 5(1-06-2020).ipynb",
      "provenance": [],
      "authorship_tag": "ABX9TyPiLMLW63kj5yRQ5l6T8uZk",
      "include_colab_link": true
    },
    "kernelspec": {
      "name": "python3",
      "display_name": "Python 3"
    }
  },
  "cells": [
    {
      "cell_type": "markdown",
      "metadata": {
        "id": "view-in-github",
        "colab_type": "text"
      },
      "source": [
        "<a href=\"https://colab.research.google.com/github/dubba1212/AIML/blob/master/Assignment_5(1_06_2020).ipynb\" target=\"_parent\"><img src=\"https://colab.research.google.com/assets/colab-badge.svg\" alt=\"Open In Colab\"/></a>"
      ]
    },
    {
      "cell_type": "markdown",
      "metadata": {
        "id": "A2-Ro1rUk4dK",
        "colab_type": "text"
      },
      "source": [
        "**1** password picker program"
      ]
    },
    {
      "cell_type": "code",
      "metadata": {
        "id": "xk6B1XUE4QJ2",
        "colab_type": "code",
        "colab": {
          "base_uri": "https://localhost:8080/",
          "height": 186
        },
        "outputId": "4953734e-ff91-4dc3-a733-8ded273e5572"
      },
      "source": [
        "import random\n",
        "import string\n",
        "l1=[\"charming\",\"cruel\",\"fantastic\",\"gentle\",\"huge\",\"abject\",\"yummy\",\"legal\",\"versed\",\"second-hand\",\"perfect\"]\n",
        "l2=[\"life\",\"power\",\"army\",\"team\",\"village\",\"blackboard\",\"weakness\",\"nation\",\"temperature\",\"exam\",\"coffee\"]\n",
        "n=string.punctuation #gives punctuation character\n",
        "while(1):\n",
        "  n1=random.randint(0,11)\n",
        "  n2=random.randint(0,11)\n",
        "  n3=random.randint(0,100)\n",
        "  n4=random.choice(n)\n",
        "  print(l1[n1]+l2[n2],end=\"\")\n",
        "  print(n3,end=\"\")\n",
        "  print(n4)\n",
        "  key=int(input(\"\\n if you want to change the password press 1 else 0:\"))\n",
        "  if(key==0):\n",
        "    break\n",
        "  else:\n",
        "    continue"
      ],
      "execution_count": 3,
      "outputs": [
        {
          "output_type": "stream",
          "text": [
            "versedteam80'\n",
            "\n",
            " if you want to change the password press 1 else 0:1\n",
            "charmingteam99-\n",
            "\n",
            " if you want to change the password press 1 else 0:1\n",
            "perfectlife92:\n",
            "\n",
            " if you want to change the password press 1 else 0:0\n"
          ],
          "name": "stdout"
        }
      ]
    },
    {
      "cell_type": "code",
      "metadata": {
        "id": "7xdrTyaSo9h7",
        "colab_type": "code",
        "colab": {}
      },
      "source": [
        ""
      ],
      "execution_count": 0,
      "outputs": []
    }
  ]
}