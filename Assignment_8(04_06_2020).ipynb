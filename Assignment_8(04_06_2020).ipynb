{
  "nbformat": 4,
  "nbformat_minor": 0,
  "metadata": {
    "colab": {
      "name": "Assignment 8(04-06-2020).ipynb",
      "provenance": [],
      "authorship_tag": "ABX9TyMPeQ/SQcuReJddWgVOW402",
      "include_colab_link": true
    },
    "kernelspec": {
      "name": "python3",
      "display_name": "Python 3"
    }
  },
  "cells": [
    {
      "cell_type": "markdown",
      "metadata": {
        "id": "view-in-github",
        "colab_type": "text"
      },
      "source": [
        "<a href=\"https://colab.research.google.com/github/dubba1212/AIML/blob/master/Assignment_8(04_06_2020).ipynb\" target=\"_parent\"><img src=\"https://colab.research.google.com/assets/colab-badge.svg\" alt=\"Open In Colab\"/></a>"
      ]
    },
    {
      "cell_type": "markdown",
      "metadata": {
        "id": "UIDMYZ6w5bZ_",
        "colab_type": "text"
      },
      "source": [
        "**1**\n",
        "[Reversing an Array] \n",
        "Write a NumPy program to reverse an array (first element becomes last). \n",
        "\n",
        "\n",
        "Original array:\n",
        "[12 13 14 15 16 17 18 19 20 21 22 23 24 25 26 27 28 29 30 31 32 33 34 35 36 37]\n",
        "\n",
        "\n",
        "Reverse array:\n",
        "[37 36 35 34 33 32 31 30 29 28 27 26 25 24 23 22 21 20 19 18 17 16 15 14 13 12]\n"
      ]
    },
    {
      "cell_type": "code",
      "metadata": {
        "id": "F6yQTveV5Uyx",
        "colab_type": "code",
        "colab": {
          "base_uri": "https://localhost:8080/",
          "height": 72
        },
        "outputId": "2bbd1c3c-823f-4eb3-f778-c672b777a2df"
      },
      "source": [
        "import numpy as np\n",
        "a=np.arange(12,38)\n",
        "print(\"orginal array:-\",a)\n",
        "a=list(a)\n",
        "a.reverse()\n",
        "print(\"Reverse array:-\",a)"
      ],
      "execution_count": 7,
      "outputs": [
        {
          "output_type": "stream",
          "text": [
            "orginal array:- [12 13 14 15 16 17 18 19 20 21 22 23 24 25 26 27 28 29 30 31 32 33 34 35\n",
            " 36 37]\n",
            "Reverse array:- [37, 36, 35, 34, 33, 32, 31, 30, 29, 28, 27, 26, 25, 24, 23, 22, 21, 20, 19, 18, 17, 16, 15, 14, 13, 12]\n"
          ],
          "name": "stdout"
        }
      ]
    },
    {
      "cell_type": "markdown",
      "metadata": {
        "id": "u7AQEP6i5cX1",
        "colab_type": "text"
      },
      "source": [
        "**2**\n",
        "[Make Border 1] \n",
        "Write a NumPy program to create a 2d array with 1 on the border and 0 inside. \n",
        "Original array:\n",
        "[[ 1. 1. 1. 1. 1.]\n",
        "...................\n",
        "[ 1. 1. 1. 1. 1.]]\n",
        "1 on the border and 0 inside in the array\n"
      ]
    },
    {
      "cell_type": "code",
      "metadata": {
        "id": "O2Joj1ej5b5n",
        "colab_type": "code",
        "colab": {
          "base_uri": "https://localhost:8080/",
          "height": 127
        },
        "outputId": "e47697d2-558a-43e9-aa98-3e87bf8437ae"
      },
      "source": [
        "m=int(input(\"enter no of rows\"))\n",
        "n=int(input(\"enter no of columns\"))\n",
        "a=np.arange(m*n).reshape(m,n)\n",
        "for i in range(m):\n",
        "  for j in range(n):\n",
        "    if(i==0 or i==m-1 or j==0 or j==n-1):\n",
        "      a[i][j]=1\n",
        "    else:\n",
        "      a[i][j]=0\n",
        "print(a)"
      ],
      "execution_count": 9,
      "outputs": [
        {
          "output_type": "stream",
          "text": [
            "enter no of rows4\n",
            "enter no of columns4\n",
            "[[1 1 1 1]\n",
            " [1 0 0 1]\n",
            " [1 0 0 1]\n",
            " [1 1 1 1]]\n"
          ],
          "name": "stdout"
        }
      ]
    },
    {
      "cell_type": "markdown",
      "metadata": {
        "id": "sJEoX1Db5djm",
        "colab_type": "text"
      },
      "source": [
        "**3**\n",
        "[Membership Test] \n",
        "Write a NumPy program to test whether each element of a 1-D array is also present in a second array.\n"
      ]
    },
    {
      "cell_type": "code",
      "metadata": {
        "id": "sjpY_ool5dD7",
        "colab_type": "code",
        "colab": {
          "base_uri": "https://localhost:8080/",
          "height": 201
        },
        "outputId": "da72ced1-dcbe-41b9-e038-a773fdbcf767"
      },
      "source": [
        "import numpy as np\n",
        "a1 = np.array([],dtype=\"int32\")\n",
        "a2 = np.array([],dtype=\"int32\")\n",
        "m=int(input(\"enter size of array 1:-\"))\n",
        "for i in range(0,m):\n",
        "  a1 = np.append(a1,int(input(\"enter values:-\")))\n",
        "n=int(input(\"enter size of array 2:-\"))\n",
        "for j in range(0,n):\n",
        "  a2 = np.append(a2,int(input()))\n",
        "r=np.array([],dtype=bool)\n",
        "for i in a1:\n",
        "  if i in a2:\n",
        "    r=np.append(r,True)\n",
        "  else:\n",
        "    r=np.append(r,False)\n",
        "print(r)"
      ],
      "execution_count": 10,
      "outputs": [
        {
          "output_type": "stream",
          "text": [
            "enter size of array 1:-5\n",
            "enter values:-0\n",
            "enter values:-10\n",
            "enter values:-20\n",
            "enter values:-40\n",
            "enter values:-60\n",
            "enter size of array 2:-2\n",
            "0\n",
            "40\n",
            "[ True False False  True False]\n"
          ],
          "name": "stdout"
        }
      ]
    },
    {
      "cell_type": "markdown",
      "metadata": {
        "id": "zGPuu8Pi5eND",
        "colab_type": "text"
      },
      "source": [
        "**4**\n",
        "[Set Difference] \n",
        "Write a NumPy program to find the set difference of two arrays. The set difference will return the sorted, unique values in array1 that are not in array2.\n"
      ]
    },
    {
      "cell_type": "code",
      "metadata": {
        "id": "H7gWYiU65ep1",
        "colab_type": "code",
        "colab": {
          "base_uri": "https://localhost:8080/",
          "height": 293
        },
        "outputId": "8400cfde-58c9-43a4-deb7-d9bd15de3331"
      },
      "source": [
        "import numpy as np\n",
        "a1 = np.array([],dtype=\"int32\")\n",
        "a2 = np.array([],dtype=\"int32\")\n",
        "m=int(input(\"enter size of array 1:-\"))\n",
        "for i in range(0,m):\n",
        "  a1 = np.append(a1,int(input(\"enter values:-\")))\n",
        "n=int(input(\"enter size of array 2:-\"))\n",
        "for j in range(0,n):\n",
        "  a2 = np.append(a2,int(input(\"enter values:-\")))\n",
        "r=np.array([],dtype=bool)\n",
        "for i in a1:\n",
        "  if i not in a2:\n",
        "   r=np.append(r,i)\n",
        "print(r)"
      ],
      "execution_count": 12,
      "outputs": [
        {
          "output_type": "stream",
          "text": [
            "enter size of array 1:-6\n",
            "enter values:-0\n",
            "enter values:-10\n",
            "enter values:-20\n",
            "enter values:-40\n",
            "enter values:-60\n",
            "enter values:-80\n",
            "enter size of array 2:-6\n",
            "enter values:-10\n",
            "enter values:-30\n",
            "enter values:-40\n",
            "enter values:-50\n",
            "enter values:-70\n",
            "enter values:-90\n",
            "[ 0 20 60 80]\n"
          ],
          "name": "stdout"
        }
      ]
    },
    {
      "cell_type": "markdown",
      "metadata": {
        "id": "h7fnVgEC5fHs",
        "colab_type": "text"
      },
      "source": [
        "**5**\n",
        "[Formation of Diagonal Matrix] \n",
        "Write a NumPy program to create a 2-D array whose diagonal equals [4, 5, 6, 8] and 0's elsewhere.\n"
      ]
    },
    {
      "cell_type": "code",
      "metadata": {
        "id": "ZmtwIzNR5fk8",
        "colab_type": "code",
        "colab": {
          "base_uri": "https://localhost:8080/",
          "height": 90
        },
        "outputId": "49e80da2-7ecf-47f4-f901-a89ce50c83da"
      },
      "source": [
        "a1=np.array([4,5,6,8])\n",
        "a2=np.arange(16).reshape(4,4)\n",
        "k=0\n",
        "for i in range(0,4):\n",
        "  for j in range(0,4):\n",
        "    if(i==j):\n",
        "      a2[i][j]=a1[k]\n",
        "      k+=1\n",
        "    else:\n",
        "      a2[i][j]=0\n",
        "print(a2)"
      ],
      "execution_count": 13,
      "outputs": [
        {
          "output_type": "stream",
          "text": [
            "[[4 0 0 0]\n",
            " [0 5 0 0]\n",
            " [0 0 6 0]\n",
            " [0 0 0 8]]\n"
          ],
          "name": "stdout"
        }
      ]
    },
    {
      "cell_type": "code",
      "metadata": {
        "id": "7OGgPG0zAyxa",
        "colab_type": "code",
        "colab": {}
      },
      "source": [
        ""
      ],
      "execution_count": 0,
      "outputs": []
    }
  ]
}