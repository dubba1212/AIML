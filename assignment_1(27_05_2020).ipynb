{
  "nbformat": 4,
  "nbformat_minor": 0,
  "metadata": {
    "colab": {
      "name": "assignment-1(27-05-2020).ipynb",
      "provenance": [],
      "authorship_tag": "ABX9TyMt9MMeVO2EZuZ7svn+UniO",
      "include_colab_link": true
    },
    "kernelspec": {
      "name": "python3",
      "display_name": "Python 3"
    }
  },
  "cells": [
    {
      "cell_type": "markdown",
      "metadata": {
        "id": "view-in-github",
        "colab_type": "text"
      },
      "source": [
        "<a href=\"https://colab.research.google.com/github/dubba1212/AIML/blob/master/assignment_1(27_05_2020).ipynb\" target=\"_parent\"><img src=\"https://colab.research.google.com/assets/colab-badge.svg\" alt=\"Open In Colab\"/></a>"
      ]
    },
    {
      "cell_type": "markdown",
      "metadata": {
        "id": "kYZEjn3j_sKP",
        "colab_type": "text"
      },
      "source": [
        "**1**"
      ]
    },
    {
      "cell_type": "code",
      "metadata": {
        "id": "e38YIF701e61",
        "colab_type": "code",
        "outputId": "97731c6b-b820-480d-b7ca-10964dc40cf0",
        "colab": {
          "base_uri": "https://localhost:8080/",
          "height": 127
        }
      },
      "source": [
        "#pattern\n",
        "n = int(input(\"enter n values\"))\n",
        "i=1\n",
        "while i<=n:\n",
        "  print(\"* \" *i)\n",
        "  i+=1"
      ],
      "execution_count": 0,
      "outputs": [
        {
          "output_type": "stream",
          "text": [
            "enter n values5\n",
            "* \n",
            "* * \n",
            "* * * \n",
            "* * * * \n",
            "* * * * * \n"
          ],
          "name": "stdout"
        }
      ]
    },
    {
      "cell_type": "markdown",
      "metadata": {
        "id": "jgC_A1y1_yn4",
        "colab_type": "text"
      },
      "source": [
        "**2**"
      ]
    },
    {
      "cell_type": "code",
      "metadata": {
        "id": "7kRxpyNO1vX-",
        "colab_type": "code",
        "outputId": "4d243753-fb88-44d7-dc54-374910cc3060",
        "colab": {
          "base_uri": "https://localhost:8080/",
          "height": 219
        }
      },
      "source": [
        "#multiplication table\n",
        "n = int(input(\"enter n value\"))\n",
        "i=1\n",
        "while i<=10:\n",
        "  print(n,\" x \",i,\"=\",n*i)\n",
        "  i+=1"
      ],
      "execution_count": 0,
      "outputs": [
        {
          "output_type": "stream",
          "text": [
            "enter n value7\n",
            "7  x  1 = 7\n",
            "7  x  2 = 14\n",
            "7  x  3 = 21\n",
            "7  x  4 = 28\n",
            "7  x  5 = 35\n",
            "7  x  6 = 42\n",
            "7  x  7 = 49\n",
            "7  x  8 = 56\n",
            "7  x  9 = 63\n",
            "7  x  10 = 70\n"
          ],
          "name": "stdout"
        }
      ]
    },
    {
      "cell_type": "markdown",
      "metadata": {
        "id": "ed5v73jS_2gz",
        "colab_type": "text"
      },
      "source": [
        "**3**"
      ]
    },
    {
      "cell_type": "code",
      "metadata": {
        "id": "GYfNNYMX2dIk",
        "colab_type": "code",
        "outputId": "81d7875d-812e-4593-a631-d770dd224b53",
        "colab": {
          "base_uri": "https://localhost:8080/",
          "height": 109
        }
      },
      "source": [
        "#Roots of quadratic equaction \n",
        "import cmath\n",
        "a = int(input(\"enter a value\"))\n",
        "b = int(input(\"enter b value\"))\n",
        "c = int(input(\"enter c value\"))\n",
        "d = (b*b)- (4*a*c)\n",
        "x = (-b+cmath.sqrt(d))/(2*a)\n",
        "x1 = (-b-cmath.sqrt(d))/(2*a)\n",
        "print(x)\n",
        "print(x1)"
      ],
      "execution_count": 0,
      "outputs": [
        {
          "output_type": "stream",
          "text": [
            "enter a value2\n",
            "enter b value3\n",
            "enter c value6\n",
            "(-0.75+1.5612494995995996j)\n",
            "(-0.75-1.5612494995995996j)\n"
          ],
          "name": "stdout"
        }
      ]
    },
    {
      "cell_type": "markdown",
      "metadata": {
        "id": "Ccoc2Fpo_48l",
        "colab_type": "text"
      },
      "source": [
        "**5**"
      ]
    },
    {
      "cell_type": "code",
      "metadata": {
        "id": "sCpv-mdq5l1H",
        "colab_type": "code",
        "outputId": "e856d059-dd06-468c-a1d8-72c677d643f6",
        "colab": {
          "base_uri": "https://localhost:8080/",
          "height": 54
        }
      },
      "source": [
        "#Fibonacci series\n",
        "a=0\n",
        "b=1 \n",
        "c=0\n",
        "n = int(input(\"enter n value\"))\n",
        "i=1\n",
        "while i<=n:\n",
        "  print(c,end=\" \")\n",
        "  i+=1\n",
        "  a=b\n",
        "  b=c\n",
        "  c=a+b"
      ],
      "execution_count": 0,
      "outputs": [
        {
          "output_type": "stream",
          "text": [
            "enter n value10\n",
            "0 1 1 2 3 5 8 13 21 34 "
          ],
          "name": "stdout"
        }
      ]
    },
    {
      "cell_type": "markdown",
      "metadata": {
        "id": "8mp9EGJb_7HF",
        "colab_type": "text"
      },
      "source": [
        "**4**"
      ]
    },
    {
      "cell_type": "code",
      "metadata": {
        "id": "ETSuyqEp8Vjh",
        "colab_type": "code",
        "outputId": "333ecdb0-448f-4656-eed5-7b438f893178",
        "colab": {
          "base_uri": "https://localhost:8080/",
          "height": 54
        }
      },
      "source": [
        "#convert decimal number to binary\n",
        "num = int(input(\"enter number to convert decimal number to binary \"))\n",
        "res=[]\n",
        "while num>0:\n",
        "  k=num%2\n",
        "  res.append(k)\n",
        "  num=int(num/2)\n",
        "for x in range(len(res)-1,-1,-1):\n",
        "  print(int(res[x]),end=\" \")\n",
        "\n"
      ],
      "execution_count": 0,
      "outputs": [
        {
          "output_type": "stream",
          "text": [
            "enter number to convert decimal number to binary 1999\n",
            "1 1 1 1 1 0 0 1 1 1 1 "
          ],
          "name": "stdout"
        }
      ]
    },
    {
      "cell_type": "code",
      "metadata": {
        "id": "5kUBlTVUAaXl",
        "colab_type": "code",
        "colab": {}
      },
      "source": [
        ""
      ],
      "execution_count": 0,
      "outputs": []
    }
  ]
}