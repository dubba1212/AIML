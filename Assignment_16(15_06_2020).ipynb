{
  "nbformat": 4,
  "nbformat_minor": 0,
  "metadata": {
    "colab": {
      "name": "Assignment 16(15-06-2020).ipynb",
      "provenance": [],
      "authorship_tag": "ABX9TyN4/3g7khQVk+Y5sGdPMpmN",
      "include_colab_link": true
    },
    "kernelspec": {
      "name": "python3",
      "display_name": "Python 3"
    }
  },
  "cells": [
    {
      "cell_type": "markdown",
      "metadata": {
        "id": "view-in-github",
        "colab_type": "text"
      },
      "source": [
        "<a href=\"https://colab.research.google.com/github/dubba1212/AIML/blob/master/Assignment_16(15_06_2020).ipynb\" target=\"_parent\"><img src=\"https://colab.research.google.com/assets/colab-badge.svg\" alt=\"Open In Colab\"/></a>"
      ]
    },
    {
      "cell_type": "code",
      "metadata": {
        "id": "6eBvRc13riMJ",
        "colab_type": "code",
        "colab": {}
      },
      "source": [
        "import pandas as pd \n",
        "import numpy as np\n",
        "import matplotlib.pyplot as plt\n",
        "import sklearn"
      ],
      "execution_count": 0,
      "outputs": []
    },
    {
      "cell_type": "code",
      "metadata": {
        "id": "7tkRtu6BoFMX",
        "colab_type": "code",
        "outputId": "729d72d6-bc1b-4da7-d7ad-0c373588d239",
        "colab": {
          "base_uri": "https://localhost:8080/",
          "height": 424
        }
      },
      "source": [
        "data = pd.read_table(\"https://raw.githubusercontent.com/Mounika-Kajjam/SummerInternship/master/data.csv\")\n",
        "data"
      ],
      "execution_count": 13,
      "outputs": [
        {
          "output_type": "execute_result",
          "data": {
            "text/html": [
              "<div>\n",
              "<style scoped>\n",
              "    .dataframe tbody tr th:only-of-type {\n",
              "        vertical-align: middle;\n",
              "    }\n",
              "\n",
              "    .dataframe tbody tr th {\n",
              "        vertical-align: top;\n",
              "    }\n",
              "\n",
              "    .dataframe thead th {\n",
              "        text-align: right;\n",
              "    }\n",
              "</style>\n",
              "<table border=\"1\" class=\"dataframe\">\n",
              "  <thead>\n",
              "    <tr style=\"text-align: right;\">\n",
              "      <th></th>\n",
              "      <th>2018-01-01 00:01:01;read;country_7;2458151261;SEO;North America</th>\n",
              "    </tr>\n",
              "  </thead>\n",
              "  <tbody>\n",
              "    <tr>\n",
              "      <th>0</th>\n",
              "      <td>2018-01-01 00:03:20;read;country_7;2458151262;...</td>\n",
              "    </tr>\n",
              "    <tr>\n",
              "      <th>1</th>\n",
              "      <td>2018-01-01 00:04:01;read;country_7;2458151263;...</td>\n",
              "    </tr>\n",
              "    <tr>\n",
              "      <th>2</th>\n",
              "      <td>2018-01-01 00:04:02;read;country_7;2458151264;...</td>\n",
              "    </tr>\n",
              "    <tr>\n",
              "      <th>3</th>\n",
              "      <td>2018-01-01 00:05:03;read;country_8;2458151265;...</td>\n",
              "    </tr>\n",
              "    <tr>\n",
              "      <th>4</th>\n",
              "      <td>2018-01-01 00:05:42;read;country_6;2458151266;...</td>\n",
              "    </tr>\n",
              "    <tr>\n",
              "      <th>...</th>\n",
              "      <td>...</td>\n",
              "    </tr>\n",
              "    <tr>\n",
              "      <th>1789</th>\n",
              "      <td>2018-01-01 23:57:14;read;country_2;2458153051;...</td>\n",
              "    </tr>\n",
              "    <tr>\n",
              "      <th>1790</th>\n",
              "      <td>2018-01-01 23:58:33;read;country_8;2458153052;...</td>\n",
              "    </tr>\n",
              "    <tr>\n",
              "      <th>1791</th>\n",
              "      <td>2018-01-01 23:59:36;read;country_6;2458153053;...</td>\n",
              "    </tr>\n",
              "    <tr>\n",
              "      <th>1792</th>\n",
              "      <td>2018-01-01 23:59:36;read;country_7;2458153054;...</td>\n",
              "    </tr>\n",
              "    <tr>\n",
              "      <th>1793</th>\n",
              "      <td>2018-01-01 23:59:38;read;country_5;2458153055;...</td>\n",
              "    </tr>\n",
              "  </tbody>\n",
              "</table>\n",
              "<p>1794 rows × 1 columns</p>\n",
              "</div>"
            ],
            "text/plain": [
              "     2018-01-01 00:01:01;read;country_7;2458151261;SEO;North America\n",
              "0     2018-01-01 00:03:20;read;country_7;2458151262;...             \n",
              "1     2018-01-01 00:04:01;read;country_7;2458151263;...             \n",
              "2     2018-01-01 00:04:02;read;country_7;2458151264;...             \n",
              "3     2018-01-01 00:05:03;read;country_8;2458151265;...             \n",
              "4     2018-01-01 00:05:42;read;country_6;2458151266;...             \n",
              "...                                                 ...             \n",
              "1789  2018-01-01 23:57:14;read;country_2;2458153051;...             \n",
              "1790  2018-01-01 23:58:33;read;country_8;2458153052;...             \n",
              "1791  2018-01-01 23:59:36;read;country_6;2458153053;...             \n",
              "1792  2018-01-01 23:59:36;read;country_7;2458153054;...             \n",
              "1793  2018-01-01 23:59:38;read;country_5;2458153055;...             \n",
              "\n",
              "[1794 rows x 1 columns]"
            ]
          },
          "metadata": {
            "tags": []
          },
          "execution_count": 13
        }
      ]
    },
    {
      "cell_type": "code",
      "metadata": {
        "id": "usgK1yX7gBOr",
        "colab_type": "code",
        "colab": {
          "base_uri": "https://localhost:8080/",
          "height": 424
        },
        "outputId": "e236b068-369e-49f1-a9c9-c2718f744b1f"
      },
      "source": [
        "data = pd.read_table(\"https://raw.githubusercontent.com/Mounika-Kajjam/SummerInternship/master/data.csv\",sep=\";\")\n",
        "data"
      ],
      "execution_count": 14,
      "outputs": [
        {
          "output_type": "execute_result",
          "data": {
            "text/html": [
              "<div>\n",
              "<style scoped>\n",
              "    .dataframe tbody tr th:only-of-type {\n",
              "        vertical-align: middle;\n",
              "    }\n",
              "\n",
              "    .dataframe tbody tr th {\n",
              "        vertical-align: top;\n",
              "    }\n",
              "\n",
              "    .dataframe thead th {\n",
              "        text-align: right;\n",
              "    }\n",
              "</style>\n",
              "<table border=\"1\" class=\"dataframe\">\n",
              "  <thead>\n",
              "    <tr style=\"text-align: right;\">\n",
              "      <th></th>\n",
              "      <th>2018-01-01 00:01:01</th>\n",
              "      <th>read</th>\n",
              "      <th>country_7</th>\n",
              "      <th>2458151261</th>\n",
              "      <th>SEO</th>\n",
              "      <th>North America</th>\n",
              "    </tr>\n",
              "  </thead>\n",
              "  <tbody>\n",
              "    <tr>\n",
              "      <th>0</th>\n",
              "      <td>2018-01-01 00:03:20</td>\n",
              "      <td>read</td>\n",
              "      <td>country_7</td>\n",
              "      <td>2458151262</td>\n",
              "      <td>SEO</td>\n",
              "      <td>South America</td>\n",
              "    </tr>\n",
              "    <tr>\n",
              "      <th>1</th>\n",
              "      <td>2018-01-01 00:04:01</td>\n",
              "      <td>read</td>\n",
              "      <td>country_7</td>\n",
              "      <td>2458151263</td>\n",
              "      <td>AdWords</td>\n",
              "      <td>Africa</td>\n",
              "    </tr>\n",
              "    <tr>\n",
              "      <th>2</th>\n",
              "      <td>2018-01-01 00:04:02</td>\n",
              "      <td>read</td>\n",
              "      <td>country_7</td>\n",
              "      <td>2458151264</td>\n",
              "      <td>AdWords</td>\n",
              "      <td>Europe</td>\n",
              "    </tr>\n",
              "    <tr>\n",
              "      <th>3</th>\n",
              "      <td>2018-01-01 00:05:03</td>\n",
              "      <td>read</td>\n",
              "      <td>country_8</td>\n",
              "      <td>2458151265</td>\n",
              "      <td>Reddit</td>\n",
              "      <td>North America</td>\n",
              "    </tr>\n",
              "    <tr>\n",
              "      <th>4</th>\n",
              "      <td>2018-01-01 00:05:42</td>\n",
              "      <td>read</td>\n",
              "      <td>country_6</td>\n",
              "      <td>2458151266</td>\n",
              "      <td>Reddit</td>\n",
              "      <td>North America</td>\n",
              "    </tr>\n",
              "    <tr>\n",
              "      <th>...</th>\n",
              "      <td>...</td>\n",
              "      <td>...</td>\n",
              "      <td>...</td>\n",
              "      <td>...</td>\n",
              "      <td>...</td>\n",
              "      <td>...</td>\n",
              "    </tr>\n",
              "    <tr>\n",
              "      <th>1789</th>\n",
              "      <td>2018-01-01 23:57:14</td>\n",
              "      <td>read</td>\n",
              "      <td>country_2</td>\n",
              "      <td>2458153051</td>\n",
              "      <td>AdWords</td>\n",
              "      <td>North America</td>\n",
              "    </tr>\n",
              "    <tr>\n",
              "      <th>1790</th>\n",
              "      <td>2018-01-01 23:58:33</td>\n",
              "      <td>read</td>\n",
              "      <td>country_8</td>\n",
              "      <td>2458153052</td>\n",
              "      <td>SEO</td>\n",
              "      <td>Asia</td>\n",
              "    </tr>\n",
              "    <tr>\n",
              "      <th>1791</th>\n",
              "      <td>2018-01-01 23:59:36</td>\n",
              "      <td>read</td>\n",
              "      <td>country_6</td>\n",
              "      <td>2458153053</td>\n",
              "      <td>Reddit</td>\n",
              "      <td>Asia</td>\n",
              "    </tr>\n",
              "    <tr>\n",
              "      <th>1792</th>\n",
              "      <td>2018-01-01 23:59:36</td>\n",
              "      <td>read</td>\n",
              "      <td>country_7</td>\n",
              "      <td>2458153054</td>\n",
              "      <td>AdWords</td>\n",
              "      <td>Europe</td>\n",
              "    </tr>\n",
              "    <tr>\n",
              "      <th>1793</th>\n",
              "      <td>2018-01-01 23:59:38</td>\n",
              "      <td>read</td>\n",
              "      <td>country_5</td>\n",
              "      <td>2458153055</td>\n",
              "      <td>Reddit</td>\n",
              "      <td>Asia</td>\n",
              "    </tr>\n",
              "  </tbody>\n",
              "</table>\n",
              "<p>1794 rows × 6 columns</p>\n",
              "</div>"
            ],
            "text/plain": [
              "      2018-01-01 00:01:01  read  country_7  2458151261      SEO  North America\n",
              "0     2018-01-01 00:03:20  read  country_7  2458151262      SEO  South America\n",
              "1     2018-01-01 00:04:01  read  country_7  2458151263  AdWords         Africa\n",
              "2     2018-01-01 00:04:02  read  country_7  2458151264  AdWords         Europe\n",
              "3     2018-01-01 00:05:03  read  country_8  2458151265   Reddit  North America\n",
              "4     2018-01-01 00:05:42  read  country_6  2458151266   Reddit  North America\n",
              "...                   ...   ...        ...         ...      ...            ...\n",
              "1789  2018-01-01 23:57:14  read  country_2  2458153051  AdWords  North America\n",
              "1790  2018-01-01 23:58:33  read  country_8  2458153052      SEO           Asia\n",
              "1791  2018-01-01 23:59:36  read  country_6  2458153053   Reddit           Asia\n",
              "1792  2018-01-01 23:59:36  read  country_7  2458153054  AdWords         Europe\n",
              "1793  2018-01-01 23:59:38  read  country_5  2458153055   Reddit           Asia\n",
              "\n",
              "[1794 rows x 6 columns]"
            ]
          },
          "metadata": {
            "tags": []
          },
          "execution_count": 14
        }
      ]
    },
    {
      "cell_type": "code",
      "metadata": {
        "id": "uVcoUJ-xgElU",
        "colab_type": "code",
        "colab": {
          "base_uri": "https://localhost:8080/",
          "height": 424
        },
        "outputId": "17dd1fbb-06dd-41db-8a3a-1ce40750490d"
      },
      "source": [
        "data = pd.read_table(\"https://raw.githubusercontent.com/Mounika-Kajjam/SummerInternship/master/data.csv\",sep=\";\",header=None)\n",
        "data"
      ],
      "execution_count": 16,
      "outputs": [
        {
          "output_type": "execute_result",
          "data": {
            "text/html": [
              "<div>\n",
              "<style scoped>\n",
              "    .dataframe tbody tr th:only-of-type {\n",
              "        vertical-align: middle;\n",
              "    }\n",
              "\n",
              "    .dataframe tbody tr th {\n",
              "        vertical-align: top;\n",
              "    }\n",
              "\n",
              "    .dataframe thead th {\n",
              "        text-align: right;\n",
              "    }\n",
              "</style>\n",
              "<table border=\"1\" class=\"dataframe\">\n",
              "  <thead>\n",
              "    <tr style=\"text-align: right;\">\n",
              "      <th></th>\n",
              "      <th>0</th>\n",
              "      <th>1</th>\n",
              "      <th>2</th>\n",
              "      <th>3</th>\n",
              "      <th>4</th>\n",
              "      <th>5</th>\n",
              "    </tr>\n",
              "  </thead>\n",
              "  <tbody>\n",
              "    <tr>\n",
              "      <th>0</th>\n",
              "      <td>2018-01-01 00:01:01</td>\n",
              "      <td>read</td>\n",
              "      <td>country_7</td>\n",
              "      <td>2458151261</td>\n",
              "      <td>SEO</td>\n",
              "      <td>North America</td>\n",
              "    </tr>\n",
              "    <tr>\n",
              "      <th>1</th>\n",
              "      <td>2018-01-01 00:03:20</td>\n",
              "      <td>read</td>\n",
              "      <td>country_7</td>\n",
              "      <td>2458151262</td>\n",
              "      <td>SEO</td>\n",
              "      <td>South America</td>\n",
              "    </tr>\n",
              "    <tr>\n",
              "      <th>2</th>\n",
              "      <td>2018-01-01 00:04:01</td>\n",
              "      <td>read</td>\n",
              "      <td>country_7</td>\n",
              "      <td>2458151263</td>\n",
              "      <td>AdWords</td>\n",
              "      <td>Africa</td>\n",
              "    </tr>\n",
              "    <tr>\n",
              "      <th>3</th>\n",
              "      <td>2018-01-01 00:04:02</td>\n",
              "      <td>read</td>\n",
              "      <td>country_7</td>\n",
              "      <td>2458151264</td>\n",
              "      <td>AdWords</td>\n",
              "      <td>Europe</td>\n",
              "    </tr>\n",
              "    <tr>\n",
              "      <th>4</th>\n",
              "      <td>2018-01-01 00:05:03</td>\n",
              "      <td>read</td>\n",
              "      <td>country_8</td>\n",
              "      <td>2458151265</td>\n",
              "      <td>Reddit</td>\n",
              "      <td>North America</td>\n",
              "    </tr>\n",
              "    <tr>\n",
              "      <th>...</th>\n",
              "      <td>...</td>\n",
              "      <td>...</td>\n",
              "      <td>...</td>\n",
              "      <td>...</td>\n",
              "      <td>...</td>\n",
              "      <td>...</td>\n",
              "    </tr>\n",
              "    <tr>\n",
              "      <th>1790</th>\n",
              "      <td>2018-01-01 23:57:14</td>\n",
              "      <td>read</td>\n",
              "      <td>country_2</td>\n",
              "      <td>2458153051</td>\n",
              "      <td>AdWords</td>\n",
              "      <td>North America</td>\n",
              "    </tr>\n",
              "    <tr>\n",
              "      <th>1791</th>\n",
              "      <td>2018-01-01 23:58:33</td>\n",
              "      <td>read</td>\n",
              "      <td>country_8</td>\n",
              "      <td>2458153052</td>\n",
              "      <td>SEO</td>\n",
              "      <td>Asia</td>\n",
              "    </tr>\n",
              "    <tr>\n",
              "      <th>1792</th>\n",
              "      <td>2018-01-01 23:59:36</td>\n",
              "      <td>read</td>\n",
              "      <td>country_6</td>\n",
              "      <td>2458153053</td>\n",
              "      <td>Reddit</td>\n",
              "      <td>Asia</td>\n",
              "    </tr>\n",
              "    <tr>\n",
              "      <th>1793</th>\n",
              "      <td>2018-01-01 23:59:36</td>\n",
              "      <td>read</td>\n",
              "      <td>country_7</td>\n",
              "      <td>2458153054</td>\n",
              "      <td>AdWords</td>\n",
              "      <td>Europe</td>\n",
              "    </tr>\n",
              "    <tr>\n",
              "      <th>1794</th>\n",
              "      <td>2018-01-01 23:59:38</td>\n",
              "      <td>read</td>\n",
              "      <td>country_5</td>\n",
              "      <td>2458153055</td>\n",
              "      <td>Reddit</td>\n",
              "      <td>Asia</td>\n",
              "    </tr>\n",
              "  </tbody>\n",
              "</table>\n",
              "<p>1795 rows × 6 columns</p>\n",
              "</div>"
            ],
            "text/plain": [
              "                        0     1          2           3        4              5\n",
              "0     2018-01-01 00:01:01  read  country_7  2458151261      SEO  North America\n",
              "1     2018-01-01 00:03:20  read  country_7  2458151262      SEO  South America\n",
              "2     2018-01-01 00:04:01  read  country_7  2458151263  AdWords         Africa\n",
              "3     2018-01-01 00:04:02  read  country_7  2458151264  AdWords         Europe\n",
              "4     2018-01-01 00:05:03  read  country_8  2458151265   Reddit  North America\n",
              "...                   ...   ...        ...         ...      ...            ...\n",
              "1790  2018-01-01 23:57:14  read  country_2  2458153051  AdWords  North America\n",
              "1791  2018-01-01 23:58:33  read  country_8  2458153052      SEO           Asia\n",
              "1792  2018-01-01 23:59:36  read  country_6  2458153053   Reddit           Asia\n",
              "1793  2018-01-01 23:59:36  read  country_7  2458153054  AdWords         Europe\n",
              "1794  2018-01-01 23:59:38  read  country_5  2458153055   Reddit           Asia\n",
              "\n",
              "[1795 rows x 6 columns]"
            ]
          },
          "metadata": {
            "tags": []
          },
          "execution_count": 16
        }
      ]
    },
    {
      "cell_type": "markdown",
      "metadata": {
        "id": "hmbEbSMMguf_",
        "colab_type": "text"
      },
      "source": [
        "Read the data in the data.csv file in the proper format Use ['my_datetime', 'event', 'country_code', 'user_id', 'source', 'country '] as columns\n",
        "\n",
        "    check how many rows and columns are there\n",
        "    what are the columns names\n",
        "    what are are the row labels\n",
        "    Write down your observation\n",
        "        what type of data you have\n",
        "        In the data if you have observed are there any missing values(NaN)\n",
        "    print the datatype of each column\n",
        "    For each data type how many columns are there\n",
        "    Using describe function observe the different measures for numerical and categorical columns\n",
        "    Use the info function to get the detailed info of the dataframe\n",
        "    Check for the duplicate values in all the columns\n",
        "    Replace the value “South America” from country column with NaN and fill with mode of the column\n",
        "    Check the count of categories being repeated in the source column.\n"
      ]
    },
    {
      "cell_type": "code",
      "metadata": {
        "id": "Z2tHFBILgn9q",
        "colab_type": "code",
        "colab": {
          "base_uri": "https://localhost:8080/",
          "height": 424
        },
        "outputId": "96b2033f-0789-4e36-e005-343de35c79ff"
      },
      "source": [
        "data = pd.read_table(\"https://raw.githubusercontent.com/Mounika-Kajjam/SummerInternship/master/data.csv\",sep=\";\",header=None,names=['my_datetime', 'event', 'country_code', 'user_id', 'source', 'country'])\n",
        "data"
      ],
      "execution_count": 17,
      "outputs": [
        {
          "output_type": "execute_result",
          "data": {
            "text/html": [
              "<div>\n",
              "<style scoped>\n",
              "    .dataframe tbody tr th:only-of-type {\n",
              "        vertical-align: middle;\n",
              "    }\n",
              "\n",
              "    .dataframe tbody tr th {\n",
              "        vertical-align: top;\n",
              "    }\n",
              "\n",
              "    .dataframe thead th {\n",
              "        text-align: right;\n",
              "    }\n",
              "</style>\n",
              "<table border=\"1\" class=\"dataframe\">\n",
              "  <thead>\n",
              "    <tr style=\"text-align: right;\">\n",
              "      <th></th>\n",
              "      <th>my_datetime</th>\n",
              "      <th>event</th>\n",
              "      <th>country_code</th>\n",
              "      <th>user_id</th>\n",
              "      <th>source</th>\n",
              "      <th>country</th>\n",
              "    </tr>\n",
              "  </thead>\n",
              "  <tbody>\n",
              "    <tr>\n",
              "      <th>0</th>\n",
              "      <td>2018-01-01 00:01:01</td>\n",
              "      <td>read</td>\n",
              "      <td>country_7</td>\n",
              "      <td>2458151261</td>\n",
              "      <td>SEO</td>\n",
              "      <td>North America</td>\n",
              "    </tr>\n",
              "    <tr>\n",
              "      <th>1</th>\n",
              "      <td>2018-01-01 00:03:20</td>\n",
              "      <td>read</td>\n",
              "      <td>country_7</td>\n",
              "      <td>2458151262</td>\n",
              "      <td>SEO</td>\n",
              "      <td>South America</td>\n",
              "    </tr>\n",
              "    <tr>\n",
              "      <th>2</th>\n",
              "      <td>2018-01-01 00:04:01</td>\n",
              "      <td>read</td>\n",
              "      <td>country_7</td>\n",
              "      <td>2458151263</td>\n",
              "      <td>AdWords</td>\n",
              "      <td>Africa</td>\n",
              "    </tr>\n",
              "    <tr>\n",
              "      <th>3</th>\n",
              "      <td>2018-01-01 00:04:02</td>\n",
              "      <td>read</td>\n",
              "      <td>country_7</td>\n",
              "      <td>2458151264</td>\n",
              "      <td>AdWords</td>\n",
              "      <td>Europe</td>\n",
              "    </tr>\n",
              "    <tr>\n",
              "      <th>4</th>\n",
              "      <td>2018-01-01 00:05:03</td>\n",
              "      <td>read</td>\n",
              "      <td>country_8</td>\n",
              "      <td>2458151265</td>\n",
              "      <td>Reddit</td>\n",
              "      <td>North America</td>\n",
              "    </tr>\n",
              "    <tr>\n",
              "      <th>...</th>\n",
              "      <td>...</td>\n",
              "      <td>...</td>\n",
              "      <td>...</td>\n",
              "      <td>...</td>\n",
              "      <td>...</td>\n",
              "      <td>...</td>\n",
              "    </tr>\n",
              "    <tr>\n",
              "      <th>1790</th>\n",
              "      <td>2018-01-01 23:57:14</td>\n",
              "      <td>read</td>\n",
              "      <td>country_2</td>\n",
              "      <td>2458153051</td>\n",
              "      <td>AdWords</td>\n",
              "      <td>North America</td>\n",
              "    </tr>\n",
              "    <tr>\n",
              "      <th>1791</th>\n",
              "      <td>2018-01-01 23:58:33</td>\n",
              "      <td>read</td>\n",
              "      <td>country_8</td>\n",
              "      <td>2458153052</td>\n",
              "      <td>SEO</td>\n",
              "      <td>Asia</td>\n",
              "    </tr>\n",
              "    <tr>\n",
              "      <th>1792</th>\n",
              "      <td>2018-01-01 23:59:36</td>\n",
              "      <td>read</td>\n",
              "      <td>country_6</td>\n",
              "      <td>2458153053</td>\n",
              "      <td>Reddit</td>\n",
              "      <td>Asia</td>\n",
              "    </tr>\n",
              "    <tr>\n",
              "      <th>1793</th>\n",
              "      <td>2018-01-01 23:59:36</td>\n",
              "      <td>read</td>\n",
              "      <td>country_7</td>\n",
              "      <td>2458153054</td>\n",
              "      <td>AdWords</td>\n",
              "      <td>Europe</td>\n",
              "    </tr>\n",
              "    <tr>\n",
              "      <th>1794</th>\n",
              "      <td>2018-01-01 23:59:38</td>\n",
              "      <td>read</td>\n",
              "      <td>country_5</td>\n",
              "      <td>2458153055</td>\n",
              "      <td>Reddit</td>\n",
              "      <td>Asia</td>\n",
              "    </tr>\n",
              "  </tbody>\n",
              "</table>\n",
              "<p>1795 rows × 6 columns</p>\n",
              "</div>"
            ],
            "text/plain": [
              "              my_datetime event  ...   source        country\n",
              "0     2018-01-01 00:01:01  read  ...      SEO  North America\n",
              "1     2018-01-01 00:03:20  read  ...      SEO  South America\n",
              "2     2018-01-01 00:04:01  read  ...  AdWords         Africa\n",
              "3     2018-01-01 00:04:02  read  ...  AdWords         Europe\n",
              "4     2018-01-01 00:05:03  read  ...   Reddit  North America\n",
              "...                   ...   ...  ...      ...            ...\n",
              "1790  2018-01-01 23:57:14  read  ...  AdWords  North America\n",
              "1791  2018-01-01 23:58:33  read  ...      SEO           Asia\n",
              "1792  2018-01-01 23:59:36  read  ...   Reddit           Asia\n",
              "1793  2018-01-01 23:59:36  read  ...  AdWords         Europe\n",
              "1794  2018-01-01 23:59:38  read  ...   Reddit           Asia\n",
              "\n",
              "[1795 rows x 6 columns]"
            ]
          },
          "metadata": {
            "tags": []
          },
          "execution_count": 17
        }
      ]
    },
    {
      "cell_type": "code",
      "metadata": {
        "id": "GGeNPL0ag_l2",
        "colab_type": "code",
        "colab": {
          "base_uri": "https://localhost:8080/",
          "height": 54
        },
        "outputId": "322983be-89ee-4a3f-af04-1ac764fe6845"
      },
      "source": [
        "print(\"no of rows:\",data.shape[0])\n",
        "print(\"no of columns:\",data.shape[1])"
      ],
      "execution_count": 19,
      "outputs": [
        {
          "output_type": "stream",
          "text": [
            "no of rows: 1795\n",
            "no of columns: 6\n"
          ],
          "name": "stdout"
        }
      ]
    },
    {
      "cell_type": "code",
      "metadata": {
        "id": "hS2P5LDzhJG2",
        "colab_type": "code",
        "colab": {
          "base_uri": "https://localhost:8080/",
          "height": 54
        },
        "outputId": "73c06ba5-9b2e-4ddb-ab26-e68dc176033a"
      },
      "source": [
        "print(\"column name\")\n",
        "print(data.columns.values)"
      ],
      "execution_count": 20,
      "outputs": [
        {
          "output_type": "stream",
          "text": [
            "column name\n",
            "['my_datetime' 'event' 'country_code' 'user_id' 'source' 'country']\n"
          ],
          "name": "stdout"
        }
      ]
    },
    {
      "cell_type": "code",
      "metadata": {
        "id": "RTj72tRqhdNQ",
        "colab_type": "code",
        "colab": {
          "base_uri": "https://localhost:8080/",
          "height": 54
        },
        "outputId": "46220da4-3fb7-4d13-fc4e-ac2c5eb8a3db"
      },
      "source": [
        "print(\"rows name\")\n",
        "print(data.index.values)"
      ],
      "execution_count": 22,
      "outputs": [
        {
          "output_type": "stream",
          "text": [
            "rows name\n",
            "[   0    1    2 ... 1792 1793 1794]\n"
          ],
          "name": "stdout"
        }
      ]
    },
    {
      "cell_type": "code",
      "metadata": {
        "id": "8HgvjI2GhknH",
        "colab_type": "code",
        "colab": {
          "base_uri": "https://localhost:8080/",
          "height": 146
        },
        "outputId": "27e81387-62fe-48e6-8129-2d6fa9fad672"
      },
      "source": [
        "data.dtypes"
      ],
      "execution_count": 24,
      "outputs": [
        {
          "output_type": "execute_result",
          "data": {
            "text/plain": [
              "my_datetime     object\n",
              "event           object\n",
              "country_code    object\n",
              "user_id          int64\n",
              "source          object\n",
              "country         object\n",
              "dtype: object"
            ]
          },
          "metadata": {
            "tags": []
          },
          "execution_count": 24
        }
      ]
    },
    {
      "cell_type": "code",
      "metadata": {
        "id": "mdVsqd0HhgKu",
        "colab_type": "code",
        "colab": {
          "base_uri": "https://localhost:8080/",
          "height": 146
        },
        "outputId": "b4b5ab54-0519-4369-b612-f1189adb968f"
      },
      "source": [
        "data.isnull().sum()"
      ],
      "execution_count": 25,
      "outputs": [
        {
          "output_type": "execute_result",
          "data": {
            "text/plain": [
              "my_datetime     0\n",
              "event           0\n",
              "country_code    0\n",
              "user_id         0\n",
              "source          0\n",
              "country         0\n",
              "dtype: int64"
            ]
          },
          "metadata": {
            "tags": []
          },
          "execution_count": 25
        }
      ]
    },
    {
      "cell_type": "code",
      "metadata": {
        "id": "JDeo5MK4hsaH",
        "colab_type": "code",
        "colab": {
          "base_uri": "https://localhost:8080/",
          "height": 35
        },
        "outputId": "7c27f953-aa20-4f87-a5e2-644bbef2ecfc"
      },
      "source": [
        "data['my_datetime'].dtypes"
      ],
      "execution_count": 26,
      "outputs": [
        {
          "output_type": "execute_result",
          "data": {
            "text/plain": [
              "dtype('O')"
            ]
          },
          "metadata": {
            "tags": []
          },
          "execution_count": 26
        }
      ]
    },
    {
      "cell_type": "code",
      "metadata": {
        "id": "8w_fV0jRhyVt",
        "colab_type": "code",
        "colab": {
          "base_uri": "https://localhost:8080/",
          "height": 35
        },
        "outputId": "d111c03c-330f-4e64-afd8-d486b48e364f"
      },
      "source": [
        "data['event'].dtypes"
      ],
      "execution_count": 27,
      "outputs": [
        {
          "output_type": "execute_result",
          "data": {
            "text/plain": [
              "dtype('O')"
            ]
          },
          "metadata": {
            "tags": []
          },
          "execution_count": 27
        }
      ]
    },
    {
      "cell_type": "code",
      "metadata": {
        "id": "fwYjIEJLh4KL",
        "colab_type": "code",
        "colab": {
          "base_uri": "https://localhost:8080/",
          "height": 35
        },
        "outputId": "21ac6fd4-2cae-41b6-93aa-f24f1c1e080e"
      },
      "source": [
        "data['country_code'].dtypes"
      ],
      "execution_count": 28,
      "outputs": [
        {
          "output_type": "execute_result",
          "data": {
            "text/plain": [
              "dtype('O')"
            ]
          },
          "metadata": {
            "tags": []
          },
          "execution_count": 28
        }
      ]
    },
    {
      "cell_type": "code",
      "metadata": {
        "id": "jdaXhupah8JV",
        "colab_type": "code",
        "colab": {
          "base_uri": "https://localhost:8080/",
          "height": 35
        },
        "outputId": "90268864-53f8-46c3-ff85-4bc6a6afd4c5"
      },
      "source": [
        "data['user_id'].dtypes"
      ],
      "execution_count": 29,
      "outputs": [
        {
          "output_type": "execute_result",
          "data": {
            "text/plain": [
              "dtype('int64')"
            ]
          },
          "metadata": {
            "tags": []
          },
          "execution_count": 29
        }
      ]
    },
    {
      "cell_type": "code",
      "metadata": {
        "id": "6ZNrsIGgiCMV",
        "colab_type": "code",
        "colab": {
          "base_uri": "https://localhost:8080/",
          "height": 35
        },
        "outputId": "e88daa9f-65b5-48f8-cabd-92da2dceb73b"
      },
      "source": [
        "data['source'].dtypes"
      ],
      "execution_count": 30,
      "outputs": [
        {
          "output_type": "execute_result",
          "data": {
            "text/plain": [
              "dtype('O')"
            ]
          },
          "metadata": {
            "tags": []
          },
          "execution_count": 30
        }
      ]
    },
    {
      "cell_type": "code",
      "metadata": {
        "id": "JE-UcpImiGyJ",
        "colab_type": "code",
        "colab": {
          "base_uri": "https://localhost:8080/",
          "height": 35
        },
        "outputId": "1602fc74-5717-4255-efd3-4b85e5d5a95d"
      },
      "source": [
        "data['country'].dtypes"
      ],
      "execution_count": 31,
      "outputs": [
        {
          "output_type": "execute_result",
          "data": {
            "text/plain": [
              "dtype('O')"
            ]
          },
          "metadata": {
            "tags": []
          },
          "execution_count": 31
        }
      ]
    },
    {
      "cell_type": "code",
      "metadata": {
        "id": "cPfUUXDBiNdM",
        "colab_type": "code",
        "colab": {
          "base_uri": "https://localhost:8080/",
          "height": 54
        },
        "outputId": "5a631b92-462e-463d-86c6-1a4ba769768d"
      },
      "source": [
        "print(\"object columns:\",len(data.select_dtypes(include='O').columns))\n",
        "print(\"int columns:\",len(data.select_dtypes(include='int64').columns))"
      ],
      "execution_count": 32,
      "outputs": [
        {
          "output_type": "stream",
          "text": [
            "object columns: 5\n",
            "int columns: 1\n"
          ],
          "name": "stdout"
        }
      ]
    },
    {
      "cell_type": "code",
      "metadata": {
        "id": "QiWmtiokiVRZ",
        "colab_type": "code",
        "colab": {
          "base_uri": "https://localhost:8080/",
          "height": 300
        },
        "outputId": "fb0314d8-1fbc-44a7-f8f6-f21789c66e3a"
      },
      "source": [
        "data.describe(include='int64')"
      ],
      "execution_count": 33,
      "outputs": [
        {
          "output_type": "execute_result",
          "data": {
            "text/html": [
              "<div>\n",
              "<style scoped>\n",
              "    .dataframe tbody tr th:only-of-type {\n",
              "        vertical-align: middle;\n",
              "    }\n",
              "\n",
              "    .dataframe tbody tr th {\n",
              "        vertical-align: top;\n",
              "    }\n",
              "\n",
              "    .dataframe thead th {\n",
              "        text-align: right;\n",
              "    }\n",
              "</style>\n",
              "<table border=\"1\" class=\"dataframe\">\n",
              "  <thead>\n",
              "    <tr style=\"text-align: right;\">\n",
              "      <th></th>\n",
              "      <th>user_id</th>\n",
              "    </tr>\n",
              "  </thead>\n",
              "  <tbody>\n",
              "    <tr>\n",
              "      <th>count</th>\n",
              "      <td>1.795000e+03</td>\n",
              "    </tr>\n",
              "    <tr>\n",
              "      <th>mean</th>\n",
              "      <td>2.458152e+09</td>\n",
              "    </tr>\n",
              "    <tr>\n",
              "      <th>std</th>\n",
              "      <td>5.183162e+02</td>\n",
              "    </tr>\n",
              "    <tr>\n",
              "      <th>min</th>\n",
              "      <td>2.458151e+09</td>\n",
              "    </tr>\n",
              "    <tr>\n",
              "      <th>25%</th>\n",
              "      <td>2.458152e+09</td>\n",
              "    </tr>\n",
              "    <tr>\n",
              "      <th>50%</th>\n",
              "      <td>2.458152e+09</td>\n",
              "    </tr>\n",
              "    <tr>\n",
              "      <th>75%</th>\n",
              "      <td>2.458153e+09</td>\n",
              "    </tr>\n",
              "    <tr>\n",
              "      <th>max</th>\n",
              "      <td>2.458153e+09</td>\n",
              "    </tr>\n",
              "  </tbody>\n",
              "</table>\n",
              "</div>"
            ],
            "text/plain": [
              "            user_id\n",
              "count  1.795000e+03\n",
              "mean   2.458152e+09\n",
              "std    5.183162e+02\n",
              "min    2.458151e+09\n",
              "25%    2.458152e+09\n",
              "50%    2.458152e+09\n",
              "75%    2.458153e+09\n",
              "max    2.458153e+09"
            ]
          },
          "metadata": {
            "tags": []
          },
          "execution_count": 33
        }
      ]
    },
    {
      "cell_type": "code",
      "metadata": {
        "id": "vT61BT29iXei",
        "colab_type": "code",
        "colab": {
          "base_uri": "https://localhost:8080/",
          "height": 175
        },
        "outputId": "a803717a-7b0c-4880-ac8a-7da743f5fb11"
      },
      "source": [
        "data.describe(include='O')\n",
        "\n"
      ],
      "execution_count": 35,
      "outputs": [
        {
          "output_type": "execute_result",
          "data": {
            "text/html": [
              "<div>\n",
              "<style scoped>\n",
              "    .dataframe tbody tr th:only-of-type {\n",
              "        vertical-align: middle;\n",
              "    }\n",
              "\n",
              "    .dataframe tbody tr th {\n",
              "        vertical-align: top;\n",
              "    }\n",
              "\n",
              "    .dataframe thead th {\n",
              "        text-align: right;\n",
              "    }\n",
              "</style>\n",
              "<table border=\"1\" class=\"dataframe\">\n",
              "  <thead>\n",
              "    <tr style=\"text-align: right;\">\n",
              "      <th></th>\n",
              "      <th>my_datetime</th>\n",
              "      <th>event</th>\n",
              "      <th>country_code</th>\n",
              "      <th>source</th>\n",
              "      <th>country</th>\n",
              "    </tr>\n",
              "  </thead>\n",
              "  <tbody>\n",
              "    <tr>\n",
              "      <th>count</th>\n",
              "      <td>1795</td>\n",
              "      <td>1795</td>\n",
              "      <td>1795</td>\n",
              "      <td>1795</td>\n",
              "      <td>1795</td>\n",
              "    </tr>\n",
              "    <tr>\n",
              "      <th>unique</th>\n",
              "      <td>1773</td>\n",
              "      <td>1</td>\n",
              "      <td>8</td>\n",
              "      <td>3</td>\n",
              "      <td>6</td>\n",
              "    </tr>\n",
              "    <tr>\n",
              "      <th>top</th>\n",
              "      <td>2018-01-01 03:10:36</td>\n",
              "      <td>read</td>\n",
              "      <td>country_2</td>\n",
              "      <td>Reddit</td>\n",
              "      <td>Asia</td>\n",
              "    </tr>\n",
              "    <tr>\n",
              "      <th>freq</th>\n",
              "      <td>3</td>\n",
              "      <td>1795</td>\n",
              "      <td>462</td>\n",
              "      <td>949</td>\n",
              "      <td>667</td>\n",
              "    </tr>\n",
              "  </tbody>\n",
              "</table>\n",
              "</div>"
            ],
            "text/plain": [
              "                my_datetime event country_code  source country\n",
              "count                  1795  1795         1795    1795    1795\n",
              "unique                 1773     1            8       3       6\n",
              "top     2018-01-01 03:10:36  read    country_2  Reddit    Asia\n",
              "freq                      3  1795          462     949     667"
            ]
          },
          "metadata": {
            "tags": []
          },
          "execution_count": 35
        }
      ]
    },
    {
      "cell_type": "code",
      "metadata": {
        "id": "DEEoTomCia4I",
        "colab_type": "code",
        "colab": {
          "base_uri": "https://localhost:8080/",
          "height": 256
        },
        "outputId": "6ae68479-d36d-434f-fddc-a2004e5e785d"
      },
      "source": [
        "data.info()"
      ],
      "execution_count": 36,
      "outputs": [
        {
          "output_type": "stream",
          "text": [
            "<class 'pandas.core.frame.DataFrame'>\n",
            "RangeIndex: 1795 entries, 0 to 1794\n",
            "Data columns (total 6 columns):\n",
            " #   Column        Non-Null Count  Dtype \n",
            "---  ------        --------------  ----- \n",
            " 0   my_datetime   1795 non-null   object\n",
            " 1   event         1795 non-null   object\n",
            " 2   country_code  1795 non-null   object\n",
            " 3   user_id       1795 non-null   int64 \n",
            " 4   source        1795 non-null   object\n",
            " 5   country       1795 non-null   object\n",
            "dtypes: int64(1), object(5)\n",
            "memory usage: 84.3+ KB\n"
          ],
          "name": "stdout"
        }
      ]
    },
    {
      "cell_type": "code",
      "metadata": {
        "id": "ezz5DAFWikVt",
        "colab_type": "code",
        "colab": {
          "base_uri": "https://localhost:8080/",
          "height": 1000
        },
        "outputId": "06d870c4-e97e-4ece-d81b-352f1e5b7bcc"
      },
      "source": [
        "for i in data.columns:\n",
        "    print(i,\"\\n\",data[data[i].duplicated()],\"\\n\\n\")"
      ],
      "execution_count": 37,
      "outputs": [
        {
          "output_type": "stream",
          "text": [
            "my_datetime \n",
            "               my_datetime event  ...   source        country\n",
            "85    2018-01-01 01:17:48  read  ...   Reddit           Asia\n",
            "96    2018-01-01 01:23:44  read  ...  AdWords           Asia\n",
            "194   2018-01-01 02:46:20  read  ...      SEO  North America\n",
            "226   2018-01-01 03:10:36  read  ...   Reddit  North America\n",
            "227   2018-01-01 03:10:36  read  ...  AdWords      Australia\n",
            "267   2018-01-01 03:31:51  read  ...  AdWords           Asia\n",
            "337   2018-01-01 04:26:24  read  ...  AdWords         Europe\n",
            "416   2018-01-01 05:44:15  read  ...   Reddit  North America\n",
            "420   2018-01-01 05:47:29  read  ...   Reddit         Europe\n",
            "422   2018-01-01 05:47:50  read  ...   Reddit           Asia\n",
            "458   2018-01-01 06:09:59  read  ...   Reddit           Asia\n",
            "495   2018-01-01 06:38:26  read  ...   Reddit  South America\n",
            "721   2018-01-01 09:48:57  read  ...   Reddit  North America\n",
            "738   2018-01-01 10:00:14  read  ...   Reddit           Asia\n",
            "772   2018-01-01 10:22:10  read  ...   Reddit         Africa\n",
            "912   2018-01-01 12:14:20  read  ...      SEO  North America\n",
            "1302  2018-01-01 17:39:00  read  ...  AdWords         Europe\n",
            "1494  2018-01-01 20:20:34  read  ...   Reddit         Africa\n",
            "1536  2018-01-01 20:52:13  read  ...  AdWords  North America\n",
            "1660  2018-01-01 22:27:20  read  ...   Reddit         Africa\n",
            "1731  2018-01-01 23:16:19  read  ...   Reddit  South America\n",
            "1793  2018-01-01 23:59:36  read  ...  AdWords         Europe\n",
            "\n",
            "[22 rows x 6 columns] \n",
            "\n",
            "\n",
            "event \n",
            "               my_datetime event  ...   source        country\n",
            "1     2018-01-01 00:03:20  read  ...      SEO  South America\n",
            "2     2018-01-01 00:04:01  read  ...  AdWords         Africa\n",
            "3     2018-01-01 00:04:02  read  ...  AdWords         Europe\n",
            "4     2018-01-01 00:05:03  read  ...   Reddit  North America\n",
            "5     2018-01-01 00:05:42  read  ...   Reddit  North America\n",
            "...                   ...   ...  ...      ...            ...\n",
            "1790  2018-01-01 23:57:14  read  ...  AdWords  North America\n",
            "1791  2018-01-01 23:58:33  read  ...      SEO           Asia\n",
            "1792  2018-01-01 23:59:36  read  ...   Reddit           Asia\n",
            "1793  2018-01-01 23:59:36  read  ...  AdWords         Europe\n",
            "1794  2018-01-01 23:59:38  read  ...   Reddit           Asia\n",
            "\n",
            "[1794 rows x 6 columns] \n",
            "\n",
            "\n",
            "country_code \n",
            "               my_datetime event  ...   source        country\n",
            "1     2018-01-01 00:03:20  read  ...      SEO  South America\n",
            "2     2018-01-01 00:04:01  read  ...  AdWords         Africa\n",
            "3     2018-01-01 00:04:02  read  ...  AdWords         Europe\n",
            "7     2018-01-01 00:06:15  read  ...  AdWords         Europe\n",
            "8     2018-01-01 00:07:21  read  ...  AdWords  North America\n",
            "...                   ...   ...  ...      ...            ...\n",
            "1790  2018-01-01 23:57:14  read  ...  AdWords  North America\n",
            "1791  2018-01-01 23:58:33  read  ...      SEO           Asia\n",
            "1792  2018-01-01 23:59:36  read  ...   Reddit           Asia\n",
            "1793  2018-01-01 23:59:36  read  ...  AdWords         Europe\n",
            "1794  2018-01-01 23:59:38  read  ...   Reddit           Asia\n",
            "\n",
            "[1787 rows x 6 columns] \n",
            "\n",
            "\n",
            "user_id \n",
            " Empty DataFrame\n",
            "Columns: [my_datetime, event, country_code, user_id, source, country]\n",
            "Index: [] \n",
            "\n",
            "\n",
            "source \n",
            "               my_datetime event  ...   source        country\n",
            "1     2018-01-01 00:03:20  read  ...      SEO  South America\n",
            "3     2018-01-01 00:04:02  read  ...  AdWords         Europe\n",
            "5     2018-01-01 00:05:42  read  ...   Reddit  North America\n",
            "6     2018-01-01 00:06:06  read  ...   Reddit         Europe\n",
            "7     2018-01-01 00:06:15  read  ...  AdWords         Europe\n",
            "...                   ...   ...  ...      ...            ...\n",
            "1790  2018-01-01 23:57:14  read  ...  AdWords  North America\n",
            "1791  2018-01-01 23:58:33  read  ...      SEO           Asia\n",
            "1792  2018-01-01 23:59:36  read  ...   Reddit           Asia\n",
            "1793  2018-01-01 23:59:36  read  ...  AdWords         Europe\n",
            "1794  2018-01-01 23:59:38  read  ...   Reddit           Asia\n",
            "\n",
            "[1792 rows x 6 columns] \n",
            "\n",
            "\n",
            "country \n",
            "               my_datetime event  ...   source        country\n",
            "4     2018-01-01 00:05:03  read  ...   Reddit  North America\n",
            "5     2018-01-01 00:05:42  read  ...   Reddit  North America\n",
            "6     2018-01-01 00:06:06  read  ...   Reddit         Europe\n",
            "7     2018-01-01 00:06:15  read  ...  AdWords         Europe\n",
            "8     2018-01-01 00:07:21  read  ...  AdWords  North America\n",
            "...                   ...   ...  ...      ...            ...\n",
            "1790  2018-01-01 23:57:14  read  ...  AdWords  North America\n",
            "1791  2018-01-01 23:58:33  read  ...      SEO           Asia\n",
            "1792  2018-01-01 23:59:36  read  ...   Reddit           Asia\n",
            "1793  2018-01-01 23:59:36  read  ...  AdWords         Europe\n",
            "1794  2018-01-01 23:59:38  read  ...   Reddit           Asia\n",
            "\n",
            "[1789 rows x 6 columns] \n",
            "\n",
            "\n"
          ],
          "name": "stdout"
        }
      ]
    },
    {
      "cell_type": "code",
      "metadata": {
        "id": "hR3pIC_eiopE",
        "colab_type": "code",
        "colab": {
          "base_uri": "https://localhost:8080/",
          "height": 424
        },
        "outputId": "a0378fbe-d31d-400a-9ca4-44118ee54ee4"
      },
      "source": [
        "data.replace({'country' : 'South America'},np.nan,inplace=True)\n",
        "data"
      ],
      "execution_count": 38,
      "outputs": [
        {
          "output_type": "execute_result",
          "data": {
            "text/html": [
              "<div>\n",
              "<style scoped>\n",
              "    .dataframe tbody tr th:only-of-type {\n",
              "        vertical-align: middle;\n",
              "    }\n",
              "\n",
              "    .dataframe tbody tr th {\n",
              "        vertical-align: top;\n",
              "    }\n",
              "\n",
              "    .dataframe thead th {\n",
              "        text-align: right;\n",
              "    }\n",
              "</style>\n",
              "<table border=\"1\" class=\"dataframe\">\n",
              "  <thead>\n",
              "    <tr style=\"text-align: right;\">\n",
              "      <th></th>\n",
              "      <th>my_datetime</th>\n",
              "      <th>event</th>\n",
              "      <th>country_code</th>\n",
              "      <th>user_id</th>\n",
              "      <th>source</th>\n",
              "      <th>country</th>\n",
              "    </tr>\n",
              "  </thead>\n",
              "  <tbody>\n",
              "    <tr>\n",
              "      <th>0</th>\n",
              "      <td>2018-01-01 00:01:01</td>\n",
              "      <td>read</td>\n",
              "      <td>country_7</td>\n",
              "      <td>2458151261</td>\n",
              "      <td>SEO</td>\n",
              "      <td>North America</td>\n",
              "    </tr>\n",
              "    <tr>\n",
              "      <th>1</th>\n",
              "      <td>2018-01-01 00:03:20</td>\n",
              "      <td>read</td>\n",
              "      <td>country_7</td>\n",
              "      <td>2458151262</td>\n",
              "      <td>SEO</td>\n",
              "      <td>NaN</td>\n",
              "    </tr>\n",
              "    <tr>\n",
              "      <th>2</th>\n",
              "      <td>2018-01-01 00:04:01</td>\n",
              "      <td>read</td>\n",
              "      <td>country_7</td>\n",
              "      <td>2458151263</td>\n",
              "      <td>AdWords</td>\n",
              "      <td>Africa</td>\n",
              "    </tr>\n",
              "    <tr>\n",
              "      <th>3</th>\n",
              "      <td>2018-01-01 00:04:02</td>\n",
              "      <td>read</td>\n",
              "      <td>country_7</td>\n",
              "      <td>2458151264</td>\n",
              "      <td>AdWords</td>\n",
              "      <td>Europe</td>\n",
              "    </tr>\n",
              "    <tr>\n",
              "      <th>4</th>\n",
              "      <td>2018-01-01 00:05:03</td>\n",
              "      <td>read</td>\n",
              "      <td>country_8</td>\n",
              "      <td>2458151265</td>\n",
              "      <td>Reddit</td>\n",
              "      <td>North America</td>\n",
              "    </tr>\n",
              "    <tr>\n",
              "      <th>...</th>\n",
              "      <td>...</td>\n",
              "      <td>...</td>\n",
              "      <td>...</td>\n",
              "      <td>...</td>\n",
              "      <td>...</td>\n",
              "      <td>...</td>\n",
              "    </tr>\n",
              "    <tr>\n",
              "      <th>1790</th>\n",
              "      <td>2018-01-01 23:57:14</td>\n",
              "      <td>read</td>\n",
              "      <td>country_2</td>\n",
              "      <td>2458153051</td>\n",
              "      <td>AdWords</td>\n",
              "      <td>North America</td>\n",
              "    </tr>\n",
              "    <tr>\n",
              "      <th>1791</th>\n",
              "      <td>2018-01-01 23:58:33</td>\n",
              "      <td>read</td>\n",
              "      <td>country_8</td>\n",
              "      <td>2458153052</td>\n",
              "      <td>SEO</td>\n",
              "      <td>Asia</td>\n",
              "    </tr>\n",
              "    <tr>\n",
              "      <th>1792</th>\n",
              "      <td>2018-01-01 23:59:36</td>\n",
              "      <td>read</td>\n",
              "      <td>country_6</td>\n",
              "      <td>2458153053</td>\n",
              "      <td>Reddit</td>\n",
              "      <td>Asia</td>\n",
              "    </tr>\n",
              "    <tr>\n",
              "      <th>1793</th>\n",
              "      <td>2018-01-01 23:59:36</td>\n",
              "      <td>read</td>\n",
              "      <td>country_7</td>\n",
              "      <td>2458153054</td>\n",
              "      <td>AdWords</td>\n",
              "      <td>Europe</td>\n",
              "    </tr>\n",
              "    <tr>\n",
              "      <th>1794</th>\n",
              "      <td>2018-01-01 23:59:38</td>\n",
              "      <td>read</td>\n",
              "      <td>country_5</td>\n",
              "      <td>2458153055</td>\n",
              "      <td>Reddit</td>\n",
              "      <td>Asia</td>\n",
              "    </tr>\n",
              "  </tbody>\n",
              "</table>\n",
              "<p>1795 rows × 6 columns</p>\n",
              "</div>"
            ],
            "text/plain": [
              "              my_datetime event  ...   source        country\n",
              "0     2018-01-01 00:01:01  read  ...      SEO  North America\n",
              "1     2018-01-01 00:03:20  read  ...      SEO            NaN\n",
              "2     2018-01-01 00:04:01  read  ...  AdWords         Africa\n",
              "3     2018-01-01 00:04:02  read  ...  AdWords         Europe\n",
              "4     2018-01-01 00:05:03  read  ...   Reddit  North America\n",
              "...                   ...   ...  ...      ...            ...\n",
              "1790  2018-01-01 23:57:14  read  ...  AdWords  North America\n",
              "1791  2018-01-01 23:58:33  read  ...      SEO           Asia\n",
              "1792  2018-01-01 23:59:36  read  ...   Reddit           Asia\n",
              "1793  2018-01-01 23:59:36  read  ...  AdWords         Europe\n",
              "1794  2018-01-01 23:59:38  read  ...   Reddit           Asia\n",
              "\n",
              "[1795 rows x 6 columns]"
            ]
          },
          "metadata": {
            "tags": []
          },
          "execution_count": 38
        }
      ]
    },
    {
      "cell_type": "code",
      "metadata": {
        "id": "uVv7tihQivI4",
        "colab_type": "code",
        "colab": {
          "base_uri": "https://localhost:8080/",
          "height": 424
        },
        "outputId": "55c13734-c77d-4cd7-927b-89d4651a226e"
      },
      "source": [
        "data['country']=data['country'].fillna(data.country.mode().iloc[0])\n",
        "data"
      ],
      "execution_count": 39,
      "outputs": [
        {
          "output_type": "execute_result",
          "data": {
            "text/html": [
              "<div>\n",
              "<style scoped>\n",
              "    .dataframe tbody tr th:only-of-type {\n",
              "        vertical-align: middle;\n",
              "    }\n",
              "\n",
              "    .dataframe tbody tr th {\n",
              "        vertical-align: top;\n",
              "    }\n",
              "\n",
              "    .dataframe thead th {\n",
              "        text-align: right;\n",
              "    }\n",
              "</style>\n",
              "<table border=\"1\" class=\"dataframe\">\n",
              "  <thead>\n",
              "    <tr style=\"text-align: right;\">\n",
              "      <th></th>\n",
              "      <th>my_datetime</th>\n",
              "      <th>event</th>\n",
              "      <th>country_code</th>\n",
              "      <th>user_id</th>\n",
              "      <th>source</th>\n",
              "      <th>country</th>\n",
              "    </tr>\n",
              "  </thead>\n",
              "  <tbody>\n",
              "    <tr>\n",
              "      <th>0</th>\n",
              "      <td>2018-01-01 00:01:01</td>\n",
              "      <td>read</td>\n",
              "      <td>country_7</td>\n",
              "      <td>2458151261</td>\n",
              "      <td>SEO</td>\n",
              "      <td>North America</td>\n",
              "    </tr>\n",
              "    <tr>\n",
              "      <th>1</th>\n",
              "      <td>2018-01-01 00:03:20</td>\n",
              "      <td>read</td>\n",
              "      <td>country_7</td>\n",
              "      <td>2458151262</td>\n",
              "      <td>SEO</td>\n",
              "      <td>Asia</td>\n",
              "    </tr>\n",
              "    <tr>\n",
              "      <th>2</th>\n",
              "      <td>2018-01-01 00:04:01</td>\n",
              "      <td>read</td>\n",
              "      <td>country_7</td>\n",
              "      <td>2458151263</td>\n",
              "      <td>AdWords</td>\n",
              "      <td>Africa</td>\n",
              "    </tr>\n",
              "    <tr>\n",
              "      <th>3</th>\n",
              "      <td>2018-01-01 00:04:02</td>\n",
              "      <td>read</td>\n",
              "      <td>country_7</td>\n",
              "      <td>2458151264</td>\n",
              "      <td>AdWords</td>\n",
              "      <td>Europe</td>\n",
              "    </tr>\n",
              "    <tr>\n",
              "      <th>4</th>\n",
              "      <td>2018-01-01 00:05:03</td>\n",
              "      <td>read</td>\n",
              "      <td>country_8</td>\n",
              "      <td>2458151265</td>\n",
              "      <td>Reddit</td>\n",
              "      <td>North America</td>\n",
              "    </tr>\n",
              "    <tr>\n",
              "      <th>...</th>\n",
              "      <td>...</td>\n",
              "      <td>...</td>\n",
              "      <td>...</td>\n",
              "      <td>...</td>\n",
              "      <td>...</td>\n",
              "      <td>...</td>\n",
              "    </tr>\n",
              "    <tr>\n",
              "      <th>1790</th>\n",
              "      <td>2018-01-01 23:57:14</td>\n",
              "      <td>read</td>\n",
              "      <td>country_2</td>\n",
              "      <td>2458153051</td>\n",
              "      <td>AdWords</td>\n",
              "      <td>North America</td>\n",
              "    </tr>\n",
              "    <tr>\n",
              "      <th>1791</th>\n",
              "      <td>2018-01-01 23:58:33</td>\n",
              "      <td>read</td>\n",
              "      <td>country_8</td>\n",
              "      <td>2458153052</td>\n",
              "      <td>SEO</td>\n",
              "      <td>Asia</td>\n",
              "    </tr>\n",
              "    <tr>\n",
              "      <th>1792</th>\n",
              "      <td>2018-01-01 23:59:36</td>\n",
              "      <td>read</td>\n",
              "      <td>country_6</td>\n",
              "      <td>2458153053</td>\n",
              "      <td>Reddit</td>\n",
              "      <td>Asia</td>\n",
              "    </tr>\n",
              "    <tr>\n",
              "      <th>1793</th>\n",
              "      <td>2018-01-01 23:59:36</td>\n",
              "      <td>read</td>\n",
              "      <td>country_7</td>\n",
              "      <td>2458153054</td>\n",
              "      <td>AdWords</td>\n",
              "      <td>Europe</td>\n",
              "    </tr>\n",
              "    <tr>\n",
              "      <th>1794</th>\n",
              "      <td>2018-01-01 23:59:38</td>\n",
              "      <td>read</td>\n",
              "      <td>country_5</td>\n",
              "      <td>2458153055</td>\n",
              "      <td>Reddit</td>\n",
              "      <td>Asia</td>\n",
              "    </tr>\n",
              "  </tbody>\n",
              "</table>\n",
              "<p>1795 rows × 6 columns</p>\n",
              "</div>"
            ],
            "text/plain": [
              "              my_datetime event  ...   source        country\n",
              "0     2018-01-01 00:01:01  read  ...      SEO  North America\n",
              "1     2018-01-01 00:03:20  read  ...      SEO           Asia\n",
              "2     2018-01-01 00:04:01  read  ...  AdWords         Africa\n",
              "3     2018-01-01 00:04:02  read  ...  AdWords         Europe\n",
              "4     2018-01-01 00:05:03  read  ...   Reddit  North America\n",
              "...                   ...   ...  ...      ...            ...\n",
              "1790  2018-01-01 23:57:14  read  ...  AdWords  North America\n",
              "1791  2018-01-01 23:58:33  read  ...      SEO           Asia\n",
              "1792  2018-01-01 23:59:36  read  ...   Reddit           Asia\n",
              "1793  2018-01-01 23:59:36  read  ...  AdWords         Europe\n",
              "1794  2018-01-01 23:59:38  read  ...   Reddit           Asia\n",
              "\n",
              "[1795 rows x 6 columns]"
            ]
          },
          "metadata": {
            "tags": []
          },
          "execution_count": 39
        }
      ]
    },
    {
      "cell_type": "code",
      "metadata": {
        "id": "SzFcGe0viyJi",
        "colab_type": "code",
        "colab": {
          "base_uri": "https://localhost:8080/",
          "height": 90
        },
        "outputId": "628498b2-244a-4fae-c062-3c56fd0ca365"
      },
      "source": [
        "data['source'].value_counts()"
      ],
      "execution_count": 40,
      "outputs": [
        {
          "output_type": "execute_result",
          "data": {
            "text/plain": [
              "Reddit     949\n",
              "AdWords    500\n",
              "SEO        346\n",
              "Name: source, dtype: int64"
            ]
          },
          "metadata": {
            "tags": []
          },
          "execution_count": 40
        }
      ]
    },
    {
      "cell_type": "code",
      "metadata": {
        "id": "51C6VacPi0mc",
        "colab_type": "code",
        "colab": {}
      },
      "source": [
        ""
      ],
      "execution_count": 0,
      "outputs": []
    }
  ]
}