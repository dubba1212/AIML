{
  "nbformat": 4,
  "nbformat_minor": 0,
  "metadata": {
    "colab": {
      "name": "Assignment 9(5-06-2020).ipynb",
      "provenance": [],
      "authorship_tag": "ABX9TyPPRaEq5xcqfrG3a7YwXE8A",
      "include_colab_link": true
    },
    "kernelspec": {
      "name": "python3",
      "display_name": "Python 3"
    }
  },
  "cells": [
    {
      "cell_type": "markdown",
      "metadata": {
        "id": "view-in-github",
        "colab_type": "text"
      },
      "source": [
        "<a href=\"https://colab.research.google.com/github/dubba1212/AIML/blob/master/Assignment_9(5_06_2020).ipynb\" target=\"_parent\"><img src=\"https://colab.research.google.com/assets/colab-badge.svg\" alt=\"Open In Colab\"/></a>"
      ]
    },
    {
      "cell_type": "markdown",
      "metadata": {
        "id": "HwG0HRXiC2ii",
        "colab_type": "text"
      },
      "source": [
        "**1**[Data Series] \n",
        "Write a Python program to add, subtract, multiple and divide two Pandas Series. "
      ]
    },
    {
      "cell_type": "code",
      "metadata": {
        "id": "xVkMCakSCn0L",
        "colab_type": "code",
        "outputId": "23aac523-33e5-4217-8b48-b439eccf6918",
        "colab": {
          "base_uri": "https://localhost:8080/",
          "height": 90
        }
      },
      "source": [
        "import pandas as pd\n",
        "import numpy as np\n",
        "s1 = pd.Series([2,4,6,8,10])\n",
        "s2 = pd.Series([1,3,5,7,9])\n",
        "add=s1+s2\n",
        "print(list(s1),\"+\",list(s2),\"=\",end=\" \")\n",
        "print(list(add))\n",
        "sub=s1-s2\n",
        "print(list(s1),\"-\",list(s2),\"=\",end=\" \")\n",
        "print(list(sub))\n",
        "mul=s1*s2\n",
        "print(list(s1),\"*\",list(s2),\"=\",end=\" \")\n",
        "print(list(mul))\n",
        "div=s1/s2\n",
        "print(list(s1),\"/\",list(s2),\"=\",end=\" \")\n",
        "print(list(div))"
      ],
      "execution_count": 18,
      "outputs": [
        {
          "output_type": "stream",
          "text": [
            "[2, 4, 6, 8, 10] + [1, 3, 5, 7, 9] = [3, 7, 11, 15, 19]\n",
            "[2, 4, 6, 8, 10] - [1, 3, 5, 7, 9] = [1, 1, 1, 1, 1]\n",
            "[2, 4, 6, 8, 10] * [1, 3, 5, 7, 9] = [2, 12, 30, 56, 90]\n",
            "[2, 4, 6, 8, 10] / [1, 3, 5, 7, 9] = [2.0, 1.3333333333333333, 1.2, 1.1428571428571428, 1.1111111111111112]\n"
          ],
          "name": "stdout"
        }
      ]
    },
    {
      "cell_type": "markdown",
      "metadata": {
        "id": "gNO002BWC3v0",
        "colab_type": "text"
      },
      "source": [
        "**2**\n",
        "[Quartiles] \n",
        "Write a Pandas program to compute the minimum, 25th percentile, median, 75th, and maximum of a given series. "
      ]
    },
    {
      "cell_type": "code",
      "metadata": {
        "id": "E6Po6G8-C3Jp",
        "colab_type": "code",
        "colab": {
          "base_uri": "https://localhost:8080/",
          "height": 201
        },
        "outputId": "9b28de19-3c1d-4b24-a8d1-a6260cf73625"
      },
      "source": [
        "s=pd.Series([3.000938,11.370722,14.612143,8.990256,13.925283,12.056875])\n",
        "print(s.describe())\n",
        "print(\"median:\",s.median())"
      ],
      "execution_count": 19,
      "outputs": [
        {
          "output_type": "stream",
          "text": [
            "count     6.000000\n",
            "mean     10.659370\n",
            "std       4.247050\n",
            "min       3.000938\n",
            "25%       9.585373\n",
            "50%      11.713798\n",
            "75%      13.458181\n",
            "max      14.612143\n",
            "dtype: float64\n",
            "median: 11.7137985\n"
          ],
          "name": "stdout"
        }
      ]
    },
    {
      "cell_type": "markdown",
      "metadata": {
        "id": "bREiDyBEC4v2",
        "colab_type": "text"
      },
      "source": [
        "**3**\n",
        "[List Difference] \n",
        "Write a Pandas program to get the items of a given series not present in another given series. \n"
      ]
    },
    {
      "cell_type": "code",
      "metadata": {
        "id": "hoI9Ti0nC5Vu",
        "colab_type": "code",
        "outputId": "29987a4a-3ad8-4975-be4f-f1154fb3dc2e",
        "colab": {
          "base_uri": "https://localhost:8080/",
          "height": 127
        }
      },
      "source": [
        "s1 = pd.Series([1,2,3,4,5])\n",
        "s1"
      ],
      "execution_count": 4,
      "outputs": [
        {
          "output_type": "execute_result",
          "data": {
            "text/plain": [
              "0    1\n",
              "1    2\n",
              "2    3\n",
              "3    4\n",
              "4    5\n",
              "dtype: int64"
            ]
          },
          "metadata": {
            "tags": []
          },
          "execution_count": 4
        }
      ]
    },
    {
      "cell_type": "code",
      "metadata": {
        "id": "72bt5PJhHiR-",
        "colab_type": "code",
        "outputId": "bc99c254-667b-4381-cbda-6b0856e50ac5",
        "colab": {
          "base_uri": "https://localhost:8080/",
          "height": 127
        }
      },
      "source": [
        "s2 = pd.Series([2,4,6,8,10])\n",
        "s2"
      ],
      "execution_count": 5,
      "outputs": [
        {
          "output_type": "execute_result",
          "data": {
            "text/plain": [
              "0     2\n",
              "1     4\n",
              "2     6\n",
              "3     8\n",
              "4    10\n",
              "dtype: int64"
            ]
          },
          "metadata": {
            "tags": []
          },
          "execution_count": 5
        }
      ]
    },
    {
      "cell_type": "code",
      "metadata": {
        "id": "LnwzX6k8KW72",
        "colab_type": "code",
        "outputId": "4a6e4602-4d56-46b6-dfca-6a86a3b1a4f5",
        "colab": {
          "base_uri": "https://localhost:8080/",
          "height": 90
        }
      },
      "source": [
        "result = s1[~s1.isin(s2)]\n",
        "print(result)"
      ],
      "execution_count": 6,
      "outputs": [
        {
          "output_type": "stream",
          "text": [
            "0    1\n",
            "2    3\n",
            "4    5\n",
            "dtype: int64\n"
          ],
          "name": "stdout"
        }
      ]
    },
    {
      "cell_type": "code",
      "metadata": {
        "id": "aqEP8OEWHlRC",
        "colab_type": "code",
        "outputId": "905ac02d-786c-43a0-db49-a34bf709d3b1",
        "colab": {
          "base_uri": "https://localhost:8080/",
          "height": 127
        }
      },
      "source": [
        "z=s1.isin(s2)\n",
        "print(z)\n"
      ],
      "execution_count": 7,
      "outputs": [
        {
          "output_type": "stream",
          "text": [
            "0    False\n",
            "1     True\n",
            "2    False\n",
            "3     True\n",
            "4    False\n",
            "dtype: bool\n"
          ],
          "name": "stdout"
        }
      ]
    },
    {
      "cell_type": "markdown",
      "metadata": {
        "id": "ZNA08S_4C5x7",
        "colab_type": "text"
      },
      "source": [
        "**4**\n",
        "[Filter Words with Multiple Vowels] \n",
        "Write a Pandas program to filter words from a given series that contain at least two vowels. \n"
      ]
    },
    {
      "cell_type": "code",
      "metadata": {
        "id": "TKhPrrfjC6Oj",
        "colab_type": "code",
        "outputId": "1bc50fdf-b52d-4f3f-8aa7-c5a173fc6222",
        "colab": {
          "base_uri": "https://localhost:8080/",
          "height": 201
        }
      },
      "source": [
        "s1=pd.Series(['Red','Green','Orange','pink','Yellow','white'])\n",
        "list1=[]\n",
        "list2=[]\n",
        "for i in s1:\n",
        "  count=0\n",
        "  for j in (i):\n",
        "    if j in ['a','e','i','o','u']:\n",
        "      count+=1\n",
        "  if count>=2:\n",
        "    list1.append(i)\n",
        "  else:\n",
        "    list2.append(i)\n",
        "print(\"filtered words\")\n",
        "df=pd.Series(i for i in list1)\n",
        "print(df)\n",
        "print(\"unfiltered words\")\n",
        "df=pd.Series(i for i in list2)\n",
        "print(df)"
      ],
      "execution_count": 17,
      "outputs": [
        {
          "output_type": "stream",
          "text": [
            "filtered words\n",
            "0     Green\n",
            "1    Orange\n",
            "2    Yellow\n",
            "3     white\n",
            "dtype: object\n",
            "unfiltered words\n",
            "0     Red\n",
            "1    pink\n",
            "dtype: object\n"
          ],
          "name": "stdout"
        }
      ]
    },
    {
      "cell_type": "markdown",
      "metadata": {
        "id": "gHxRP1njC62D",
        "colab_type": "text"
      },
      "source": [
        "**5**\n",
        "Consider the following as my DataFrame,Write a Pandas program to select the rows where the number of attempts in the examination is greater than 2.\n"
      ]
    },
    {
      "cell_type": "code",
      "metadata": {
        "id": "k4hkoa9vC7Pz",
        "colab_type": "code",
        "colab": {
          "base_uri": "https://localhost:8080/",
          "height": 363
        },
        "outputId": "681479c5-4123-45dd-ee26-2f7ff8a26683"
      },
      "source": [
        "import pandas as pd\n",
        "d = {'a':\"Anastasia\",'b':\"dima\",'c':\"katherine\",'d':\"james\",'e':\"emily\",'f':\"michael\",'g':\"matthew\",'h':\"laura\",'i':\"kevin\",'j':\"jonas\"}\n",
        "d1 = {'a':12.5,'b':9,'c':16.5,'e':9,'f':20,'g':14.5,'i':8,'j':19}\n",
        "d2 = {'a':1,'b':3,'c':2,'d':3,'e':2,'f':3,'g':1,'h':1,'i':2,'j':1}\n",
        "d3 = {'a':\"yes\",'b':\"no\",'c':\"yes\",'d':\"no\",'e':\"no\",'f':\"yes\",'g':\"yes\",'h':\"no\",'i':\"no\",'j':\"yes\"}\n",
        "data = {\"name\":d,\"score\":d1,\"attempts\":d2,\"qualify\":d3}\n",
        "df =pd.DataFrame(data)\n",
        "df"
      ],
      "execution_count": 9,
      "outputs": [
        {
          "output_type": "execute_result",
          "data": {
            "text/html": [
              "<div>\n",
              "<style scoped>\n",
              "    .dataframe tbody tr th:only-of-type {\n",
              "        vertical-align: middle;\n",
              "    }\n",
              "\n",
              "    .dataframe tbody tr th {\n",
              "        vertical-align: top;\n",
              "    }\n",
              "\n",
              "    .dataframe thead th {\n",
              "        text-align: right;\n",
              "    }\n",
              "</style>\n",
              "<table border=\"1\" class=\"dataframe\">\n",
              "  <thead>\n",
              "    <tr style=\"text-align: right;\">\n",
              "      <th></th>\n",
              "      <th>name</th>\n",
              "      <th>score</th>\n",
              "      <th>attempts</th>\n",
              "      <th>qualify</th>\n",
              "    </tr>\n",
              "  </thead>\n",
              "  <tbody>\n",
              "    <tr>\n",
              "      <th>a</th>\n",
              "      <td>Anastasia</td>\n",
              "      <td>12.5</td>\n",
              "      <td>1</td>\n",
              "      <td>yes</td>\n",
              "    </tr>\n",
              "    <tr>\n",
              "      <th>b</th>\n",
              "      <td>dima</td>\n",
              "      <td>9.0</td>\n",
              "      <td>3</td>\n",
              "      <td>no</td>\n",
              "    </tr>\n",
              "    <tr>\n",
              "      <th>c</th>\n",
              "      <td>katherine</td>\n",
              "      <td>16.5</td>\n",
              "      <td>2</td>\n",
              "      <td>yes</td>\n",
              "    </tr>\n",
              "    <tr>\n",
              "      <th>d</th>\n",
              "      <td>james</td>\n",
              "      <td>NaN</td>\n",
              "      <td>3</td>\n",
              "      <td>no</td>\n",
              "    </tr>\n",
              "    <tr>\n",
              "      <th>e</th>\n",
              "      <td>emily</td>\n",
              "      <td>9.0</td>\n",
              "      <td>2</td>\n",
              "      <td>no</td>\n",
              "    </tr>\n",
              "    <tr>\n",
              "      <th>f</th>\n",
              "      <td>michael</td>\n",
              "      <td>20.0</td>\n",
              "      <td>3</td>\n",
              "      <td>yes</td>\n",
              "    </tr>\n",
              "    <tr>\n",
              "      <th>g</th>\n",
              "      <td>matthew</td>\n",
              "      <td>14.5</td>\n",
              "      <td>1</td>\n",
              "      <td>yes</td>\n",
              "    </tr>\n",
              "    <tr>\n",
              "      <th>h</th>\n",
              "      <td>laura</td>\n",
              "      <td>NaN</td>\n",
              "      <td>1</td>\n",
              "      <td>no</td>\n",
              "    </tr>\n",
              "    <tr>\n",
              "      <th>i</th>\n",
              "      <td>kevin</td>\n",
              "      <td>8.0</td>\n",
              "      <td>2</td>\n",
              "      <td>no</td>\n",
              "    </tr>\n",
              "    <tr>\n",
              "      <th>j</th>\n",
              "      <td>jonas</td>\n",
              "      <td>19.0</td>\n",
              "      <td>1</td>\n",
              "      <td>yes</td>\n",
              "    </tr>\n",
              "  </tbody>\n",
              "</table>\n",
              "</div>"
            ],
            "text/plain": [
              "        name  score  attempts qualify\n",
              "a  Anastasia   12.5         1     yes\n",
              "b       dima    9.0         3      no\n",
              "c  katherine   16.5         2     yes\n",
              "d      james    NaN         3      no\n",
              "e      emily    9.0         2      no\n",
              "f    michael   20.0         3     yes\n",
              "g    matthew   14.5         1     yes\n",
              "h      laura    NaN         1      no\n",
              "i      kevin    8.0         2      no\n",
              "j      jonas   19.0         1     yes"
            ]
          },
          "metadata": {
            "tags": []
          },
          "execution_count": 9
        }
      ]
    },
    {
      "cell_type": "code",
      "metadata": {
        "id": "bl8k0fdbxkof",
        "colab_type": "code",
        "colab": {
          "base_uri": "https://localhost:8080/",
          "height": 109
        },
        "outputId": "c42f3bd5-f668-4b04-e455-b94a89f168f3"
      },
      "source": [
        "data = {\"name\":d,\"score\":d1,\"attempts\":d2,\"qualify\":d3}\n",
        "df =pd.DataFrame(data)\n",
        "print(\"attempts greater then 2 are:-\")\n",
        "print(df[df['attempts']>2])"
      ],
      "execution_count": 10,
      "outputs": [
        {
          "output_type": "stream",
          "text": [
            "attempts greater then 2 are:-\n",
            "      name  score  attempts qualify\n",
            "b     dima    9.0         3      no\n",
            "d    james    NaN         3      no\n",
            "f  michael   20.0         3     yes\n"
          ],
          "name": "stdout"
        }
      ]
    }
  ]
}