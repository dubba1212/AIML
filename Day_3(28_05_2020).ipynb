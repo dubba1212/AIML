{
  "nbformat": 4,
  "nbformat_minor": 0,
  "metadata": {
    "colab": {
      "name": "Day-3(28-05-2020).ipynb",
      "provenance": [],
      "authorship_tag": "ABX9TyMisWPvaBU7orllzZKMWSDi",
      "include_colab_link": true
    },
    "kernelspec": {
      "name": "python3",
      "display_name": "Python 3"
    }
  },
  "cells": [
    {
      "cell_type": "markdown",
      "metadata": {
        "id": "view-in-github",
        "colab_type": "text"
      },
      "source": [
        "<a href=\"https://colab.research.google.com/github/dubba1212/AIML/blob/master/Day_3(28_05_2020).ipynb\" target=\"_parent\"><img src=\"https://colab.research.google.com/assets/colab-badge.svg\" alt=\"Open In Colab\"/></a>"
      ]
    },
    {
      "cell_type": "markdown",
      "metadata": {
        "id": "FYMumt1Ta9Dj",
        "colab_type": "text"
      },
      "source": [
        "Strings:s \n",
        "1. \" \" or ' '(characters) -->'a'\n",
        "2. immutable -->we cannot changes\n",
        "3. collection of character enclosed by quotation marks -->iterable object"
      ]
    },
    {
      "cell_type": "code",
      "metadata": {
        "id": "03E4Qirkbbih",
        "colab_type": "code",
        "outputId": "bc414cdc-7a41-4b7c-b123-cfdc17e0ea14",
        "colab": {
          "base_uri": "https://localhost:8080/",
          "height": 54
        }
      },
      "source": [
        "s1 = input(\"enter the string\")\n",
        "s2 = 'dubba srikanth'\n",
        "print(type(s1),type(s2))"
      ],
      "execution_count": 0,
      "outputs": [
        {
          "output_type": "stream",
          "text": [
            "enter the stringreddy\n",
            "<class 'str'> <class 'str'>\n"
          ],
          "name": "stdout"
        }
      ]
    },
    {
      "cell_type": "code",
      "metadata": {
        "id": "l_5hTPDncJVd",
        "colab_type": "code",
        "outputId": "5036fc9f-af12-4a84-a58c-b549449216ff",
        "colab": {
          "base_uri": "https://localhost:8080/",
          "height": 111
        }
      },
      "source": [
        "# operator:- +,*(repitition),[](slice),[start:stop](slice range)\n",
        "print(s2+s1)\n",
        "print(s1*3)\n",
        "print(s1[3])#to select a character\n",
        "print(s1[-1])\n",
        "print(s2[4:10])"
      ],
      "execution_count": 0,
      "outputs": [
        {
          "output_type": "stream",
          "text": [
            "dubba srikanthreddy\n",
            "reddyreddyreddy\n",
            "d\n",
            "y\n",
            "a srik\n"
          ],
          "name": "stdout"
        }
      ]
    },
    {
      "cell_type": "code",
      "metadata": {
        "id": "qylaiANrcpGN",
        "colab_type": "code",
        "outputId": "767b2842-2a27-4dda-ba57-c30288738dc4",
        "colab": {
          "base_uri": "https://localhost:8080/",
          "height": 36
        }
      },
      "source": [
        "print(s1[:])"
      ],
      "execution_count": 0,
      "outputs": [
        {
          "output_type": "stream",
          "text": [
            "reddy\n"
          ],
          "name": "stdout"
        }
      ]
    },
    {
      "cell_type": "code",
      "metadata": {
        "id": "e3BiiG8sgAt7",
        "colab_type": "code",
        "outputId": "aedaa051-2736-49f8-870b-8fb8425346d6",
        "colab": {
          "base_uri": "https://localhost:8080/",
          "height": 36
        }
      },
      "source": [
        "#alternative character of string\n",
        "print(s1[::2])"
      ],
      "execution_count": 0,
      "outputs": [
        {
          "output_type": "stream",
          "text": [
            "rdy\n"
          ],
          "name": "stdout"
        }
      ]
    },
    {
      "cell_type": "code",
      "metadata": {
        "id": "H5vKNqpAgYGI",
        "colab_type": "code",
        "outputId": "399d05ba-f802-4579-d6d0-33c508e48210",
        "colab": {
          "base_uri": "https://localhost:8080/",
          "height": 54
        }
      },
      "source": [
        "#Accept a string from a user and check whether it is palindrome or not\n",
        "a1=input(\"enter the string \")\n",
        "if a1==a1[::-1]:\n",
        "  print(\"string is palindrom\")\n",
        "else:\n",
        "  print(\"string is not a palindrome\")"
      ],
      "execution_count": 0,
      "outputs": [
        {
          "output_type": "stream",
          "text": [
            "enter the string madam\n",
            "it is palindrom\n"
          ],
          "name": "stdout"
        }
      ]
    },
    {
      "cell_type": "code",
      "metadata": {
        "id": "nxr6_40qg8-4",
        "colab_type": "code",
        "outputId": "90249786-164f-4d4b-ab3b-d40fb6d85103",
        "colab": {
          "base_uri": "https://localhost:8080/",
          "height": 54
        }
      },
      "source": [
        "a=int(input(\"enter the string \"))\n",
        "if str(a)==str(a)[::-1]:\n",
        "  print(\"the number is palindrom\")\n",
        "else:\n",
        "  print(\"the number is not a palindrome\")"
      ],
      "execution_count": 0,
      "outputs": [
        {
          "output_type": "stream",
          "text": [
            "enter the string 121\n",
            "the number is palindrom\n"
          ],
          "name": "stdout"
        }
      ]
    },
    {
      "cell_type": "code",
      "metadata": {
        "id": "jBNsSKV8iXIH",
        "colab_type": "code",
        "outputId": "288c57fc-2954-4756-9411-89c793b2cacb",
        "colab": {
          "base_uri": "https://localhost:8080/",
          "height": 92
        }
      },
      "source": [
        "a2 = \"royal\"\n",
        "print(\"al\" in a2)\n",
        "print(\"dd\" in a2)\n",
        "print(\"al\" not in a2)\n",
        "print(\"dd\" not in a2)"
      ],
      "execution_count": 0,
      "outputs": [
        {
          "output_type": "stream",
          "text": [
            "True\n",
            "False\n",
            "False\n",
            "True\n"
          ],
          "name": "stdout"
        }
      ]
    },
    {
      "cell_type": "markdown",
      "metadata": {
        "id": "hMQySLeekgqA",
        "colab_type": "text"
      },
      "source": [
        "###Built in functions\n",
        "1. len()\n",
        "2. max()\n",
        "3. min()\n",
        "4. str()"
      ]
    },
    {
      "cell_type": "code",
      "metadata": {
        "id": "3hlubzmgjUT-",
        "colab_type": "code",
        "outputId": "ffe9431e-d4f3-4b94-df05-2654170d4148",
        "colab": {
          "base_uri": "https://localhost:8080/",
          "height": 111
        }
      },
      "source": [
        "x = \"hello\"\n",
        "x1 = \"asdfg123\"\n",
        "print(len(x))\n",
        "print(max(x))\n",
        "print(min(x))\n",
        "print(min(x1))\n",
        "print(str(x))"
      ],
      "execution_count": 0,
      "outputs": [
        {
          "output_type": "stream",
          "text": [
            "5\n",
            "o\n",
            "e\n",
            "1\n",
            "hello\n"
          ],
          "name": "stdout"
        }
      ]
    },
    {
      "cell_type": "code",
      "metadata": {
        "id": "63T_rvtQk8fT",
        "colab_type": "code",
        "outputId": "448f8d10-d8bf-4f94-9c9d-0f50537e698c",
        "colab": {
          "base_uri": "https://localhost:8080/",
          "height": 36
        }
      },
      "source": [
        "ord('a')"
      ],
      "execution_count": 0,
      "outputs": [
        {
          "output_type": "execute_result",
          "data": {
            "text/plain": [
              "97"
            ]
          },
          "metadata": {
            "tags": []
          },
          "execution_count": 21
        }
      ]
    },
    {
      "cell_type": "markdown",
      "metadata": {
        "id": "P4mnwZRzlwQ-",
        "colab_type": "text"
      },
      "source": [
        "###Bulit in methods:\n",
        "1. capitalize()\n",
        "2. isalpha() -->return true if string is character\n",
        "3. isalnum()  --> return true if it has digit or character\n",
        "4. isdigit() -->return true if its has numbers only\n",
        "5. upper() -->convert lower to upper\n",
        "6. lower() \n",
        "7. swapcase()\n",
        "8. replace() -->replace old character with new character"
      ]
    },
    {
      "cell_type": "code",
      "metadata": {
        "id": "ACdcQy8ylU9G",
        "colab_type": "code",
        "outputId": "416d17f4-b9cf-42d3-9700-a34fa666d51b",
        "colab": {
          "base_uri": "https://localhost:8080/",
          "height": 54
        }
      },
      "source": [
        "q = \"dubba\"\n",
        "print(len(q))#function name(object name)\n",
        "print(q.capitalize())#object name.method name()\n"
      ],
      "execution_count": 0,
      "outputs": [
        {
          "output_type": "stream",
          "text": [
            "5\n",
            "Dubba\n"
          ],
          "name": "stdout"
        }
      ]
    },
    {
      "cell_type": "code",
      "metadata": {
        "id": "KBTLorA8nbOJ",
        "colab_type": "code",
        "outputId": "be3aac6c-fb1f-4d54-d89c-9526d6c29f5c",
        "colab": {
          "base_uri": "https://localhost:8080/",
          "height": 167
        }
      },
      "source": [
        "q1 = \"dubba\"\n",
        "q2 = \"asd123\"\n",
        "q3 = \"1212\"\n",
        "print(q1.isalpha())\n",
        "print(q2.isdigit())\n",
        "print(q3.isalnum())\n",
        "print(q2.isalpha())\n",
        "print(q3.isdigit())\n",
        "print(q2.isalnum())\n",
        "print(q1.isalnum())\n",
        "print(q1.isdigit())"
      ],
      "execution_count": 0,
      "outputs": [
        {
          "output_type": "stream",
          "text": [
            "True\n",
            "False\n",
            "True\n",
            "False\n",
            "True\n",
            "True\n",
            "True\n",
            "False\n"
          ],
          "name": "stdout"
        }
      ]
    },
    {
      "cell_type": "code",
      "metadata": {
        "id": "n63h-XH4o4J-",
        "colab_type": "code",
        "colab": {}
      },
      "source": [
        ""
      ],
      "execution_count": 0,
      "outputs": []
    },
    {
      "cell_type": "code",
      "metadata": {
        "id": "QXpHmP46qpnM",
        "colab_type": "code",
        "outputId": "453266f1-3822-44fd-b094-3ce1b4e3bca4",
        "colab": {
          "base_uri": "https://localhost:8080/",
          "height": 92
        }
      },
      "source": [
        "a1 = \"dubba\"\n",
        "a2 =\"DUBBA\"\n",
        "print(a1.isupper())\n",
        "print(a2.isupper())\n",
        "print(a1.islower())\n",
        "print(a2.islower())"
      ],
      "execution_count": 0,
      "outputs": [
        {
          "output_type": "stream",
          "text": [
            "False\n",
            "True\n",
            "True\n",
            "False\n"
          ],
          "name": "stdout"
        }
      ]
    },
    {
      "cell_type": "code",
      "metadata": {
        "id": "dpnZGeGhrRY6",
        "colab_type": "code",
        "outputId": "4bf4795e-daca-4578-8a96-e2cbbfbeb0cc",
        "colab": {
          "base_uri": "https://localhost:8080/",
          "height": 92
        }
      },
      "source": [
        "q1 =\"srikanth\"\n",
        "q2 =\"SRIKANTH\"\n",
        "q3 =\"AsDfG\"\n",
        "print(q1.upper())\n",
        "print(q2.swapcase())\n",
        "print(q2.lower())\n",
        "print(q3.swapcase())\n"
      ],
      "execution_count": 0,
      "outputs": [
        {
          "output_type": "stream",
          "text": [
            "SRIKANTH\n",
            "srikanth\n",
            "srikanth\n",
            "aSdFg\n"
          ],
          "name": "stdout"
        }
      ]
    },
    {
      "cell_type": "code",
      "metadata": {
        "id": "-3cLRc9vryxN",
        "colab_type": "code",
        "outputId": "821950ec-e391-4b97-8ccf-9fcd040ab6fd",
        "colab": {
          "base_uri": "https://localhost:8080/",
          "height": 36
        }
      },
      "source": [
        "a = \"asd asd asd asd as asd ghjg hjhtf asd\"\n",
        "a.count(\"asd\")"
      ],
      "execution_count": 0,
      "outputs": [
        {
          "output_type": "execute_result",
          "data": {
            "text/plain": [
              "6"
            ]
          },
          "metadata": {
            "tags": []
          },
          "execution_count": 39
        }
      ]
    },
    {
      "cell_type": "code",
      "metadata": {
        "id": "VacfbN3-tSMF",
        "colab_type": "code",
        "outputId": "d7a2b2d9-6dad-4288-fa03-2616bd131ed0",
        "colab": {
          "base_uri": "https://localhost:8080/",
          "height": 36
        }
      },
      "source": [
        "#spilt --> return value in theform of list\n",
        "a = \"asd asd asd asd as asd ghjg hjhtf asd\"\n",
        "a.split()\n",
        "a1 = \"a,s,d,f,\"\n",
        "print(a1.split(\",\"))"
      ],
      "execution_count": 0,
      "outputs": [
        {
          "output_type": "stream",
          "text": [
            "['a', 's', 'd', 'f', '']\n"
          ],
          "name": "stdout"
        }
      ]
    },
    {
      "cell_type": "code",
      "metadata": {
        "id": "6c2-3ef2ts3b",
        "colab_type": "code",
        "outputId": "61bee62f-616e-48bc-ae5b-941ba0e90e19",
        "colab": {
          "base_uri": "https://localhost:8080/",
          "height": 36
        }
      },
      "source": [
        "#replace \n",
        "s =\"dubba\"\n",
        "s = s.replace('b','d')\n",
        "print(s)"
      ],
      "execution_count": 0,
      "outputs": [
        {
          "output_type": "stream",
          "text": [
            "dudda\n"
          ],
          "name": "stdout"
        }
      ]
    },
    {
      "cell_type": "code",
      "metadata": {
        "id": "J2fGN-nvvQ0s",
        "colab_type": "code",
        "outputId": "86545a04-f39a-4262-9be9-5a4def0bbce4",
        "colab": {
          "base_uri": "https://localhost:8080/",
          "height": 73
        }
      },
      "source": [
        "#accept a number(n) from the user and remove nth position\n",
        "#n=3\n",
        "s = int(input(\"enter position \"))\n",
        "n = input(\"enter string  \")\n",
        "n = n.replace(n[s-1],\"\",1)\n",
        "print(n)"
      ],
      "execution_count": 0,
      "outputs": [
        {
          "output_type": "stream",
          "text": [
            "enter position3\n",
            "enter stringabcabc\n",
            "ababc\n"
          ],
          "name": "stdout"
        }
      ]
    },
    {
      "cell_type": "markdown",
      "metadata": {
        "id": "ynCIR-BszJtw",
        "colab_type": "text"
      },
      "source": [
        "###for loop\n",
        "1. for loop with range() function\n",
        "    for variable_name in rang(start,stop,step):\n",
        "2. for loop with iterable object"
      ]
    },
    {
      "cell_type": "code",
      "metadata": {
        "id": "hft6eN0nwhD_",
        "colab_type": "code",
        "outputId": "598c894c-9fe6-4915-b7db-1fc76bb26b71",
        "colab": {
          "base_uri": "https://localhost:8080/",
          "height": 36
        }
      },
      "source": [
        "#print 1-n numbers\n",
        "n=10\n",
        "for i in range(1,n+1):\n",
        "  print(i,end=\" \")\n",
        "print()"
      ],
      "execution_count": 0,
      "outputs": [
        {
          "output_type": "stream",
          "text": [
            "1 2 3 4 5 6 7 8 9 10 \n"
          ],
          "name": "stdout"
        }
      ]
    },
    {
      "cell_type": "code",
      "metadata": {
        "id": "99kuUyAp0cz3",
        "colab_type": "code",
        "outputId": "7b3bdbc7-d54b-462d-cf4e-604cfa49286b",
        "colab": {
          "base_uri": "https://localhost:8080/",
          "height": 111
        }
      },
      "source": [
        "s = \"dubba\"\n",
        "for i in s:\n",
        "  print(i)"
      ],
      "execution_count": 0,
      "outputs": [
        {
          "output_type": "stream",
          "text": [
            "d\n",
            "u\n",
            "b\n",
            "b\n",
            "a\n"
          ],
          "name": "stdout"
        }
      ]
    },
    {
      "cell_type": "code",
      "metadata": {
        "id": "2BoModjT2lU6",
        "colab_type": "code",
        "outputId": "2c58614f-3297-415d-eeff-feaf956f4604",
        "colab": {
          "base_uri": "https://localhost:8080/",
          "height": 111
        }
      },
      "source": [
        "s=\"dubba\"\n",
        "i=0\n",
        "while i<len(s):\n",
        "  print(s[i])\n",
        "  i+=1"
      ],
      "execution_count": 0,
      "outputs": [
        {
          "output_type": "stream",
          "text": [
            "d\n",
            "u\n",
            "b\n",
            "b\n",
            "a\n"
          ],
          "name": "stdout"
        }
      ]
    },
    {
      "cell_type": "code",
      "metadata": {
        "id": "wrbCGaam3DLn",
        "colab_type": "code",
        "outputId": "0a6cea15-03e0-470a-8fce-9758d9c94eb9",
        "colab": {
          "base_uri": "https://localhost:8080/",
          "height": 288
        }
      },
      "source": [
        "s = \"dubba\"\n",
        "a=len(s)\n",
        "for i in range(11):\n",
        "  print(s[i])"
      ],
      "execution_count": 0,
      "outputs": [
        {
          "output_type": "stream",
          "text": [
            "u\n",
            "b\n",
            "b\n",
            "a\n"
          ],
          "name": "stdout"
        },
        {
          "output_type": "error",
          "ename": "IndexError",
          "evalue": "ignored",
          "traceback": [
            "\u001b[0;31m---------------------------------------------------------------------------\u001b[0m",
            "\u001b[0;31mIndexError\u001b[0m                                Traceback (most recent call last)",
            "\u001b[0;32m<ipython-input-61-f0f3206a056d>\u001b[0m in \u001b[0;36m<module>\u001b[0;34m()\u001b[0m\n\u001b[1;32m      2\u001b[0m \u001b[0ma\u001b[0m\u001b[0;34m=\u001b[0m\u001b[0mlen\u001b[0m\u001b[0;34m(\u001b[0m\u001b[0ms\u001b[0m\u001b[0;34m)\u001b[0m\u001b[0;34m\u001b[0m\u001b[0;34m\u001b[0m\u001b[0m\n\u001b[1;32m      3\u001b[0m \u001b[0;32mfor\u001b[0m \u001b[0mi\u001b[0m \u001b[0;32min\u001b[0m \u001b[0mrange\u001b[0m\u001b[0;34m(\u001b[0m\u001b[0;36m1\u001b[0m\u001b[0;34m,\u001b[0m\u001b[0ma\u001b[0m\u001b[0;34m+\u001b[0m\u001b[0;36m1\u001b[0m\u001b[0;34m)\u001b[0m\u001b[0;34m:\u001b[0m\u001b[0;34m\u001b[0m\u001b[0;34m\u001b[0m\u001b[0m\n\u001b[0;32m----> 4\u001b[0;31m   \u001b[0mprint\u001b[0m\u001b[0;34m(\u001b[0m\u001b[0ms\u001b[0m\u001b[0;34m[\u001b[0m\u001b[0mi\u001b[0m\u001b[0;34m]\u001b[0m\u001b[0;34m)\u001b[0m\u001b[0;34m\u001b[0m\u001b[0;34m\u001b[0m\u001b[0m\n\u001b[0m",
            "\u001b[0;31mIndexError\u001b[0m: string index out of range"
          ]
        }
      ]
    },
    {
      "cell_type": "code",
      "metadata": {
        "id": "pLlJN3774fhW",
        "colab_type": "code",
        "colab": {
          "base_uri": "https://localhost:8080/",
          "height": 36
        },
        "outputId": "a5022451-867c-4317-c5f4-ae9f8d5c36f1"
      },
      "source": [
        ""
      ],
      "execution_count": 65,
      "outputs": [
        {
          "output_type": "stream",
          "text": [
            "Equal\n"
          ],
          "name": "stdout"
        }
      ]
    },
    {
      "cell_type": "code",
      "metadata": {
        "id": "WkjM0SMO_WOz",
        "colab_type": "code",
        "colab": {}
      },
      "source": [
        ""
      ],
      "execution_count": 0,
      "outputs": []
    }
  ]
}