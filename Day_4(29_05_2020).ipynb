{
  "nbformat": 4,
  "nbformat_minor": 0,
  "metadata": {
    "colab": {
      "name": "Day 4(29-05-2020).ipynb",
      "provenance": [],
      "authorship_tag": "ABX9TyN2eShvpfCY6ZNJliXuzXWn",
      "include_colab_link": true
    },
    "kernelspec": {
      "name": "python3",
      "display_name": "Python 3"
    }
  },
  "cells": [
    {
      "cell_type": "markdown",
      "metadata": {
        "id": "view-in-github",
        "colab_type": "text"
      },
      "source": [
        "<a href=\"https://colab.research.google.com/github/dubba1212/AIML/blob/master/Day_4(29_05_2020).ipynb\" target=\"_parent\"><img src=\"https://colab.research.google.com/assets/colab-badge.svg\" alt=\"Open In Colab\"/></a>"
      ]
    },
    {
      "cell_type": "code",
      "metadata": {
        "id": "q28MJO33kcPE",
        "colab_type": "code",
        "colab": {
          "base_uri": "https://localhost:8080/",
          "height": 92
        },
        "outputId": "6c0c3f7f-3672-4577-bab5-5dd6b4cd6ed8"
      },
      "source": [
        "#loop contron statements:break,continue\n",
        "for i in range(1,11):\n",
        "  if i%5 == 0:\n",
        "    break\n",
        "  else:\n",
        "    print(i)\n"
      ],
      "execution_count": 1,
      "outputs": [
        {
          "output_type": "stream",
          "text": [
            "1\n",
            "2\n",
            "3\n",
            "4\n"
          ],
          "name": "stdout"
        }
      ]
    },
    {
      "cell_type": "code",
      "metadata": {
        "id": "zlCrIfM8ragJ",
        "colab_type": "code",
        "colab": {
          "base_uri": "https://localhost:8080/",
          "height": 167
        },
        "outputId": "87efc764-0eb9-40a1-fbd1-c1d0e5f4c38b"
      },
      "source": [
        "#loop contron statements:break,continue\n",
        "for i in range(1,11):\n",
        "  if i%5 == 0:\n",
        "    continue\n",
        "  else:\n",
        "    print(i)\n"
      ],
      "execution_count": 7,
      "outputs": [
        {
          "output_type": "stream",
          "text": [
            "1\n",
            "2\n",
            "3\n",
            "4\n",
            "6\n",
            "7\n",
            "8\n",
            "9\n"
          ],
          "name": "stdout"
        }
      ]
    },
    {
      "cell_type": "markdown",
      "metadata": {
        "id": "6QRpmSD8nplh",
        "colab_type": "text"
      },
      "source": [
        "write a program to validate username and password given by the user.If the user gives wrong credentials it should ask for username and password again again until the user gives correct details."
      ]
    },
    {
      "cell_type": "code",
      "metadata": {
        "id": "ysLaq0REnkN5",
        "colab_type": "code",
        "colab": {
          "base_uri": "https://localhost:8080/",
          "height": 92
        },
        "outputId": "33e6b78f-d368-4fbb-ee77-03b667edc246"
      },
      "source": [
        "#usernam:dubba\n",
        "#password:reddy123\n",
        "while True:\n",
        " n = input(\"enter username: \")\n",
        " if n == \"dubba\":\n",
        "   m=input(\"enter password: \")\n",
        "   if m ==\"reddy123\":\n",
        "     print(\"login success\")\n",
        "     break\n",
        " else:\n",
        "  continue"
      ],
      "execution_count": 5,
      "outputs": [
        {
          "output_type": "stream",
          "text": [
            "enter username: dusa\n",
            "enter username: dubba\n",
            "enter password: reddy123\n",
            "login success\n"
          ],
          "name": "stdout"
        }
      ]
    },
    {
      "cell_type": "code",
      "metadata": {
        "id": "eSxZVZiHoa9P",
        "colab_type": "code",
        "colab": {}
      },
      "source": [
        "#pass --> for creating empty block\n",
        "if 12 < 34:\n",
        "  pass\n",
        "else:\n",
        "  print(\"else\")"
      ],
      "execution_count": 0,
      "outputs": []
    },
    {
      "cell_type": "markdown",
      "metadata": {
        "id": "0lcLYaxzrRD-",
        "colab_type": "text"
      },
      "source": [
        "###Functions:\n",
        "block of statements\n",
        "1. predefined(which are already created):\n",
        "  - len(),max(),str()\n",
        "2. user-defined(custom function)\n",
        "    \n",
        "    syntax:-\n",
        "    def function_name(parameters) :\n",
        "    \n",
        "    statements\n",
        "    \n",
        "    return\n",
        "  \n",
        "\n",
        "  \n"
      ]
    },
    {
      "cell_type": "code",
      "metadata": {
        "id": "RMnbboInrOdg",
        "colab_type": "code",
        "colab": {
          "base_uri": "https://localhost:8080/",
          "height": 36
        },
        "outputId": "e7abb882-f3cc-4402-a805-6b89d3307281"
      },
      "source": [
        "def name(username):#function definition\n",
        "  print(\"hello\",username)\n",
        "\n",
        "name(\"dubba\")#Function calling"
      ],
      "execution_count": 8,
      "outputs": [
        {
          "output_type": "stream",
          "text": [
            "hello dubba\n"
          ],
          "name": "stdout"
        }
      ]
    },
    {
      "cell_type": "code",
      "metadata": {
        "id": "szpt7nI-tosZ",
        "colab_type": "code",
        "colab": {
          "base_uri": "https://localhost:8080/",
          "height": 73
        },
        "outputId": "ee3cd16a-2c46-4963-ef94-8043d9f99f5a"
      },
      "source": [
        "def operator(a,b):\n",
        "  return a+b,a-b,a/b,a*b\n",
        "print(operator(12,3))\n",
        "print(operator(24,4))\n",
        "print(operator(420,210))"
      ],
      "execution_count": 14,
      "outputs": [
        {
          "output_type": "stream",
          "text": [
            "(15, 9, 4.0, 36)\n",
            "(28, 20, 6.0, 96)\n",
            "(630, 210, 2.0, 88200)\n"
          ],
          "name": "stdout"
        }
      ]
    },
    {
      "cell_type": "code",
      "metadata": {
        "id": "HulxtGKiwK1J",
        "colab_type": "code",
        "colab": {
          "base_uri": "https://localhost:8080/",
          "height": 36
        },
        "outputId": "6669dd25-02a2-4c08-d2b8-c58859c7e9e9"
      },
      "source": [
        "#multiple return values\n",
        "def operator(a,b):\n",
        "  return a+b,a-b,a/b,a*b\n",
        "#unpacking\n",
        "add,sub,div,mul=operator(12,3)\n",
        "print(mul)"
      ],
      "execution_count": 13,
      "outputs": [
        {
          "output_type": "stream",
          "text": [
            "36\n"
          ],
          "name": "stdout"
        }
      ]
    },
    {
      "cell_type": "markdown",
      "metadata": {
        "id": "EC5nNgDVyMQ5",
        "colab_type": "text"
      },
      "source": [
        "###Different types of Arguments:\n",
        "1. required positional arguments\n",
        "2. default argument\n",
        "3. keyword argument \n"
      ]
    },
    {
      "cell_type": "code",
      "metadata": {
        "id": "ou9k_drF0dM1",
        "colab_type": "code",
        "colab": {
          "base_uri": "https://localhost:8080/",
          "height": 36
        },
        "outputId": "dde3a39a-07ad-45d5-86cd-6dc9059684d7"
      },
      "source": [
        "#required positional argument\n",
        "def add(a,b):\n",
        "  return a+b\n",
        "#print(add(10,20,30)) no output\n",
        "print(add(10,20))"
      ],
      "execution_count": 17,
      "outputs": [
        {
          "output_type": "stream",
          "text": [
            "30\n"
          ],
          "name": "stdout"
        }
      ]
    },
    {
      "cell_type": "code",
      "metadata": {
        "id": "fXYILPLBwv3E",
        "colab_type": "code",
        "colab": {
          "base_uri": "https://localhost:8080/",
          "height": 54
        },
        "outputId": "8a644898-24d4-45d5-a7c1-74b0025a6980"
      },
      "source": [
        "#default argument\n",
        "def add(a,b=100):# default always at the end of the parameter list\n",
        "  return a+b\n",
        "print(add(100))\n",
        "print(add(200,200))"
      ],
      "execution_count": 15,
      "outputs": [
        {
          "output_type": "stream",
          "text": [
            "200\n",
            "400\n"
          ],
          "name": "stdout"
        }
      ]
    },
    {
      "cell_type": "code",
      "metadata": {
        "id": "9jigdl2tz75O",
        "colab_type": "code",
        "colab": {
          "base_uri": "https://localhost:8080/",
          "height": 73
        },
        "outputId": "cadd6fff-2b32-47ab-f408-2f9460681a89"
      },
      "source": [
        "#keyword arguments\n",
        "def add(a,b):\n",
        "  print(\"a vale:\",a)\n",
        "  print(\"b vale:\",b)\n",
        "  return a+b \n",
        "add(a=10,b=12)"
      ],
      "execution_count": 18,
      "outputs": [
        {
          "output_type": "stream",
          "text": [
            "a vale: 10\n",
            "b vale: 12\n"
          ],
          "name": "stdout"
        },
        {
          "output_type": "execute_result",
          "data": {
            "text/plain": [
              "22"
            ]
          },
          "metadata": {
            "tags": []
          },
          "execution_count": 18
        }
      ]
    },
    {
      "cell_type": "code",
      "metadata": {
        "id": "JM46kuRr1WJX",
        "colab_type": "code",
        "colab": {
          "base_uri": "https://localhost:8080/",
          "height": 73
        },
        "outputId": "d3ad41b2-69e2-41ab-920f-3700cc9c11d9"
      },
      "source": [
        "a = int(input(\"enter a value:\"))\n",
        "b = int(input(\"enter b value:\"))\n",
        "def add(a,b):\n",
        "  return a+b\n",
        "add(a,b)"
      ],
      "execution_count": 23,
      "outputs": [
        {
          "output_type": "stream",
          "text": [
            "enter a value:12\n",
            "enter b value:12\n"
          ],
          "name": "stdout"
        },
        {
          "output_type": "execute_result",
          "data": {
            "text/plain": [
              "24"
            ]
          },
          "metadata": {
            "tags": []
          },
          "execution_count": 23
        }
      ]
    },
    {
      "cell_type": "code",
      "metadata": {
        "id": "2594jtW62YfF",
        "colab_type": "code",
        "colab": {
          "base_uri": "https://localhost:8080/",
          "height": 73
        },
        "outputId": "8d084a89-0e62-4d8d-f32e-5e576772cbd4"
      },
      "source": [
        "#variable length arguments\n",
        "#(120,230,12,234)-->tuple\n",
        "def add(*a):\n",
        "  return sum(a)\n",
        "print(add(12,11))\n",
        "print(add(1,2,3))\n",
        "print(add(1))"
      ],
      "execution_count": 24,
      "outputs": [
        {
          "output_type": "stream",
          "text": [
            "23\n",
            "6\n",
            "1\n"
          ],
          "name": "stdout"
        }
      ]
    },
    {
      "cell_type": "code",
      "metadata": {
        "id": "vCzN1-o86g62",
        "colab_type": "code",
        "colab": {
          "base_uri": "https://localhost:8080/",
          "height": 73
        },
        "outputId": "e160dd5e-7445-4b5f-95f0-9d065245a295"
      },
      "source": [
        "#variable length arguments\n",
        "#(120,230,12,234)-->tuple\n",
        "def add(*a):\n",
        "  n=2\n",
        "  for i in a:\n",
        "    n=n*i\n",
        "  return n\n",
        "print(add(12,11))\n",
        "print(add(1,2,3))\n",
        "print(add(1))"
      ],
      "execution_count": 25,
      "outputs": [
        {
          "output_type": "stream",
          "text": [
            "264\n",
            "12\n",
            "2\n"
          ],
          "name": "stdout"
        }
      ]
    },
    {
      "cell_type": "code",
      "metadata": {
        "id": "vCpOiHA17AUz",
        "colab_type": "code",
        "colab": {
          "base_uri": "https://localhost:8080/",
          "height": 54
        },
        "outputId": "57bcdea2-b81b-483d-b1c3-d0dd80ed01c6"
      },
      "source": [
        "#nested functions : square,cube\n",
        "def square(a):\n",
        "  return a*a\n",
        "def cube(a):\n",
        "   return square(a)*a\n",
        "print(square(10))\n",
        "print(cube(10))\n"
      ],
      "execution_count": 26,
      "outputs": [
        {
          "output_type": "stream",
          "text": [
            "100\n",
            "1000\n"
          ],
          "name": "stdout"
        }
      ]
    },
    {
      "cell_type": "markdown",
      "metadata": {
        "id": "dPWy7ygU9rcu",
        "colab_type": "text"
      },
      "source": [
        "\n",
        "###Recursive functions:\n",
        "1. Factorial of a number\n",
        "2. Fibonacci series \n"
      ]
    },
    {
      "cell_type": "markdown",
      "metadata": {
        "id": "ZsffViwA_SK5",
        "colab_type": "text"
      },
      "source": [
        "###Data structures:\n",
        "1. list :\n",
        "  - [ ] elements separated by ,\n",
        "  - indexed\n",
        "  - ordered\n",
        "  - Duplicate values\n",
        "  - mutable\n",
        "  - Any type of values\n"
      ]
    },
    {
      "cell_type": "code",
      "metadata": {
        "id": "RZmD3So18lSy",
        "colab_type": "code",
        "colab": {
          "base_uri": "https://localhost:8080/",
          "height": 36
        },
        "outputId": "1ea67174-0305-4162-cec4-857d6e906de9"
      },
      "source": [
        "list1 = [1,2,12.5,\"ads\",1,True]\n",
        "print(type(list1))"
      ],
      "execution_count": 27,
      "outputs": [
        {
          "output_type": "stream",
          "text": [
            "<class 'list'>\n"
          ],
          "name": "stdout"
        }
      ]
    },
    {
      "cell_type": "code",
      "metadata": {
        "id": "BW8kC-o7_0uf",
        "colab_type": "code",
        "colab": {
          "base_uri": "https://localhost:8080/",
          "height": 148
        },
        "outputId": "a4359add-6adb-49a4-bc35-346142f36aef"
      },
      "source": [
        "#operators supported by list : +,*,[],[:],in,not in\n",
        "l1 = [1,2,3]\n",
        "l2 = [11,22,33]\n",
        "print(l1+l2)#concatenation\n",
        "print(l1*2)#repitition\n",
        "print(l1[1])\n",
        "print(l1[1:2])\n",
        "print(2 in l1)\n",
        "print(5 in l1)\n",
        "print(5  not in l1)"
      ],
      "execution_count": 30,
      "outputs": [
        {
          "output_type": "stream",
          "text": [
            "[1, 2, 3, 11, 22, 33]\n",
            "[1, 2, 3, 1, 2, 3]\n",
            "2\n",
            "[2]\n",
            "True\n",
            "False\n",
            "True\n"
          ],
          "name": "stdout"
        }
      ]
    },
    {
      "cell_type": "code",
      "metadata": {
        "id": "_pg8Wk6QAbVz",
        "colab_type": "code",
        "colab": {
          "base_uri": "https://localhost:8080/",
          "height": 111
        },
        "outputId": "c5e54c6a-e6c4-45bf-b313-d1980aa1d9c8"
      },
      "source": [
        "#Built in functions: len(),min(),max(),list()\n",
        "l1 = [1,2,3,12]\n",
        "s=\"python\"\n",
        "print(len(l1))\n",
        "print(max(l1))\n",
        "print(min(l2))\n",
        "l2 = list(s)\n",
        "print(l2)\n",
        "l1[-1]=100#replace value from list\n",
        "print(l1)"
      ],
      "execution_count": 33,
      "outputs": [
        {
          "output_type": "stream",
          "text": [
            "4\n",
            "12\n",
            "h\n",
            "['p', 'y', 't', 'h', 'o', 'n']\n",
            "[1, 2, 3, 100]\n"
          ],
          "name": "stdout"
        }
      ]
    },
    {
      "cell_type": "code",
      "metadata": {
        "id": "D-sr_98BCtxq",
        "colab_type": "code",
        "colab": {}
      },
      "source": [
        ""
      ],
      "execution_count": 0,
      "outputs": []
    }
  ]
}