{
  "nbformat": 4,
  "nbformat_minor": 0,
  "metadata": {
    "colab": {
      "name": "DAY 5(30-05-2020).ipynb",
      "provenance": [],
      "authorship_tag": "ABX9TyO17L1hLWWpURA9P9/IpDIg",
      "include_colab_link": true
    },
    "kernelspec": {
      "name": "python3",
      "display_name": "Python 3"
    }
  },
  "cells": [
    {
      "cell_type": "markdown",
      "metadata": {
        "id": "view-in-github",
        "colab_type": "text"
      },
      "source": [
        "<a href=\"https://colab.research.google.com/github/dubba1212/AIML/blob/master/DAY_5(30_05_2020).ipynb\" target=\"_parent\"><img src=\"https://colab.research.google.com/assets/colab-badge.svg\" alt=\"Open In Colab\"/></a>"
      ]
    },
    {
      "cell_type": "code",
      "metadata": {
        "id": "ErFe1EgKi_yG",
        "colab_type": "code",
        "colab": {
          "base_uri": "https://localhost:8080/",
          "height": 54
        },
        "outputId": "428536dd-5098-4e9a-ab3c-ffca3b7c328f"
      },
      "source": [
        "#adam number using conditional operator:-[on True]if[condition]else{False}\n",
        "n = int(input(\"enter a number:\"))\n",
        "print(\"adam number\") if int(str(n**2)[::-1]) == int(str(n)[::-1])**2 else print(\"not a adam number\")"
      ],
      "execution_count": 1,
      "outputs": [
        {
          "output_type": "stream",
          "text": [
            "enter a number12\n",
            "adam number\n"
          ],
          "name": "stdout"
        }
      ]
    },
    {
      "cell_type": "code",
      "metadata": {
        "id": "mt15SCNv0QyY",
        "colab_type": "code",
        "colab": {
          "base_uri": "https://localhost:8080/",
          "height": 73
        },
        "outputId": "af6d5cdb-3b91-46ae-8169-81830fb30b2e"
      },
      "source": [
        "#lower bound and upper bound\n",
        "def display(l,u):\n",
        "  if l>u:\n",
        "    return\n",
        "  else:\n",
        "    print(l,end=\" \")\n",
        "    display(l+1,u)\n",
        "\n",
        "\n",
        "l=int(input(\"enter lower:\"))\n",
        "u=int(input(\"enter upper:\"))\n",
        "display(l,u)"
      ],
      "execution_count": 7,
      "outputs": [
        {
          "output_type": "stream",
          "text": [
            "enter lower:1\n",
            "enter upper:10\n",
            "1 2 3 4 5 6 7 8 9 10 "
          ],
          "name": "stdout"
        }
      ]
    },
    {
      "cell_type": "code",
      "metadata": {
        "id": "qyEt9EWN4Ihi",
        "colab_type": "code",
        "colab": {
          "base_uri": "https://localhost:8080/",
          "height": 54
        },
        "outputId": "69a5c37d-5c40-4462-e6de-f1e52bb5245a"
      },
      "source": [
        "# fib 0,1,1,2,3,5,8.....\n",
        "import time\n",
        "def fact(n):\n",
        "  if  n==1:\n",
        "    return 0\n",
        "  elif n==2:\n",
        "    return 1\n",
        "  else:\n",
        "    return fact(n-1)+fact(n-2)\n",
        "prev=time.time()\n",
        "print(fact(10))\n",
        "print(time.time()-prev)\n",
        "\n",
        "\n"
      ],
      "execution_count": 23,
      "outputs": [
        {
          "output_type": "stream",
          "text": [
            "34\n",
            "0.0003361701965332031\n"
          ],
          "name": "stdout"
        }
      ]
    },
    {
      "cell_type": "code",
      "metadata": {
        "id": "OBqt0UzB6Tvo",
        "colab_type": "code",
        "colab": {
          "base_uri": "https://localhost:8080/",
          "height": 54
        },
        "outputId": "3d673300-ea63-40b5-af4e-1002ecc4e1d8"
      },
      "source": [
        "import time\n",
        "fact=[0,1]\n",
        "def facts(n):\n",
        "  if  n <= len(fact):\n",
        "    return fact[n-1]\n",
        "  else:\n",
        "    fact.append(fact[len(fact)-1]+fact[len(fact)-2])\n",
        "    return facts(n)\n",
        "prev=time.time()\n",
        "print(facts(10))\n",
        "print(time.time()-prev)\n",
        "\n",
        "\n"
      ],
      "execution_count": 28,
      "outputs": [
        {
          "output_type": "stream",
          "text": [
            "34\n",
            "0.0006844997406005859\n"
          ],
          "name": "stdout"
        }
      ]
    },
    {
      "cell_type": "code",
      "metadata": {
        "id": "fGlxycjWB2jf",
        "colab_type": "code",
        "colab": {
          "base_uri": "https://localhost:8080/",
          "height": 129
        },
        "outputId": "36c15457-2971-45af-c5ca-830045fc02fb"
      },
      "source": [
        "#built-in-functionsd:len()[returns no .of elements of list],min(),max(),list()\n",
        "l1 = [12,23,34,5,\"str\",True]\n",
        "l2 = [34,25,55,45,6,6]\n",
        "l3 = [1,2,3,4,[11,22,33,44,[12,13,14,15]]]\n",
        "string = \"python\"\n",
        "print(\"length of list:\",len(l1))\n",
        "print(max(l2))\n",
        "print(min(l2))\n",
        "print(list(string))\n",
        "print(l1[4][1])\n",
        "print(l3[4][4][0])\n"
      ],
      "execution_count": 33,
      "outputs": [
        {
          "output_type": "stream",
          "text": [
            "length of list: 6\n",
            "55\n",
            "6\n",
            "['p', 'y', 't', 'h', 'o', 'n']\n",
            "t\n",
            "12\n"
          ],
          "name": "stdout"
        }
      ]
    },
    {
      "cell_type": "markdown",
      "metadata": {
        "id": "SkmwTUAUEAWZ",
        "colab_type": "text"
      },
      "source": [
        "###Built-in methods:\n",
        "####adding an element:\n",
        "1. append()\n",
        "2. insert()\n",
        "3. extend()"
      ]
    },
    {
      "cell_type": "code",
      "metadata": {
        "id": "nYl4AsscDZzu",
        "colab_type": "code",
        "colab": {
          "base_uri": "https://localhost:8080/",
          "height": 36
        },
        "outputId": "08c5dab7-17a9-464f-a630-9fbfc4d56bd1"
      },
      "source": [
        "#append method\n",
        "l1=[1,2,3,4,5]\n",
        "# To add at end\n",
        "l1.append(6)\n",
        "print(l1)"
      ],
      "execution_count": 34,
      "outputs": [
        {
          "output_type": "stream",
          "text": [
            "[1, 2, 3, 4, 5, 6]\n"
          ],
          "name": "stdout"
        }
      ]
    },
    {
      "cell_type": "code",
      "metadata": {
        "id": "C6fbtILFEjSL",
        "colab_type": "code",
        "colab": {
          "base_uri": "https://localhost:8080/",
          "height": 36
        },
        "outputId": "b538fe80-8879-4369-a887-e52fc1e9939c"
      },
      "source": [
        "#insert method -->insert at the position\n",
        "l1.insert(2,12)\n",
        "print(l1)"
      ],
      "execution_count": 35,
      "outputs": [
        {
          "output_type": "stream",
          "text": [
            "[1, 2, 12, 3, 4, 5, 6]\n"
          ],
          "name": "stdout"
        }
      ]
    },
    {
      "cell_type": "code",
      "metadata": {
        "id": "hmfz2pwJFIg9",
        "colab_type": "code",
        "colab": {
          "base_uri": "https://localhost:8080/",
          "height": 36
        },
        "outputId": "463770bd-9a2f-494a-dd58-19ea50bad780"
      },
      "source": [
        "#extend:insert multiple values\n",
        "l1.extend([11,13,14])\n",
        "print(l1)"
      ],
      "execution_count": 36,
      "outputs": [
        {
          "output_type": "stream",
          "text": [
            "[1, 2, 12, 3, 4, 5, 6, 11, 13, 14]\n"
          ],
          "name": "stdout"
        }
      ]
    },
    {
      "cell_type": "code",
      "metadata": {
        "id": "MQDmAbTFGVzc",
        "colab_type": "code",
        "colab": {
          "base_uri": "https://localhost:8080/",
          "height": 36
        },
        "outputId": "1f8df592-5d4b-4f5d-8cfb-9b9cef64f5ba"
      },
      "source": [
        "#to remve lat element-->default remove last element\n",
        "l1.pop()\n",
        "print(l1)"
      ],
      "execution_count": 38,
      "outputs": [
        {
          "output_type": "stream",
          "text": [
            "[1, 2, 3, 4, 5, 6, 11, 13]\n"
          ],
          "name": "stdout"
        }
      ]
    },
    {
      "cell_type": "code",
      "metadata": {
        "id": "pzsldc_LFulz",
        "colab_type": "code",
        "colab": {
          "base_uri": "https://localhost:8080/",
          "height": 36
        },
        "outputId": "3c14bdfa-31de-4179-d8b7-89c4a38af350"
      },
      "source": [
        "#To remove an particular element\n",
        "l1.remove(13)\n",
        "print(l1)"
      ],
      "execution_count": 40,
      "outputs": [
        {
          "output_type": "stream",
          "text": [
            "[1, 2, 3, 4, 5, 6, 11]\n"
          ],
          "name": "stdout"
        }
      ]
    },
    {
      "cell_type": "code",
      "metadata": {
        "id": "qidVgoYWGB63",
        "colab_type": "code",
        "colab": {
          "base_uri": "https://localhost:8080/",
          "height": 36
        },
        "outputId": "ea432b8a-3449-4363-8d6d-22318deeed33"
      },
      "source": [
        "#clear-->remove list\n",
        "l1.clear()\n",
        "l1"
      ],
      "execution_count": 42,
      "outputs": [
        {
          "output_type": "execute_result",
          "data": {
            "text/plain": [
              "[]"
            ]
          },
          "metadata": {
            "tags": []
          },
          "execution_count": 42
        }
      ]
    },
    {
      "cell_type": "code",
      "metadata": {
        "id": "1VxDM3fvHL9l",
        "colab_type": "code",
        "colab": {
          "base_uri": "https://localhost:8080/",
          "height": 54
        },
        "outputId": "55f5585c-7e0c-4e25-e6ff-27c19952ce0c"
      },
      "source": [
        "#index()-->gives elemment index\n",
        "l=[1,2,3,4,5,6,11,2,3,24,1,2]\n",
        "print(l.index(3))\n",
        "print(l.count(2))\n"
      ],
      "execution_count": 46,
      "outputs": [
        {
          "output_type": "stream",
          "text": [
            "2\n",
            "3\n"
          ],
          "name": "stdout"
        }
      ]
    },
    {
      "cell_type": "code",
      "metadata": {
        "id": "iTq3987kHY3G",
        "colab_type": "code",
        "colab": {
          "base_uri": "https://localhost:8080/",
          "height": 54
        },
        "outputId": "54adc78a-4111-4c44-b556-149af5e11566"
      },
      "source": [
        "#To sort the list in ascending order\n",
        "l.sort()\n",
        "print(l)\n",
        "#descending order\n",
        "l.sort(reverse=True)\n",
        "print(l)"
      ],
      "execution_count": 48,
      "outputs": [
        {
          "output_type": "stream",
          "text": [
            "[1, 1, 2, 2, 2, 3, 3, 4, 5, 6, 11, 24]\n",
            "[24, 11, 6, 5, 4, 3, 3, 2, 2, 2, 1, 1]\n"
          ],
          "name": "stdout"
        }
      ]
    },
    {
      "cell_type": "code",
      "metadata": {
        "id": "TYzu8zY3HxkW",
        "colab_type": "code",
        "colab": {
          "base_uri": "https://localhost:8080/",
          "height": 73
        },
        "outputId": "faabfd85-6f13-4ab8-e24e-dc36088e1ab3"
      },
      "source": [
        "# copy method\n",
        "l1=[1,2,3,4,5]\n",
        "l2=[]\n",
        "l3=[]\n",
        "l2=l1\n",
        "print(l2)\n",
        "l3=l1.copy()\n",
        "print(l3)\n",
        "l1.append(11)\n",
        "l2.append(12)\n",
        "print(l1,l2,l3)"
      ],
      "execution_count": 51,
      "outputs": [
        {
          "output_type": "stream",
          "text": [
            "[1, 2, 3, 4, 5]\n",
            "[1, 2, 3, 4, 5]\n",
            "[1, 2, 3, 4, 5, 11, 12] [1, 2, 3, 4, 5, 11, 12] [1, 2, 3, 4, 5]\n"
          ],
          "name": "stdout"
        }
      ]
    },
    {
      "cell_type": "markdown",
      "metadata": {
        "id": "QyOPpMlQLiW1",
        "colab_type": "text"
      },
      "source": [
        "###file handling:\n",
        "1. create\n",
        "2. add text\n",
        "3. save\n",
        "4. read\n",
        "5. appending\n",
        "6. rename\n",
        "7. remove"
      ]
    },
    {
      "cell_type": "markdown",
      "metadata": {
        "id": "L8eIpfNCMDMY",
        "colab_type": "text"
      },
      "source": [
        "###modes:\n",
        "1. write(w)   -->if file not available new file will be created, if available file content will be removed and new content added\n",
        "2. read(r)   -->file must br available\n",
        "3. append(a) --> file is not available new file is created,add at the end of content\n",
        "4. new file creation(x)  -->new file is created  if file is nit there\n"
      ]
    },
    {
      "cell_type": "markdown",
      "metadata": {
        "id": "bZpjfCyRNMRc",
        "colab_type": "text"
      },
      "source": [
        "1. open()\n",
        "2. close()"
      ]
    },
    {
      "cell_type": "code",
      "metadata": {
        "id": "eEktlLKmKJ5Q",
        "colab_type": "code",
        "colab": {}
      },
      "source": [
        "#write mode\n",
        "f = open(\"sample.txt\",\"w\")\n",
        "f.write(\"dubba srikanth\")\n",
        "f.close()"
      ],
      "execution_count": 0,
      "outputs": []
    },
    {
      "cell_type": "code",
      "metadata": {
        "id": "k44YqaIEON5I",
        "colab_type": "code",
        "colab": {
          "base_uri": "https://localhost:8080/",
          "height": 36
        },
        "outputId": "a3adf55f-54c5-4545-d63e-8ea82d3a1069"
      },
      "source": [
        "#read mode\n",
        "f = open(\"sample.txt\",\"r\")\n",
        "data = f.read()\n",
        "print(data)\n",
        "f.close()"
      ],
      "execution_count": 53,
      "outputs": [
        {
          "output_type": "stream",
          "text": [
            "dubba srikanth\n"
          ],
          "name": "stdout"
        }
      ]
    },
    {
      "cell_type": "code",
      "metadata": {
        "id": "u7R8XTY1Oee5",
        "colab_type": "code",
        "colab": {}
      },
      "source": [
        "#apend mode\n",
        "f = open(\"sample.txt\",\"a\")\n",
        "s = '''reddy\n",
        "hi ,hello ,how r u'''\n",
        "f.write(s)\n",
        "f.close()"
      ],
      "execution_count": 0,
      "outputs": []
    },
    {
      "cell_type": "code",
      "metadata": {
        "id": "LZF97B0DO3Uu",
        "colab_type": "code",
        "colab": {
          "base_uri": "https://localhost:8080/",
          "height": 54
        },
        "outputId": "c9a8f8ea-e6aa-439d-fd7d-1cefe18a6c3a"
      },
      "source": [
        "f = open(\"sample.txt\",\"r\")\n",
        "data = f.read()\n",
        "print(data)\n",
        "f.close()"
      ],
      "execution_count": 55,
      "outputs": [
        {
          "output_type": "stream",
          "text": [
            "dubba srikanthreddy\n",
            "hi ,hello ,how r u\n"
          ],
          "name": "stdout"
        }
      ]
    },
    {
      "cell_type": "code",
      "metadata": {
        "id": "NCueRyL2O6yU",
        "colab_type": "code",
        "colab": {}
      },
      "source": [
        ""
      ],
      "execution_count": 0,
      "outputs": []
    }
  ]
}