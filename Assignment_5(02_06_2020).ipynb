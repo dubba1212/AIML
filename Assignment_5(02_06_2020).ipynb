{
  "nbformat": 4,
  "nbformat_minor": 0,
  "metadata": {
    "colab": {
      "name": "Assignment 5(02-06-2020)",
      "provenance": [],
      "collapsed_sections": [],
      "authorship_tag": "ABX9TyOeu9mnl6zeWL4tlyGYL7Qh",
      "include_colab_link": true
    },
    "kernelspec": {
      "name": "python3",
      "display_name": "Python 3"
    }
  },
  "cells": [
    {
      "cell_type": "markdown",
      "metadata": {
        "id": "view-in-github",
        "colab_type": "text"
      },
      "source": [
        "<a href=\"https://colab.research.google.com/github/dubba1212/AIML/blob/master/Assignment_5(02_06_2020).ipynb\" target=\"_parent\"><img src=\"https://colab.research.google.com/assets/colab-badge.svg\" alt=\"Open In Colab\"/></a>"
      ]
    },
    {
      "cell_type": "markdown",
      "metadata": {
        "id": "hqK_QKLqcHHj",
        "colab_type": "text"
      },
      "source": [
        "#NINE LIVES"
      ]
    },
    {
      "cell_type": "code",
      "metadata": {
        "id": "kaYm-ZJFcNQN",
        "colab_type": "code",
        "colab": {
          "base_uri": "https://localhost:8080/",
          "height": 476
        },
        "outputId": "5768d5f4-a0ff-4e5d-cff6-9195e9e348b8"
      },
      "source": [
        "import random\n",
        "list1=[\"hello\",\"check\",\"start\",\"lives\",\"tools\",\"share\",\"dubba\",\"reddy\",\"roots\",\"edits\"]\n",
        "list2=[\"?\",\"?\",\"?\",\"?\",\"?\"]\n",
        "lives=9\n",
        "n=random.randint(0,9)\n",
        "n1=list1[n]\n",
        "flag=[]\n",
        "while lives>0:\n",
        "  print(\"\\nlives left:\",lives)\n",
        "  n2=input(\"Guess a randon letter or word:\")\n",
        "  if(len(n2)>1):\n",
        "    if(n2==n1):\n",
        "      print(\"it is correct:\")\n",
        "      break\n",
        "    else:\n",
        "      print(\"it is incorrect\")\n",
        "      lives-=1\n",
        "  else:\n",
        "    k=0\n",
        "    for i in range(len(n1)):\n",
        "      if i in flag:\n",
        "        continue\n",
        "      elif n1[i]==n2:\n",
        "        flag.append(i)\n",
        "        list2[i]=n1[i]\n",
        "        print(list(list2))\n",
        "        k=0\n",
        "        break\n",
        "      else:\n",
        "        k=1\n",
        "    if(k==1):\n",
        "      print(\"sorry it is wrong\")\n",
        "      lives-=1\n",
        "  k=0\n",
        "  for i in range(len(n1)):\n",
        "    if(i in flag):\n",
        "      continue\n",
        "    else:\n",
        "      k=1\n",
        "  if(k==0):\n",
        "    print(\"congratulations ,the word is correct:\",lives)\n",
        "    break\n",
        "  else:\n",
        "    print(\"\")\n",
        "\n",
        "\n"
      ],
      "execution_count": 13,
      "outputs": [
        {
          "output_type": "stream",
          "text": [
            "\n",
            "lives left: 9\n",
            "Guess a randon letter or word:h\n",
            "['?', 'h', '?', '?', '?']\n",
            "\n",
            "\n",
            "lives left: 9\n",
            "Guess a randon letter or word:c\n",
            "['c', 'h', '?', '?', '?']\n",
            "\n",
            "\n",
            "lives left: 9\n",
            "Guess a randon letter or word:e\n",
            "['c', 'h', 'e', '?', '?']\n",
            "\n",
            "\n",
            "lives left: 9\n",
            "Guess a randon letter or word:c\n",
            "['c', 'h', 'e', 'c', '?']\n",
            "\n",
            "\n",
            "lives left: 9\n",
            "Guess a randon letter or word:k\n",
            "['c', 'h', 'e', 'c', 'k']\n",
            "congratulations ,the word is correct 9\n"
          ],
          "name": "stdout"
        }
      ]
    },
    {
      "cell_type": "code",
      "metadata": {
        "id": "kTi0oK7At5au",
        "colab_type": "code",
        "colab": {}
      },
      "source": [
        ""
      ],
      "execution_count": 0,
      "outputs": []
    },
    {
      "cell_type": "code",
      "metadata": {
        "id": "3VO2wLBdt9Ni",
        "colab_type": "code",
        "colab": {}
      },
      "source": [
        ""
      ],
      "execution_count": 0,
      "outputs": []
    }
  ]
}