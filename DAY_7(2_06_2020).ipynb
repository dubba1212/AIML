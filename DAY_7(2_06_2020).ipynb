{
  "nbformat": 4,
  "nbformat_minor": 0,
  "metadata": {
    "colab": {
      "name": "DAY 7(2-06-2020).ipynb",
      "provenance": [],
      "authorship_tag": "ABX9TyP14zwGJhNHfw0KbPwz3mB4",
      "include_colab_link": true
    },
    "kernelspec": {
      "name": "python3",
      "display_name": "Python 3"
    }
  },
  "cells": [
    {
      "cell_type": "markdown",
      "metadata": {
        "id": "view-in-github",
        "colab_type": "text"
      },
      "source": [
        "<a href=\"https://colab.research.google.com/github/dubba1212/AIML/blob/master/DAY_7(2_06_2020).ipynb\" target=\"_parent\"><img src=\"https://colab.research.google.com/assets/colab-badge.svg\" alt=\"Open In Colab\"/></a>"
      ]
    },
    {
      "cell_type": "markdown",
      "metadata": {
        "id": "U2oSB4HIYClJ",
        "colab_type": "text"
      },
      "source": [
        "###List comprehension"
      ]
    },
    {
      "cell_type": "code",
      "metadata": {
        "id": "MXsFeI-uQ1xC",
        "colab_type": "code",
        "colab": {
          "base_uri": "https://localhost:8080/",
          "height": 36
        },
        "outputId": "2a947c4f-2362-4a06-f95d-d8f9d55e28f9"
      },
      "source": [
        "list1= list(range(1,11))\n",
        "list2 = []\n",
        "for i in list1:\n",
        "  if(i%2==0):\n",
        "    list2.append(i)\n",
        "list2"
      ],
      "execution_count": 13,
      "outputs": [
        {
          "output_type": "execute_result",
          "data": {
            "text/plain": [
              "[2, 4, 6, 8, 10]"
            ]
          },
          "metadata": {
            "tags": []
          },
          "execution_count": 13
        }
      ]
    },
    {
      "cell_type": "code",
      "metadata": {
        "id": "OIcVVz_0XDz-",
        "colab_type": "code",
        "colab": {
          "base_uri": "https://localhost:8080/",
          "height": 36
        },
        "outputId": "524d899a-61f7-4e85-b77c-7dc62d8a08ca"
      },
      "source": [
        "#List comprehension\n",
        "list3=[i for i in list1 if i%2==0 ]\n",
        "print(list3)"
      ],
      "execution_count": 16,
      "outputs": [
        {
          "output_type": "stream",
          "text": [
            "[2, 4, 6, 8, 10]\n"
          ],
          "name": "stdout"
        }
      ]
    },
    {
      "cell_type": "code",
      "metadata": {
        "id": "EF2etvpUX0SS",
        "colab_type": "code",
        "colab": {
          "base_uri": "https://localhost:8080/",
          "height": 54
        },
        "outputId": "8aa98641-7385-4551-8dc7-d68873e98b67"
      },
      "source": [
        "#input is string\n",
        "s = input(\"enter string\")\n",
        "list4=[i for i in s if i.isdigit()]\n",
        "print(list4)"
      ],
      "execution_count": 24,
      "outputs": [
        {
          "output_type": "stream",
          "text": [
            "enter stringhello 12345\n",
            "['1', '2', '3', '4', '5']\n"
          ],
          "name": "stdout"
        }
      ]
    },
    {
      "cell_type": "code",
      "metadata": {
        "id": "xDl8HuhSZbRb",
        "colab_type": "code",
        "colab": {
          "base_uri": "https://localhost:8080/",
          "height": 54
        },
        "outputId": "9c7dfafd-bd04-41da-dc4c-4b8726123ed7"
      },
      "source": [
        "#input is string\n",
        "s = input(\"enter string\")\n",
        "list4=[]\n",
        "for i in s:\n",
        "  if(i.isdigit()):\n",
        "    list4.append(i)\n",
        "print(list4)"
      ],
      "execution_count": 28,
      "outputs": [
        {
          "output_type": "stream",
          "text": [
            "enter stringhello 12345\n",
            "['1', '2', '3', '4', '5']\n"
          ],
          "name": "stdout"
        }
      ]
    },
    {
      "cell_type": "code",
      "metadata": {
        "id": "Q3wj0sCtaz2h",
        "colab_type": "code",
        "colab": {
          "base_uri": "https://localhost:8080/",
          "height": 54
        },
        "outputId": "13433824-a6cf-4853-d718-b2fd4e4b1013"
      },
      "source": [
        "l1=list(range(1,11))\n",
        "l2=list(range(11,21))\n",
        "print(l1,l2)\n",
        "l3=[l1[i]+l2[i] for i in range(len(l1))]\n",
        "print(l3,end=\" \")"
      ],
      "execution_count": 37,
      "outputs": [
        {
          "output_type": "stream",
          "text": [
            "[1, 2, 3, 4, 5, 6, 7, 8, 9, 10] [11, 12, 13, 14, 15, 16, 17, 18, 19, 20]\n",
            "[12, 14, 16, 18, 20, 22, 24, 26, 28, 30] "
          ],
          "name": "stdout"
        }
      ]
    },
    {
      "cell_type": "code",
      "metadata": {
        "id": "S2ELdW-GbZdO",
        "colab_type": "code",
        "colab": {
          "base_uri": "https://localhost:8080/",
          "height": 36
        },
        "outputId": "eca71bbe-c496-43be-9ac6-9a0868a17147"
      },
      "source": [
        "#zip()\n",
        "result =[x+y for x,y in zip(l1,l2)]\n",
        "result"
      ],
      "execution_count": 39,
      "outputs": [
        {
          "output_type": "execute_result",
          "data": {
            "text/plain": [
              "[12, 14, 16, 18, 20, 22, 24, 26, 28, 30]"
            ]
          },
          "metadata": {
            "tags": []
          },
          "execution_count": 39
        }
      ]
    },
    {
      "cell_type": "markdown",
      "metadata": {
        "id": "jWWk06XIeDsy",
        "colab_type": "text"
      },
      "source": [
        "###Anonymous functions(lambda function)\n",
        "syntex:-\n",
        "lambda argument : logic "
      ]
    },
    {
      "cell_type": "code",
      "metadata": {
        "id": "NXidDnjmdnj5",
        "colab_type": "code",
        "colab": {}
      },
      "source": [
        "s = lambda x:x**2"
      ],
      "execution_count": 0,
      "outputs": []
    },
    {
      "cell_type": "code",
      "metadata": {
        "id": "r_XKWvdNerzC",
        "colab_type": "code",
        "colab": {
          "base_uri": "https://localhost:8080/",
          "height": 36
        },
        "outputId": "b33dea18-26b4-496e-bc08-49efab15cce3"
      },
      "source": [
        "s(12)"
      ],
      "execution_count": 41,
      "outputs": [
        {
          "output_type": "execute_result",
          "data": {
            "text/plain": [
              "144"
            ]
          },
          "metadata": {
            "tags": []
          },
          "execution_count": 41
        }
      ]
    },
    {
      "cell_type": "code",
      "metadata": {
        "id": "Hsy_pBOJes8m",
        "colab_type": "code",
        "colab": {
          "base_uri": "https://localhost:8080/",
          "height": 36
        },
        "outputId": "169f5ebd-5dc1-4d3c-8cd9-92cac0c7c9a2"
      },
      "source": [
        "add = lambda x,y:x+y\n",
        "add(2,5)"
      ],
      "execution_count": 42,
      "outputs": [
        {
          "output_type": "execute_result",
          "data": {
            "text/plain": [
              "7"
            ]
          },
          "metadata": {
            "tags": []
          },
          "execution_count": 42
        }
      ]
    },
    {
      "cell_type": "markdown",
      "metadata": {
        "id": "i1b0ZJXue8xI",
        "colab_type": "text"
      },
      "source": [
        "###map()"
      ]
    },
    {
      "cell_type": "code",
      "metadata": {
        "id": "u2iCxGADeyYO",
        "colab_type": "code",
        "colab": {
          "base_uri": "https://localhost:8080/",
          "height": 36
        },
        "outputId": "8ccc1bb6-97aa-4d1d-b6cb-d9a6761ad258"
      },
      "source": [
        "list5=list(range(1,11))\n",
        "list5\n",
        "list6=[i*2 for i in list5]\n",
        "list6"
      ],
      "execution_count": 46,
      "outputs": [
        {
          "output_type": "execute_result",
          "data": {
            "text/plain": [
              "[2, 4, 6, 8, 10, 12, 14, 16, 18, 20]"
            ]
          },
          "metadata": {
            "tags": []
          },
          "execution_count": 46
        }
      ]
    },
    {
      "cell_type": "code",
      "metadata": {
        "id": "snTMycfMfKp1",
        "colab_type": "code",
        "colab": {
          "base_uri": "https://localhost:8080/",
          "height": 36
        },
        "outputId": "d6f1af62-0fc4-4246-bf7b-754d13fd8eea"
      },
      "source": [
        "#map(function_name,iterable object)\n",
        "r=list(map(lambda i:i*2,list5))\n",
        "print(r)"
      ],
      "execution_count": 49,
      "outputs": [
        {
          "output_type": "stream",
          "text": [
            "[2, 4, 6, 8, 10, 12, 14, 16, 18, 20]\n"
          ],
          "name": "stdout"
        }
      ]
    },
    {
      "cell_type": "code",
      "metadata": {
        "id": "7RfuEQZLgD6T",
        "colab_type": "code",
        "colab": {
          "base_uri": "https://localhost:8080/",
          "height": 36
        },
        "outputId": "12653c23-a502-4308-eb06-8a5724bfcb36"
      },
      "source": [
        "'10 20 30'.split()"
      ],
      "execution_count": 53,
      "outputs": [
        {
          "output_type": "execute_result",
          "data": {
            "text/plain": [
              "['10', '20', '30']"
            ]
          },
          "metadata": {
            "tags": []
          },
          "execution_count": 53
        }
      ]
    },
    {
      "cell_type": "code",
      "metadata": {
        "id": "Q3aMlLVohfeF",
        "colab_type": "code",
        "colab": {
          "base_uri": "https://localhost:8080/",
          "height": 73
        },
        "outputId": "54d23086-df26-4586-b454-8d15d582f8bc"
      },
      "source": [
        "x,y,z=list(map(int,input(\"enter input value\").split()))\n",
        "print(x,y,z)\n",
        "print(y)"
      ],
      "execution_count": 56,
      "outputs": [
        {
          "output_type": "stream",
          "text": [
            "enter input value11 12 13\n",
            "11 12 13\n",
            "12\n"
          ],
          "name": "stdout"
        }
      ]
    },
    {
      "cell_type": "markdown",
      "metadata": {
        "id": "aAfls4DwiZZH",
        "colab_type": "text"
      },
      "source": [
        "###filter()"
      ]
    },
    {
      "cell_type": "code",
      "metadata": {
        "id": "7pkuKy3Oh9Wv",
        "colab_type": "code",
        "colab": {
          "base_uri": "https://localhost:8080/",
          "height": 36
        },
        "outputId": "4fa0f4fb-afa7-46ab-9820-f44bdcc46029"
      },
      "source": [
        "list5"
      ],
      "execution_count": 57,
      "outputs": [
        {
          "output_type": "execute_result",
          "data": {
            "text/plain": [
              "[1, 2, 3, 4, 5, 6, 7, 8, 9, 10]"
            ]
          },
          "metadata": {
            "tags": []
          },
          "execution_count": 57
        }
      ]
    },
    {
      "cell_type": "code",
      "metadata": {
        "id": "tBFJ5PFuj116",
        "colab_type": "code",
        "colab": {
          "base_uri": "https://localhost:8080/",
          "height": 36
        },
        "outputId": "fd3d996b-5fae-4335-8b63-ca21c393da10"
      },
      "source": [
        "l=list(map(lambda i:i%5==0,list5))\n",
        "print(l)"
      ],
      "execution_count": 65,
      "outputs": [
        {
          "output_type": "stream",
          "text": [
            "[False, False, False, False, True, False, False, False, False, True]\n"
          ],
          "name": "stdout"
        }
      ]
    },
    {
      "cell_type": "code",
      "metadata": {
        "id": "UoLmnl4Liwlv",
        "colab_type": "code",
        "colab": {
          "base_uri": "https://localhost:8080/",
          "height": 36
        },
        "outputId": "e5981e57-c569-40ca-a1b2-ba7e1ce30642"
      },
      "source": [
        "l=list(filter(lambda i:i%5==0,list5))\n",
        "print(l)"
      ],
      "execution_count": 64,
      "outputs": [
        {
          "output_type": "stream",
          "text": [
            "[5, 10]\n"
          ],
          "name": "stdout"
        }
      ]
    },
    {
      "cell_type": "code",
      "metadata": {
        "id": "y8iWxJm7i5oV",
        "colab_type": "code",
        "colab": {
          "base_uri": "https://localhost:8080/",
          "height": 36
        },
        "outputId": "f82150f0-8475-469f-c02e-18515246228d"
      },
      "source": [
        "a=[]\n",
        "for i in list5:\n",
        "  if i%5==0:\n",
        "    a.append(i)\n",
        "a"
      ],
      "execution_count": 62,
      "outputs": [
        {
          "output_type": "execute_result",
          "data": {
            "text/plain": [
              "[5, 10]"
            ]
          },
          "metadata": {
            "tags": []
          },
          "execution_count": 62
        }
      ]
    },
    {
      "cell_type": "code",
      "metadata": {
        "id": "VHz6H4Q1jkSv",
        "colab_type": "code",
        "colab": {
          "base_uri": "https://localhost:8080/",
          "height": 36
        },
        "outputId": "517fac9f-002a-43fe-8b20-4a694b441394"
      },
      "source": [
        "list(filter(lambda x:(x%3==0),list5))"
      ],
      "execution_count": 63,
      "outputs": [
        {
          "output_type": "execute_result",
          "data": {
            "text/plain": [
              "[3, 6, 9]"
            ]
          },
          "metadata": {
            "tags": []
          },
          "execution_count": 63
        }
      ]
    },
    {
      "cell_type": "markdown",
      "metadata": {
        "id": "MfSdeeKSkF_z",
        "colab_type": "text"
      },
      "source": [
        "###reduce()"
      ]
    },
    {
      "cell_type": "code",
      "metadata": {
        "id": "vEoteGBejvf8",
        "colab_type": "code",
        "colab": {}
      },
      "source": [
        "#it is not a built in function\n",
        "from functools import reduce\n"
      ],
      "execution_count": 0,
      "outputs": []
    },
    {
      "cell_type": "code",
      "metadata": {
        "id": "18ubW-vik-67",
        "colab_type": "code",
        "colab": {
          "base_uri": "https://localhost:8080/",
          "height": 36
        },
        "outputId": "460601cf-53a2-4747-da14-3164ad0af8ee"
      },
      "source": [
        "a=[1,2,3,4,5]\n",
        "n=1\n",
        "for i in a:\n",
        "  n=n*i\n",
        "print(n)"
      ],
      "execution_count": 69,
      "outputs": [
        {
          "output_type": "stream",
          "text": [
            "120\n"
          ],
          "name": "stdout"
        }
      ]
    },
    {
      "cell_type": "code",
      "metadata": {
        "id": "TtC4nGmFlKhW",
        "colab_type": "code",
        "colab": {
          "base_uri": "https://localhost:8080/",
          "height": 36
        },
        "outputId": "29fa4f95-cd0f-4350-ef79-62c504c9104d"
      },
      "source": [
        "reduce(lambda x,y:x*y,a)"
      ],
      "execution_count": 70,
      "outputs": [
        {
          "output_type": "execute_result",
          "data": {
            "text/plain": [
              "120"
            ]
          },
          "metadata": {
            "tags": []
          },
          "execution_count": 70
        }
      ]
    },
    {
      "cell_type": "code",
      "metadata": {
        "id": "dcRqW__0le5-",
        "colab_type": "code",
        "colab": {}
      },
      "source": [
        ""
      ],
      "execution_count": 0,
      "outputs": []
    }
  ]
}