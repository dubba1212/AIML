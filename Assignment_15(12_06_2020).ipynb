{
  "nbformat": 4,
  "nbformat_minor": 0,
  "metadata": {
    "colab": {
      "name": "Assignment 15(12-06-2020)",
      "provenance": [],
      "authorship_tag": "ABX9TyNY/cMybZJGcqoHMuO0yiRv",
      "include_colab_link": true
    },
    "kernelspec": {
      "name": "python3",
      "display_name": "Python 3"
    }
  },
  "cells": [
    {
      "cell_type": "markdown",
      "metadata": {
        "id": "view-in-github",
        "colab_type": "text"
      },
      "source": [
        "<a href=\"https://colab.research.google.com/github/dubba1212/AIML/blob/master/Assignment_15(12_06_2020).ipynb\" target=\"_parent\"><img src=\"https://colab.research.google.com/assets/colab-badge.svg\" alt=\"Open In Colab\"/></a>"
      ]
    },
    {
      "cell_type": "markdown",
      "metadata": {
        "id": "xeRZ6wX6ATt9",
        "colab_type": "text"
      },
      "source": [
        "Question 7:\n",
        " \n",
        "Input string : \"xyz:750,abc:265,qwerty:195\"\n",
        "Output string : abc\n",
        "\n",
        "For digits:\n",
        "1. find the reverse of the number and add it to the original number\n",
        "2. if that sum is not palindrome,again add its reverse to that sum\n",
        "3. Find the palindrome numbers for each number in the string by repeating the above step\n",
        "4. Find the maximum palindrome number among all and its original number\n",
        "5. And return the alphabetic code of that palindrome number as output\n"
      ]
    },
    {
      "cell_type": "code",
      "metadata": {
        "id": "vXuZ8d-K_hbQ",
        "colab_type": "code",
        "outputId": "ef676ebc-b957-4fb2-ae30-2ebad6364f88",
        "colab": {
          "base_uri": "https://localhost:8080/",
          "height": 54
        }
      },
      "source": [
        "s = input()\n",
        "list1 = s.split(\",\")\n",
        "list2 = [i.split(\":\")[1]for i in list1]\n",
        "list3 = []\n",
        "for num in list2:#num=;750\n",
        "  n = int(num)#n=750\n",
        "  rev = num[::-1]#rev=57\n",
        "  while str(n)!=rev:\n",
        "    n+=int(rev)\n",
        "    rev = str(n)[::-1]\n",
        "  list3.append(n)\n",
        "list1[list3.index(max(list3))].split(\":\")[0]\n"
      ],
      "execution_count": 0,
      "outputs": [
        {
          "output_type": "stream",
          "text": [
            "xyz:750,abc:265,qwerty:195\n"
          ],
          "name": "stdout"
        },
        {
          "output_type": "execute_result",
          "data": {
            "text/plain": [
              "'abc'"
            ]
          },
          "metadata": {
            "tags": []
          },
          "execution_count": 2
        }
      ]
    },
    {
      "cell_type": "markdown",
      "metadata": {
        "id": "9wn4EufhCbdS",
        "colab_type": "text"
      },
      "source": [
        "Question 8:\n",
        "The groups_per_user function receives a dictionary.which contains group names with the list of users.Users can belong to multiple groups.Return a dictionary with the users as keys and a list of their groups as values.\n",
        "\n",
        "Input : {\"local\":[\"admin\",\"userA\"],\"public\":[\"admin\",\"userB\"],\"administrator\":[\"admin\"]}\n",
        "\n",
        "Output :\n",
        " {'admin': ['local', 'public', 'administrator'],\n",
        " 'userA': ['local'],\n",
        " 'userB': ['public']}\n"
      ]
    },
    {
      "cell_type": "code",
      "metadata": {
        "id": "8NcqrLxHBhHM",
        "colab_type": "code",
        "outputId": "b6a5f064-b1d3-4c42-b394-7773c04ef3d6",
        "colab": {
          "base_uri": "https://localhost:8080/",
          "height": 35
        }
      },
      "source": [
        "def groups_per_user(group_dictionary):\n",
        "    user_groups = {}\n",
        "    for group in group_dictionary:\n",
        "        for user in group_dictionary[group]:\n",
        "            if user not in user_groups:\n",
        "                user_groups[user] = []\n",
        "            if group not in user_groups[user]:\n",
        "                user_groups[user].append(group)\n",
        "    return user_groups\n",
        "\n",
        "mylist = {\"local\": [\"admin\", \"userA\"],\n",
        "          \"public\":  [\"admin\", \"userB\"],\n",
        "          \"administrator\": [\"admin\"] }\n",
        "\n",
        "print(groups_per_user(mylist))"
      ],
      "execution_count": 32,
      "outputs": [
        {
          "output_type": "stream",
          "text": [
            "{'admin': ['local', 'public', 'administrator'], 'userA': ['local'], 'userB': ['public']}\n"
          ],
          "name": "stdout"
        }
      ]
    },
    {
      "cell_type": "markdown",
      "metadata": {
        "id": "Kc8IJVa1yFCJ",
        "colab_type": "text"
      },
      "source": [
        "##Question 9:\n",
        "Input : london 40000 12,chicago 60000 20,munich 50000 15,paris 70000 5\n",
        "Output : paris munich\n",
        "\n",
        "City                population      no.of hospitals\n",
        "\n",
        "London    40000        12\n",
        "\n",
        "Chicago     60000         20\n",
        "\n",
        "Munich     50000         15\n",
        "\n",
        "Paris         70000         5\n",
        "\n"
      ]
    },
    {
      "cell_type": "code",
      "metadata": {
        "id": "jR45KFpUF6nK",
        "colab_type": "code",
        "colab": {
          "base_uri": "https://localhost:8080/",
          "height": 72
        },
        "outputId": "bd54a282-cc4f-413d-8fdf-8d766d50285d"
      },
      "source": [
        "s=input()\n",
        "s1=s.split(',')\n",
        "print(s1)\n",
        "a={}\n",
        "b={}\n",
        "al=[]\n",
        "bl=[]\n",
        "for i in s1:\n",
        "    a1=list(i.split())\n",
        "    a[a1[0]]=int(a1[1])\n",
        "    b[a1[0]]=int(a1[2])\n",
        "a1 = sorted(a.items(), key=lambda x: x[1],reverse=True)\n",
        "b1 = sorted(b.items(), key=lambda x: x[1])\n",
        "for i in a1:\n",
        "    al.append(i[0])\n",
        "for i in b1:\n",
        "    bl.append(i[0])\n",
        "for i in range(0,len(a1)):\n",
        "    if(al[i]==bl[i]):\n",
        "        print(al[i],end=\" \")"
      ],
      "execution_count": 31,
      "outputs": [
        {
          "output_type": "stream",
          "text": [
            "london 40000 12,chicago 60000 20,munich 50000 15,paris 70000 5\n",
            "['london 40000 12', 'chicago 60000 20', 'munich 50000 15', 'paris 70000 5']\n",
            "paris munich "
          ],
          "name": "stdout"
        }
      ]
    },
    {
      "cell_type": "markdown",
      "metadata": {
        "id": "y9htldmdyIen",
        "colab_type": "text"
      },
      "source": [
        "###Question 10:\n",
        "Jug Filling Problem\n",
        "Problem statement: “Given two empty jugs with 3 and 5 liter capacities and a full jug with 8 liters, find a sequence of pours leaving four liters in the two largest jugs.”\n"
      ]
    },
    {
      "cell_type": "code",
      "metadata": {
        "id": "GBIY8mSZyWOS",
        "colab_type": "code",
        "colab": {
          "base_uri": "https://localhost:8080/",
          "height": 54
        },
        "outputId": "318199d1-526b-4f87-c191-5e5303db31e5"
      },
      "source": [
        "capacity = (8,5,3)\n",
        "x = capacity[0]\n",
        "y = capacity[1]\n",
        "z = capacity[2]\n",
        "memory = {}\n",
        "ans = []\n",
        "\n",
        "def get_all_states(state):\n",
        "  a = state[0]\n",
        "  b = state[1]\n",
        "  c = state[2]\n",
        "\n",
        "  if(a==4 and b==4):\n",
        "      ans.append(state)\n",
        "      return True\n",
        "\n",
        "  if((a,b,c) in memory):\n",
        "      return False\n",
        "\n",
        "  memory[(a,b,c)] = 1\n",
        "  if(a>0):\n",
        "      if(a+b<=y):\n",
        "          if( get_all_states((0,a+b,c)) ):\n",
        "              ans.append(state)\n",
        "              return True\n",
        "      else:\n",
        "          if( get_all_states((a-(y-b), y, c)) ):\n",
        "              ans.append(state)\n",
        "              return True\n",
        "      if(a+c<=z):\n",
        "          if( get_all_states((0,b,a+c)) ):\n",
        "              ans.append(state)\n",
        "              return True\n",
        "      else:\n",
        "          if( get_all_states((a-(z-c), b, z)) ):\n",
        "              ans.append(state)\n",
        "              return True\n",
        "  if(b>0):\n",
        "      if(a+b<=x):\n",
        "          if( get_all_states((a+b, 0, c)) ):\n",
        "              ans.append(state)\n",
        "              return True\n",
        "      else:\n",
        "          if( get_all_states((x, b-(x-a), c)) ):\n",
        "              ans.append(state)\n",
        "              return True\n",
        "      if(b+c<=z):\n",
        "          if( get_all_states((a, 0, b+c)) ):\n",
        "              ans.append(state)\n",
        "              return True\n",
        "      else:\n",
        "          if( get_all_states((a, b-(z-c), z)) ):\n",
        "              ans.append(state)\n",
        "              return True\n",
        "  if(c>0):\n",
        "      if(a+c<=x):\n",
        "          if( get_all_states((a+c, b, 0)) ):\n",
        "              ans.append(state)\n",
        "              return True\n",
        "      else:\n",
        "          if( get_all_states((x, b, c-(x-a))) ):\n",
        "              ans.append(state)\n",
        "              return True\n",
        "      if(b+c<=y):\n",
        "          if( get_all_states((a, b+c, 0)) ):\n",
        "              ans.append(state)\n",
        "              return True\n",
        "      else:\n",
        "          if( get_all_states((a, y, c-(y-b))) ):\n",
        "              ans.append(state)\n",
        "              return True\n",
        "\n",
        "  return False\n",
        "\n",
        "initial_state = (8,0,0)\n",
        "get_all_states(initial_state)\n",
        "ans.reverse()\n",
        "print(ans)\n",
        "print(len(ans))"
      ],
      "execution_count": 30,
      "outputs": [
        {
          "output_type": "stream",
          "text": [
            "[(8, 0, 0), (3, 5, 0), (0, 5, 3), (5, 0, 3), (5, 3, 0), (2, 3, 3), (2, 5, 1), (7, 0, 1), (7, 1, 0), (4, 1, 3), (4, 4, 0)]\n",
            "11\n"
          ],
          "name": "stdout"
        }
      ]
    },
    {
      "cell_type": "markdown",
      "metadata": {
        "id": "f4o1KhVpyWnm",
        "colab_type": "text"
      },
      "source": [
        "###Question 11:\n",
        "Input:\n",
        "user_id = [1,1,2,3,3,4,4,4,5,5]\n",
        "ancestry=[\"England\",\"Ireland\",\"France\",\"Germany\",\"Poland\",\"England\",\"France\",\"Germany\",\"France\",\"Germany\"]\n",
        "\n",
        "If my required countries are France and Germany\n",
        "required = ['France', 'Germany']\n",
        "\n",
        "Output:\n",
        "4\n",
        "5\n"
      ]
    },
    {
      "cell_type": "code",
      "metadata": {
        "id": "0-_TSjPZydeC",
        "colab_type": "code",
        "colab": {
          "base_uri": "https://localhost:8080/",
          "height": 54
        },
        "outputId": "1a1ae672-12f6-4eca-b5d7-48be8640bc9e"
      },
      "source": [
        "user_id = [1,1,2,3,3,4,4,4,5,5]\n",
        "user = list(set(user_id))\n",
        "ancestry=[\"England\",\"Ireland\",\"France\",\"Germany\",\"Poland\",\"England\",\"France\",\"Germany\",\"France\",\"Germany\"]\n",
        "r={}\n",
        "for i in range(0,len(user_id)):\n",
        "    if(user_id[i] not in r.keys()):\n",
        "        r[user_id[i]]=[]\n",
        "        r[user_id[i]].append(ancestry[i])\n",
        "    else:\n",
        "        r[user_id[i]].append(ancestry[i])\n",
        "required=['France','Germany']\n",
        "for i in range(0,len(user)):\n",
        "    if(set(required).issubset(set(r[user[i]]))):\n",
        "        print(user[i])"
      ],
      "execution_count": 29,
      "outputs": [
        {
          "output_type": "stream",
          "text": [
            "4\n",
            "5\n"
          ],
          "name": "stdout"
        }
      ]
    }
  ]
}