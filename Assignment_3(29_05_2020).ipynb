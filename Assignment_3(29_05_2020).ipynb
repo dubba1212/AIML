{
  "nbformat": 4,
  "nbformat_minor": 0,
  "metadata": {
    "colab": {
      "name": "Assignment-3(29-05-2020).ipynb",
      "provenance": [],
      "authorship_tag": "ABX9TyNAKpyaJxxIdg9+1uqRSioY",
      "include_colab_link": true
    },
    "kernelspec": {
      "name": "python3",
      "display_name": "Python 3"
    }
  },
  "cells": [
    {
      "cell_type": "markdown",
      "metadata": {
        "id": "view-in-github",
        "colab_type": "text"
      },
      "source": [
        "<a href=\"https://colab.research.google.com/github/dubba1212/AIML/blob/master/Assignment_3(29_05_2020).ipynb\" target=\"_parent\"><img src=\"https://colab.research.google.com/assets/colab-badge.svg\" alt=\"Open In Colab\"/></a>"
      ]
    },
    {
      "cell_type": "markdown",
      "metadata": {
        "id": "r-Ly71lHOELz",
        "colab_type": "text"
      },
      "source": [
        "**1**"
      ]
    },
    {
      "cell_type": "code",
      "metadata": {
        "id": "SgEirkV9N7Y4",
        "colab_type": "code",
        "outputId": "024019c6-871e-4783-b96d-938418ea7ef9",
        "colab": {
          "base_uri": "https://localhost:8080/",
          "height": 36
        }
      },
      "source": [
        "#factorial of a number\n",
        "def fact(i):\n",
        "  if i==1:\n",
        "    return i\n",
        "  else:\n",
        "    return (i * fact(i-1))\n",
        "print(\"the factorial of number is:\",fact(5))"
      ],
      "execution_count": 0,
      "outputs": [
        {
          "output_type": "stream",
          "text": [
            "the factorial of number is: 120\n"
          ],
          "name": "stdout"
        }
      ]
    },
    {
      "cell_type": "markdown",
      "metadata": {
        "id": "1vMF16EeOGjH",
        "colab_type": "text"
      },
      "source": [
        "**2**"
      ]
    },
    {
      "cell_type": "code",
      "metadata": {
        "id": "Y90XkXYWOJVv",
        "colab_type": "code",
        "outputId": "5600b19a-67d8-413b-b59c-a4935afda59e",
        "colab": {
          "base_uri": "https://localhost:8080/",
          "height": 73
        }
      },
      "source": [
        "#Fibonacci series using recursion\n",
        "def fb(n):\n",
        "  if(n<=1):\n",
        "    return n\n",
        "  else:\n",
        "    return fb(n - 2)+fb(n - 1)\n",
        "\n",
        "m = int(input(\"enter length of series:\"))\n",
        "print(\"fibonacci series:\")\n",
        "for m in range(0,m):\n",
        "  print(fb(m),end=\" \")\n"
      ],
      "execution_count": 0,
      "outputs": [
        {
          "output_type": "stream",
          "text": [
            "enter length of series:6\n",
            "fibonacci series:\n",
            "0 1 1 2 3 5 "
          ],
          "name": "stdout"
        }
      ]
    },
    {
      "cell_type": "markdown",
      "metadata": {
        "id": "m3btXm5vOKAU",
        "colab_type": "text"
      },
      "source": [
        "**3**"
      ]
    },
    {
      "cell_type": "code",
      "metadata": {
        "id": "KCno3SWmRwrB",
        "colab_type": "code",
        "outputId": "6359761f-daab-489c-ad74-78ac1dfda6be",
        "colab": {
          "base_uri": "https://localhost:8080/",
          "height": 73
        }
      },
      "source": [
        "#sum of elements \n",
        "m = int(input(\"enter no of values:\"))\n",
        "n = int(input(\"enter the value:\"))\n",
        "sum=0\n",
        "for i in range(0,m+1):\n",
        "  if(i>=0):\n",
        "    sum=sum+i\n",
        "  else:\n",
        "    break\n",
        "print(\"the sum is:\",sum)"
      ],
      "execution_count": 0,
      "outputs": [
        {
          "output_type": "stream",
          "text": [
            "enter no of values5\n",
            "enter the value12345\n",
            "the sum is: 15\n"
          ],
          "name": "stdout"
        }
      ]
    },
    {
      "cell_type": "markdown",
      "metadata": {
        "id": "PFsubn7tOOSS",
        "colab_type": "text"
      },
      "source": [
        "**4**"
      ]
    },
    {
      "cell_type": "code",
      "metadata": {
        "id": "cNndShtJdfw-",
        "colab_type": "code",
        "outputId": "3306fe7f-5b8a-48bd-edce-fc10c8fd00d8",
        "colab": {
          "base_uri": "https://localhost:8080/",
          "height": 279
        }
      },
      "source": [
        "#print even number from list\n",
        "lst = []\n",
        "n = int(input(\"enter no of values:\"))\n",
        "for i in range(0,n):\n",
        "  a = int(input())\n",
        "  lst.append(a)\n",
        "print(lst)\n",
        "print(\"the even number is:\")\n",
        "for i in lst:\n",
        "  if(i%2 == 0):\n",
        "    print(i,end=\" \")\n",
        "\n"
      ],
      "execution_count": 0,
      "outputs": [
        {
          "output_type": "stream",
          "text": [
            "enter no of values:10\n",
            "1\n",
            "2\n",
            "3\n",
            "4\n",
            "5\n",
            "6\n",
            "7\n",
            "8\n",
            "9\n",
            "10\n",
            "[1, 2, 3, 4, 5, 6, 7, 8, 9, 10]\n",
            "the even number is:\n",
            "2 4 6 8 10 "
          ],
          "name": "stdout"
        }
      ]
    },
    {
      "cell_type": "markdown",
      "metadata": {
        "id": "K80sUdDtOQ-J",
        "colab_type": "text"
      },
      "source": [
        "**5**"
      ]
    },
    {
      "cell_type": "code",
      "metadata": {
        "id": "44luhnw7OT_0",
        "colab_type": "code",
        "outputId": "c36f2bd4-b4ba-4666-f208-3925f1049a29",
        "colab": {
          "base_uri": "https://localhost:8080/",
          "height": 186
        }
      },
      "source": [
        "#smallest from list and print its index\n",
        "lst = []\n",
        "n = int(input(\"enter no of values:\"))\n",
        "for i in range(0,n):\n",
        "  a = int(input())\n",
        "  lst.append(a)\n",
        "print(lst)\n",
        "\n",
        "print(\"the smallest:\",min(lst))\n",
        "print(\"index of smallest number is:\",lst.index(min(lst)))"
      ],
      "execution_count": 0,
      "outputs": [
        {
          "output_type": "stream",
          "text": [
            "enter no of values:5\n",
            "12\n",
            "2\n",
            "23\n",
            "54\n",
            "6\n",
            "[12, 2, 23, 54, 6]\n",
            "the smallest: 2\n",
            "index of smallest number is: 1\n"
          ],
          "name": "stdout"
        }
      ]
    },
    {
      "cell_type": "markdown",
      "metadata": {
        "id": "vzuI552qOV-5",
        "colab_type": "text"
      },
      "source": [
        "**6**"
      ]
    },
    {
      "cell_type": "code",
      "metadata": {
        "id": "hgAzgJjyOYPq",
        "colab_type": "code",
        "outputId": "a0f330b5-64e3-4eaf-aae1-d0496eaaae8b",
        "colab": {
          "base_uri": "https://localhost:8080/",
          "height": 54
        }
      },
      "source": [
        "#palindrome or not\n",
        "n = input(\"enter the string:\")\n",
        "def pal(n):\n",
        "  return n == n[::-1]\n",
        "s=pal(n)\n",
        "if s:\n",
        "  print(\"palindrome\")\n",
        "else:\n",
        "  print(\"not a palindrome\")\n"
      ],
      "execution_count": 0,
      "outputs": [
        {
          "output_type": "stream",
          "text": [
            "enter the string:dsfghj\n",
            "not a palindrome\n"
          ],
          "name": "stdout"
        }
      ]
    },
    {
      "cell_type": "markdown",
      "metadata": {
        "id": "vVnhRi4SOY3m",
        "colab_type": "text"
      },
      "source": [
        "**7**"
      ]
    },
    {
      "cell_type": "code",
      "metadata": {
        "id": "VMvVuv8WOa8K",
        "colab_type": "code",
        "outputId": "e78ec421-b12d-463b-823c-a01d5686b54a",
        "colab": {
          "base_uri": "https://localhost:8080/",
          "height": 261
        }
      },
      "source": [
        "# no of even or odd numbers\n",
        "n = int(input(\"enter no of values\"))\n",
        "even=0\n",
        "odd=0\n",
        "for i in range(0,n):\n",
        "  a = int(input(\"enter values\"))\n",
        "for i in range(0,a):\n",
        "  if(i%2==0):\n",
        "    even+=1\n",
        "  else:\n",
        "    odd+=1\n",
        "print(\"the even number is:\",even)\n",
        "print(\"the odd number is:\",odd)"
      ],
      "execution_count": 0,
      "outputs": [
        {
          "output_type": "stream",
          "text": [
            "enter no of values10\n",
            "enter values1\n",
            "enter values2\n",
            "enter values3\n",
            "enter values4\n",
            "enter values5\n",
            "enter values6\n",
            "enter values7\n",
            "enter values8\n",
            "enter values9\n",
            "enter values10\n",
            "the even number is: 5\n",
            "the odd number is: 5\n"
          ],
          "name": "stdout"
        }
      ]
    },
    {
      "cell_type": "markdown",
      "metadata": {
        "id": "cULsuT55OcJQ",
        "colab_type": "text"
      },
      "source": [
        "**8**"
      ]
    },
    {
      "cell_type": "code",
      "metadata": {
        "id": "N7S_spKnOfot",
        "colab_type": "code",
        "outputId": "e5836525-d81d-4f9f-84ac-34bd7984c6ef",
        "colab": {
          "base_uri": "https://localhost:8080/",
          "height": 111
        }
      },
      "source": [
        "#print from 0  to 6 except 3 and 6\n",
        "print(0)\n",
        "for i in range(0,6):\n",
        "  if(i%3==0 or i%6==0):\n",
        "    continue\n",
        "  else: \n",
        "    print(i)\n",
        "    "
      ],
      "execution_count": 0,
      "outputs": [
        {
          "output_type": "stream",
          "text": [
            "0\n",
            "1\n",
            "2\n",
            "4\n",
            "5\n"
          ],
          "name": "stdout"
        }
      ]
    },
    {
      "cell_type": "markdown",
      "metadata": {
        "id": "-e5nv9TZOeET",
        "colab_type": "text"
      },
      "source": [
        "**9**"
      ]
    },
    {
      "cell_type": "code",
      "metadata": {
        "id": "O4b3oTcQUqi2",
        "colab_type": "code",
        "outputId": "f8f92b65-cffa-4d1c-8325-fd788f1473e6",
        "colab": {
          "base_uri": "https://localhost:8080/",
          "height": 54
        }
      },
      "source": [
        "# check give number is prime or not\n",
        "n = int(input(\"enter the number:\"))\n",
        "def check(n):\n",
        "  if(n%2 == 0):\n",
        "    print(\"the given number is prime\")\n",
        "  else:\n",
        "    print(\"the given number is not a prime\")\n",
        "check(n)\n"
      ],
      "execution_count": 0,
      "outputs": [
        {
          "output_type": "stream",
          "text": [
            "enter the number:12\n",
            "the given number is prime\n"
          ],
          "name": "stdout"
        }
      ]
    },
    {
      "cell_type": "markdown",
      "metadata": {
        "id": "q7w1ULmzOiSX",
        "colab_type": "text"
      },
      "source": [
        "**10**"
      ]
    },
    {
      "cell_type": "code",
      "metadata": {
        "id": "1tXWh4_YOmeg",
        "colab_type": "code",
        "outputId": "b136d3ee-a891-4117-e869-bc64fa4bc63b",
        "colab": {
          "base_uri": "https://localhost:8080/",
          "height": 54
        }
      },
      "source": [
        "# python function to check whether the given number is adam number or not\n",
        "n=int(input(\"enter the number:\"))\n",
        "def adam(n):\n",
        "  mul=n*n\n",
        "  rev=str(n)[::-1]\n",
        "  rev=int(rev)\n",
        "  revmul=rev*rev\n",
        "  if(str(mul)==str(revmul)[::-1]):\n",
        "    return print(\"adam number\")\n",
        "  else:\n",
        "    return print(\"not adam number\")\n",
        "\n",
        "adam(n)"
      ],
      "execution_count": 0,
      "outputs": [
        {
          "output_type": "stream",
          "text": [
            "enter the number:11\n",
            "adam number\n"
          ],
          "name": "stdout"
        }
      ]
    },
    {
      "cell_type": "code",
      "metadata": {
        "id": "I32TYfvaar30",
        "colab_type": "code",
        "colab": {}
      },
      "source": [
        ""
      ],
      "execution_count": 0,
      "outputs": []
    }
  ]
}