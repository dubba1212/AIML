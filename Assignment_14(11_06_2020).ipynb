{
  "nbformat": 4,
  "nbformat_minor": 0,
  "metadata": {
    "colab": {
      "name": "Assignment 14(11-06-2020).ipynb",
      "provenance": [],
      "authorship_tag": "ABX9TyOP0pGEq8Qwt7se8soEA8Yu",
      "include_colab_link": true
    },
    "kernelspec": {
      "name": "python3",
      "display_name": "Python 3"
    }
  },
  "cells": [
    {
      "cell_type": "markdown",
      "metadata": {
        "id": "view-in-github",
        "colab_type": "text"
      },
      "source": [
        "<a href=\"https://colab.research.google.com/github/dubba1212/AIML/blob/master/Assignment_14(11_06_2020).ipynb\" target=\"_parent\"><img src=\"https://colab.research.google.com/assets/colab-badge.svg\" alt=\"Open In Colab\"/></a>"
      ]
    },
    {
      "cell_type": "markdown",
      "metadata": {
        "id": "GaZ0Y71LeU3i",
        "colab_type": "text"
      },
      "source": [
        "Question 1:\n",
        "https://www.codechef.com/problems/RECNDSTR\n",
        "Chef has a string $S$ consisting of lowercase English characters. Chef defined functions left shift $L(X)$ and right shift $R(X)$ as follows.\n",
        "$L(X)$ is defined as shifting all characters of string $X$ one step towards the left and moving the first character to the end.\n",
        "$R(X)$ is defined as shifting all characters of string $X$ one step towards the right and moving the last character to the beginning.\n",
        "For example, L(\"abcd\") = \"bcda\" and R(\"abcd\") = \"dabc\"\n",
        "Chef wants to find out whether there exists a string $V$ of the same length as $S$ such that both $L(V) = S$ and $R(V) = S$ hold\n"
      ]
    },
    {
      "cell_type": "code",
      "metadata": {
        "id": "OOOQnk_1dnTT",
        "colab_type": "code",
        "colab": {
          "base_uri": "https://localhost:8080/",
          "height": 182
        },
        "outputId": "bd879afd-cb30-4258-ef7f-079986a868b4"
      },
      "source": [
        "def L(x):\n",
        "    return x[1:]+x[0]\n",
        "def R(x):\n",
        "    return x[len(x)-1]+x[0:len(x)-1]\n",
        "t=int(input())\n",
        "list1=[input() for i in range(t)]\n",
        "for i in list1:\n",
        "    print(\"YES\") if L(i) == R(i) else print(\"NO\")\n"
      ],
      "execution_count": 1,
      "outputs": [
        {
          "output_type": "stream",
          "text": [
            "4\n",
            "a\n",
            "ab\n",
            "abcd\n",
            "aaaa\n",
            "YES\n",
            "YES\n",
            "NO\n",
            "YES\n"
          ],
          "name": "stdout"
        }
      ]
    },
    {
      "cell_type": "markdown",
      "metadata": {
        "id": "qHeaYQi2fSCO",
        "colab_type": "text"
      },
      "source": [
        "Question 2:\n",
        "https://www.hackerrank.com/challenges/beautiful-days-at-the-movies/problem\n"
      ]
    },
    {
      "cell_type": "code",
      "metadata": {
        "id": "PyKwGTsUfT7p",
        "colab_type": "code",
        "colab": {
          "base_uri": "https://localhost:8080/",
          "height": 54
        },
        "outputId": "74d59589-2633-47a5-830a-f9fa843dbfa8"
      },
      "source": [
        "i,j,k=map(int,input().split())\n",
        "c=0\n",
        "for n in range(i,j+1):\n",
        "    if((n-int(str(n)[::-1]))%2==0):\n",
        "        c+=1\n",
        "print(c)\n"
      ],
      "execution_count": 2,
      "outputs": [
        {
          "output_type": "stream",
          "text": [
            "12 25 6\n",
            "7\n"
          ],
          "name": "stdout"
        }
      ]
    },
    {
      "cell_type": "markdown",
      "metadata": {
        "id": "x0281v1nfUXN",
        "colab_type": "text"
      },
      "source": [
        "Question 3: https://www.hackerrank.com/challenges/birthday-cake-candles/problem\n"
      ]
    },
    {
      "cell_type": "code",
      "metadata": {
        "id": "5RfOKlL2fZWW",
        "colab_type": "code",
        "colab": {
          "base_uri": "https://localhost:8080/",
          "height": 72
        },
        "outputId": "2e99a7c7-91cd-4d58-f6d2-b483d9ab3192"
      },
      "source": [
        "n=int(input())\n",
        "a=list(map(int,input().split()))\n",
        "print(a.count(max(a)))\n"
      ],
      "execution_count": 3,
      "outputs": [
        {
          "output_type": "stream",
          "text": [
            "4\n",
            "3 2 1 3\n",
            "2\n"
          ],
          "name": "stdout"
        }
      ]
    },
    {
      "cell_type": "markdown",
      "metadata": {
        "id": "cvScK_G6f7sk",
        "colab_type": "text"
      },
      "source": [
        "Question 4:(InfyTQ)\n",
        "\n",
        "Consider a non-empty array inarr containing non-zero positive single digit integers separated by “,” (comma).Print a string based on the below logic:\n",
        "From all possible unique three digit number combinations with the elements of inarr\n",
        "Identify the maximum number maxnum among the three digit combinations formed.\n",
        "Print the maxnum followed by the total number of unique digit combinations formed,separating them with a “,” (comma)\n",
        "Assumption: inarr will contain at least 3 elements\n",
        "Note : An element present at a particular index should not be considered more than once while forming a combination.\n",
        "Input format:\n",
        "Read the array inarr from the standard input stream\n",
        "Output format:\n",
        "Print the output to the standard output stream\n",
        "\n",
        "Sample Input : 1,2,1\n",
        "Sample Output: 211,3\n",
        "\n",
        "Sample Input:1,2,1,4\n",
        "Sample output:4211,12\n"
      ]
    },
    {
      "cell_type": "code",
      "metadata": {
        "id": "67rLl_bgf3R_",
        "colab_type": "code",
        "colab": {
          "base_uri": "https://localhost:8080/",
          "height": 54
        },
        "outputId": "230fde4e-9e63-4459-d9d8-47e06003eeda"
      },
      "source": [
        "import itertools as it\n",
        "a=list(map(str,input().split(',')))\n",
        "p = it.permutations(a, 3)\n",
        "x = list(set(p))               \n",
        "l = []\n",
        "for i in x:                          \n",
        "    p = ''.join(i)                   \n",
        "    l.append(int(p))\n",
        "l.sort()\n",
        "print(str(l[-1])+','+str(len(l)))"
      ],
      "execution_count": 4,
      "outputs": [
        {
          "output_type": "stream",
          "text": [
            "1,2,1\n",
            "211,3\n"
          ],
          "name": "stdout"
        }
      ]
    },
    {
      "cell_type": "markdown",
      "metadata": {
        "id": "QlXlWK4Cf92M",
        "colab_type": "text"
      },
      "source": [
        "Question 5:(InfyTQ)\n",
        "\n",
        "For a given positive number num,identify the palindrome formed by performing the following operations\n",
        "Add num and its reverse\n",
        "Check whether the sum is palindrome or not.If not,add the sum and its reverse and repeat the process until a palindrome is obtained.\n",
        "Input format : Read num from the standard input stream\n",
        "Output format: print the palindrome calculated to the standard output stream\n",
        "\n",
        "Sample input : 124\n",
        "Sample Output : 545\n",
        "\n",
        "Sample input:195\n",
        "Sample output: 9339 \n"
      ]
    },
    {
      "cell_type": "code",
      "metadata": {
        "id": "yZmiMA5zf-L5",
        "colab_type": "code",
        "colab": {
          "base_uri": "https://localhost:8080/",
          "height": 54
        },
        "outputId": "1cfd77aa-5d26-48df-bd44-45ca24df74dd"
      },
      "source": [
        "n=int(input())\n",
        "while(True):\n",
        "    n=str(n)\n",
        "    if(n ==n[::-1]):\n",
        "        print(n)\n",
        "        break\n",
        "    else:\n",
        "        n=int(n)+int(n[::-1])"
      ],
      "execution_count": 5,
      "outputs": [
        {
          "output_type": "stream",
          "text": [
            "124\n",
            "545\n"
          ],
          "name": "stdout"
        }
      ]
    },
    {
      "cell_type": "markdown",
      "metadata": {
        "id": "MHWoLIHuf-jB",
        "colab_type": "text"
      },
      "source": [
        "Question 6:\n",
        " https://www.codechef.com/problems/SLAEL\n",
        "Find the length of the longest contiguous segment in an array, in which if a given element \n",
        "K\n",
        "K is inserted, \n",
        "K\n",
        "K becomes the second largest element of that subarray.\n",
        "Input:\n",
        "The first line will contain T, number of test cases. Then the test cases follow.\n",
        "The first line of each test case contains two integers N and K\n",
        "The next line contains N space-separated integers Ai denoting the elements of the array.\n",
        "Output:\n",
        "Print a single line corresponding to each test case — the length of the largest segment.\n"
      ]
    },
    {
      "cell_type": "code",
      "metadata": {
        "id": "NDu1zJh9gfye",
        "colab_type": "code",
        "colab": {
          "base_uri": "https://localhost:8080/",
          "height": 219
        },
        "outputId": "28427379-168d-43f7-bafe-13ecf9adeeea"
      },
      "source": [
        "t=int(input())\n",
        "while(t>0):\n",
        "    n,k=map(int,input().split())\n",
        "    a=list(map(int,input().split()))\n",
        "    gre=0\n",
        "    l=0\n",
        "    pos=-1\n",
        "    long=0\n",
        "    for i in range(n):\n",
        "        if a[i]>k and gre!=0 and a[i]!=gre:\n",
        "            gre = a[i]\n",
        "            if long<l:\n",
        "                long=l\n",
        "            l = i - pos\n",
        "            pos=i\n",
        "            continue\n",
        "        elif a[i]>k:\n",
        "            gre = a[i]\n",
        "            pos=i\n",
        "        l+=1\n",
        "    if long<l:\n",
        "        long=l\n",
        "    t-=1\n",
        "    print(\"output:\\n\",long,\"\\n\")"
      ],
      "execution_count": 8,
      "outputs": [
        {
          "output_type": "stream",
          "text": [
            "2\n",
            "5 3\n",
            "2 4 2 4 2\n",
            "output:\n",
            " 5 \n",
            "\n",
            "8 5\n",
            "9 5 3 6 7 11 7 2\n",
            "output:\n",
            " 3 \n",
            "\n"
          ],
          "name": "stdout"
        }
      ]
    },
    {
      "cell_type": "code",
      "metadata": {
        "id": "S_YtKRJPgwF9",
        "colab_type": "code",
        "colab": {}
      },
      "source": [
        ""
      ],
      "execution_count": 0,
      "outputs": []
    }
  ]
}